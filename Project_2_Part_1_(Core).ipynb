{
  "nbformat": 4,
  "nbformat_minor": 0,
  "metadata": {
    "colab": {
      "name": "Project 2 - Part 1 (Core).ipynb",
      "provenance": [],
      "collapsed_sections": [],
      "mount_file_id": "16w7fYOuGoJP_QyI68No5U8m6LSLMW2E2",
      "authorship_tag": "ABX9TyNRAGVs+PnW5HEI+Hr9Yb0W",
      "include_colab_link": true
    },
    "kernelspec": {
      "name": "python3",
      "display_name": "Python 3"
    },
    "language_info": {
      "name": "python"
    }
  },
  "cells": [
    {
      "cell_type": "markdown",
      "metadata": {
        "id": "view-in-github",
        "colab_type": "text"
      },
      "source": [
        "<a href=\"https://colab.research.google.com/github/YBilodeau/Metabolic-Syndrome-Prediction-Project/blob/main/Project_2_Part_1_(Core).ipynb\" target=\"_parent\"><img src=\"https://colab.research.google.com/assets/colab-badge.svg\" alt=\"Open In Colab\"/></a>"
      ]
    },
    {
      "cell_type": "markdown",
      "source": [
        "# **Project 2 - Part 1 (Core)**\n",
        "- Yvon Bilodeau\n",
        "- March 2022"
      ],
      "metadata": {
        "id": "64KrNUfAOlDd"
      }
    },
    {
      "cell_type": "markdown",
      "source": [
        "Your second project is going to have a lot more freedom than your first project. This is because we want you to have a project in your portfolio that interests you or relates to the industry you would like to work in.\n",
        "\n",
        "Your task for this week is to propose two possible datasets you would like to work with for Project 2.  \n",
        "\n",
        "You will choose your first choice data set, and a backup data set in case the first proposed data set is not approved.  \n",
        "\n",
        "This data can be from any source and can be on any topic with these limitations:\n",
        "\n",
        "- the data must be available for use (it is your responsibility to ensure that - the license states that you are able to use it.)\n",
        "- the data must be appropriate for a professional environment\n",
        "- the data must NOT contain personal information\n",
        "- the data must NOT be a dataset used for any assignment, lecture, or task from the course\n",
        "\n",
        "Make sure you select a dataset that will be reasonable to work with in the amount of time we have left. Think about what questions you could reasonably answer with the dataset you select. \n",
        "\n",
        "You must propose two datasets that each have a supervised learning component. You may choose a regression or classification problem for each proposed data set.  \n",
        "\n",
        "For this task:\n",
        "\n",
        "Create a Colab notebook where you have uploaded and shown the .head() of each of your data sets.  For each of the proposed datasets, answer the following questions:\n",
        "\n",
        "1) Source of data\n",
        "\n",
        "2) Brief description of data\n",
        "\n",
        "3) What is the target?\n",
        "\n",
        "4) Is this a classification or regression problem?\n",
        "\n",
        "5) How many features?\n",
        "\n",
        "6) How many rows of data.\n",
        "\n",
        "7) What, if any, challenges do your foresee in cleaning, exploring, or modeling with this dataset?"
      ],
      "metadata": {
        "id": "UYKXFAYyOywe"
      }
    },
    {
      "cell_type": "markdown",
      "source": [
        "### **Mount Google Drive**"
      ],
      "metadata": {
        "id": "_vosjteQOBXq"
      }
    },
    {
      "cell_type": "code",
      "source": [
        "from google.colab import drive\n",
        "drive.mount('/content/drive')"
      ],
      "metadata": {
        "id": "ivzJlqGtOTkR",
        "colab": {
          "base_uri": "https://localhost:8080/"
        },
        "outputId": "106cec8e-2cf3-4730-cd4e-2e6c53bf4c5f"
      },
      "execution_count": null,
      "outputs": [
        {
          "output_type": "stream",
          "name": "stdout",
          "text": [
            "Drive already mounted at /content/drive; to attempt to forcibly remount, call drive.mount(\"/content/drive\", force_remount=True).\n"
          ]
        }
      ]
    },
    {
      "cell_type": "code",
      "source": [
        "# Imports\n",
        "import pandas as pd"
      ],
      "metadata": {
        "id": "DvoNMZ9ITLWq"
      },
      "execution_count": null,
      "outputs": []
    },
    {
      "cell_type": "markdown",
      "source": [
        "## **First choice: dataset 1**\n",
        "- **Metabolic Syndrome Prediction**"
      ],
      "metadata": {
        "id": "uPBv_UKGPaTP"
      }
    },
    {
      "cell_type": "markdown",
      "source": [
        "### **1) Source of data**"
      ],
      "metadata": {
        "id": "QwlzFMohQp_l"
      }
    },
    {
      "cell_type": "markdown",
      "source": [
        "- [Data World](https://data.world/informatics-edu/metabolic-syndrome-prediction)\n"
      ],
      "metadata": {
        "id": "A_xi5OE7R1H1"
      }
    },
    {
      "cell_type": "markdown",
      "source": [
        "### **2) Brief description of data**\n"
      ],
      "metadata": {
        "id": "qr7OHrm9QwcH"
      }
    },
    {
      "cell_type": "markdown",
      "source": [
        "To predict metabolic syndrome, yes or not based on common risk factors\n",
        "\n",
        "The dataset for analysis came from the [NHANES](https://www.cdc.gov/nchs/nhanes/index.htm) initiative where the following variables were combined from multiple tables with SQL: abnormal waist circumference, triglycerides above 150, HDL cholesterol below 50 in women or 40 in men, history of hypertension and mildly elevated fasting blood sugar (100-125). Numerous other variables were added, such as uric acid, race, income, etc. that might contribute to the model but we will not sure, until we test the model."
      ],
      "metadata": {
        "id": "Mho8CpzdSBU3"
      }
    },
    {
      "cell_type": "markdown",
      "source": [
        "### **3) What is the target?**"
      ],
      "metadata": {
        "id": "4pkXgZ_8Q0Df"
      }
    },
    {
      "cell_type": "markdown",
      "source": [
        "- 'MetabolicSyndrome':\n",
        "> - MetSyn\n",
        "> - No MetSyn"
      ],
      "metadata": {
        "id": "Mwcmv3a3TwJJ"
      }
    },
    {
      "cell_type": "markdown",
      "source": [
        "### **4) Is this a classification or regression problem?**"
      ],
      "metadata": {
        "id": "aQedeQiIQ3wl"
      }
    },
    {
      "cell_type": "markdown",
      "source": [
        "- Classification"
      ],
      "metadata": {
        "id": "Bk2eFAhpT2I5"
      }
    },
    {
      "cell_type": "markdown",
      "source": [
        "### **5) How many features?**"
      ],
      "metadata": {
        "id": "Q2HrH_YQQ8PP"
      }
    },
    {
      "cell_type": "markdown",
      "source": [
        "- 14 Features"
      ],
      "metadata": {
        "id": "gzvJ1XLYT9_r"
      }
    },
    {
      "cell_type": "markdown",
      "source": [
        "### **6) How many rows of data.**"
      ],
      "metadata": {
        "id": "uynegyYhRArP"
      }
    },
    {
      "cell_type": "markdown",
      "source": [
        "- 2401"
      ],
      "metadata": {
        "id": "FAiZB6I8UE79"
      }
    },
    {
      "cell_type": "markdown",
      "source": [
        "### **7) What, if any, challenges do your foresee in cleaning, exploring, or modeling with this dataset?**"
      ],
      "metadata": {
        "id": "WRLfM6-TRD3q"
      }
    },
    {
      "cell_type": "markdown",
      "source": [
        "- No challenges noted."
      ],
      "metadata": {
        "id": "8X9gVMwgUN1s"
      }
    },
    {
      "cell_type": "markdown",
      "source": [
        "### **Load the Dataset**\n",
        "\n",
        "- Data downloaded from [link](https://data.world/informatics-edu/metabolic-syndrome-prediction/file/Metabolic%20%20Syndrome.csv)."
      ],
      "metadata": {
        "id": "JOUAIYIJO29y"
      }
    },
    {
      "cell_type": "code",
      "source": [
        "filename = \"/content/drive/MyDrive/Colab Notebooks/CodingDojo/000 Data Files/Metabolic  Syndrome.csv\"\n",
        "df1 = pd.read_csv(filename)"
      ],
      "metadata": {
        "id": "TrjtMPiZPPWL"
      },
      "execution_count": null,
      "outputs": []
    },
    {
      "cell_type": "markdown",
      "source": [
        "### **Inspect the Data**"
      ],
      "metadata": {
        "id": "MytoZVznPWPd"
      }
    },
    {
      "cell_type": "markdown",
      "source": [
        "#### Display Rows and Column Count"
      ],
      "metadata": {
        "id": "JVXIY3Sj_QN8"
      }
    },
    {
      "cell_type": "code",
      "source": [
        "# The .shape attribute returns a tuple of length 2, representing the dimensionality of the DataFrame.  \n",
        "# The number of rows and columns of the DataFrame.\n",
        "df1.shape\n",
        "print(f'There are {df1.shape[0]} rows, and {df1.shape[1]} columns.')\n",
        "print(f'The rows represent {df1.shape[0]} observations, and the columns represent {df1.shape[1]-1} features and 1 target variable.')"
      ],
      "metadata": {
        "id": "fkts3k-KPm5a",
        "colab": {
          "base_uri": "https://localhost:8080/"
        },
        "outputId": "fc3084a6-2f78-414f-9078-6bc6cd115b53"
      },
      "execution_count": null,
      "outputs": [
        {
          "output_type": "stream",
          "name": "stdout",
          "text": [
            "There are 2401 rows, and 15 columns.\n",
            "The rows represent 2401 observations, and the columns represent 14 features and 1 target variable.\n"
          ]
        }
      ]
    },
    {
      "cell_type": "markdown",
      "source": [
        "#### Display Data Types"
      ],
      "metadata": {
        "id": "Npez_DLB_cH7"
      }
    },
    {
      "cell_type": "code",
      "source": [
        "df1.dtypes"
      ],
      "metadata": {
        "id": "DaLyMnan_LyF",
        "colab": {
          "base_uri": "https://localhost:8080/"
        },
        "outputId": "e6af2f72-b419-422e-e569-89bcaf50284f"
      },
      "execution_count": null,
      "outputs": [
        {
          "output_type": "execute_result",
          "data": {
            "text/plain": [
              "seqn                   int64\n",
              "Age                    int64\n",
              "Sex                   object\n",
              "Marital               object\n",
              "Income               float64\n",
              "Race                  object\n",
              "WaistCirc            float64\n",
              "BMI                  float64\n",
              "Albuminuria            int64\n",
              "UrAlbCr              float64\n",
              "UricAcid             float64\n",
              "BloodGlucose           int64\n",
              "HDL                    int64\n",
              "Triglycerides          int64\n",
              "MetabolicSyndrome     object\n",
              "dtype: object"
            ]
          },
          "metadata": {},
          "execution_count": 5
        }
      ]
    },
    {
      "cell_type": "markdown",
      "source": [
        "#### Display Column Names, Count of Non-Null Values, and Data Types"
      ],
      "metadata": {
        "id": "-ddijDWr_uq-"
      }
    },
    {
      "cell_type": "code",
      "source": [
        "df1.info()"
      ],
      "metadata": {
        "id": "Fj8u4kjlGL8Z",
        "colab": {
          "base_uri": "https://localhost:8080/"
        },
        "outputId": "5a71e71d-6c46-4c37-db3a-92d4ae776335"
      },
      "execution_count": null,
      "outputs": [
        {
          "output_type": "stream",
          "name": "stdout",
          "text": [
            "<class 'pandas.core.frame.DataFrame'>\n",
            "RangeIndex: 2401 entries, 0 to 2400\n",
            "Data columns (total 15 columns):\n",
            " #   Column             Non-Null Count  Dtype  \n",
            "---  ------             --------------  -----  \n",
            " 0   seqn               2401 non-null   int64  \n",
            " 1   Age                2401 non-null   int64  \n",
            " 2   Sex                2401 non-null   object \n",
            " 3   Marital            2193 non-null   object \n",
            " 4   Income             2284 non-null   float64\n",
            " 5   Race               2401 non-null   object \n",
            " 6   WaistCirc          2316 non-null   float64\n",
            " 7   BMI                2375 non-null   float64\n",
            " 8   Albuminuria        2401 non-null   int64  \n",
            " 9   UrAlbCr            2401 non-null   float64\n",
            " 10  UricAcid           2401 non-null   float64\n",
            " 11  BloodGlucose       2401 non-null   int64  \n",
            " 12  HDL                2401 non-null   int64  \n",
            " 13  Triglycerides      2401 non-null   int64  \n",
            " 14  MetabolicSyndrome  2401 non-null   object \n",
            "dtypes: float64(5), int64(6), object(4)\n",
            "memory usage: 281.5+ KB\n"
          ]
        }
      ]
    },
    {
      "cell_type": "markdown",
      "source": [
        "#### Display First (15) Rows"
      ],
      "metadata": {
        "id": "s3T6QYAOzGHl"
      }
    },
    {
      "cell_type": "code",
      "source": [
        "df1.head(15)"
      ],
      "metadata": {
        "id": "o2OINffGGKRh",
        "colab": {
          "base_uri": "https://localhost:8080/",
          "height": 520
        },
        "outputId": "57034a2b-5f5a-46c9-8361-9c03400f04a2"
      },
      "execution_count": null,
      "outputs": [
        {
          "output_type": "execute_result",
          "data": {
            "text/plain": [
              "     seqn  Age     Sex    Marital  Income         Race  WaistCirc   BMI  \\\n",
              "0   62161   22    Male     Single  8200.0        White       81.0  23.3   \n",
              "1   62164   44  Female    Married  4500.0        White       80.1  23.2   \n",
              "2   62169   21    Male     Single   800.0        Asian       69.6  20.1   \n",
              "3   62172   43  Female     Single  2000.0        Black      120.4  33.3   \n",
              "4   62177   51    Male    Married     NaN        Asian       81.1  20.1   \n",
              "5   62178   80    Male    Widowed   300.0        White      112.5  28.5   \n",
              "6   62184   26    Male     Single  9000.0        Black       78.6  22.1   \n",
              "7   62189   30  Female    Married  6200.0        Asian       80.2  22.4   \n",
              "8   62191   70    Male   Divorced  1000.0        Black        NaN   NaN   \n",
              "9   62195   35    Male        NaN  2500.0        Black       99.0  28.2   \n",
              "10  62199   57    Male        NaN  9000.0        White      107.8  28.0   \n",
              "11  62202   36    Male    Married  8200.0  MexAmerican       97.0  24.7   \n",
              "12  62205   28    Male     Single  9000.0        White      106.0  28.9   \n",
              "13  62208   38    Male    Married  3500.0     Hispanic       82.7  22.2   \n",
              "14  62209   62  Female  Separated  2500.0  MexAmerican       92.9  26.0   \n",
              "\n",
              "    Albuminuria  UrAlbCr  UricAcid  BloodGlucose  HDL  Triglycerides  \\\n",
              "0             0     3.88       4.9            92   41             84   \n",
              "1             0     8.55       4.5            82   28             56   \n",
              "2             0     5.07       5.4           107   43             78   \n",
              "3             0     5.22       5.0           104   73            141   \n",
              "4             0     8.13       5.0            95   43            126   \n",
              "5             0     9.79       4.8           105   47            100   \n",
              "6             0     9.21       5.4            87   61             40   \n",
              "7             0     8.78       6.7            83   48             91   \n",
              "8             1    45.67       5.4            96   35             75   \n",
              "9             0     2.21       6.7            94   46             86   \n",
              "10            0     4.16       6.0           100   35             98   \n",
              "11            1    62.14       6.7            94   58            182   \n",
              "12            0     7.24       8.8           101   40            129   \n",
              "13            0     5.53       4.5            91   46             62   \n",
              "14            0     2.33       3.6           138   31            565   \n",
              "\n",
              "   MetabolicSyndrome  \n",
              "0          No MetSyn  \n",
              "1          No MetSyn  \n",
              "2          No MetSyn  \n",
              "3          No MetSyn  \n",
              "4          No MetSyn  \n",
              "5          No MetSyn  \n",
              "6          No MetSyn  \n",
              "7          No MetSyn  \n",
              "8          No MetSyn  \n",
              "9          No MetSyn  \n",
              "10            MetSyn  \n",
              "11         No MetSyn  \n",
              "12            MetSyn  \n",
              "13         No MetSyn  \n",
              "14            MetSyn  "
            ],
            "text/html": [
              "\n",
              "  <div id=\"df-080b95fb-b04b-4bf5-ab1f-3f87c974e570\">\n",
              "    <div class=\"colab-df-container\">\n",
              "      <div>\n",
              "<style scoped>\n",
              "    .dataframe tbody tr th:only-of-type {\n",
              "        vertical-align: middle;\n",
              "    }\n",
              "\n",
              "    .dataframe tbody tr th {\n",
              "        vertical-align: top;\n",
              "    }\n",
              "\n",
              "    .dataframe thead th {\n",
              "        text-align: right;\n",
              "    }\n",
              "</style>\n",
              "<table border=\"1\" class=\"dataframe\">\n",
              "  <thead>\n",
              "    <tr style=\"text-align: right;\">\n",
              "      <th></th>\n",
              "      <th>seqn</th>\n",
              "      <th>Age</th>\n",
              "      <th>Sex</th>\n",
              "      <th>Marital</th>\n",
              "      <th>Income</th>\n",
              "      <th>Race</th>\n",
              "      <th>WaistCirc</th>\n",
              "      <th>BMI</th>\n",
              "      <th>Albuminuria</th>\n",
              "      <th>UrAlbCr</th>\n",
              "      <th>UricAcid</th>\n",
              "      <th>BloodGlucose</th>\n",
              "      <th>HDL</th>\n",
              "      <th>Triglycerides</th>\n",
              "      <th>MetabolicSyndrome</th>\n",
              "    </tr>\n",
              "  </thead>\n",
              "  <tbody>\n",
              "    <tr>\n",
              "      <th>0</th>\n",
              "      <td>62161</td>\n",
              "      <td>22</td>\n",
              "      <td>Male</td>\n",
              "      <td>Single</td>\n",
              "      <td>8200.0</td>\n",
              "      <td>White</td>\n",
              "      <td>81.0</td>\n",
              "      <td>23.3</td>\n",
              "      <td>0</td>\n",
              "      <td>3.88</td>\n",
              "      <td>4.9</td>\n",
              "      <td>92</td>\n",
              "      <td>41</td>\n",
              "      <td>84</td>\n",
              "      <td>No MetSyn</td>\n",
              "    </tr>\n",
              "    <tr>\n",
              "      <th>1</th>\n",
              "      <td>62164</td>\n",
              "      <td>44</td>\n",
              "      <td>Female</td>\n",
              "      <td>Married</td>\n",
              "      <td>4500.0</td>\n",
              "      <td>White</td>\n",
              "      <td>80.1</td>\n",
              "      <td>23.2</td>\n",
              "      <td>0</td>\n",
              "      <td>8.55</td>\n",
              "      <td>4.5</td>\n",
              "      <td>82</td>\n",
              "      <td>28</td>\n",
              "      <td>56</td>\n",
              "      <td>No MetSyn</td>\n",
              "    </tr>\n",
              "    <tr>\n",
              "      <th>2</th>\n",
              "      <td>62169</td>\n",
              "      <td>21</td>\n",
              "      <td>Male</td>\n",
              "      <td>Single</td>\n",
              "      <td>800.0</td>\n",
              "      <td>Asian</td>\n",
              "      <td>69.6</td>\n",
              "      <td>20.1</td>\n",
              "      <td>0</td>\n",
              "      <td>5.07</td>\n",
              "      <td>5.4</td>\n",
              "      <td>107</td>\n",
              "      <td>43</td>\n",
              "      <td>78</td>\n",
              "      <td>No MetSyn</td>\n",
              "    </tr>\n",
              "    <tr>\n",
              "      <th>3</th>\n",
              "      <td>62172</td>\n",
              "      <td>43</td>\n",
              "      <td>Female</td>\n",
              "      <td>Single</td>\n",
              "      <td>2000.0</td>\n",
              "      <td>Black</td>\n",
              "      <td>120.4</td>\n",
              "      <td>33.3</td>\n",
              "      <td>0</td>\n",
              "      <td>5.22</td>\n",
              "      <td>5.0</td>\n",
              "      <td>104</td>\n",
              "      <td>73</td>\n",
              "      <td>141</td>\n",
              "      <td>No MetSyn</td>\n",
              "    </tr>\n",
              "    <tr>\n",
              "      <th>4</th>\n",
              "      <td>62177</td>\n",
              "      <td>51</td>\n",
              "      <td>Male</td>\n",
              "      <td>Married</td>\n",
              "      <td>NaN</td>\n",
              "      <td>Asian</td>\n",
              "      <td>81.1</td>\n",
              "      <td>20.1</td>\n",
              "      <td>0</td>\n",
              "      <td>8.13</td>\n",
              "      <td>5.0</td>\n",
              "      <td>95</td>\n",
              "      <td>43</td>\n",
              "      <td>126</td>\n",
              "      <td>No MetSyn</td>\n",
              "    </tr>\n",
              "    <tr>\n",
              "      <th>5</th>\n",
              "      <td>62178</td>\n",
              "      <td>80</td>\n",
              "      <td>Male</td>\n",
              "      <td>Widowed</td>\n",
              "      <td>300.0</td>\n",
              "      <td>White</td>\n",
              "      <td>112.5</td>\n",
              "      <td>28.5</td>\n",
              "      <td>0</td>\n",
              "      <td>9.79</td>\n",
              "      <td>4.8</td>\n",
              "      <td>105</td>\n",
              "      <td>47</td>\n",
              "      <td>100</td>\n",
              "      <td>No MetSyn</td>\n",
              "    </tr>\n",
              "    <tr>\n",
              "      <th>6</th>\n",
              "      <td>62184</td>\n",
              "      <td>26</td>\n",
              "      <td>Male</td>\n",
              "      <td>Single</td>\n",
              "      <td>9000.0</td>\n",
              "      <td>Black</td>\n",
              "      <td>78.6</td>\n",
              "      <td>22.1</td>\n",
              "      <td>0</td>\n",
              "      <td>9.21</td>\n",
              "      <td>5.4</td>\n",
              "      <td>87</td>\n",
              "      <td>61</td>\n",
              "      <td>40</td>\n",
              "      <td>No MetSyn</td>\n",
              "    </tr>\n",
              "    <tr>\n",
              "      <th>7</th>\n",
              "      <td>62189</td>\n",
              "      <td>30</td>\n",
              "      <td>Female</td>\n",
              "      <td>Married</td>\n",
              "      <td>6200.0</td>\n",
              "      <td>Asian</td>\n",
              "      <td>80.2</td>\n",
              "      <td>22.4</td>\n",
              "      <td>0</td>\n",
              "      <td>8.78</td>\n",
              "      <td>6.7</td>\n",
              "      <td>83</td>\n",
              "      <td>48</td>\n",
              "      <td>91</td>\n",
              "      <td>No MetSyn</td>\n",
              "    </tr>\n",
              "    <tr>\n",
              "      <th>8</th>\n",
              "      <td>62191</td>\n",
              "      <td>70</td>\n",
              "      <td>Male</td>\n",
              "      <td>Divorced</td>\n",
              "      <td>1000.0</td>\n",
              "      <td>Black</td>\n",
              "      <td>NaN</td>\n",
              "      <td>NaN</td>\n",
              "      <td>1</td>\n",
              "      <td>45.67</td>\n",
              "      <td>5.4</td>\n",
              "      <td>96</td>\n",
              "      <td>35</td>\n",
              "      <td>75</td>\n",
              "      <td>No MetSyn</td>\n",
              "    </tr>\n",
              "    <tr>\n",
              "      <th>9</th>\n",
              "      <td>62195</td>\n",
              "      <td>35</td>\n",
              "      <td>Male</td>\n",
              "      <td>NaN</td>\n",
              "      <td>2500.0</td>\n",
              "      <td>Black</td>\n",
              "      <td>99.0</td>\n",
              "      <td>28.2</td>\n",
              "      <td>0</td>\n",
              "      <td>2.21</td>\n",
              "      <td>6.7</td>\n",
              "      <td>94</td>\n",
              "      <td>46</td>\n",
              "      <td>86</td>\n",
              "      <td>No MetSyn</td>\n",
              "    </tr>\n",
              "    <tr>\n",
              "      <th>10</th>\n",
              "      <td>62199</td>\n",
              "      <td>57</td>\n",
              "      <td>Male</td>\n",
              "      <td>NaN</td>\n",
              "      <td>9000.0</td>\n",
              "      <td>White</td>\n",
              "      <td>107.8</td>\n",
              "      <td>28.0</td>\n",
              "      <td>0</td>\n",
              "      <td>4.16</td>\n",
              "      <td>6.0</td>\n",
              "      <td>100</td>\n",
              "      <td>35</td>\n",
              "      <td>98</td>\n",
              "      <td>MetSyn</td>\n",
              "    </tr>\n",
              "    <tr>\n",
              "      <th>11</th>\n",
              "      <td>62202</td>\n",
              "      <td>36</td>\n",
              "      <td>Male</td>\n",
              "      <td>Married</td>\n",
              "      <td>8200.0</td>\n",
              "      <td>MexAmerican</td>\n",
              "      <td>97.0</td>\n",
              "      <td>24.7</td>\n",
              "      <td>1</td>\n",
              "      <td>62.14</td>\n",
              "      <td>6.7</td>\n",
              "      <td>94</td>\n",
              "      <td>58</td>\n",
              "      <td>182</td>\n",
              "      <td>No MetSyn</td>\n",
              "    </tr>\n",
              "    <tr>\n",
              "      <th>12</th>\n",
              "      <td>62205</td>\n",
              "      <td>28</td>\n",
              "      <td>Male</td>\n",
              "      <td>Single</td>\n",
              "      <td>9000.0</td>\n",
              "      <td>White</td>\n",
              "      <td>106.0</td>\n",
              "      <td>28.9</td>\n",
              "      <td>0</td>\n",
              "      <td>7.24</td>\n",
              "      <td>8.8</td>\n",
              "      <td>101</td>\n",
              "      <td>40</td>\n",
              "      <td>129</td>\n",
              "      <td>MetSyn</td>\n",
              "    </tr>\n",
              "    <tr>\n",
              "      <th>13</th>\n",
              "      <td>62208</td>\n",
              "      <td>38</td>\n",
              "      <td>Male</td>\n",
              "      <td>Married</td>\n",
              "      <td>3500.0</td>\n",
              "      <td>Hispanic</td>\n",
              "      <td>82.7</td>\n",
              "      <td>22.2</td>\n",
              "      <td>0</td>\n",
              "      <td>5.53</td>\n",
              "      <td>4.5</td>\n",
              "      <td>91</td>\n",
              "      <td>46</td>\n",
              "      <td>62</td>\n",
              "      <td>No MetSyn</td>\n",
              "    </tr>\n",
              "    <tr>\n",
              "      <th>14</th>\n",
              "      <td>62209</td>\n",
              "      <td>62</td>\n",
              "      <td>Female</td>\n",
              "      <td>Separated</td>\n",
              "      <td>2500.0</td>\n",
              "      <td>MexAmerican</td>\n",
              "      <td>92.9</td>\n",
              "      <td>26.0</td>\n",
              "      <td>0</td>\n",
              "      <td>2.33</td>\n",
              "      <td>3.6</td>\n",
              "      <td>138</td>\n",
              "      <td>31</td>\n",
              "      <td>565</td>\n",
              "      <td>MetSyn</td>\n",
              "    </tr>\n",
              "  </tbody>\n",
              "</table>\n",
              "</div>\n",
              "      <button class=\"colab-df-convert\" onclick=\"convertToInteractive('df-080b95fb-b04b-4bf5-ab1f-3f87c974e570')\"\n",
              "              title=\"Convert this dataframe to an interactive table.\"\n",
              "              style=\"display:none;\">\n",
              "        \n",
              "  <svg xmlns=\"http://www.w3.org/2000/svg\" height=\"24px\"viewBox=\"0 0 24 24\"\n",
              "       width=\"24px\">\n",
              "    <path d=\"M0 0h24v24H0V0z\" fill=\"none\"/>\n",
              "    <path d=\"M18.56 5.44l.94 2.06.94-2.06 2.06-.94-2.06-.94-.94-2.06-.94 2.06-2.06.94zm-11 1L8.5 8.5l.94-2.06 2.06-.94-2.06-.94L8.5 2.5l-.94 2.06-2.06.94zm10 10l.94 2.06.94-2.06 2.06-.94-2.06-.94-.94-2.06-.94 2.06-2.06.94z\"/><path d=\"M17.41 7.96l-1.37-1.37c-.4-.4-.92-.59-1.43-.59-.52 0-1.04.2-1.43.59L10.3 9.45l-7.72 7.72c-.78.78-.78 2.05 0 2.83L4 21.41c.39.39.9.59 1.41.59.51 0 1.02-.2 1.41-.59l7.78-7.78 2.81-2.81c.8-.78.8-2.07 0-2.86zM5.41 20L4 18.59l7.72-7.72 1.47 1.35L5.41 20z\"/>\n",
              "  </svg>\n",
              "      </button>\n",
              "      \n",
              "  <style>\n",
              "    .colab-df-container {\n",
              "      display:flex;\n",
              "      flex-wrap:wrap;\n",
              "      gap: 12px;\n",
              "    }\n",
              "\n",
              "    .colab-df-convert {\n",
              "      background-color: #E8F0FE;\n",
              "      border: none;\n",
              "      border-radius: 50%;\n",
              "      cursor: pointer;\n",
              "      display: none;\n",
              "      fill: #1967D2;\n",
              "      height: 32px;\n",
              "      padding: 0 0 0 0;\n",
              "      width: 32px;\n",
              "    }\n",
              "\n",
              "    .colab-df-convert:hover {\n",
              "      background-color: #E2EBFA;\n",
              "      box-shadow: 0px 1px 2px rgba(60, 64, 67, 0.3), 0px 1px 3px 1px rgba(60, 64, 67, 0.15);\n",
              "      fill: #174EA6;\n",
              "    }\n",
              "\n",
              "    [theme=dark] .colab-df-convert {\n",
              "      background-color: #3B4455;\n",
              "      fill: #D2E3FC;\n",
              "    }\n",
              "\n",
              "    [theme=dark] .colab-df-convert:hover {\n",
              "      background-color: #434B5C;\n",
              "      box-shadow: 0px 1px 3px 1px rgba(0, 0, 0, 0.15);\n",
              "      filter: drop-shadow(0px 1px 2px rgba(0, 0, 0, 0.3));\n",
              "      fill: #FFFFFF;\n",
              "    }\n",
              "  </style>\n",
              "\n",
              "      <script>\n",
              "        const buttonEl =\n",
              "          document.querySelector('#df-080b95fb-b04b-4bf5-ab1f-3f87c974e570 button.colab-df-convert');\n",
              "        buttonEl.style.display =\n",
              "          google.colab.kernel.accessAllowed ? 'block' : 'none';\n",
              "\n",
              "        async function convertToInteractive(key) {\n",
              "          const element = document.querySelector('#df-080b95fb-b04b-4bf5-ab1f-3f87c974e570');\n",
              "          const dataTable =\n",
              "            await google.colab.kernel.invokeFunction('convertToInteractive',\n",
              "                                                     [key], {});\n",
              "          if (!dataTable) return;\n",
              "\n",
              "          const docLinkHtml = 'Like what you see? Visit the ' +\n",
              "            '<a target=\"_blank\" href=https://colab.research.google.com/notebooks/data_table.ipynb>data table notebook</a>'\n",
              "            + ' to learn more about interactive tables.';\n",
              "          element.innerHTML = '';\n",
              "          dataTable['output_type'] = 'display_data';\n",
              "          await google.colab.output.renderOutput(dataTable, element);\n",
              "          const docLink = document.createElement('div');\n",
              "          docLink.innerHTML = docLinkHtml;\n",
              "          element.appendChild(docLink);\n",
              "        }\n",
              "      </script>\n",
              "    </div>\n",
              "  </div>\n",
              "  "
            ]
          },
          "metadata": {},
          "execution_count": 7
        }
      ]
    },
    {
      "cell_type": "markdown",
      "source": [
        "- Data appears to have loaded correctly."
      ],
      "metadata": {
        "id": "PR7F91WVziI0"
      }
    },
    {
      "cell_type": "markdown",
      "source": [
        "## **Second choice: dataset 2**\n",
        "- **Heart Disease Prediction**"
      ],
      "metadata": {
        "id": "5N8FBA11Rjr9"
      }
    },
    {
      "cell_type": "markdown",
      "source": [
        "### **1) Source of data**"
      ],
      "metadata": {
        "id": "P7k5ot4pRjsH"
      }
    },
    {
      "cell_type": "markdown",
      "source": [
        "[Data World](https://data.world/informatics-edu/heart-disease-prediction)"
      ],
      "metadata": {
        "id": "SjA_wOizVq6j"
      }
    },
    {
      "cell_type": "markdown",
      "source": [
        "### **2) Brief description of data**\n"
      ],
      "metadata": {
        "id": "txq8XwTyRjsH"
      }
    },
    {
      "cell_type": "markdown",
      "source": [
        "This data set came from the University of California Irvine data repository and is used to predict heart disease\n",
        "\n",
        "This is a data set used to predict heart disease. Patients were classified as having or not having heart disease based on cardiac catheterization, the gold standard. If they had more than 50% narrowing of a coronary artery they were labeled as having heart disease.\n",
        "\n",
        "In this cohort, there are 270 patients and there are 13 independent predictive variables or column attributes. The attributes are explained on the website: https://archive.ics.uci.edu/ml/datasets/Heart+Disease\n",
        "\n",
        "After this dataset became available, the UCI data repository made another cohort available with 303 patients. They shared this with Kaggle which is a data competition initiative. First, the file format is .data which is uncommonly used. Secondly, the outcome was reversed by accident. This is why we are still using the older cohort of patients"
      ],
      "metadata": {
        "id": "mvID87CGV6iS"
      }
    },
    {
      "cell_type": "markdown",
      "source": [
        "### **3) What is the target?**"
      ],
      "metadata": {
        "id": "4hPHdZ1JRjsI"
      }
    },
    {
      "cell_type": "markdown",
      "source": [
        "- Heart Disease \n",
        "> - Absence\n",
        "> - Presence"
      ],
      "metadata": {
        "id": "ob5-yKWXW8-r"
      }
    },
    {
      "cell_type": "markdown",
      "source": [
        "### **4) Is this a classification or regression problem?**"
      ],
      "metadata": {
        "id": "U6AuKkBvRjsI"
      }
    },
    {
      "cell_type": "markdown",
      "source": [
        "- Classification"
      ],
      "metadata": {
        "id": "bwDXmL9CXMFi"
      }
    },
    {
      "cell_type": "markdown",
      "source": [
        "### **5) How many features?**"
      ],
      "metadata": {
        "id": "zyTm4PMVRjsI"
      }
    },
    {
      "cell_type": "markdown",
      "source": [
        "- 13"
      ],
      "metadata": {
        "id": "Nfo67m8oXQHx"
      }
    },
    {
      "cell_type": "markdown",
      "source": [
        "### **6) How many rows of data.**"
      ],
      "metadata": {
        "id": "WcpJDJ_uRjsI"
      }
    },
    {
      "cell_type": "markdown",
      "source": [
        "- 270"
      ],
      "metadata": {
        "id": "9XwCT78QXTN7"
      }
    },
    {
      "cell_type": "markdown",
      "source": [
        "### **7) What, if any, challenges do your foresee in cleaning, exploring, or modeling with this dataset?**"
      ],
      "metadata": {
        "id": "DOa0R7VVRjsI"
      }
    },
    {
      "cell_type": "markdown",
      "source": [
        "- No challenges noted."
      ],
      "metadata": {
        "id": "4Jzuu4ZtXcna"
      }
    },
    {
      "cell_type": "markdown",
      "source": [
        "### **Load the Dataset**\n",
        "\n",
        "- Data downloaded from [link](https://data.world/informatics-edu/heart-disease-prediction/file/%20Heart_Disease_Prediction.csv)."
      ],
      "metadata": {
        "id": "hNSnz5XGRjsJ"
      }
    },
    {
      "cell_type": "code",
      "source": [
        "filename = \"/content/drive/MyDrive/Colab Notebooks/CodingDojo/000 Data Files/Heart_Disease_Prediction.csv\"\n",
        "df2 = pd.read_csv(filename)"
      ],
      "metadata": {
        "id": "Vs1cnNLyRjsJ"
      },
      "execution_count": null,
      "outputs": []
    },
    {
      "cell_type": "markdown",
      "source": [
        "### **Inspect the Data**"
      ],
      "metadata": {
        "id": "ZAgecxtLRjsK"
      }
    },
    {
      "cell_type": "markdown",
      "source": [
        "#### Display Rows and Column Count"
      ],
      "metadata": {
        "id": "Y7Pl6PQiRjsK"
      }
    },
    {
      "cell_type": "code",
      "source": [
        "# The .shape attribute returns a tuple of length 2, representing the dimensionality of the DataFrame.  \n",
        "# The number of rows and columns of the DataFrame.\n",
        "df2.shape\n",
        "print(f'There are {df2.shape[0]} rows, and {df2.shape[1]} columns.')\n",
        "print(f'The rows represent {df2.shape[0]} observations, and the columns represent {df2.shape[1]-1} features and 1 target variable.')"
      ],
      "metadata": {
        "colab": {
          "base_uri": "https://localhost:8080/"
        },
        "id": "R5beckmfRjsK",
        "outputId": "4b187a69-81dd-4e12-961b-93c4910de081"
      },
      "execution_count": null,
      "outputs": [
        {
          "output_type": "stream",
          "name": "stdout",
          "text": [
            "There are 270 rows, and 14 columns.\n",
            "The rows represent 270 observations, and the columns represent 13 features and 1 target variable.\n"
          ]
        }
      ]
    },
    {
      "cell_type": "markdown",
      "source": [
        "#### Display Data Types"
      ],
      "metadata": {
        "id": "HVQF72EuRjsK"
      }
    },
    {
      "cell_type": "code",
      "source": [
        "df2.dtypes"
      ],
      "metadata": {
        "colab": {
          "base_uri": "https://localhost:8080/"
        },
        "id": "e39ZqfG_RjsL",
        "outputId": "ed059acb-dd9e-46b3-a366-d24a01ffd0f7"
      },
      "execution_count": null,
      "outputs": [
        {
          "output_type": "execute_result",
          "data": {
            "text/plain": [
              "Age                          int64\n",
              "Sex                          int64\n",
              "Chest pain type              int64\n",
              "BP                           int64\n",
              "Cholesterol                  int64\n",
              "FBS over 120                 int64\n",
              "EKG results                  int64\n",
              "Max HR                       int64\n",
              "Exercise angina              int64\n",
              "ST depression              float64\n",
              "Slope of ST                  int64\n",
              "Number of vessels fluro      int64\n",
              "Thallium                     int64\n",
              "Heart Disease               object\n",
              "dtype: object"
            ]
          },
          "metadata": {},
          "execution_count": 10
        }
      ]
    },
    {
      "cell_type": "markdown",
      "source": [
        "#### Display Column Names, Count of Non-Null Values, and Data Types"
      ],
      "metadata": {
        "id": "umUPVMkQRjsL"
      }
    },
    {
      "cell_type": "code",
      "source": [
        "df2.info()"
      ],
      "metadata": {
        "colab": {
          "base_uri": "https://localhost:8080/"
        },
        "id": "JgZTWH1qRjsL",
        "outputId": "5a2af9e2-ea7e-495a-aa3a-864b9b42907b"
      },
      "execution_count": null,
      "outputs": [
        {
          "output_type": "stream",
          "name": "stdout",
          "text": [
            "<class 'pandas.core.frame.DataFrame'>\n",
            "RangeIndex: 270 entries, 0 to 269\n",
            "Data columns (total 14 columns):\n",
            " #   Column                   Non-Null Count  Dtype  \n",
            "---  ------                   --------------  -----  \n",
            " 0   Age                      270 non-null    int64  \n",
            " 1   Sex                      270 non-null    int64  \n",
            " 2   Chest pain type          270 non-null    int64  \n",
            " 3   BP                       270 non-null    int64  \n",
            " 4   Cholesterol              270 non-null    int64  \n",
            " 5   FBS over 120             270 non-null    int64  \n",
            " 6   EKG results              270 non-null    int64  \n",
            " 7   Max HR                   270 non-null    int64  \n",
            " 8   Exercise angina          270 non-null    int64  \n",
            " 9   ST depression            270 non-null    float64\n",
            " 10  Slope of ST              270 non-null    int64  \n",
            " 11  Number of vessels fluro  270 non-null    int64  \n",
            " 12  Thallium                 270 non-null    int64  \n",
            " 13  Heart Disease            270 non-null    object \n",
            "dtypes: float64(1), int64(12), object(1)\n",
            "memory usage: 29.7+ KB\n"
          ]
        }
      ]
    },
    {
      "cell_type": "markdown",
      "source": [
        "#### Display First (15) Rows"
      ],
      "metadata": {
        "id": "YUKjSq_CRjsL"
      }
    },
    {
      "cell_type": "code",
      "source": [
        "df2.head(15)"
      ],
      "metadata": {
        "colab": {
          "base_uri": "https://localhost:8080/",
          "height": 581
        },
        "id": "R6N5xog6RjsL",
        "outputId": "4f1162e6-dbf0-402f-f6e8-0751a5119bb2"
      },
      "execution_count": null,
      "outputs": [
        {
          "output_type": "execute_result",
          "data": {
            "text/plain": [
              "    Age  Sex  Chest pain type   BP  Cholesterol  FBS over 120  EKG results  \\\n",
              "0    70    1                4  130          322             0            2   \n",
              "1    67    0                3  115          564             0            2   \n",
              "2    57    1                2  124          261             0            0   \n",
              "3    64    1                4  128          263             0            0   \n",
              "4    74    0                2  120          269             0            2   \n",
              "5    65    1                4  120          177             0            0   \n",
              "6    56    1                3  130          256             1            2   \n",
              "7    59    1                4  110          239             0            2   \n",
              "8    60    1                4  140          293             0            2   \n",
              "9    63    0                4  150          407             0            2   \n",
              "10   59    1                4  135          234             0            0   \n",
              "11   53    1                4  142          226             0            2   \n",
              "12   44    1                3  140          235             0            2   \n",
              "13   61    1                1  134          234             0            0   \n",
              "14   57    0                4  128          303             0            2   \n",
              "\n",
              "    Max HR  Exercise angina  ST depression  Slope of ST  \\\n",
              "0      109                0            2.4            2   \n",
              "1      160                0            1.6            2   \n",
              "2      141                0            0.3            1   \n",
              "3      105                1            0.2            2   \n",
              "4      121                1            0.2            1   \n",
              "5      140                0            0.4            1   \n",
              "6      142                1            0.6            2   \n",
              "7      142                1            1.2            2   \n",
              "8      170                0            1.2            2   \n",
              "9      154                0            4.0            2   \n",
              "10     161                0            0.5            2   \n",
              "11     111                1            0.0            1   \n",
              "12     180                0            0.0            1   \n",
              "13     145                0            2.6            2   \n",
              "14     159                0            0.0            1   \n",
              "\n",
              "    Number of vessels fluro  Thallium Heart Disease  \n",
              "0                         3         3      Presence  \n",
              "1                         0         7       Absence  \n",
              "2                         0         7      Presence  \n",
              "3                         1         7       Absence  \n",
              "4                         1         3       Absence  \n",
              "5                         0         7       Absence  \n",
              "6                         1         6      Presence  \n",
              "7                         1         7      Presence  \n",
              "8                         2         7      Presence  \n",
              "9                         3         7      Presence  \n",
              "10                        0         7       Absence  \n",
              "11                        0         7       Absence  \n",
              "12                        0         3       Absence  \n",
              "13                        2         3      Presence  \n",
              "14                        1         3       Absence  "
            ],
            "text/html": [
              "\n",
              "  <div id=\"df-684927a8-7578-49f6-bcd2-0433983a98a6\">\n",
              "    <div class=\"colab-df-container\">\n",
              "      <div>\n",
              "<style scoped>\n",
              "    .dataframe tbody tr th:only-of-type {\n",
              "        vertical-align: middle;\n",
              "    }\n",
              "\n",
              "    .dataframe tbody tr th {\n",
              "        vertical-align: top;\n",
              "    }\n",
              "\n",
              "    .dataframe thead th {\n",
              "        text-align: right;\n",
              "    }\n",
              "</style>\n",
              "<table border=\"1\" class=\"dataframe\">\n",
              "  <thead>\n",
              "    <tr style=\"text-align: right;\">\n",
              "      <th></th>\n",
              "      <th>Age</th>\n",
              "      <th>Sex</th>\n",
              "      <th>Chest pain type</th>\n",
              "      <th>BP</th>\n",
              "      <th>Cholesterol</th>\n",
              "      <th>FBS over 120</th>\n",
              "      <th>EKG results</th>\n",
              "      <th>Max HR</th>\n",
              "      <th>Exercise angina</th>\n",
              "      <th>ST depression</th>\n",
              "      <th>Slope of ST</th>\n",
              "      <th>Number of vessels fluro</th>\n",
              "      <th>Thallium</th>\n",
              "      <th>Heart Disease</th>\n",
              "    </tr>\n",
              "  </thead>\n",
              "  <tbody>\n",
              "    <tr>\n",
              "      <th>0</th>\n",
              "      <td>70</td>\n",
              "      <td>1</td>\n",
              "      <td>4</td>\n",
              "      <td>130</td>\n",
              "      <td>322</td>\n",
              "      <td>0</td>\n",
              "      <td>2</td>\n",
              "      <td>109</td>\n",
              "      <td>0</td>\n",
              "      <td>2.4</td>\n",
              "      <td>2</td>\n",
              "      <td>3</td>\n",
              "      <td>3</td>\n",
              "      <td>Presence</td>\n",
              "    </tr>\n",
              "    <tr>\n",
              "      <th>1</th>\n",
              "      <td>67</td>\n",
              "      <td>0</td>\n",
              "      <td>3</td>\n",
              "      <td>115</td>\n",
              "      <td>564</td>\n",
              "      <td>0</td>\n",
              "      <td>2</td>\n",
              "      <td>160</td>\n",
              "      <td>0</td>\n",
              "      <td>1.6</td>\n",
              "      <td>2</td>\n",
              "      <td>0</td>\n",
              "      <td>7</td>\n",
              "      <td>Absence</td>\n",
              "    </tr>\n",
              "    <tr>\n",
              "      <th>2</th>\n",
              "      <td>57</td>\n",
              "      <td>1</td>\n",
              "      <td>2</td>\n",
              "      <td>124</td>\n",
              "      <td>261</td>\n",
              "      <td>0</td>\n",
              "      <td>0</td>\n",
              "      <td>141</td>\n",
              "      <td>0</td>\n",
              "      <td>0.3</td>\n",
              "      <td>1</td>\n",
              "      <td>0</td>\n",
              "      <td>7</td>\n",
              "      <td>Presence</td>\n",
              "    </tr>\n",
              "    <tr>\n",
              "      <th>3</th>\n",
              "      <td>64</td>\n",
              "      <td>1</td>\n",
              "      <td>4</td>\n",
              "      <td>128</td>\n",
              "      <td>263</td>\n",
              "      <td>0</td>\n",
              "      <td>0</td>\n",
              "      <td>105</td>\n",
              "      <td>1</td>\n",
              "      <td>0.2</td>\n",
              "      <td>2</td>\n",
              "      <td>1</td>\n",
              "      <td>7</td>\n",
              "      <td>Absence</td>\n",
              "    </tr>\n",
              "    <tr>\n",
              "      <th>4</th>\n",
              "      <td>74</td>\n",
              "      <td>0</td>\n",
              "      <td>2</td>\n",
              "      <td>120</td>\n",
              "      <td>269</td>\n",
              "      <td>0</td>\n",
              "      <td>2</td>\n",
              "      <td>121</td>\n",
              "      <td>1</td>\n",
              "      <td>0.2</td>\n",
              "      <td>1</td>\n",
              "      <td>1</td>\n",
              "      <td>3</td>\n",
              "      <td>Absence</td>\n",
              "    </tr>\n",
              "    <tr>\n",
              "      <th>5</th>\n",
              "      <td>65</td>\n",
              "      <td>1</td>\n",
              "      <td>4</td>\n",
              "      <td>120</td>\n",
              "      <td>177</td>\n",
              "      <td>0</td>\n",
              "      <td>0</td>\n",
              "      <td>140</td>\n",
              "      <td>0</td>\n",
              "      <td>0.4</td>\n",
              "      <td>1</td>\n",
              "      <td>0</td>\n",
              "      <td>7</td>\n",
              "      <td>Absence</td>\n",
              "    </tr>\n",
              "    <tr>\n",
              "      <th>6</th>\n",
              "      <td>56</td>\n",
              "      <td>1</td>\n",
              "      <td>3</td>\n",
              "      <td>130</td>\n",
              "      <td>256</td>\n",
              "      <td>1</td>\n",
              "      <td>2</td>\n",
              "      <td>142</td>\n",
              "      <td>1</td>\n",
              "      <td>0.6</td>\n",
              "      <td>2</td>\n",
              "      <td>1</td>\n",
              "      <td>6</td>\n",
              "      <td>Presence</td>\n",
              "    </tr>\n",
              "    <tr>\n",
              "      <th>7</th>\n",
              "      <td>59</td>\n",
              "      <td>1</td>\n",
              "      <td>4</td>\n",
              "      <td>110</td>\n",
              "      <td>239</td>\n",
              "      <td>0</td>\n",
              "      <td>2</td>\n",
              "      <td>142</td>\n",
              "      <td>1</td>\n",
              "      <td>1.2</td>\n",
              "      <td>2</td>\n",
              "      <td>1</td>\n",
              "      <td>7</td>\n",
              "      <td>Presence</td>\n",
              "    </tr>\n",
              "    <tr>\n",
              "      <th>8</th>\n",
              "      <td>60</td>\n",
              "      <td>1</td>\n",
              "      <td>4</td>\n",
              "      <td>140</td>\n",
              "      <td>293</td>\n",
              "      <td>0</td>\n",
              "      <td>2</td>\n",
              "      <td>170</td>\n",
              "      <td>0</td>\n",
              "      <td>1.2</td>\n",
              "      <td>2</td>\n",
              "      <td>2</td>\n",
              "      <td>7</td>\n",
              "      <td>Presence</td>\n",
              "    </tr>\n",
              "    <tr>\n",
              "      <th>9</th>\n",
              "      <td>63</td>\n",
              "      <td>0</td>\n",
              "      <td>4</td>\n",
              "      <td>150</td>\n",
              "      <td>407</td>\n",
              "      <td>0</td>\n",
              "      <td>2</td>\n",
              "      <td>154</td>\n",
              "      <td>0</td>\n",
              "      <td>4.0</td>\n",
              "      <td>2</td>\n",
              "      <td>3</td>\n",
              "      <td>7</td>\n",
              "      <td>Presence</td>\n",
              "    </tr>\n",
              "    <tr>\n",
              "      <th>10</th>\n",
              "      <td>59</td>\n",
              "      <td>1</td>\n",
              "      <td>4</td>\n",
              "      <td>135</td>\n",
              "      <td>234</td>\n",
              "      <td>0</td>\n",
              "      <td>0</td>\n",
              "      <td>161</td>\n",
              "      <td>0</td>\n",
              "      <td>0.5</td>\n",
              "      <td>2</td>\n",
              "      <td>0</td>\n",
              "      <td>7</td>\n",
              "      <td>Absence</td>\n",
              "    </tr>\n",
              "    <tr>\n",
              "      <th>11</th>\n",
              "      <td>53</td>\n",
              "      <td>1</td>\n",
              "      <td>4</td>\n",
              "      <td>142</td>\n",
              "      <td>226</td>\n",
              "      <td>0</td>\n",
              "      <td>2</td>\n",
              "      <td>111</td>\n",
              "      <td>1</td>\n",
              "      <td>0.0</td>\n",
              "      <td>1</td>\n",
              "      <td>0</td>\n",
              "      <td>7</td>\n",
              "      <td>Absence</td>\n",
              "    </tr>\n",
              "    <tr>\n",
              "      <th>12</th>\n",
              "      <td>44</td>\n",
              "      <td>1</td>\n",
              "      <td>3</td>\n",
              "      <td>140</td>\n",
              "      <td>235</td>\n",
              "      <td>0</td>\n",
              "      <td>2</td>\n",
              "      <td>180</td>\n",
              "      <td>0</td>\n",
              "      <td>0.0</td>\n",
              "      <td>1</td>\n",
              "      <td>0</td>\n",
              "      <td>3</td>\n",
              "      <td>Absence</td>\n",
              "    </tr>\n",
              "    <tr>\n",
              "      <th>13</th>\n",
              "      <td>61</td>\n",
              "      <td>1</td>\n",
              "      <td>1</td>\n",
              "      <td>134</td>\n",
              "      <td>234</td>\n",
              "      <td>0</td>\n",
              "      <td>0</td>\n",
              "      <td>145</td>\n",
              "      <td>0</td>\n",
              "      <td>2.6</td>\n",
              "      <td>2</td>\n",
              "      <td>2</td>\n",
              "      <td>3</td>\n",
              "      <td>Presence</td>\n",
              "    </tr>\n",
              "    <tr>\n",
              "      <th>14</th>\n",
              "      <td>57</td>\n",
              "      <td>0</td>\n",
              "      <td>4</td>\n",
              "      <td>128</td>\n",
              "      <td>303</td>\n",
              "      <td>0</td>\n",
              "      <td>2</td>\n",
              "      <td>159</td>\n",
              "      <td>0</td>\n",
              "      <td>0.0</td>\n",
              "      <td>1</td>\n",
              "      <td>1</td>\n",
              "      <td>3</td>\n",
              "      <td>Absence</td>\n",
              "    </tr>\n",
              "  </tbody>\n",
              "</table>\n",
              "</div>\n",
              "      <button class=\"colab-df-convert\" onclick=\"convertToInteractive('df-684927a8-7578-49f6-bcd2-0433983a98a6')\"\n",
              "              title=\"Convert this dataframe to an interactive table.\"\n",
              "              style=\"display:none;\">\n",
              "        \n",
              "  <svg xmlns=\"http://www.w3.org/2000/svg\" height=\"24px\"viewBox=\"0 0 24 24\"\n",
              "       width=\"24px\">\n",
              "    <path d=\"M0 0h24v24H0V0z\" fill=\"none\"/>\n",
              "    <path d=\"M18.56 5.44l.94 2.06.94-2.06 2.06-.94-2.06-.94-.94-2.06-.94 2.06-2.06.94zm-11 1L8.5 8.5l.94-2.06 2.06-.94-2.06-.94L8.5 2.5l-.94 2.06-2.06.94zm10 10l.94 2.06.94-2.06 2.06-.94-2.06-.94-.94-2.06-.94 2.06-2.06.94z\"/><path d=\"M17.41 7.96l-1.37-1.37c-.4-.4-.92-.59-1.43-.59-.52 0-1.04.2-1.43.59L10.3 9.45l-7.72 7.72c-.78.78-.78 2.05 0 2.83L4 21.41c.39.39.9.59 1.41.59.51 0 1.02-.2 1.41-.59l7.78-7.78 2.81-2.81c.8-.78.8-2.07 0-2.86zM5.41 20L4 18.59l7.72-7.72 1.47 1.35L5.41 20z\"/>\n",
              "  </svg>\n",
              "      </button>\n",
              "      \n",
              "  <style>\n",
              "    .colab-df-container {\n",
              "      display:flex;\n",
              "      flex-wrap:wrap;\n",
              "      gap: 12px;\n",
              "    }\n",
              "\n",
              "    .colab-df-convert {\n",
              "      background-color: #E8F0FE;\n",
              "      border: none;\n",
              "      border-radius: 50%;\n",
              "      cursor: pointer;\n",
              "      display: none;\n",
              "      fill: #1967D2;\n",
              "      height: 32px;\n",
              "      padding: 0 0 0 0;\n",
              "      width: 32px;\n",
              "    }\n",
              "\n",
              "    .colab-df-convert:hover {\n",
              "      background-color: #E2EBFA;\n",
              "      box-shadow: 0px 1px 2px rgba(60, 64, 67, 0.3), 0px 1px 3px 1px rgba(60, 64, 67, 0.15);\n",
              "      fill: #174EA6;\n",
              "    }\n",
              "\n",
              "    [theme=dark] .colab-df-convert {\n",
              "      background-color: #3B4455;\n",
              "      fill: #D2E3FC;\n",
              "    }\n",
              "\n",
              "    [theme=dark] .colab-df-convert:hover {\n",
              "      background-color: #434B5C;\n",
              "      box-shadow: 0px 1px 3px 1px rgba(0, 0, 0, 0.15);\n",
              "      filter: drop-shadow(0px 1px 2px rgba(0, 0, 0, 0.3));\n",
              "      fill: #FFFFFF;\n",
              "    }\n",
              "  </style>\n",
              "\n",
              "      <script>\n",
              "        const buttonEl =\n",
              "          document.querySelector('#df-684927a8-7578-49f6-bcd2-0433983a98a6 button.colab-df-convert');\n",
              "        buttonEl.style.display =\n",
              "          google.colab.kernel.accessAllowed ? 'block' : 'none';\n",
              "\n",
              "        async function convertToInteractive(key) {\n",
              "          const element = document.querySelector('#df-684927a8-7578-49f6-bcd2-0433983a98a6');\n",
              "          const dataTable =\n",
              "            await google.colab.kernel.invokeFunction('convertToInteractive',\n",
              "                                                     [key], {});\n",
              "          if (!dataTable) return;\n",
              "\n",
              "          const docLinkHtml = 'Like what you see? Visit the ' +\n",
              "            '<a target=\"_blank\" href=https://colab.research.google.com/notebooks/data_table.ipynb>data table notebook</a>'\n",
              "            + ' to learn more about interactive tables.';\n",
              "          element.innerHTML = '';\n",
              "          dataTable['output_type'] = 'display_data';\n",
              "          await google.colab.output.renderOutput(dataTable, element);\n",
              "          const docLink = document.createElement('div');\n",
              "          docLink.innerHTML = docLinkHtml;\n",
              "          element.appendChild(docLink);\n",
              "        }\n",
              "      </script>\n",
              "    </div>\n",
              "  </div>\n",
              "  "
            ]
          },
          "metadata": {},
          "execution_count": 12
        }
      ]
    },
    {
      "cell_type": "markdown",
      "source": [
        "- Data appears to have loaded correctly."
      ],
      "metadata": {
        "id": "eWV1rTXURjsM"
      }
    }
  ]
}