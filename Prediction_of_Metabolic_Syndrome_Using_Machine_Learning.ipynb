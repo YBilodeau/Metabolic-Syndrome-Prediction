{
  "nbformat": 4,
  "nbformat_minor": 0,
  "metadata": {
    "colab": {
      "name": "Prediction of Metabolic Syndrome Using Machine Learning.ipynb",
      "provenance": [],
      "collapsed_sections": [],
      "toc_visible": true,
      "mount_file_id": "1L5s2kEE1Akm5jTSxNQKsMmaywp3DkZFC",
      "authorship_tag": "ABX9TyNyCNPEzSZ2m1teDhh0EboX",
      "include_colab_link": true
    },
    "kernelspec": {
      "name": "python3",
      "display_name": "Python 3"
    },
    "language_info": {
      "name": "python"
    }
  },
  "cells": [
    {
      "cell_type": "markdown",
      "metadata": {
        "id": "view-in-github",
        "colab_type": "text"
      },
      "source": [
        "<a href=\"https://colab.research.google.com/github/YBilodeau/Metabolic-Syndrome-Prediction-Project/blob/main/Prediction_of_Metabolic_Syndrome_Using_Machine_Learning.ipynb\" target=\"_parent\"><img src=\"https://colab.research.google.com/assets/colab-badge.svg\" alt=\"Open In Colab\"/></a>"
      ]
    },
    {
      "cell_type": "markdown",
      "source": [
        "# **Prediction of Metabolic Syndrome Using Machine Learning**\n",
        "\n",
        "\n",
        "- Yvon Bilodeau\n",
        "- March 2022"
      ],
      "metadata": {
        "id": "64KrNUfAOlDd"
      }
    },
    {
      "cell_type": "markdown",
      "source": [
        "\n",
        "\n",
        "---\n",
        "\n"
      ],
      "metadata": {
        "id": "w7hd5wAHihGi"
      }
    },
    {
      "cell_type": "markdown",
      "source": [
        "### **Project Description**\n"
      ],
      "metadata": {
        "id": "qr7OHrm9QwcH"
      }
    },
    {
      "cell_type": "markdown",
      "source": [
        "**Goal**"
      ],
      "metadata": {
        "id": "pqI44-wvYLM6"
      }
    },
    {
      "cell_type": "markdown",
      "source": [
        "The goal of this project is to predict the presence of metabolic syndrome, yes or no, based on common risk factors utilizing categorical machine learning."
      ],
      "metadata": {
        "id": "p_9xeuSs-P3b"
      }
    },
    {
      "cell_type": "markdown",
      "source": [
        "**Metabolic Syndrome Diagnosis**"
      ],
      "metadata": {
        "id": "ZuNNwfEdZcps"
      }
    },
    {
      "cell_type": "markdown",
      "source": [
        "The National Institutes of Health guidelines define metabolic syndrome as \n",
        "\"a group of conditions that together raise your risk of coronary heart disease, diabetes, stroke, and other serious health problems. Metabolic syndrome is also called insulin resistance syndrome\"\n",
        "\n",
        " - Source - [The National Institutes of Health](https://www.nhlbi.nih.gov/health/metabolic-syndrome#:~:text=Metabolic%20syndrome%20is%20a%20group,more%20of%20the%20following%20conditions.)\n",
        "\n",
        "\"The National Institutes of Health guidelines define metabolic syndrome as having three or more of the following traits, including traits for which you may be taking medication to control:\n",
        "\n",
        "- **Large waist** — A waistline that measures at least 35 inches (89 centimeters) for women and 40 inches (102 centimeters) for men\n",
        "- **High triglyceride level** — 150 milligrams per deciliter (mg/dL), or 1.7 millimoles per liter (mmol/L), or higher of this type of fat found in blood\n",
        "- **Reduced \"good\" or HDL cholesterol** — Less than 40 mg/dL (1.04 mmol/L) in men or less than 50 mg/dL (1.3 mmol/L) in women of high-density lipoprotein (HDL) cholesterol\n",
        "- **Increased blood pressure** — 130/85 millimeters of mercury (mm Hg) or higher\n",
        "- **Elevated fasting blood sugar** — 100 mg/dL (5.6 mmol/L) or higher\"\n",
        "\n",
        "\"Having just one of these conditions doesn't mean you have metabolic syndrome. But it does mean you have a greater risk of serious disease. And if you develop more of these conditions, your risk of complications, such as type 2 diabetes and heart disease, rises even higher.\n",
        "\n",
        "\n",
        "Metabolic syndrome is increasingly common, and up to one-third of U.S. adults have it. If you have metabolic syndrome or any of its components, aggressive lifestyle changes can delay or even prevent the development of serious health problems.\"\n",
        "\n",
        " - Source - [Mayo Clinic](https://www.mayoclinic.org/diseases-conditions/metabolic-syndrome/symptoms-causes/syc-20351916?utm_source=Google&utm_medium=abstract&utm_content=Metabolic-syndrome&utm_campaign=Knowledge-panel)"
      ],
      "metadata": {
        "id": "FaEJ2f8P9TVw"
      }
    },
    {
      "cell_type": "markdown",
      "source": [
        "**Benefit of Early Diagnosis and Treatment**"
      ],
      "metadata": {
        "id": "71eXbBkmYSGU"
      }
    },
    {
      "cell_type": "markdown",
      "source": [
        "\"The main goals of treating metabolic syndrome are to lower your risk of heart disease and to prevent type 2 diabetes if it hasn’t already developed. If you already have type 2 diabetes, treatment can lower your risk of heart disease by controlling all your risk factors.\n",
        "\n",
        "Heart-healthy lifestyle changes are the first line of treatment for metabolic syndrome. You may have to see a dietitian and a physical therapist to help find a diet and exercise plan that works for you. If healthy lifestyle changes do not work, you may need medicines or weight loss surgery.\"\n",
        "- Source - [The Mayo Clinic](https://www.nhlbi.nih.gov/health/metabolic-syndrome/treatment)"
      ],
      "metadata": {
        "id": "ao9FwqsVYZqA"
      }
    },
    {
      "cell_type": "markdown",
      "source": [
        "**Source of data**\n",
        "\n"
      ],
      "metadata": {
        "id": "QwlzFMohQp_l"
      }
    },
    {
      "cell_type": "markdown",
      "source": [
        "The dataset was aquired from [Data World](https://data.world/informatics-edu/metabolic-syndrome-prediction). They aquired the data for this analysis from the [NHANES](https://www.cdc.gov/nchs/nhanes/index.htm), National Health and Nutrition Examination initiative, in which several features were combined from multiple tables.\n",
        "\n"
      ],
      "metadata": {
        "id": "30XKTCkEcEXV"
      }
    },
    {
      "cell_type": "markdown",
      "source": [
        "The dataset consists of 2401 rows, and 15 columns.The rows represent 2401 observations, and the columns represent 14 features and 1 target variable."
      ],
      "metadata": {
        "id": "W1zT_fTMcIQb"
      }
    },
    {
      "cell_type": "markdown",
      "source": [
        "| Feature         | Description  |\n",
        "| --------------  | ------------ | \n",
        "| seqn            | Respondent sequence number | \n",
        "| Age             | Age in Years | \n",
        "| Sex             | Male or Female | \n",
        "| Marital         | Marital status | \n",
        "| Income          | Income in Dollars | \n",
        "| Race            | Racial Group | \n",
        "| WaistCirc       | Waist Circumference (cm)| \n",
        "| BMI             | Body Mass Index (kg/m**2) | \n",
        "| Albuminuria     | Albumin in Urine (mg/L)) | \n",
        "| UrAlbCr         | Ratio of Albumin (mcg/L) to Creatinine (mg/L) in Urine | \n",
        "| UricAcid        | Uric Acid in Blood (mg/dl) | \n",
        "| BloodGlucose    | Glucose in Blood (mg/dL) | \n",
        "| HDL             | High Density Lipoprotein (mg/dl) | \n",
        "| Triglycerides   | Triglycerides in Blood (mg/dL) | \n",
        "| MetabolicSyndrome | Presence or not of at least three of the five metabolic risk factors | \n",
        "\n"
      ],
      "metadata": {
        "id": "HXSqTsvhcD9E"
      }
    },
    {
      "cell_type": "markdown",
      "source": [
        "## **Mount Data | Import Libraries | Load the Dataset**"
      ],
      "metadata": {
        "id": "Z9vyP80nOg9d"
      }
    },
    {
      "cell_type": "markdown",
      "source": [
        "### **Mount Google Drive**"
      ],
      "metadata": {
        "id": "ikybS2tmi-pK"
      }
    },
    {
      "cell_type": "code",
      "source": [
        "# Mount Google Drive.\n",
        "from google.colab import drive\n",
        "drive.mount('/content/drive')"
      ],
      "metadata": {
        "colab": {
          "base_uri": "https://localhost:8080/"
        },
        "outputId": "b34268c6-5f35-47ab-c3d7-90adc0461778",
        "id": "tUq0-QFFi-pK"
      },
      "execution_count": 3,
      "outputs": [
        {
          "output_type": "stream",
          "name": "stdout",
          "text": [
            "Mounted at /content/drive\n"
          ]
        }
      ]
    },
    {
      "cell_type": "markdown",
      "source": [
        "### **Import Libraries**"
      ],
      "metadata": {
        "id": "qbj062e9Ou6-"
      }
    },
    {
      "cell_type": "code",
      "execution_count": 107,
      "metadata": {
        "id": "aUYz6fIbFWBJ"
      },
      "outputs": [],
      "source": [
        "# Import Libraries\n",
        "import numpy as np\n",
        "import pandas as pd\n",
        "import matplotlib.pyplot as plt\n",
        "import matplotlib.gridspec as gridspec\n",
        "import seaborn as sns\n",
        "import missingno as msno\n",
        "\n",
        "from sklearn.preprocessing import StandardScaler, OneHotEncoder\n",
        "from sklearn.impute import SimpleImputer\n",
        "from sklearn.compose import make_column_transformer, make_column_selector\n",
        "from sklearn.pipeline import make_pipeline\n",
        "from sklearn.model_selection import train_test_split\n",
        "from sklearn import set_config\n",
        "\n",
        "# Dummy Classifier\n",
        "from sklearn.dummy import DummyClassifier\n",
        "\n",
        "# Linear Regression Classifier\n",
        "from sklearn.linear_model import LinearRegression\n",
        "from sklearn.linear_model import LogisticRegression\n",
        "\n",
        "# Random Forest Classifier\n",
        "from sklearn.ensemble import RandomForestClassifier\n",
        "\n",
        "# KNN Classifier\n",
        "from sklearn.neighbors import KNeighborsClassifier\n",
        "\n",
        "# Import accuracy, precision, recall, classification report, and confusion matrix scoring functions\n",
        "from sklearn.metrics import accuracy_score, precision_score, recall_score, classification_report, confusion_matrix, ConfusionMatrixDisplay\n",
        "\n",
        "# Import Hypertuning GridSearch\n",
        "from sklearn.model_selection import GridSearchCV"
      ]
    },
    {
      "cell_type": "markdown",
      "source": [
        "### **Load the Dataset**\n",
        "\n",
        "- Data downloaded from [link](https://data.world/informatics-edu/metabolic-syndrome-prediction/file/Metabolic%20%20Syndrome.csv)."
      ],
      "metadata": {
        "id": "JOUAIYIJO29y"
      }
    },
    {
      "cell_type": "code",
      "source": [
        "# Load the dataset.\n",
        "filename = \"/content/drive/MyDrive/Colab Notebooks/CodingDojo/000 Data Files/Metabolic  Syndrome.csv\"\n",
        "df = pd.read_csv(filename)"
      ],
      "metadata": {
        "id": "TrjtMPiZPPWL"
      },
      "execution_count": 5,
      "outputs": []
    },
    {
      "cell_type": "markdown",
      "source": [
        "## **Inspect the Data**"
      ],
      "metadata": {
        "id": "MytoZVznPWPd"
      }
    },
    {
      "cell_type": "markdown",
      "source": [
        "### Display the Row and Column Count"
      ],
      "metadata": {
        "id": "JVXIY3Sj_QN8"
      }
    },
    {
      "cell_type": "code",
      "source": [
        "# Display the number of rows and columns for the dataframe.\n",
        "df.shape\n",
        "print(f'There are {df.shape[0]} rows, and {df.shape[1]} columns.')\n",
        "print(f'The rows represent {df.shape[0]} observations, and the columns represent {df.shape[1]-1} features and 1 target variable.')"
      ],
      "metadata": {
        "id": "fkts3k-KPm5a",
        "colab": {
          "base_uri": "https://localhost:8080/"
        },
        "outputId": "a82b5847-7c82-4252-98e6-4d453d57c63c"
      },
      "execution_count": 6,
      "outputs": [
        {
          "output_type": "stream",
          "name": "stdout",
          "text": [
            "There are 2401 rows, and 15 columns.\n",
            "The rows represent 2401 observations, and the columns represent 14 features and 1 target variable.\n"
          ]
        }
      ]
    },
    {
      "cell_type": "markdown",
      "source": [
        "### Display Data Types"
      ],
      "metadata": {
        "id": "Npez_DLB_cH7"
      }
    },
    {
      "cell_type": "code",
      "source": [
        "# Display the column names and datatypes for each column.\n",
        "# Columns with mixed datatypes are identified as an object datatype.\n",
        "df.dtypes"
      ],
      "metadata": {
        "id": "DaLyMnan_LyF",
        "colab": {
          "base_uri": "https://localhost:8080/"
        },
        "outputId": "180f85e1-a35a-4c3f-b06b-f3ca0d294c4a"
      },
      "execution_count": 7,
      "outputs": [
        {
          "output_type": "execute_result",
          "data": {
            "text/plain": [
              "seqn                   int64\n",
              "Age                    int64\n",
              "Sex                   object\n",
              "Marital               object\n",
              "Income               float64\n",
              "Race                  object\n",
              "WaistCirc            float64\n",
              "BMI                  float64\n",
              "Albuminuria            int64\n",
              "UrAlbCr              float64\n",
              "UricAcid             float64\n",
              "BloodGlucose           int64\n",
              "HDL                    int64\n",
              "Triglycerides          int64\n",
              "MetabolicSyndrome     object\n",
              "dtype: object"
            ]
          },
          "metadata": {},
          "execution_count": 7
        }
      ]
    },
    {
      "cell_type": "markdown",
      "source": [
        "### Display Column Names, Count of Non-Null Values, and Data Types"
      ],
      "metadata": {
        "id": "-ddijDWr_uq-"
      }
    },
    {
      "cell_type": "code",
      "source": [
        "# Display the column names, count of non-null values, and their datatypes.\n",
        "df.info()"
      ],
      "metadata": {
        "id": "Fj8u4kjlGL8Z",
        "colab": {
          "base_uri": "https://localhost:8080/"
        },
        "outputId": "fab04881-dd1e-4b91-9d70-63dd33c91979"
      },
      "execution_count": 8,
      "outputs": [
        {
          "output_type": "stream",
          "name": "stdout",
          "text": [
            "<class 'pandas.core.frame.DataFrame'>\n",
            "RangeIndex: 2401 entries, 0 to 2400\n",
            "Data columns (total 15 columns):\n",
            " #   Column             Non-Null Count  Dtype  \n",
            "---  ------             --------------  -----  \n",
            " 0   seqn               2401 non-null   int64  \n",
            " 1   Age                2401 non-null   int64  \n",
            " 2   Sex                2401 non-null   object \n",
            " 3   Marital            2193 non-null   object \n",
            " 4   Income             2284 non-null   float64\n",
            " 5   Race               2401 non-null   object \n",
            " 6   WaistCirc          2316 non-null   float64\n",
            " 7   BMI                2375 non-null   float64\n",
            " 8   Albuminuria        2401 non-null   int64  \n",
            " 9   UrAlbCr            2401 non-null   float64\n",
            " 10  UricAcid           2401 non-null   float64\n",
            " 11  BloodGlucose       2401 non-null   int64  \n",
            " 12  HDL                2401 non-null   int64  \n",
            " 13  Triglycerides      2401 non-null   int64  \n",
            " 14  MetabolicSyndrome  2401 non-null   object \n",
            "dtypes: float64(5), int64(6), object(4)\n",
            "memory usage: 281.5+ KB\n"
          ]
        }
      ]
    },
    {
      "cell_type": "markdown",
      "source": [
        "### Display First (10) Rows"
      ],
      "metadata": {
        "id": "s3T6QYAOzGHl"
      }
    },
    {
      "cell_type": "code",
      "source": [
        "# Display the first (10) rows of the dataframe.\n",
        "df.head(10)"
      ],
      "metadata": {
        "id": "o2OINffGGKRh",
        "colab": {
          "base_uri": "https://localhost:8080/",
          "height": 362
        },
        "outputId": "d8ad9bfb-1398-4a73-a893-2970cc3228e7"
      },
      "execution_count": 9,
      "outputs": [
        {
          "output_type": "execute_result",
          "data": {
            "text/plain": [
              "    seqn  Age     Sex   Marital  Income   Race  WaistCirc   BMI  Albuminuria  \\\n",
              "0  62161   22    Male    Single  8200.0  White       81.0  23.3            0   \n",
              "1  62164   44  Female   Married  4500.0  White       80.1  23.2            0   \n",
              "2  62169   21    Male    Single   800.0  Asian       69.6  20.1            0   \n",
              "3  62172   43  Female    Single  2000.0  Black      120.4  33.3            0   \n",
              "4  62177   51    Male   Married     NaN  Asian       81.1  20.1            0   \n",
              "5  62178   80    Male   Widowed   300.0  White      112.5  28.5            0   \n",
              "6  62184   26    Male    Single  9000.0  Black       78.6  22.1            0   \n",
              "7  62189   30  Female   Married  6200.0  Asian       80.2  22.4            0   \n",
              "8  62191   70    Male  Divorced  1000.0  Black        NaN   NaN            1   \n",
              "9  62195   35    Male       NaN  2500.0  Black       99.0  28.2            0   \n",
              "\n",
              "   UrAlbCr  UricAcid  BloodGlucose  HDL  Triglycerides MetabolicSyndrome  \n",
              "0     3.88       4.9            92   41             84         No MetSyn  \n",
              "1     8.55       4.5            82   28             56         No MetSyn  \n",
              "2     5.07       5.4           107   43             78         No MetSyn  \n",
              "3     5.22       5.0           104   73            141         No MetSyn  \n",
              "4     8.13       5.0            95   43            126         No MetSyn  \n",
              "5     9.79       4.8           105   47            100         No MetSyn  \n",
              "6     9.21       5.4            87   61             40         No MetSyn  \n",
              "7     8.78       6.7            83   48             91         No MetSyn  \n",
              "8    45.67       5.4            96   35             75         No MetSyn  \n",
              "9     2.21       6.7            94   46             86         No MetSyn  "
            ],
            "text/html": [
              "\n",
              "  <div id=\"df-b0970be4-7bf1-4b2f-86d6-1d7fbeecfdd1\">\n",
              "    <div class=\"colab-df-container\">\n",
              "      <div>\n",
              "<style scoped>\n",
              "    .dataframe tbody tr th:only-of-type {\n",
              "        vertical-align: middle;\n",
              "    }\n",
              "\n",
              "    .dataframe tbody tr th {\n",
              "        vertical-align: top;\n",
              "    }\n",
              "\n",
              "    .dataframe thead th {\n",
              "        text-align: right;\n",
              "    }\n",
              "</style>\n",
              "<table border=\"1\" class=\"dataframe\">\n",
              "  <thead>\n",
              "    <tr style=\"text-align: right;\">\n",
              "      <th></th>\n",
              "      <th>seqn</th>\n",
              "      <th>Age</th>\n",
              "      <th>Sex</th>\n",
              "      <th>Marital</th>\n",
              "      <th>Income</th>\n",
              "      <th>Race</th>\n",
              "      <th>WaistCirc</th>\n",
              "      <th>BMI</th>\n",
              "      <th>Albuminuria</th>\n",
              "      <th>UrAlbCr</th>\n",
              "      <th>UricAcid</th>\n",
              "      <th>BloodGlucose</th>\n",
              "      <th>HDL</th>\n",
              "      <th>Triglycerides</th>\n",
              "      <th>MetabolicSyndrome</th>\n",
              "    </tr>\n",
              "  </thead>\n",
              "  <tbody>\n",
              "    <tr>\n",
              "      <th>0</th>\n",
              "      <td>62161</td>\n",
              "      <td>22</td>\n",
              "      <td>Male</td>\n",
              "      <td>Single</td>\n",
              "      <td>8200.0</td>\n",
              "      <td>White</td>\n",
              "      <td>81.0</td>\n",
              "      <td>23.3</td>\n",
              "      <td>0</td>\n",
              "      <td>3.88</td>\n",
              "      <td>4.9</td>\n",
              "      <td>92</td>\n",
              "      <td>41</td>\n",
              "      <td>84</td>\n",
              "      <td>No MetSyn</td>\n",
              "    </tr>\n",
              "    <tr>\n",
              "      <th>1</th>\n",
              "      <td>62164</td>\n",
              "      <td>44</td>\n",
              "      <td>Female</td>\n",
              "      <td>Married</td>\n",
              "      <td>4500.0</td>\n",
              "      <td>White</td>\n",
              "      <td>80.1</td>\n",
              "      <td>23.2</td>\n",
              "      <td>0</td>\n",
              "      <td>8.55</td>\n",
              "      <td>4.5</td>\n",
              "      <td>82</td>\n",
              "      <td>28</td>\n",
              "      <td>56</td>\n",
              "      <td>No MetSyn</td>\n",
              "    </tr>\n",
              "    <tr>\n",
              "      <th>2</th>\n",
              "      <td>62169</td>\n",
              "      <td>21</td>\n",
              "      <td>Male</td>\n",
              "      <td>Single</td>\n",
              "      <td>800.0</td>\n",
              "      <td>Asian</td>\n",
              "      <td>69.6</td>\n",
              "      <td>20.1</td>\n",
              "      <td>0</td>\n",
              "      <td>5.07</td>\n",
              "      <td>5.4</td>\n",
              "      <td>107</td>\n",
              "      <td>43</td>\n",
              "      <td>78</td>\n",
              "      <td>No MetSyn</td>\n",
              "    </tr>\n",
              "    <tr>\n",
              "      <th>3</th>\n",
              "      <td>62172</td>\n",
              "      <td>43</td>\n",
              "      <td>Female</td>\n",
              "      <td>Single</td>\n",
              "      <td>2000.0</td>\n",
              "      <td>Black</td>\n",
              "      <td>120.4</td>\n",
              "      <td>33.3</td>\n",
              "      <td>0</td>\n",
              "      <td>5.22</td>\n",
              "      <td>5.0</td>\n",
              "      <td>104</td>\n",
              "      <td>73</td>\n",
              "      <td>141</td>\n",
              "      <td>No MetSyn</td>\n",
              "    </tr>\n",
              "    <tr>\n",
              "      <th>4</th>\n",
              "      <td>62177</td>\n",
              "      <td>51</td>\n",
              "      <td>Male</td>\n",
              "      <td>Married</td>\n",
              "      <td>NaN</td>\n",
              "      <td>Asian</td>\n",
              "      <td>81.1</td>\n",
              "      <td>20.1</td>\n",
              "      <td>0</td>\n",
              "      <td>8.13</td>\n",
              "      <td>5.0</td>\n",
              "      <td>95</td>\n",
              "      <td>43</td>\n",
              "      <td>126</td>\n",
              "      <td>No MetSyn</td>\n",
              "    </tr>\n",
              "    <tr>\n",
              "      <th>5</th>\n",
              "      <td>62178</td>\n",
              "      <td>80</td>\n",
              "      <td>Male</td>\n",
              "      <td>Widowed</td>\n",
              "      <td>300.0</td>\n",
              "      <td>White</td>\n",
              "      <td>112.5</td>\n",
              "      <td>28.5</td>\n",
              "      <td>0</td>\n",
              "      <td>9.79</td>\n",
              "      <td>4.8</td>\n",
              "      <td>105</td>\n",
              "      <td>47</td>\n",
              "      <td>100</td>\n",
              "      <td>No MetSyn</td>\n",
              "    </tr>\n",
              "    <tr>\n",
              "      <th>6</th>\n",
              "      <td>62184</td>\n",
              "      <td>26</td>\n",
              "      <td>Male</td>\n",
              "      <td>Single</td>\n",
              "      <td>9000.0</td>\n",
              "      <td>Black</td>\n",
              "      <td>78.6</td>\n",
              "      <td>22.1</td>\n",
              "      <td>0</td>\n",
              "      <td>9.21</td>\n",
              "      <td>5.4</td>\n",
              "      <td>87</td>\n",
              "      <td>61</td>\n",
              "      <td>40</td>\n",
              "      <td>No MetSyn</td>\n",
              "    </tr>\n",
              "    <tr>\n",
              "      <th>7</th>\n",
              "      <td>62189</td>\n",
              "      <td>30</td>\n",
              "      <td>Female</td>\n",
              "      <td>Married</td>\n",
              "      <td>6200.0</td>\n",
              "      <td>Asian</td>\n",
              "      <td>80.2</td>\n",
              "      <td>22.4</td>\n",
              "      <td>0</td>\n",
              "      <td>8.78</td>\n",
              "      <td>6.7</td>\n",
              "      <td>83</td>\n",
              "      <td>48</td>\n",
              "      <td>91</td>\n",
              "      <td>No MetSyn</td>\n",
              "    </tr>\n",
              "    <tr>\n",
              "      <th>8</th>\n",
              "      <td>62191</td>\n",
              "      <td>70</td>\n",
              "      <td>Male</td>\n",
              "      <td>Divorced</td>\n",
              "      <td>1000.0</td>\n",
              "      <td>Black</td>\n",
              "      <td>NaN</td>\n",
              "      <td>NaN</td>\n",
              "      <td>1</td>\n",
              "      <td>45.67</td>\n",
              "      <td>5.4</td>\n",
              "      <td>96</td>\n",
              "      <td>35</td>\n",
              "      <td>75</td>\n",
              "      <td>No MetSyn</td>\n",
              "    </tr>\n",
              "    <tr>\n",
              "      <th>9</th>\n",
              "      <td>62195</td>\n",
              "      <td>35</td>\n",
              "      <td>Male</td>\n",
              "      <td>NaN</td>\n",
              "      <td>2500.0</td>\n",
              "      <td>Black</td>\n",
              "      <td>99.0</td>\n",
              "      <td>28.2</td>\n",
              "      <td>0</td>\n",
              "      <td>2.21</td>\n",
              "      <td>6.7</td>\n",
              "      <td>94</td>\n",
              "      <td>46</td>\n",
              "      <td>86</td>\n",
              "      <td>No MetSyn</td>\n",
              "    </tr>\n",
              "  </tbody>\n",
              "</table>\n",
              "</div>\n",
              "      <button class=\"colab-df-convert\" onclick=\"convertToInteractive('df-b0970be4-7bf1-4b2f-86d6-1d7fbeecfdd1')\"\n",
              "              title=\"Convert this dataframe to an interactive table.\"\n",
              "              style=\"display:none;\">\n",
              "        \n",
              "  <svg xmlns=\"http://www.w3.org/2000/svg\" height=\"24px\"viewBox=\"0 0 24 24\"\n",
              "       width=\"24px\">\n",
              "    <path d=\"M0 0h24v24H0V0z\" fill=\"none\"/>\n",
              "    <path d=\"M18.56 5.44l.94 2.06.94-2.06 2.06-.94-2.06-.94-.94-2.06-.94 2.06-2.06.94zm-11 1L8.5 8.5l.94-2.06 2.06-.94-2.06-.94L8.5 2.5l-.94 2.06-2.06.94zm10 10l.94 2.06.94-2.06 2.06-.94-2.06-.94-.94-2.06-.94 2.06-2.06.94z\"/><path d=\"M17.41 7.96l-1.37-1.37c-.4-.4-.92-.59-1.43-.59-.52 0-1.04.2-1.43.59L10.3 9.45l-7.72 7.72c-.78.78-.78 2.05 0 2.83L4 21.41c.39.39.9.59 1.41.59.51 0 1.02-.2 1.41-.59l7.78-7.78 2.81-2.81c.8-.78.8-2.07 0-2.86zM5.41 20L4 18.59l7.72-7.72 1.47 1.35L5.41 20z\"/>\n",
              "  </svg>\n",
              "      </button>\n",
              "      \n",
              "  <style>\n",
              "    .colab-df-container {\n",
              "      display:flex;\n",
              "      flex-wrap:wrap;\n",
              "      gap: 12px;\n",
              "    }\n",
              "\n",
              "    .colab-df-convert {\n",
              "      background-color: #E8F0FE;\n",
              "      border: none;\n",
              "      border-radius: 50%;\n",
              "      cursor: pointer;\n",
              "      display: none;\n",
              "      fill: #1967D2;\n",
              "      height: 32px;\n",
              "      padding: 0 0 0 0;\n",
              "      width: 32px;\n",
              "    }\n",
              "\n",
              "    .colab-df-convert:hover {\n",
              "      background-color: #E2EBFA;\n",
              "      box-shadow: 0px 1px 2px rgba(60, 64, 67, 0.3), 0px 1px 3px 1px rgba(60, 64, 67, 0.15);\n",
              "      fill: #174EA6;\n",
              "    }\n",
              "\n",
              "    [theme=dark] .colab-df-convert {\n",
              "      background-color: #3B4455;\n",
              "      fill: #D2E3FC;\n",
              "    }\n",
              "\n",
              "    [theme=dark] .colab-df-convert:hover {\n",
              "      background-color: #434B5C;\n",
              "      box-shadow: 0px 1px 3px 1px rgba(0, 0, 0, 0.15);\n",
              "      filter: drop-shadow(0px 1px 2px rgba(0, 0, 0, 0.3));\n",
              "      fill: #FFFFFF;\n",
              "    }\n",
              "  </style>\n",
              "\n",
              "      <script>\n",
              "        const buttonEl =\n",
              "          document.querySelector('#df-b0970be4-7bf1-4b2f-86d6-1d7fbeecfdd1 button.colab-df-convert');\n",
              "        buttonEl.style.display =\n",
              "          google.colab.kernel.accessAllowed ? 'block' : 'none';\n",
              "\n",
              "        async function convertToInteractive(key) {\n",
              "          const element = document.querySelector('#df-b0970be4-7bf1-4b2f-86d6-1d7fbeecfdd1');\n",
              "          const dataTable =\n",
              "            await google.colab.kernel.invokeFunction('convertToInteractive',\n",
              "                                                     [key], {});\n",
              "          if (!dataTable) return;\n",
              "\n",
              "          const docLinkHtml = 'Like what you see? Visit the ' +\n",
              "            '<a target=\"_blank\" href=https://colab.research.google.com/notebooks/data_table.ipynb>data table notebook</a>'\n",
              "            + ' to learn more about interactive tables.';\n",
              "          element.innerHTML = '';\n",
              "          dataTable['output_type'] = 'display_data';\n",
              "          await google.colab.output.renderOutput(dataTable, element);\n",
              "          const docLink = document.createElement('div');\n",
              "          docLink.innerHTML = docLinkHtml;\n",
              "          element.appendChild(docLink);\n",
              "        }\n",
              "      </script>\n",
              "    </div>\n",
              "  </div>\n",
              "  "
            ]
          },
          "metadata": {},
          "execution_count": 9
        }
      ]
    },
    {
      "cell_type": "markdown",
      "source": [
        "- Data appears to have loaded correctly."
      ],
      "metadata": {
        "id": "PR7F91WVziI0"
      }
    },
    {
      "cell_type": "markdown",
      "source": [
        "## **Clean the Data**"
      ],
      "metadata": {
        "id": "YHb4d4c9nPyz"
      }
    },
    {
      "cell_type": "code",
      "source": [
        "# Display the descriptive statistics for the numeric columns.\n",
        "df.describe()"
      ],
      "metadata": {
        "colab": {
          "base_uri": "https://localhost:8080/",
          "height": 300
        },
        "id": "U13vsVNZbFok",
        "outputId": "b446bea0-ce2d-4b81-d553-a2fde0a5c1b9"
      },
      "execution_count": 10,
      "outputs": [
        {
          "output_type": "execute_result",
          "data": {
            "text/plain": [
              "               seqn          Age       Income    WaistCirc          BMI  \\\n",
              "count   2401.000000  2401.000000  2284.000000  2316.000000  2375.000000   \n",
              "mean   67030.674302    48.691795  4005.253940    98.307254    28.702189   \n",
              "std     2823.565114    17.632852  2954.032186    16.252634     6.662242   \n",
              "min    62161.000000    20.000000   300.000000    56.200000    13.400000   \n",
              "25%    64591.000000    34.000000  1600.000000    86.675000    24.000000   \n",
              "50%    67059.000000    48.000000  2500.000000    97.000000    27.700000   \n",
              "75%    69495.000000    63.000000  6200.000000   107.625000    32.100000   \n",
              "max    71915.000000    80.000000  9000.000000   176.000000    68.700000   \n",
              "\n",
              "       Albuminuria      UrAlbCr     UricAcid  BloodGlucose          HDL  \\\n",
              "count  2401.000000  2401.000000  2401.000000   2401.000000  2401.000000   \n",
              "mean      0.154102    43.626131     5.489046    108.247813    53.369429   \n",
              "std       0.422780   258.272829     1.439358     34.820657    15.185537   \n",
              "min       0.000000     1.400000     1.800000     39.000000    14.000000   \n",
              "25%       0.000000     4.450000     4.500000     92.000000    43.000000   \n",
              "50%       0.000000     7.070000     5.400000     99.000000    51.000000   \n",
              "75%       0.000000    13.690000     6.400000    110.000000    62.000000   \n",
              "max       2.000000  5928.000000    11.300000    382.000000   156.000000   \n",
              "\n",
              "       Triglycerides  \n",
              "count    2401.000000  \n",
              "mean      128.125364  \n",
              "std        95.322477  \n",
              "min        26.000000  \n",
              "25%        75.000000  \n",
              "50%       103.000000  \n",
              "75%       150.000000  \n",
              "max      1562.000000  "
            ],
            "text/html": [
              "\n",
              "  <div id=\"df-536216e2-0a18-4817-a3c0-6e30aa9479aa\">\n",
              "    <div class=\"colab-df-container\">\n",
              "      <div>\n",
              "<style scoped>\n",
              "    .dataframe tbody tr th:only-of-type {\n",
              "        vertical-align: middle;\n",
              "    }\n",
              "\n",
              "    .dataframe tbody tr th {\n",
              "        vertical-align: top;\n",
              "    }\n",
              "\n",
              "    .dataframe thead th {\n",
              "        text-align: right;\n",
              "    }\n",
              "</style>\n",
              "<table border=\"1\" class=\"dataframe\">\n",
              "  <thead>\n",
              "    <tr style=\"text-align: right;\">\n",
              "      <th></th>\n",
              "      <th>seqn</th>\n",
              "      <th>Age</th>\n",
              "      <th>Income</th>\n",
              "      <th>WaistCirc</th>\n",
              "      <th>BMI</th>\n",
              "      <th>Albuminuria</th>\n",
              "      <th>UrAlbCr</th>\n",
              "      <th>UricAcid</th>\n",
              "      <th>BloodGlucose</th>\n",
              "      <th>HDL</th>\n",
              "      <th>Triglycerides</th>\n",
              "    </tr>\n",
              "  </thead>\n",
              "  <tbody>\n",
              "    <tr>\n",
              "      <th>count</th>\n",
              "      <td>2401.000000</td>\n",
              "      <td>2401.000000</td>\n",
              "      <td>2284.000000</td>\n",
              "      <td>2316.000000</td>\n",
              "      <td>2375.000000</td>\n",
              "      <td>2401.000000</td>\n",
              "      <td>2401.000000</td>\n",
              "      <td>2401.000000</td>\n",
              "      <td>2401.000000</td>\n",
              "      <td>2401.000000</td>\n",
              "      <td>2401.000000</td>\n",
              "    </tr>\n",
              "    <tr>\n",
              "      <th>mean</th>\n",
              "      <td>67030.674302</td>\n",
              "      <td>48.691795</td>\n",
              "      <td>4005.253940</td>\n",
              "      <td>98.307254</td>\n",
              "      <td>28.702189</td>\n",
              "      <td>0.154102</td>\n",
              "      <td>43.626131</td>\n",
              "      <td>5.489046</td>\n",
              "      <td>108.247813</td>\n",
              "      <td>53.369429</td>\n",
              "      <td>128.125364</td>\n",
              "    </tr>\n",
              "    <tr>\n",
              "      <th>std</th>\n",
              "      <td>2823.565114</td>\n",
              "      <td>17.632852</td>\n",
              "      <td>2954.032186</td>\n",
              "      <td>16.252634</td>\n",
              "      <td>6.662242</td>\n",
              "      <td>0.422780</td>\n",
              "      <td>258.272829</td>\n",
              "      <td>1.439358</td>\n",
              "      <td>34.820657</td>\n",
              "      <td>15.185537</td>\n",
              "      <td>95.322477</td>\n",
              "    </tr>\n",
              "    <tr>\n",
              "      <th>min</th>\n",
              "      <td>62161.000000</td>\n",
              "      <td>20.000000</td>\n",
              "      <td>300.000000</td>\n",
              "      <td>56.200000</td>\n",
              "      <td>13.400000</td>\n",
              "      <td>0.000000</td>\n",
              "      <td>1.400000</td>\n",
              "      <td>1.800000</td>\n",
              "      <td>39.000000</td>\n",
              "      <td>14.000000</td>\n",
              "      <td>26.000000</td>\n",
              "    </tr>\n",
              "    <tr>\n",
              "      <th>25%</th>\n",
              "      <td>64591.000000</td>\n",
              "      <td>34.000000</td>\n",
              "      <td>1600.000000</td>\n",
              "      <td>86.675000</td>\n",
              "      <td>24.000000</td>\n",
              "      <td>0.000000</td>\n",
              "      <td>4.450000</td>\n",
              "      <td>4.500000</td>\n",
              "      <td>92.000000</td>\n",
              "      <td>43.000000</td>\n",
              "      <td>75.000000</td>\n",
              "    </tr>\n",
              "    <tr>\n",
              "      <th>50%</th>\n",
              "      <td>67059.000000</td>\n",
              "      <td>48.000000</td>\n",
              "      <td>2500.000000</td>\n",
              "      <td>97.000000</td>\n",
              "      <td>27.700000</td>\n",
              "      <td>0.000000</td>\n",
              "      <td>7.070000</td>\n",
              "      <td>5.400000</td>\n",
              "      <td>99.000000</td>\n",
              "      <td>51.000000</td>\n",
              "      <td>103.000000</td>\n",
              "    </tr>\n",
              "    <tr>\n",
              "      <th>75%</th>\n",
              "      <td>69495.000000</td>\n",
              "      <td>63.000000</td>\n",
              "      <td>6200.000000</td>\n",
              "      <td>107.625000</td>\n",
              "      <td>32.100000</td>\n",
              "      <td>0.000000</td>\n",
              "      <td>13.690000</td>\n",
              "      <td>6.400000</td>\n",
              "      <td>110.000000</td>\n",
              "      <td>62.000000</td>\n",
              "      <td>150.000000</td>\n",
              "    </tr>\n",
              "    <tr>\n",
              "      <th>max</th>\n",
              "      <td>71915.000000</td>\n",
              "      <td>80.000000</td>\n",
              "      <td>9000.000000</td>\n",
              "      <td>176.000000</td>\n",
              "      <td>68.700000</td>\n",
              "      <td>2.000000</td>\n",
              "      <td>5928.000000</td>\n",
              "      <td>11.300000</td>\n",
              "      <td>382.000000</td>\n",
              "      <td>156.000000</td>\n",
              "      <td>1562.000000</td>\n",
              "    </tr>\n",
              "  </tbody>\n",
              "</table>\n",
              "</div>\n",
              "      <button class=\"colab-df-convert\" onclick=\"convertToInteractive('df-536216e2-0a18-4817-a3c0-6e30aa9479aa')\"\n",
              "              title=\"Convert this dataframe to an interactive table.\"\n",
              "              style=\"display:none;\">\n",
              "        \n",
              "  <svg xmlns=\"http://www.w3.org/2000/svg\" height=\"24px\"viewBox=\"0 0 24 24\"\n",
              "       width=\"24px\">\n",
              "    <path d=\"M0 0h24v24H0V0z\" fill=\"none\"/>\n",
              "    <path d=\"M18.56 5.44l.94 2.06.94-2.06 2.06-.94-2.06-.94-.94-2.06-.94 2.06-2.06.94zm-11 1L8.5 8.5l.94-2.06 2.06-.94-2.06-.94L8.5 2.5l-.94 2.06-2.06.94zm10 10l.94 2.06.94-2.06 2.06-.94-2.06-.94-.94-2.06-.94 2.06-2.06.94z\"/><path d=\"M17.41 7.96l-1.37-1.37c-.4-.4-.92-.59-1.43-.59-.52 0-1.04.2-1.43.59L10.3 9.45l-7.72 7.72c-.78.78-.78 2.05 0 2.83L4 21.41c.39.39.9.59 1.41.59.51 0 1.02-.2 1.41-.59l7.78-7.78 2.81-2.81c.8-.78.8-2.07 0-2.86zM5.41 20L4 18.59l7.72-7.72 1.47 1.35L5.41 20z\"/>\n",
              "  </svg>\n",
              "      </button>\n",
              "      \n",
              "  <style>\n",
              "    .colab-df-container {\n",
              "      display:flex;\n",
              "      flex-wrap:wrap;\n",
              "      gap: 12px;\n",
              "    }\n",
              "\n",
              "    .colab-df-convert {\n",
              "      background-color: #E8F0FE;\n",
              "      border: none;\n",
              "      border-radius: 50%;\n",
              "      cursor: pointer;\n",
              "      display: none;\n",
              "      fill: #1967D2;\n",
              "      height: 32px;\n",
              "      padding: 0 0 0 0;\n",
              "      width: 32px;\n",
              "    }\n",
              "\n",
              "    .colab-df-convert:hover {\n",
              "      background-color: #E2EBFA;\n",
              "      box-shadow: 0px 1px 2px rgba(60, 64, 67, 0.3), 0px 1px 3px 1px rgba(60, 64, 67, 0.15);\n",
              "      fill: #174EA6;\n",
              "    }\n",
              "\n",
              "    [theme=dark] .colab-df-convert {\n",
              "      background-color: #3B4455;\n",
              "      fill: #D2E3FC;\n",
              "    }\n",
              "\n",
              "    [theme=dark] .colab-df-convert:hover {\n",
              "      background-color: #434B5C;\n",
              "      box-shadow: 0px 1px 3px 1px rgba(0, 0, 0, 0.15);\n",
              "      filter: drop-shadow(0px 1px 2px rgba(0, 0, 0, 0.3));\n",
              "      fill: #FFFFFF;\n",
              "    }\n",
              "  </style>\n",
              "\n",
              "      <script>\n",
              "        const buttonEl =\n",
              "          document.querySelector('#df-536216e2-0a18-4817-a3c0-6e30aa9479aa button.colab-df-convert');\n",
              "        buttonEl.style.display =\n",
              "          google.colab.kernel.accessAllowed ? 'block' : 'none';\n",
              "\n",
              "        async function convertToInteractive(key) {\n",
              "          const element = document.querySelector('#df-536216e2-0a18-4817-a3c0-6e30aa9479aa');\n",
              "          const dataTable =\n",
              "            await google.colab.kernel.invokeFunction('convertToInteractive',\n",
              "                                                     [key], {});\n",
              "          if (!dataTable) return;\n",
              "\n",
              "          const docLinkHtml = 'Like what you see? Visit the ' +\n",
              "            '<a target=\"_blank\" href=https://colab.research.google.com/notebooks/data_table.ipynb>data table notebook</a>'\n",
              "            + ' to learn more about interactive tables.';\n",
              "          element.innerHTML = '';\n",
              "          dataTable['output_type'] = 'display_data';\n",
              "          await google.colab.output.renderOutput(dataTable, element);\n",
              "          const docLink = document.createElement('div');\n",
              "          docLink.innerHTML = docLinkHtml;\n",
              "          element.appendChild(docLink);\n",
              "        }\n",
              "      </script>\n",
              "    </div>\n",
              "  </div>\n",
              "  "
            ]
          },
          "metadata": {},
          "execution_count": 10
        }
      ]
    },
    {
      "cell_type": "code",
      "source": [
        "# Display the descriptive statistics for the non-numeric columns.\n",
        "df.describe(exclude=\"number\")"
      ],
      "metadata": {
        "colab": {
          "base_uri": "https://localhost:8080/",
          "height": 175
        },
        "id": "9O9E5DDGxC4j",
        "outputId": "fb719b5d-00e0-4016-d20e-2346c7cdd008"
      },
      "execution_count": 11,
      "outputs": [
        {
          "output_type": "execute_result",
          "data": {
            "text/plain": [
              "           Sex  Marital   Race MetabolicSyndrome\n",
              "count     2401     2193   2401              2401\n",
              "unique       2        5      6                 2\n",
              "top     Female  Married  White         No MetSyn\n",
              "freq      1211     1192    933              1579"
            ],
            "text/html": [
              "\n",
              "  <div id=\"df-2e32d13e-a531-4b0c-ac31-528ff0fe7711\">\n",
              "    <div class=\"colab-df-container\">\n",
              "      <div>\n",
              "<style scoped>\n",
              "    .dataframe tbody tr th:only-of-type {\n",
              "        vertical-align: middle;\n",
              "    }\n",
              "\n",
              "    .dataframe tbody tr th {\n",
              "        vertical-align: top;\n",
              "    }\n",
              "\n",
              "    .dataframe thead th {\n",
              "        text-align: right;\n",
              "    }\n",
              "</style>\n",
              "<table border=\"1\" class=\"dataframe\">\n",
              "  <thead>\n",
              "    <tr style=\"text-align: right;\">\n",
              "      <th></th>\n",
              "      <th>Sex</th>\n",
              "      <th>Marital</th>\n",
              "      <th>Race</th>\n",
              "      <th>MetabolicSyndrome</th>\n",
              "    </tr>\n",
              "  </thead>\n",
              "  <tbody>\n",
              "    <tr>\n",
              "      <th>count</th>\n",
              "      <td>2401</td>\n",
              "      <td>2193</td>\n",
              "      <td>2401</td>\n",
              "      <td>2401</td>\n",
              "    </tr>\n",
              "    <tr>\n",
              "      <th>unique</th>\n",
              "      <td>2</td>\n",
              "      <td>5</td>\n",
              "      <td>6</td>\n",
              "      <td>2</td>\n",
              "    </tr>\n",
              "    <tr>\n",
              "      <th>top</th>\n",
              "      <td>Female</td>\n",
              "      <td>Married</td>\n",
              "      <td>White</td>\n",
              "      <td>No MetSyn</td>\n",
              "    </tr>\n",
              "    <tr>\n",
              "      <th>freq</th>\n",
              "      <td>1211</td>\n",
              "      <td>1192</td>\n",
              "      <td>933</td>\n",
              "      <td>1579</td>\n",
              "    </tr>\n",
              "  </tbody>\n",
              "</table>\n",
              "</div>\n",
              "      <button class=\"colab-df-convert\" onclick=\"convertToInteractive('df-2e32d13e-a531-4b0c-ac31-528ff0fe7711')\"\n",
              "              title=\"Convert this dataframe to an interactive table.\"\n",
              "              style=\"display:none;\">\n",
              "        \n",
              "  <svg xmlns=\"http://www.w3.org/2000/svg\" height=\"24px\"viewBox=\"0 0 24 24\"\n",
              "       width=\"24px\">\n",
              "    <path d=\"M0 0h24v24H0V0z\" fill=\"none\"/>\n",
              "    <path d=\"M18.56 5.44l.94 2.06.94-2.06 2.06-.94-2.06-.94-.94-2.06-.94 2.06-2.06.94zm-11 1L8.5 8.5l.94-2.06 2.06-.94-2.06-.94L8.5 2.5l-.94 2.06-2.06.94zm10 10l.94 2.06.94-2.06 2.06-.94-2.06-.94-.94-2.06-.94 2.06-2.06.94z\"/><path d=\"M17.41 7.96l-1.37-1.37c-.4-.4-.92-.59-1.43-.59-.52 0-1.04.2-1.43.59L10.3 9.45l-7.72 7.72c-.78.78-.78 2.05 0 2.83L4 21.41c.39.39.9.59 1.41.59.51 0 1.02-.2 1.41-.59l7.78-7.78 2.81-2.81c.8-.78.8-2.07 0-2.86zM5.41 20L4 18.59l7.72-7.72 1.47 1.35L5.41 20z\"/>\n",
              "  </svg>\n",
              "      </button>\n",
              "      \n",
              "  <style>\n",
              "    .colab-df-container {\n",
              "      display:flex;\n",
              "      flex-wrap:wrap;\n",
              "      gap: 12px;\n",
              "    }\n",
              "\n",
              "    .colab-df-convert {\n",
              "      background-color: #E8F0FE;\n",
              "      border: none;\n",
              "      border-radius: 50%;\n",
              "      cursor: pointer;\n",
              "      display: none;\n",
              "      fill: #1967D2;\n",
              "      height: 32px;\n",
              "      padding: 0 0 0 0;\n",
              "      width: 32px;\n",
              "    }\n",
              "\n",
              "    .colab-df-convert:hover {\n",
              "      background-color: #E2EBFA;\n",
              "      box-shadow: 0px 1px 2px rgba(60, 64, 67, 0.3), 0px 1px 3px 1px rgba(60, 64, 67, 0.15);\n",
              "      fill: #174EA6;\n",
              "    }\n",
              "\n",
              "    [theme=dark] .colab-df-convert {\n",
              "      background-color: #3B4455;\n",
              "      fill: #D2E3FC;\n",
              "    }\n",
              "\n",
              "    [theme=dark] .colab-df-convert:hover {\n",
              "      background-color: #434B5C;\n",
              "      box-shadow: 0px 1px 3px 1px rgba(0, 0, 0, 0.15);\n",
              "      filter: drop-shadow(0px 1px 2px rgba(0, 0, 0, 0.3));\n",
              "      fill: #FFFFFF;\n",
              "    }\n",
              "  </style>\n",
              "\n",
              "      <script>\n",
              "        const buttonEl =\n",
              "          document.querySelector('#df-2e32d13e-a531-4b0c-ac31-528ff0fe7711 button.colab-df-convert');\n",
              "        buttonEl.style.display =\n",
              "          google.colab.kernel.accessAllowed ? 'block' : 'none';\n",
              "\n",
              "        async function convertToInteractive(key) {\n",
              "          const element = document.querySelector('#df-2e32d13e-a531-4b0c-ac31-528ff0fe7711');\n",
              "          const dataTable =\n",
              "            await google.colab.kernel.invokeFunction('convertToInteractive',\n",
              "                                                     [key], {});\n",
              "          if (!dataTable) return;\n",
              "\n",
              "          const docLinkHtml = 'Like what you see? Visit the ' +\n",
              "            '<a target=\"_blank\" href=https://colab.research.google.com/notebooks/data_table.ipynb>data table notebook</a>'\n",
              "            + ' to learn more about interactive tables.';\n",
              "          element.innerHTML = '';\n",
              "          dataTable['output_type'] = 'display_data';\n",
              "          await google.colab.output.renderOutput(dataTable, element);\n",
              "          const docLink = document.createElement('div');\n",
              "          docLink.innerHTML = docLinkHtml;\n",
              "          element.appendChild(docLink);\n",
              "        }\n",
              "      </script>\n",
              "    </div>\n",
              "  </div>\n",
              "  "
            ]
          },
          "metadata": {},
          "execution_count": 11
        }
      ]
    },
    {
      "cell_type": "markdown",
      "source": [
        "### **Remove Unnecessary Columns**"
      ],
      "metadata": {
        "id": "JB_TojXL5hhm"
      }
    },
    {
      "cell_type": "markdown",
      "source": [
        "#### **seqn column**"
      ],
      "metadata": {
        "id": "bqS6fmNO57zD"
      }
    },
    {
      "cell_type": "code",
      "source": [
        "# Display the count of unique values and the cardinlity for this column.\n",
        "unique_values = df.shape[0]\n",
        "cardinality = (df['seqn'].value_counts().sum())/(df.shape[0])*100\n",
        "print(f'This column has {unique_values} unique values which is {cardinality}% cardinality.')"
      ],
      "metadata": {
        "colab": {
          "base_uri": "https://localhost:8080/"
        },
        "id": "PNu43dS36Oxj",
        "outputId": "8bcbd974-cb51-479c-b20d-7726a7ffe683"
      },
      "execution_count": 12,
      "outputs": [
        {
          "output_type": "stream",
          "name": "stdout",
          "text": [
            "This column has 2401 unique values which is 100.0% cardinality.\n"
          ]
        }
      ]
    },
    {
      "cell_type": "markdown",
      "source": [
        "- This column will not contribute to predictability and so may be removed."
      ],
      "metadata": {
        "id": "Z2aELoQv9A-S"
      }
    },
    {
      "cell_type": "code",
      "source": [
        "# Drop the column.\n",
        "df.drop(columns = ['seqn'], inplace=True)"
      ],
      "metadata": {
        "id": "AnIeIgBq9lSe"
      },
      "execution_count": 13,
      "outputs": []
    },
    {
      "cell_type": "markdown",
      "source": [
        "- Confirm column has been dropped."
      ],
      "metadata": {
        "id": "VieowvYSeLMl"
      }
    },
    {
      "cell_type": "code",
      "source": [
        "# Display the first (5) rows of the dataframe.\n",
        "df.head()"
      ],
      "metadata": {
        "colab": {
          "base_uri": "https://localhost:8080/",
          "height": 206
        },
        "id": "G5fcWw0Odytt",
        "outputId": "034d344b-b7e1-4c79-81ac-1dff5d007a17"
      },
      "execution_count": 14,
      "outputs": [
        {
          "output_type": "execute_result",
          "data": {
            "text/plain": [
              "   Age     Sex  Marital  Income   Race  WaistCirc   BMI  Albuminuria  UrAlbCr  \\\n",
              "0   22    Male   Single  8200.0  White       81.0  23.3            0     3.88   \n",
              "1   44  Female  Married  4500.0  White       80.1  23.2            0     8.55   \n",
              "2   21    Male   Single   800.0  Asian       69.6  20.1            0     5.07   \n",
              "3   43  Female   Single  2000.0  Black      120.4  33.3            0     5.22   \n",
              "4   51    Male  Married     NaN  Asian       81.1  20.1            0     8.13   \n",
              "\n",
              "   UricAcid  BloodGlucose  HDL  Triglycerides MetabolicSyndrome  \n",
              "0       4.9            92   41             84         No MetSyn  \n",
              "1       4.5            82   28             56         No MetSyn  \n",
              "2       5.4           107   43             78         No MetSyn  \n",
              "3       5.0           104   73            141         No MetSyn  \n",
              "4       5.0            95   43            126         No MetSyn  "
            ],
            "text/html": [
              "\n",
              "  <div id=\"df-8214f8bd-9fb7-409a-a693-4c631785242b\">\n",
              "    <div class=\"colab-df-container\">\n",
              "      <div>\n",
              "<style scoped>\n",
              "    .dataframe tbody tr th:only-of-type {\n",
              "        vertical-align: middle;\n",
              "    }\n",
              "\n",
              "    .dataframe tbody tr th {\n",
              "        vertical-align: top;\n",
              "    }\n",
              "\n",
              "    .dataframe thead th {\n",
              "        text-align: right;\n",
              "    }\n",
              "</style>\n",
              "<table border=\"1\" class=\"dataframe\">\n",
              "  <thead>\n",
              "    <tr style=\"text-align: right;\">\n",
              "      <th></th>\n",
              "      <th>Age</th>\n",
              "      <th>Sex</th>\n",
              "      <th>Marital</th>\n",
              "      <th>Income</th>\n",
              "      <th>Race</th>\n",
              "      <th>WaistCirc</th>\n",
              "      <th>BMI</th>\n",
              "      <th>Albuminuria</th>\n",
              "      <th>UrAlbCr</th>\n",
              "      <th>UricAcid</th>\n",
              "      <th>BloodGlucose</th>\n",
              "      <th>HDL</th>\n",
              "      <th>Triglycerides</th>\n",
              "      <th>MetabolicSyndrome</th>\n",
              "    </tr>\n",
              "  </thead>\n",
              "  <tbody>\n",
              "    <tr>\n",
              "      <th>0</th>\n",
              "      <td>22</td>\n",
              "      <td>Male</td>\n",
              "      <td>Single</td>\n",
              "      <td>8200.0</td>\n",
              "      <td>White</td>\n",
              "      <td>81.0</td>\n",
              "      <td>23.3</td>\n",
              "      <td>0</td>\n",
              "      <td>3.88</td>\n",
              "      <td>4.9</td>\n",
              "      <td>92</td>\n",
              "      <td>41</td>\n",
              "      <td>84</td>\n",
              "      <td>No MetSyn</td>\n",
              "    </tr>\n",
              "    <tr>\n",
              "      <th>1</th>\n",
              "      <td>44</td>\n",
              "      <td>Female</td>\n",
              "      <td>Married</td>\n",
              "      <td>4500.0</td>\n",
              "      <td>White</td>\n",
              "      <td>80.1</td>\n",
              "      <td>23.2</td>\n",
              "      <td>0</td>\n",
              "      <td>8.55</td>\n",
              "      <td>4.5</td>\n",
              "      <td>82</td>\n",
              "      <td>28</td>\n",
              "      <td>56</td>\n",
              "      <td>No MetSyn</td>\n",
              "    </tr>\n",
              "    <tr>\n",
              "      <th>2</th>\n",
              "      <td>21</td>\n",
              "      <td>Male</td>\n",
              "      <td>Single</td>\n",
              "      <td>800.0</td>\n",
              "      <td>Asian</td>\n",
              "      <td>69.6</td>\n",
              "      <td>20.1</td>\n",
              "      <td>0</td>\n",
              "      <td>5.07</td>\n",
              "      <td>5.4</td>\n",
              "      <td>107</td>\n",
              "      <td>43</td>\n",
              "      <td>78</td>\n",
              "      <td>No MetSyn</td>\n",
              "    </tr>\n",
              "    <tr>\n",
              "      <th>3</th>\n",
              "      <td>43</td>\n",
              "      <td>Female</td>\n",
              "      <td>Single</td>\n",
              "      <td>2000.0</td>\n",
              "      <td>Black</td>\n",
              "      <td>120.4</td>\n",
              "      <td>33.3</td>\n",
              "      <td>0</td>\n",
              "      <td>5.22</td>\n",
              "      <td>5.0</td>\n",
              "      <td>104</td>\n",
              "      <td>73</td>\n",
              "      <td>141</td>\n",
              "      <td>No MetSyn</td>\n",
              "    </tr>\n",
              "    <tr>\n",
              "      <th>4</th>\n",
              "      <td>51</td>\n",
              "      <td>Male</td>\n",
              "      <td>Married</td>\n",
              "      <td>NaN</td>\n",
              "      <td>Asian</td>\n",
              "      <td>81.1</td>\n",
              "      <td>20.1</td>\n",
              "      <td>0</td>\n",
              "      <td>8.13</td>\n",
              "      <td>5.0</td>\n",
              "      <td>95</td>\n",
              "      <td>43</td>\n",
              "      <td>126</td>\n",
              "      <td>No MetSyn</td>\n",
              "    </tr>\n",
              "  </tbody>\n",
              "</table>\n",
              "</div>\n",
              "      <button class=\"colab-df-convert\" onclick=\"convertToInteractive('df-8214f8bd-9fb7-409a-a693-4c631785242b')\"\n",
              "              title=\"Convert this dataframe to an interactive table.\"\n",
              "              style=\"display:none;\">\n",
              "        \n",
              "  <svg xmlns=\"http://www.w3.org/2000/svg\" height=\"24px\"viewBox=\"0 0 24 24\"\n",
              "       width=\"24px\">\n",
              "    <path d=\"M0 0h24v24H0V0z\" fill=\"none\"/>\n",
              "    <path d=\"M18.56 5.44l.94 2.06.94-2.06 2.06-.94-2.06-.94-.94-2.06-.94 2.06-2.06.94zm-11 1L8.5 8.5l.94-2.06 2.06-.94-2.06-.94L8.5 2.5l-.94 2.06-2.06.94zm10 10l.94 2.06.94-2.06 2.06-.94-2.06-.94-.94-2.06-.94 2.06-2.06.94z\"/><path d=\"M17.41 7.96l-1.37-1.37c-.4-.4-.92-.59-1.43-.59-.52 0-1.04.2-1.43.59L10.3 9.45l-7.72 7.72c-.78.78-.78 2.05 0 2.83L4 21.41c.39.39.9.59 1.41.59.51 0 1.02-.2 1.41-.59l7.78-7.78 2.81-2.81c.8-.78.8-2.07 0-2.86zM5.41 20L4 18.59l7.72-7.72 1.47 1.35L5.41 20z\"/>\n",
              "  </svg>\n",
              "      </button>\n",
              "      \n",
              "  <style>\n",
              "    .colab-df-container {\n",
              "      display:flex;\n",
              "      flex-wrap:wrap;\n",
              "      gap: 12px;\n",
              "    }\n",
              "\n",
              "    .colab-df-convert {\n",
              "      background-color: #E8F0FE;\n",
              "      border: none;\n",
              "      border-radius: 50%;\n",
              "      cursor: pointer;\n",
              "      display: none;\n",
              "      fill: #1967D2;\n",
              "      height: 32px;\n",
              "      padding: 0 0 0 0;\n",
              "      width: 32px;\n",
              "    }\n",
              "\n",
              "    .colab-df-convert:hover {\n",
              "      background-color: #E2EBFA;\n",
              "      box-shadow: 0px 1px 2px rgba(60, 64, 67, 0.3), 0px 1px 3px 1px rgba(60, 64, 67, 0.15);\n",
              "      fill: #174EA6;\n",
              "    }\n",
              "\n",
              "    [theme=dark] .colab-df-convert {\n",
              "      background-color: #3B4455;\n",
              "      fill: #D2E3FC;\n",
              "    }\n",
              "\n",
              "    [theme=dark] .colab-df-convert:hover {\n",
              "      background-color: #434B5C;\n",
              "      box-shadow: 0px 1px 3px 1px rgba(0, 0, 0, 0.15);\n",
              "      filter: drop-shadow(0px 1px 2px rgba(0, 0, 0, 0.3));\n",
              "      fill: #FFFFFF;\n",
              "    }\n",
              "  </style>\n",
              "\n",
              "      <script>\n",
              "        const buttonEl =\n",
              "          document.querySelector('#df-8214f8bd-9fb7-409a-a693-4c631785242b button.colab-df-convert');\n",
              "        buttonEl.style.display =\n",
              "          google.colab.kernel.accessAllowed ? 'block' : 'none';\n",
              "\n",
              "        async function convertToInteractive(key) {\n",
              "          const element = document.querySelector('#df-8214f8bd-9fb7-409a-a693-4c631785242b');\n",
              "          const dataTable =\n",
              "            await google.colab.kernel.invokeFunction('convertToInteractive',\n",
              "                                                     [key], {});\n",
              "          if (!dataTable) return;\n",
              "\n",
              "          const docLinkHtml = 'Like what you see? Visit the ' +\n",
              "            '<a target=\"_blank\" href=https://colab.research.google.com/notebooks/data_table.ipynb>data table notebook</a>'\n",
              "            + ' to learn more about interactive tables.';\n",
              "          element.innerHTML = '';\n",
              "          dataTable['output_type'] = 'display_data';\n",
              "          await google.colab.output.renderOutput(dataTable, element);\n",
              "          const docLink = document.createElement('div');\n",
              "          docLink.innerHTML = docLinkHtml;\n",
              "          element.appendChild(docLink);\n",
              "        }\n",
              "      </script>\n",
              "    </div>\n",
              "  </div>\n",
              "  "
            ]
          },
          "metadata": {},
          "execution_count": 14
        }
      ]
    },
    {
      "cell_type": "markdown",
      "source": [
        "### **Remove Unecessary Rows**"
      ],
      "metadata": {
        "id": "vv_rktD5nYuP"
      }
    },
    {
      "cell_type": "code",
      "source": [
        "# Count the number of duplicate rows.\n",
        "print(f'There are {df.duplicated().sum()} duplicate rows.')"
      ],
      "metadata": {
        "id": "1LE-ina0VEsw",
        "colab": {
          "base_uri": "https://localhost:8080/"
        },
        "outputId": "fe77e533-b1de-4da8-a6f7-44194fe81d6e"
      },
      "execution_count": 15,
      "outputs": [
        {
          "output_type": "stream",
          "name": "stdout",
          "text": [
            "There are 0 duplicate rows.\n"
          ]
        }
      ]
    },
    {
      "cell_type": "markdown",
      "source": [
        "- No duplicates were found or dropped."
      ],
      "metadata": {
        "id": "3Obw09ip0C_q"
      }
    },
    {
      "cell_type": "markdown",
      "source": [
        "### **Missing Values**"
      ],
      "metadata": {
        "id": "d-728pLSPPRf"
      }
    },
    {
      "cell_type": "code",
      "source": [
        "# Display missing values by column.\n",
        "msno.matrix(df, figsize=(16,3), labels=True, fontsize=12, sort=\"descending\", color=(0,0,0));"
      ],
      "metadata": {
        "id": "PDDJB1iTGSi5",
        "colab": {
          "base_uri": "https://localhost:8080/",
          "height": 302
        },
        "outputId": "0e6c756e-c87c-46f5-db58-9103d6e74841"
      },
      "execution_count": 16,
      "outputs": [
        {
          "output_type": "display_data",
          "data": {
            "text/plain": [
              "<Figure size 1152x216 with 2 Axes>"
            ],
            "image/png": "[encoded data removed]"
          },
          "metadata": {
            "needs_background": "light"
          }
        }
      ]
    },
    {
      "cell_type": "code",
      "source": [
        "# Display the count of missing values by column.\n",
        "print(df.isna().sum())"
      ],
      "metadata": {
        "id": "KaEA3qPZVdMw",
        "colab": {
          "base_uri": "https://localhost:8080/"
        },
        "outputId": "95751528-b771-4b37-a0f1-2be5f294db4f"
      },
      "execution_count": 17,
      "outputs": [
        {
          "output_type": "stream",
          "name": "stdout",
          "text": [
            "Age                    0\n",
            "Sex                    0\n",
            "Marital              208\n",
            "Income               117\n",
            "Race                   0\n",
            "WaistCirc             85\n",
            "BMI                   26\n",
            "Albuminuria            0\n",
            "UrAlbCr                0\n",
            "UricAcid               0\n",
            "BloodGlucose           0\n",
            "HDL                    0\n",
            "Triglycerides          0\n",
            "MetabolicSyndrome      0\n",
            "dtype: int64\n"
          ]
        }
      ]
    },
    {
      "cell_type": "markdown",
      "source": [
        "- 'Marital', 'Income', 'WaistCirc' and 'BMI' columns have missing values."
      ],
      "metadata": {
        "id": "9WqZt5ZVPcn7"
      }
    },
    {
      "cell_type": "markdown",
      "source": [
        "#### **Statistics Function**"
      ],
      "metadata": {
        "id": "WaD_LRBJ51sT"
      }
    },
    {
      "cell_type": "code",
      "source": [
        "# Creates a function to display supplemental statistics\n",
        "def column_statistics(column_name, max_unique_values_to_disply=20):\n",
        "    # Display the count of missing values for this column.\n",
        "    print(f'Missing Values: {df[column_name].isna().sum()} ({round((df[column_name].isna().sum())/(df.shape[0])*100,1)})%')\n",
        "\n",
        "    # Determine Outliers - Only if this is a numeric column\n",
        "    if (df[column_name].dtype == 'int64') | (df[column_name].dtype == 'float64'):\n",
        "        # Create outlier filters\n",
        "        q1 = df[column_name].quantile(0.25) # 25th percentile\n",
        "        q3 = df[column_name].quantile(0.75) # 75th percentile\n",
        "        iqr = q3 - q1 # Interquartile range\n",
        "        low_limit = q1 - (1.5 * iqr) # low limit\n",
        "        high_limit = q3 + (1.5 * iqr) # high limit\n",
        "        # Create outlier dataframes\n",
        "        low_df = df[(df[column_name] < low_limit)]\n",
        "        high_df = df[(df[column_name] > high_limit)]\n",
        "        # Calculate the outlier counts and percentages\n",
        "        low_oulier_count = low_df.shape[0]\n",
        "        low_outlier_percentge = round(((low_oulier_count)/(df.shape[0])*100),1)\n",
        "        high_oulier_count = high_df.shape[0]\n",
        "        high_outlier_percentge = round(((high_oulier_count)/(df.shape[0])*100),1)\n",
        "        # Display the outlier counts.\n",
        "        print(f'Outliers: {low_oulier_count} ({low_outlier_percentge})% low, {high_oulier_count} ({high_outlier_percentge})% high')\n",
        "        \n",
        "    # Display the count of unique values for this column.\n",
        "    print(f'Unique values: {df[column_name].nunique()}')\n",
        "\n",
        "    # Display the unique values including Nan and their counts for this column,\n",
        "    # if the number of unique values is below the function parameter\n",
        "    if df[column_name].nunique() < max_unique_values_to_disply:\n",
        "        print(df[column_name].value_counts(dropna=False))"
      ],
      "metadata": {
        "id": "5vg7rxeHLiXa"
      },
      "execution_count": 18,
      "outputs": []
    },
    {
      "cell_type": "markdown",
      "source": [
        "#### **Categorical Columns**"
      ],
      "metadata": {
        "id": "leet1mZPKDR1"
      }
    },
    {
      "cell_type": "markdown",
      "source": [
        "##### **Marital column**\n"
      ],
      "metadata": {
        "id": "SmTEIXGjaLLq"
      }
    },
    {
      "cell_type": "code",
      "source": [
        "# Display column statistics.\n",
        "column_statistics('Marital', 10)"
      ],
      "metadata": {
        "colab": {
          "base_uri": "https://localhost:8080/"
        },
        "id": "HeIKSL8pBW_W",
        "outputId": "eb240fcb-ec44-4bbe-d433-315be9200ab2"
      },
      "execution_count": 19,
      "outputs": [
        {
          "output_type": "stream",
          "name": "stdout",
          "text": [
            "Missing Values: 208 (8.7)%\n",
            "Unique values: 5\n",
            "Married      1192\n",
            "Single        498\n",
            "Divorced      242\n",
            "NaN           208\n",
            "Widowed       166\n",
            "Separated      95\n",
            "Name: Marital, dtype: int64\n"
          ]
        }
      ]
    },
    {
      "cell_type": "markdown",
      "source": [
        "- **Missing Value Options and Considerations**\n",
        " - **Drop column**\n",
        "   - con: This would result in a significant loss of data.\n",
        "   - 8.7% missing values is not significant enough to justify this option.\n",
        " - **Drop rows with missing values**\n",
        "   - con: This would result in a significant loss of data.\n",
        "   - 8.7% missing rows is too significant to justify this option.\n",
        "  - **Replace with constant value 'Unknown'**\n",
        "   - pro: This will not introduce bias.\n",
        "   - con: This will not factor correlations between features.  \n",
        "   - con: This may not generate the highest prediction scores possible.\n",
        " - **Simple Imputation using strategy = 'most frequent' (mode)**\n",
        "   - pro: This typically works well on categorical options.\n",
        "   - con: This can introduce bias.\n",
        "   - con: This will not factor correlations between features.   \n",
        " - **Advanced Imputation using SKLearn**\n",
        "   - pro: This will factor correlations between features.\n",
        "   - pro: This may have the potential to generate the highest prediction scores possible.\n",
        "   - con: This can be memory or time intensive.\n",
        "   - con: Correlation between this and the other features is unlikely based upon the features available in the dataset.\n",
        "\n",
        "In Phase I of this project I will utilize the Replace with constant value 'Unknown' as our initial strategy. However in Phase II others strategies will be explored to see if prediction scores can be improved.\n"
      ],
      "metadata": {
        "id": "uyHLRJVcYUBJ"
      }
    },
    {
      "cell_type": "markdown",
      "source": [
        "- Replacing missing values with the constant 'Unknown' will not cause data leakage and may be performed prior to Preprocessing."
      ],
      "metadata": {
        "id": "_fUSW7ezRHgy"
      }
    },
    {
      "cell_type": "code",
      "source": [
        "# Fill NaN values with the constant value 'Unknown'.\n",
        "df.Marital.fillna('Unknown',inplace=True)"
      ],
      "metadata": {
        "id": "-kv6s5hZQPdU"
      },
      "execution_count": 20,
      "outputs": []
    },
    {
      "cell_type": "code",
      "source": [
        "# Display the unique values for this column.\n",
        "print(df['Marital'].unique())"
      ],
      "metadata": {
        "colab": {
          "base_uri": "https://localhost:8080/"
        },
        "id": "9rW2nGoHQbqP",
        "outputId": "7b69b07c-8830-418e-96a5-74a1fe51fa83"
      },
      "execution_count": 21,
      "outputs": [
        {
          "output_type": "stream",
          "name": "stdout",
          "text": [
            "['Single' 'Married' 'Widowed' 'Divorced' 'Unknown' 'Separated']\n"
          ]
        }
      ]
    },
    {
      "cell_type": "markdown",
      "source": [
        "- No missing values for this column is confirmed."
      ],
      "metadata": {
        "id": "q_nhsoewQXWN"
      }
    },
    {
      "cell_type": "markdown",
      "source": [
        "#### **Numeric Columns**"
      ],
      "metadata": {
        "id": "Kj8BJB0VKel0"
      }
    },
    {
      "cell_type": "markdown",
      "source": [
        "##### **Income column**"
      ],
      "metadata": {
        "id": "fDMFy6yQNv83"
      }
    },
    {
      "cell_type": "code",
      "source": [
        "# Display column statistics.\n",
        "column_statistics('Income', 1)"
      ],
      "metadata": {
        "colab": {
          "base_uri": "https://localhost:8080/"
        },
        "id": "Cc5wfQjmOggr",
        "outputId": "0788f8d1-ecea-4b4b-c3ba-b663382eb3b9"
      },
      "execution_count": 22,
      "outputs": [
        {
          "output_type": "stream",
          "name": "stdout",
          "text": [
            "Missing Values: 117 (4.9)%\n",
            "Outliers: 0 (0.0)% low, 0 (0.0)% high\n",
            "Unique values: 14\n"
          ]
        }
      ]
    },
    {
      "cell_type": "markdown",
      "source": [
        "- **Missing Value Options and Considerations**\n",
        " - **Drop column**\n",
        "   - con: This would result in a significant loss of data.\n",
        "   - 4.9% missing values is not significant enough to justify this option.\n",
        " - **Drop rows with missing values**\n",
        "   - con: This would result in a significant loss of data.\n",
        "   - 4.9% missing rows is too significant to justify this option.\n",
        " - **Simple Imputation using strategy = 'mean'**\n",
        "   - pro: This typically works well small numeric datasets.\n",
        "   - con: This can introduce bias and is affected by skew and outliers more than the 'median' value.\n",
        "   - con: This will not factor correlations between features.   \n",
        " - **Simple Imputation using strategy = 'median'**\n",
        "   - pro: This typically works well small numeric datasets.\n",
        "   - pro: This is less affected by outliers than strategy = 'median'.\n",
        "   - con: This will not factor correlations between features.     \n",
        " - **Advanced Imputation using SKLearn**\n",
        "   - pro: This will factor correlations between features.\n",
        "   - pro: This may have the potential to generate the highest prediction scores possible.\n",
        "   - con: This can be memory and or time intensive..\n",
        "\n",
        "In Phase I of this project I will utilize the (Simple Imputation using strategy = 'median') method as our initial strategy. This can introduce data leakage if applied prior to the Train Test Split and so will be handled in Preprocessing after the Train Test Split. However in Phase II others strategies will be explored to see if prediction scores can be improved."
      ],
      "metadata": {
        "id": "8arCtJju6Im9"
      }
    },
    {
      "cell_type": "markdown",
      "source": [
        "##### **WaistCirc column**"
      ],
      "metadata": {
        "id": "ncbOdiILqV-l"
      }
    },
    {
      "cell_type": "code",
      "source": [
        "# Display column statistics.\n",
        "column_statistics('WaistCirc')"
      ],
      "metadata": {
        "colab": {
          "base_uri": "https://localhost:8080/"
        },
        "id": "AwbOLeh2PAVr",
        "outputId": "f0ff8a01-c63e-48df-d20b-95c4d08d32c3"
      },
      "execution_count": 23,
      "outputs": [
        {
          "output_type": "stream",
          "name": "stdout",
          "text": [
            "Missing Values: 85 (3.5)%\n",
            "Outliers: 0 (0.0)% low, 44 (1.8)% high\n",
            "Unique values: 635\n"
          ]
        }
      ]
    },
    {
      "cell_type": "markdown",
      "source": [
        "- **Missing Value Options and Considerations**\n",
        " - **Drop column**\n",
        "   - con: This would result in a significant loss of data.\n",
        "   - 1.8% missing values is not significant enough to justify this option.\n",
        " - **Drop rows with missing values**\n",
        "   - con: This would result in a significant loss of data.\n",
        "   - 1.8% missing rows is viable, but still too significant to justify this option.\n",
        " - **Simple Imputation using strategy = 'mean'**\n",
        "   - pro: This typically works well small numeric datasets.\n",
        "   - con: This can introduce bias and is affected by skew and outliers more than the 'median' value.\n",
        "   - con: This will not factor correlations between features.   \n",
        " - **Simple Imputation using strategy = 'median'**\n",
        "   - pro: This typically works well small numeric datasets.\n",
        "   - pro: This is less affected by outliers than strategy = 'median'.\n",
        "   - con: This will not factor correlations between features.     \n",
        " - **Advanced Imputation using SKLearn**\n",
        "   - pro: This will factor correlations between features.\n",
        "   - pro: This may have the potential to generate the highest prediction scores possible.\n",
        "   - con: This can be memory and or time intensive.\n",
        "\n",
        "In Phase I of this project I will utilize the (Simple Imputation using strategy = 'median') method as our initial strategy. This can introduce data leakage if applied prior to the Train Test Split and so will be handled in Preprocessing after the Train Test Split. However in Phase II others strategies will be explored to see if prediction scores can be improved."
      ],
      "metadata": {
        "id": "7DIAfRC96pmI"
      }
    },
    {
      "cell_type": "markdown",
      "source": [
        "##### **BMI column**"
      ],
      "metadata": {
        "id": "Qz4XA8ZTsYOG"
      }
    },
    {
      "cell_type": "code",
      "source": [
        "# Display column statistics.\n",
        "column_statistics('BMI')"
      ],
      "metadata": {
        "colab": {
          "base_uri": "https://localhost:8080/"
        },
        "id": "ImoEWo5NPEaB",
        "outputId": "c5c0739a-c551-4e95-b468-d21d4520cd2f"
      },
      "execution_count": 24,
      "outputs": [
        {
          "output_type": "stream",
          "name": "stdout",
          "text": [
            "Missing Values: 26 (1.1)%\n",
            "Outliers: 0 (0.0)% low, 67 (2.8)% high\n",
            "Unique values: 322\n"
          ]
        }
      ]
    },
    {
      "cell_type": "markdown",
      "source": [
        "- **Missing Value Options and Considerations**\n",
        " - **Drop column**\n",
        "   - con: This would result in a significant loss of data.\n",
        "   - 2.8% missing values is not significant enough to justify this option.\n",
        " - **Drop rows with missing values**\n",
        "   - con: This would result in a significant loss of data.\n",
        "   - 2.8% missing rows is viable, but still too significant to justify this option.\n",
        " - **Simple Imputation using strategy = 'mean'**\n",
        "   - pro: This typically works well small numeric datasets.\n",
        "   - con: This can introduce bias and is affected by skew and outliers more than the 'median' value.\n",
        "   - con: This will not factor correlations between features.   \n",
        " - **Simple Imputation using strategy = 'median'**\n",
        "   - pro: This typically works well small numeric datasets.\n",
        "   - pro: This is less affected by outliers than strategy = 'median'.\n",
        "   - con: This will not factor correlations between features.     \n",
        " - **Advanced Imputation using SKLearn**\n",
        "   - pro: This will factor correlations between features.\n",
        "   - pro: This may have the potential to generate the highest prediction scores possible.\n",
        "   - con: This can be memory and or time intensive.\n",
        "\n",
        "In Phase I of this project I will utilize the (Simple Imputation using strategy = 'median') method as our initial strategy. This can introduce data leakage if applied prior to the Train Test Split and so will be handled in Preprocessing after the Train Test Split. However in Phase II others strategies will be explored to see if prediction scores can be improved."
      ],
      "metadata": {
        "id": "e5KTwX-C6wQe"
      }
    },
    {
      "cell_type": "markdown",
      "source": [
        "### **Inspect Column Datatypes for Errors**"
      ],
      "metadata": {
        "id": "beYr7ZdUsr62"
      }
    },
    {
      "cell_type": "code",
      "source": [
        " # Ensure all columns match the data types listed in the data dictionary.\n",
        "df.dtypes"
      ],
      "metadata": {
        "id": "_S_WS97RtGV1",
        "colab": {
          "base_uri": "https://localhost:8080/"
        },
        "outputId": "b29cf7d3-f465-41f2-f65f-778d2d840b49"
      },
      "execution_count": 25,
      "outputs": [
        {
          "output_type": "execute_result",
          "data": {
            "text/plain": [
              "Age                    int64\n",
              "Sex                   object\n",
              "Marital               object\n",
              "Income               float64\n",
              "Race                  object\n",
              "WaistCirc            float64\n",
              "BMI                  float64\n",
              "Albuminuria            int64\n",
              "UrAlbCr              float64\n",
              "UricAcid             float64\n",
              "BloodGlucose           int64\n",
              "HDL                    int64\n",
              "Triglycerides          int64\n",
              "MetabolicSyndrome     object\n",
              "dtype: object"
            ]
          },
          "metadata": {},
          "execution_count": 25
        }
      ]
    },
    {
      "cell_type": "code",
      "source": [
        "df.head()"
      ],
      "metadata": {
        "id": "a0y8MgMXtXaU",
        "colab": {
          "base_uri": "https://localhost:8080/",
          "height": 206
        },
        "outputId": "6949db4a-9224-4ae1-a98e-dffc291b5ce0"
      },
      "execution_count": 26,
      "outputs": [
        {
          "output_type": "execute_result",
          "data": {
            "text/plain": [
              "   Age     Sex  Marital  Income   Race  WaistCirc   BMI  Albuminuria  UrAlbCr  \\\n",
              "0   22    Male   Single  8200.0  White       81.0  23.3            0     3.88   \n",
              "1   44  Female  Married  4500.0  White       80.1  23.2            0     8.55   \n",
              "2   21    Male   Single   800.0  Asian       69.6  20.1            0     5.07   \n",
              "3   43  Female   Single  2000.0  Black      120.4  33.3            0     5.22   \n",
              "4   51    Male  Married     NaN  Asian       81.1  20.1            0     8.13   \n",
              "\n",
              "   UricAcid  BloodGlucose  HDL  Triglycerides MetabolicSyndrome  \n",
              "0       4.9            92   41             84         No MetSyn  \n",
              "1       4.5            82   28             56         No MetSyn  \n",
              "2       5.4           107   43             78         No MetSyn  \n",
              "3       5.0           104   73            141         No MetSyn  \n",
              "4       5.0            95   43            126         No MetSyn  "
            ],
            "text/html": [
              "\n",
              "  <div id=\"df-88f2b4e7-2a61-4292-8cca-25d370bdd8d3\">\n",
              "    <div class=\"colab-df-container\">\n",
              "      <div>\n",
              "<style scoped>\n",
              "    .dataframe tbody tr th:only-of-type {\n",
              "        vertical-align: middle;\n",
              "    }\n",
              "\n",
              "    .dataframe tbody tr th {\n",
              "        vertical-align: top;\n",
              "    }\n",
              "\n",
              "    .dataframe thead th {\n",
              "        text-align: right;\n",
              "    }\n",
              "</style>\n",
              "<table border=\"1\" class=\"dataframe\">\n",
              "  <thead>\n",
              "    <tr style=\"text-align: right;\">\n",
              "      <th></th>\n",
              "      <th>Age</th>\n",
              "      <th>Sex</th>\n",
              "      <th>Marital</th>\n",
              "      <th>Income</th>\n",
              "      <th>Race</th>\n",
              "      <th>WaistCirc</th>\n",
              "      <th>BMI</th>\n",
              "      <th>Albuminuria</th>\n",
              "      <th>UrAlbCr</th>\n",
              "      <th>UricAcid</th>\n",
              "      <th>BloodGlucose</th>\n",
              "      <th>HDL</th>\n",
              "      <th>Triglycerides</th>\n",
              "      <th>MetabolicSyndrome</th>\n",
              "    </tr>\n",
              "  </thead>\n",
              "  <tbody>\n",
              "    <tr>\n",
              "      <th>0</th>\n",
              "      <td>22</td>\n",
              "      <td>Male</td>\n",
              "      <td>Single</td>\n",
              "      <td>8200.0</td>\n",
              "      <td>White</td>\n",
              "      <td>81.0</td>\n",
              "      <td>23.3</td>\n",
              "      <td>0</td>\n",
              "      <td>3.88</td>\n",
              "      <td>4.9</td>\n",
              "      <td>92</td>\n",
              "      <td>41</td>\n",
              "      <td>84</td>\n",
              "      <td>No MetSyn</td>\n",
              "    </tr>\n",
              "    <tr>\n",
              "      <th>1</th>\n",
              "      <td>44</td>\n",
              "      <td>Female</td>\n",
              "      <td>Married</td>\n",
              "      <td>4500.0</td>\n",
              "      <td>White</td>\n",
              "      <td>80.1</td>\n",
              "      <td>23.2</td>\n",
              "      <td>0</td>\n",
              "      <td>8.55</td>\n",
              "      <td>4.5</td>\n",
              "      <td>82</td>\n",
              "      <td>28</td>\n",
              "      <td>56</td>\n",
              "      <td>No MetSyn</td>\n",
              "    </tr>\n",
              "    <tr>\n",
              "      <th>2</th>\n",
              "      <td>21</td>\n",
              "      <td>Male</td>\n",
              "      <td>Single</td>\n",
              "      <td>800.0</td>\n",
              "      <td>Asian</td>\n",
              "      <td>69.6</td>\n",
              "      <td>20.1</td>\n",
              "      <td>0</td>\n",
              "      <td>5.07</td>\n",
              "      <td>5.4</td>\n",
              "      <td>107</td>\n",
              "      <td>43</td>\n",
              "      <td>78</td>\n",
              "      <td>No MetSyn</td>\n",
              "    </tr>\n",
              "    <tr>\n",
              "      <th>3</th>\n",
              "      <td>43</td>\n",
              "      <td>Female</td>\n",
              "      <td>Single</td>\n",
              "      <td>2000.0</td>\n",
              "      <td>Black</td>\n",
              "      <td>120.4</td>\n",
              "      <td>33.3</td>\n",
              "      <td>0</td>\n",
              "      <td>5.22</td>\n",
              "      <td>5.0</td>\n",
              "      <td>104</td>\n",
              "      <td>73</td>\n",
              "      <td>141</td>\n",
              "      <td>No MetSyn</td>\n",
              "    </tr>\n",
              "    <tr>\n",
              "      <th>4</th>\n",
              "      <td>51</td>\n",
              "      <td>Male</td>\n",
              "      <td>Married</td>\n",
              "      <td>NaN</td>\n",
              "      <td>Asian</td>\n",
              "      <td>81.1</td>\n",
              "      <td>20.1</td>\n",
              "      <td>0</td>\n",
              "      <td>8.13</td>\n",
              "      <td>5.0</td>\n",
              "      <td>95</td>\n",
              "      <td>43</td>\n",
              "      <td>126</td>\n",
              "      <td>No MetSyn</td>\n",
              "    </tr>\n",
              "  </tbody>\n",
              "</table>\n",
              "</div>\n",
              "      <button class=\"colab-df-convert\" onclick=\"convertToInteractive('df-88f2b4e7-2a61-4292-8cca-25d370bdd8d3')\"\n",
              "              title=\"Convert this dataframe to an interactive table.\"\n",
              "              style=\"display:none;\">\n",
              "        \n",
              "  <svg xmlns=\"http://www.w3.org/2000/svg\" height=\"24px\"viewBox=\"0 0 24 24\"\n",
              "       width=\"24px\">\n",
              "    <path d=\"M0 0h24v24H0V0z\" fill=\"none\"/>\n",
              "    <path d=\"M18.56 5.44l.94 2.06.94-2.06 2.06-.94-2.06-.94-.94-2.06-.94 2.06-2.06.94zm-11 1L8.5 8.5l.94-2.06 2.06-.94-2.06-.94L8.5 2.5l-.94 2.06-2.06.94zm10 10l.94 2.06.94-2.06 2.06-.94-2.06-.94-.94-2.06-.94 2.06-2.06.94z\"/><path d=\"M17.41 7.96l-1.37-1.37c-.4-.4-.92-.59-1.43-.59-.52 0-1.04.2-1.43.59L10.3 9.45l-7.72 7.72c-.78.78-.78 2.05 0 2.83L4 21.41c.39.39.9.59 1.41.59.51 0 1.02-.2 1.41-.59l7.78-7.78 2.81-2.81c.8-.78.8-2.07 0-2.86zM5.41 20L4 18.59l7.72-7.72 1.47 1.35L5.41 20z\"/>\n",
              "  </svg>\n",
              "      </button>\n",
              "      \n",
              "  <style>\n",
              "    .colab-df-container {\n",
              "      display:flex;\n",
              "      flex-wrap:wrap;\n",
              "      gap: 12px;\n",
              "    }\n",
              "\n",
              "    .colab-df-convert {\n",
              "      background-color: #E8F0FE;\n",
              "      border: none;\n",
              "      border-radius: 50%;\n",
              "      cursor: pointer;\n",
              "      display: none;\n",
              "      fill: #1967D2;\n",
              "      height: 32px;\n",
              "      padding: 0 0 0 0;\n",
              "      width: 32px;\n",
              "    }\n",
              "\n",
              "    .colab-df-convert:hover {\n",
              "      background-color: #E2EBFA;\n",
              "      box-shadow: 0px 1px 2px rgba(60, 64, 67, 0.3), 0px 1px 3px 1px rgba(60, 64, 67, 0.15);\n",
              "      fill: #174EA6;\n",
              "    }\n",
              "\n",
              "    [theme=dark] .colab-df-convert {\n",
              "      background-color: #3B4455;\n",
              "      fill: #D2E3FC;\n",
              "    }\n",
              "\n",
              "    [theme=dark] .colab-df-convert:hover {\n",
              "      background-color: #434B5C;\n",
              "      box-shadow: 0px 1px 3px 1px rgba(0, 0, 0, 0.15);\n",
              "      filter: drop-shadow(0px 1px 2px rgba(0, 0, 0, 0.3));\n",
              "      fill: #FFFFFF;\n",
              "    }\n",
              "  </style>\n",
              "\n",
              "      <script>\n",
              "        const buttonEl =\n",
              "          document.querySelector('#df-88f2b4e7-2a61-4292-8cca-25d370bdd8d3 button.colab-df-convert');\n",
              "        buttonEl.style.display =\n",
              "          google.colab.kernel.accessAllowed ? 'block' : 'none';\n",
              "\n",
              "        async function convertToInteractive(key) {\n",
              "          const element = document.querySelector('#df-88f2b4e7-2a61-4292-8cca-25d370bdd8d3');\n",
              "          const dataTable =\n",
              "            await google.colab.kernel.invokeFunction('convertToInteractive',\n",
              "                                                     [key], {});\n",
              "          if (!dataTable) return;\n",
              "\n",
              "          const docLinkHtml = 'Like what you see? Visit the ' +\n",
              "            '<a target=\"_blank\" href=https://colab.research.google.com/notebooks/data_table.ipynb>data table notebook</a>'\n",
              "            + ' to learn more about interactive tables.';\n",
              "          element.innerHTML = '';\n",
              "          dataTable['output_type'] = 'display_data';\n",
              "          await google.colab.output.renderOutput(dataTable, element);\n",
              "          const docLink = document.createElement('div');\n",
              "          docLink.innerHTML = docLinkHtml;\n",
              "          element.appendChild(docLink);\n",
              "        }\n",
              "      </script>\n",
              "    </div>\n",
              "  </div>\n",
              "  "
            ]
          },
          "metadata": {},
          "execution_count": 26
        }
      ]
    },
    {
      "cell_type": "markdown",
      "source": [
        "- All columns match their datatypes."
      ],
      "metadata": {
        "id": "WVPSQQU49EBm"
      }
    },
    {
      "cell_type": "markdown",
      "source": [
        "### **Inspect Column Names for Errors**"
      ],
      "metadata": {
        "id": "vrX847SqU8en"
      }
    },
    {
      "cell_type": "markdown",
      "source": [
        "Check for common syntax errors which may include extra white spaces at the beginning or end of strings or column names.\n",
        "\n",
        "Check for typos or inconsistencies in strings that need to be fixed.(example: cat, Cat, cats)"
      ],
      "metadata": {
        "id": "e6WqbzSg_odt"
      }
    },
    {
      "cell_type": "markdown",
      "source": [
        "#### **Object Datatypes**"
      ],
      "metadata": {
        "id": "TFSwmJz2SnuW"
      }
    },
    {
      "cell_type": "code",
      "source": [
        "# Display column names for object datatypes.\n",
        "dtypes = df.dtypes\n",
        "str_cols = dtypes[dtypes=='object'].index\n",
        "str_cols"
      ],
      "metadata": {
        "id": "_tLJC_-7xPnX",
        "colab": {
          "base_uri": "https://localhost:8080/"
        },
        "outputId": "1ca9e2c8-11ac-47e7-eb82-d77298b3b53d"
      },
      "execution_count": 27,
      "outputs": [
        {
          "output_type": "execute_result",
          "data": {
            "text/plain": [
              "Index(['Sex', 'Marital', 'Race', 'MetabolicSyndrome'], dtype='object')"
            ]
          },
          "metadata": {},
          "execution_count": 27
        }
      ]
    },
    {
      "cell_type": "markdown",
      "source": [
        "- No issues noted."
      ],
      "metadata": {
        "id": "7CrvifkfauXz"
      }
    },
    {
      "cell_type": "markdown",
      "source": [
        "#### **Numerical Datatypes**"
      ],
      "metadata": {
        "id": "nHncv5lKVoiJ"
      }
    },
    {
      "cell_type": "code",
      "source": [
        "# Display the column names for the numeric columns.\n",
        "dtypes = df.dtypes\n",
        "str_cols = dtypes[(dtypes == \"float64\") | (dtypes == \"int64\")].index\n",
        "str_cols"
      ],
      "metadata": {
        "colab": {
          "base_uri": "https://localhost:8080/"
        },
        "outputId": "c65e6063-b89c-40b9-a74a-472c254c991c",
        "id": "UEcuRwcB_cJb"
      },
      "execution_count": 28,
      "outputs": [
        {
          "output_type": "execute_result",
          "data": {
            "text/plain": [
              "Index(['Age', 'Income', 'WaistCirc', 'BMI', 'Albuminuria', 'UrAlbCr',\n",
              "       'UricAcid', 'BloodGlucose', 'HDL', 'Triglycerides'],\n",
              "      dtype='object')"
            ]
          },
          "metadata": {},
          "execution_count": 28
        }
      ]
    },
    {
      "cell_type": "markdown",
      "source": [
        "- No issues noted."
      ],
      "metadata": {
        "id": "QNjXbNFzaxo2"
      }
    },
    {
      "cell_type": "markdown",
      "source": [
        "### **Inspect Column Values for Errors**"
      ],
      "metadata": {
        "id": "hE1XF-SoFZ-N"
      }
    },
    {
      "cell_type": "markdown",
      "source": [
        "#### **Object Datatypes**"
      ],
      "metadata": {
        "id": "IlXi6yavTB57"
      }
    },
    {
      "cell_type": "markdown",
      "source": [
        "Check for common syntax errors which may include extra white spaces at the beginning or end of strings or column names.\n",
        "\n",
        "Check for typos or inconsistencies in strings that need to be fixed."
      ],
      "metadata": {
        "id": "D0IwaQTV0Y20"
      }
    },
    {
      "cell_type": "code",
      "source": [
        "# Display the descriptive statistics for the non-numeric columns.\n",
        "df.describe(exclude=\"number\")"
      ],
      "metadata": {
        "colab": {
          "base_uri": "https://localhost:8080/",
          "height": 175
        },
        "id": "ul-UP4cG76oP",
        "outputId": "0bcb914c-0d8d-4317-a4cf-645fcc42d9bb"
      },
      "execution_count": 29,
      "outputs": [
        {
          "output_type": "execute_result",
          "data": {
            "text/plain": [
              "           Sex  Marital   Race MetabolicSyndrome\n",
              "count     2401     2401   2401              2401\n",
              "unique       2        6      6                 2\n",
              "top     Female  Married  White         No MetSyn\n",
              "freq      1211     1192    933              1579"
            ],
            "text/html": [
              "\n",
              "  <div id=\"df-24f11b4a-faa7-4ae6-ba30-7935925e1ea7\">\n",
              "    <div class=\"colab-df-container\">\n",
              "      <div>\n",
              "<style scoped>\n",
              "    .dataframe tbody tr th:only-of-type {\n",
              "        vertical-align: middle;\n",
              "    }\n",
              "\n",
              "    .dataframe tbody tr th {\n",
              "        vertical-align: top;\n",
              "    }\n",
              "\n",
              "    .dataframe thead th {\n",
              "        text-align: right;\n",
              "    }\n",
              "</style>\n",
              "<table border=\"1\" class=\"dataframe\">\n",
              "  <thead>\n",
              "    <tr style=\"text-align: right;\">\n",
              "      <th></th>\n",
              "      <th>Sex</th>\n",
              "      <th>Marital</th>\n",
              "      <th>Race</th>\n",
              "      <th>MetabolicSyndrome</th>\n",
              "    </tr>\n",
              "  </thead>\n",
              "  <tbody>\n",
              "    <tr>\n",
              "      <th>count</th>\n",
              "      <td>2401</td>\n",
              "      <td>2401</td>\n",
              "      <td>2401</td>\n",
              "      <td>2401</td>\n",
              "    </tr>\n",
              "    <tr>\n",
              "      <th>unique</th>\n",
              "      <td>2</td>\n",
              "      <td>6</td>\n",
              "      <td>6</td>\n",
              "      <td>2</td>\n",
              "    </tr>\n",
              "    <tr>\n",
              "      <th>top</th>\n",
              "      <td>Female</td>\n",
              "      <td>Married</td>\n",
              "      <td>White</td>\n",
              "      <td>No MetSyn</td>\n",
              "    </tr>\n",
              "    <tr>\n",
              "      <th>freq</th>\n",
              "      <td>1211</td>\n",
              "      <td>1192</td>\n",
              "      <td>933</td>\n",
              "      <td>1579</td>\n",
              "    </tr>\n",
              "  </tbody>\n",
              "</table>\n",
              "</div>\n",
              "      <button class=\"colab-df-convert\" onclick=\"convertToInteractive('df-24f11b4a-faa7-4ae6-ba30-7935925e1ea7')\"\n",
              "              title=\"Convert this dataframe to an interactive table.\"\n",
              "              style=\"display:none;\">\n",
              "        \n",
              "  <svg xmlns=\"http://www.w3.org/2000/svg\" height=\"24px\"viewBox=\"0 0 24 24\"\n",
              "       width=\"24px\">\n",
              "    <path d=\"M0 0h24v24H0V0z\" fill=\"none\"/>\n",
              "    <path d=\"M18.56 5.44l.94 2.06.94-2.06 2.06-.94-2.06-.94-.94-2.06-.94 2.06-2.06.94zm-11 1L8.5 8.5l.94-2.06 2.06-.94-2.06-.94L8.5 2.5l-.94 2.06-2.06.94zm10 10l.94 2.06.94-2.06 2.06-.94-2.06-.94-.94-2.06-.94 2.06-2.06.94z\"/><path d=\"M17.41 7.96l-1.37-1.37c-.4-.4-.92-.59-1.43-.59-.52 0-1.04.2-1.43.59L10.3 9.45l-7.72 7.72c-.78.78-.78 2.05 0 2.83L4 21.41c.39.39.9.59 1.41.59.51 0 1.02-.2 1.41-.59l7.78-7.78 2.81-2.81c.8-.78.8-2.07 0-2.86zM5.41 20L4 18.59l7.72-7.72 1.47 1.35L5.41 20z\"/>\n",
              "  </svg>\n",
              "      </button>\n",
              "      \n",
              "  <style>\n",
              "    .colab-df-container {\n",
              "      display:flex;\n",
              "      flex-wrap:wrap;\n",
              "      gap: 12px;\n",
              "    }\n",
              "\n",
              "    .colab-df-convert {\n",
              "      background-color: #E8F0FE;\n",
              "      border: none;\n",
              "      border-radius: 50%;\n",
              "      cursor: pointer;\n",
              "      display: none;\n",
              "      fill: #1967D2;\n",
              "      height: 32px;\n",
              "      padding: 0 0 0 0;\n",
              "      width: 32px;\n",
              "    }\n",
              "\n",
              "    .colab-df-convert:hover {\n",
              "      background-color: #E2EBFA;\n",
              "      box-shadow: 0px 1px 2px rgba(60, 64, 67, 0.3), 0px 1px 3px 1px rgba(60, 64, 67, 0.15);\n",
              "      fill: #174EA6;\n",
              "    }\n",
              "\n",
              "    [theme=dark] .colab-df-convert {\n",
              "      background-color: #3B4455;\n",
              "      fill: #D2E3FC;\n",
              "    }\n",
              "\n",
              "    [theme=dark] .colab-df-convert:hover {\n",
              "      background-color: #434B5C;\n",
              "      box-shadow: 0px 1px 3px 1px rgba(0, 0, 0, 0.15);\n",
              "      filter: drop-shadow(0px 1px 2px rgba(0, 0, 0, 0.3));\n",
              "      fill: #FFFFFF;\n",
              "    }\n",
              "  </style>\n",
              "\n",
              "      <script>\n",
              "        const buttonEl =\n",
              "          document.querySelector('#df-24f11b4a-faa7-4ae6-ba30-7935925e1ea7 button.colab-df-convert');\n",
              "        buttonEl.style.display =\n",
              "          google.colab.kernel.accessAllowed ? 'block' : 'none';\n",
              "\n",
              "        async function convertToInteractive(key) {\n",
              "          const element = document.querySelector('#df-24f11b4a-faa7-4ae6-ba30-7935925e1ea7');\n",
              "          const dataTable =\n",
              "            await google.colab.kernel.invokeFunction('convertToInteractive',\n",
              "                                                     [key], {});\n",
              "          if (!dataTable) return;\n",
              "\n",
              "          const docLinkHtml = 'Like what you see? Visit the ' +\n",
              "            '<a target=\"_blank\" href=https://colab.research.google.com/notebooks/data_table.ipynb>data table notebook</a>'\n",
              "            + ' to learn more about interactive tables.';\n",
              "          element.innerHTML = '';\n",
              "          dataTable['output_type'] = 'display_data';\n",
              "          await google.colab.output.renderOutput(dataTable, element);\n",
              "          const docLink = document.createElement('div');\n",
              "          docLink.innerHTML = docLinkHtml;\n",
              "          element.appendChild(docLink);\n",
              "        }\n",
              "      </script>\n",
              "    </div>\n",
              "  </div>\n",
              "  "
            ]
          },
          "metadata": {},
          "execution_count": 29
        }
      ]
    },
    {
      "cell_type": "markdown",
      "source": [
        "##### **Sex column**"
      ],
      "metadata": {
        "id": "V9Sw2CpSTm1H"
      }
    },
    {
      "cell_type": "code",
      "source": [
        "# Display the unique values for this column.\n",
        "print(df['Sex'].unique())"
      ],
      "metadata": {
        "id": "fZMWhETqbuUc",
        "colab": {
          "base_uri": "https://localhost:8080/"
        },
        "outputId": "27ee64f4-aa9f-42c0-de3c-bc07e63d84c5"
      },
      "execution_count": 30,
      "outputs": [
        {
          "output_type": "stream",
          "name": "stdout",
          "text": [
            "['Male' 'Female']\n"
          ]
        }
      ]
    },
    {
      "cell_type": "code",
      "source": [
        "# Display the unique values and their counts for this column.\n",
        "df['Sex'].value_counts()"
      ],
      "metadata": {
        "colab": {
          "base_uri": "https://localhost:8080/"
        },
        "id": "umZyv4bF9BW3",
        "outputId": "dca3245f-95c7-48d4-9f21-693adf249735"
      },
      "execution_count": 31,
      "outputs": [
        {
          "output_type": "execute_result",
          "data": {
            "text/plain": [
              "Female    1211\n",
              "Male      1190\n",
              "Name: Sex, dtype: int64"
            ]
          },
          "metadata": {},
          "execution_count": 31
        }
      ]
    },
    {
      "cell_type": "markdown",
      "source": [
        "- No issues noted."
      ],
      "metadata": {
        "id": "JI9qvQZohBe8"
      }
    },
    {
      "cell_type": "markdown",
      "source": [
        "##### **Marital column**"
      ],
      "metadata": {
        "id": "JENecdeLAmSb"
      }
    },
    {
      "cell_type": "code",
      "source": [
        "# Display the unique values for this column.\n",
        "print(df['Marital'].unique())"
      ],
      "metadata": {
        "colab": {
          "base_uri": "https://localhost:8080/"
        },
        "outputId": "b69b4016-61b2-4f3d-b27f-2f7f35187d13",
        "id": "t3ssqC1FAmSc"
      },
      "execution_count": 32,
      "outputs": [
        {
          "output_type": "stream",
          "name": "stdout",
          "text": [
            "['Single' 'Married' 'Widowed' 'Divorced' 'Unknown' 'Separated']\n"
          ]
        }
      ]
    },
    {
      "cell_type": "code",
      "source": [
        "# Display the unique values and their counts for this column.\n",
        "df['Marital'].value_counts()"
      ],
      "metadata": {
        "colab": {
          "base_uri": "https://localhost:8080/"
        },
        "id": "IQSVsCLM9HLt",
        "outputId": "3031c096-bbf3-45eb-d68b-57c03d6e6665"
      },
      "execution_count": 33,
      "outputs": [
        {
          "output_type": "execute_result",
          "data": {
            "text/plain": [
              "Married      1192\n",
              "Single        498\n",
              "Divorced      242\n",
              "Unknown       208\n",
              "Widowed       166\n",
              "Separated      95\n",
              "Name: Marital, dtype: int64"
            ]
          },
          "metadata": {},
          "execution_count": 33
        }
      ]
    },
    {
      "cell_type": "markdown",
      "source": [
        "- No issues noted."
      ],
      "metadata": {
        "id": "hXRd-3T6AmSd"
      }
    },
    {
      "cell_type": "markdown",
      "source": [
        "##### **Race column**"
      ],
      "metadata": {
        "id": "Y8DqNp9tAnSS"
      }
    },
    {
      "cell_type": "code",
      "source": [
        "# Display the unique values for this column.\n",
        "print(df['Race'].unique())"
      ],
      "metadata": {
        "colab": {
          "base_uri": "https://localhost:8080/"
        },
        "outputId": "2fd8349c-39d2-494c-c66e-1ba58cd73f76",
        "id": "vCaSooo8AnST"
      },
      "execution_count": 34,
      "outputs": [
        {
          "output_type": "stream",
          "name": "stdout",
          "text": [
            "['White' 'Asian' 'Black' 'MexAmerican' 'Hispanic' 'Other']\n"
          ]
        }
      ]
    },
    {
      "cell_type": "code",
      "source": [
        "# Display the unique values and their counts for this column.\n",
        "df['Race'].value_counts()"
      ],
      "metadata": {
        "colab": {
          "base_uri": "https://localhost:8080/"
        },
        "id": "J2A8hFb79M-8",
        "outputId": "7e392d93-9bf3-4be5-debc-6bf29380062a"
      },
      "execution_count": 35,
      "outputs": [
        {
          "output_type": "execute_result",
          "data": {
            "text/plain": [
              "White          933\n",
              "Black          548\n",
              "Asian          349\n",
              "Hispanic       257\n",
              "MexAmerican    253\n",
              "Other           61\n",
              "Name: Race, dtype: int64"
            ]
          },
          "metadata": {},
          "execution_count": 35
        }
      ]
    },
    {
      "cell_type": "markdown",
      "source": [
        "- No issues noted."
      ],
      "metadata": {
        "id": "2luJLfMqAnSU"
      }
    },
    {
      "cell_type": "markdown",
      "source": [
        "##### **MetabolicSyndrome column**"
      ],
      "metadata": {
        "id": "uYeRXQRVAqmI"
      }
    },
    {
      "cell_type": "code",
      "source": [
        "# Display the unique values for this column.\n",
        "print(df['MetabolicSyndrome'].unique())"
      ],
      "metadata": {
        "colab": {
          "base_uri": "https://localhost:8080/"
        },
        "outputId": "974cb64f-fc27-4190-fefd-58a68ebcfaac",
        "id": "npW6tDP0AqmI"
      },
      "execution_count": 36,
      "outputs": [
        {
          "output_type": "stream",
          "name": "stdout",
          "text": [
            "['No MetSyn' 'MetSyn']\n"
          ]
        }
      ]
    },
    {
      "cell_type": "code",
      "source": [
        "# Display the unique values and their counts for this column.\n",
        "df['MetabolicSyndrome'].value_counts()"
      ],
      "metadata": {
        "colab": {
          "base_uri": "https://localhost:8080/"
        },
        "id": "QLKg2UFH9Rb4",
        "outputId": "55b21596-86f5-49fb-bc45-3db4b32edeed"
      },
      "execution_count": 37,
      "outputs": [
        {
          "output_type": "execute_result",
          "data": {
            "text/plain": [
              "No MetSyn    1579\n",
              "MetSyn        822\n",
              "Name: MetabolicSyndrome, dtype: int64"
            ]
          },
          "metadata": {},
          "execution_count": 37
        }
      ]
    },
    {
      "cell_type": "markdown",
      "source": [
        "- No issues noted."
      ],
      "metadata": {
        "id": "lDdGMkarAqmK"
      }
    },
    {
      "cell_type": "markdown",
      "source": [
        "#### **Numerical Datatypes**"
      ],
      "metadata": {
        "id": "MJShs6IT7Yo3"
      }
    },
    {
      "cell_type": "code",
      "source": [
        "# Display the descriptive statistics for the numeric columns.\n",
        "df.describe().round(2)"
      ],
      "metadata": {
        "colab": {
          "base_uri": "https://localhost:8080/",
          "height": 300
        },
        "id": "MQS3aHqW7wzE",
        "outputId": "9d2b84a0-f040-4cc4-d8c3-ba206a032a65"
      },
      "execution_count": 38,
      "outputs": [
        {
          "output_type": "execute_result",
          "data": {
            "text/plain": [
              "           Age   Income  WaistCirc      BMI  Albuminuria  UrAlbCr  UricAcid  \\\n",
              "count  2401.00  2284.00    2316.00  2375.00      2401.00  2401.00   2401.00   \n",
              "mean     48.69  4005.25      98.31    28.70         0.15    43.63      5.49   \n",
              "std      17.63  2954.03      16.25     6.66         0.42   258.27      1.44   \n",
              "min      20.00   300.00      56.20    13.40         0.00     1.40      1.80   \n",
              "25%      34.00  1600.00      86.68    24.00         0.00     4.45      4.50   \n",
              "50%      48.00  2500.00      97.00    27.70         0.00     7.07      5.40   \n",
              "75%      63.00  6200.00     107.62    32.10         0.00    13.69      6.40   \n",
              "max      80.00  9000.00     176.00    68.70         2.00  5928.00     11.30   \n",
              "\n",
              "       BloodGlucose      HDL  Triglycerides  \n",
              "count       2401.00  2401.00        2401.00  \n",
              "mean         108.25    53.37         128.13  \n",
              "std           34.82    15.19          95.32  \n",
              "min           39.00    14.00          26.00  \n",
              "25%           92.00    43.00          75.00  \n",
              "50%           99.00    51.00         103.00  \n",
              "75%          110.00    62.00         150.00  \n",
              "max          382.00   156.00        1562.00  "
            ],
            "text/html": [
              "\n",
              "  <div id=\"df-de6affa3-a21f-4b82-b73d-0c1612181b2a\">\n",
              "    <div class=\"colab-df-container\">\n",
              "      <div>\n",
              "<style scoped>\n",
              "    .dataframe tbody tr th:only-of-type {\n",
              "        vertical-align: middle;\n",
              "    }\n",
              "\n",
              "    .dataframe tbody tr th {\n",
              "        vertical-align: top;\n",
              "    }\n",
              "\n",
              "    .dataframe thead th {\n",
              "        text-align: right;\n",
              "    }\n",
              "</style>\n",
              "<table border=\"1\" class=\"dataframe\">\n",
              "  <thead>\n",
              "    <tr style=\"text-align: right;\">\n",
              "      <th></th>\n",
              "      <th>Age</th>\n",
              "      <th>Income</th>\n",
              "      <th>WaistCirc</th>\n",
              "      <th>BMI</th>\n",
              "      <th>Albuminuria</th>\n",
              "      <th>UrAlbCr</th>\n",
              "      <th>UricAcid</th>\n",
              "      <th>BloodGlucose</th>\n",
              "      <th>HDL</th>\n",
              "      <th>Triglycerides</th>\n",
              "    </tr>\n",
              "  </thead>\n",
              "  <tbody>\n",
              "    <tr>\n",
              "      <th>count</th>\n",
              "      <td>2401.00</td>\n",
              "      <td>2284.00</td>\n",
              "      <td>2316.00</td>\n",
              "      <td>2375.00</td>\n",
              "      <td>2401.00</td>\n",
              "      <td>2401.00</td>\n",
              "      <td>2401.00</td>\n",
              "      <td>2401.00</td>\n",
              "      <td>2401.00</td>\n",
              "      <td>2401.00</td>\n",
              "    </tr>\n",
              "    <tr>\n",
              "      <th>mean</th>\n",
              "      <td>48.69</td>\n",
              "      <td>4005.25</td>\n",
              "      <td>98.31</td>\n",
              "      <td>28.70</td>\n",
              "      <td>0.15</td>\n",
              "      <td>43.63</td>\n",
              "      <td>5.49</td>\n",
              "      <td>108.25</td>\n",
              "      <td>53.37</td>\n",
              "      <td>128.13</td>\n",
              "    </tr>\n",
              "    <tr>\n",
              "      <th>std</th>\n",
              "      <td>17.63</td>\n",
              "      <td>2954.03</td>\n",
              "      <td>16.25</td>\n",
              "      <td>6.66</td>\n",
              "      <td>0.42</td>\n",
              "      <td>258.27</td>\n",
              "      <td>1.44</td>\n",
              "      <td>34.82</td>\n",
              "      <td>15.19</td>\n",
              "      <td>95.32</td>\n",
              "    </tr>\n",
              "    <tr>\n",
              "      <th>min</th>\n",
              "      <td>20.00</td>\n",
              "      <td>300.00</td>\n",
              "      <td>56.20</td>\n",
              "      <td>13.40</td>\n",
              "      <td>0.00</td>\n",
              "      <td>1.40</td>\n",
              "      <td>1.80</td>\n",
              "      <td>39.00</td>\n",
              "      <td>14.00</td>\n",
              "      <td>26.00</td>\n",
              "    </tr>\n",
              "    <tr>\n",
              "      <th>25%</th>\n",
              "      <td>34.00</td>\n",
              "      <td>1600.00</td>\n",
              "      <td>86.68</td>\n",
              "      <td>24.00</td>\n",
              "      <td>0.00</td>\n",
              "      <td>4.45</td>\n",
              "      <td>4.50</td>\n",
              "      <td>92.00</td>\n",
              "      <td>43.00</td>\n",
              "      <td>75.00</td>\n",
              "    </tr>\n",
              "    <tr>\n",
              "      <th>50%</th>\n",
              "      <td>48.00</td>\n",
              "      <td>2500.00</td>\n",
              "      <td>97.00</td>\n",
              "      <td>27.70</td>\n",
              "      <td>0.00</td>\n",
              "      <td>7.07</td>\n",
              "      <td>5.40</td>\n",
              "      <td>99.00</td>\n",
              "      <td>51.00</td>\n",
              "      <td>103.00</td>\n",
              "    </tr>\n",
              "    <tr>\n",
              "      <th>75%</th>\n",
              "      <td>63.00</td>\n",
              "      <td>6200.00</td>\n",
              "      <td>107.62</td>\n",
              "      <td>32.10</td>\n",
              "      <td>0.00</td>\n",
              "      <td>13.69</td>\n",
              "      <td>6.40</td>\n",
              "      <td>110.00</td>\n",
              "      <td>62.00</td>\n",
              "      <td>150.00</td>\n",
              "    </tr>\n",
              "    <tr>\n",
              "      <th>max</th>\n",
              "      <td>80.00</td>\n",
              "      <td>9000.00</td>\n",
              "      <td>176.00</td>\n",
              "      <td>68.70</td>\n",
              "      <td>2.00</td>\n",
              "      <td>5928.00</td>\n",
              "      <td>11.30</td>\n",
              "      <td>382.00</td>\n",
              "      <td>156.00</td>\n",
              "      <td>1562.00</td>\n",
              "    </tr>\n",
              "  </tbody>\n",
              "</table>\n",
              "</div>\n",
              "      <button class=\"colab-df-convert\" onclick=\"convertToInteractive('df-de6affa3-a21f-4b82-b73d-0c1612181b2a')\"\n",
              "              title=\"Convert this dataframe to an interactive table.\"\n",
              "              style=\"display:none;\">\n",
              "        \n",
              "  <svg xmlns=\"http://www.w3.org/2000/svg\" height=\"24px\"viewBox=\"0 0 24 24\"\n",
              "       width=\"24px\">\n",
              "    <path d=\"M0 0h24v24H0V0z\" fill=\"none\"/>\n",
              "    <path d=\"M18.56 5.44l.94 2.06.94-2.06 2.06-.94-2.06-.94-.94-2.06-.94 2.06-2.06.94zm-11 1L8.5 8.5l.94-2.06 2.06-.94-2.06-.94L8.5 2.5l-.94 2.06-2.06.94zm10 10l.94 2.06.94-2.06 2.06-.94-2.06-.94-.94-2.06-.94 2.06-2.06.94z\"/><path d=\"M17.41 7.96l-1.37-1.37c-.4-.4-.92-.59-1.43-.59-.52 0-1.04.2-1.43.59L10.3 9.45l-7.72 7.72c-.78.78-.78 2.05 0 2.83L4 21.41c.39.39.9.59 1.41.59.51 0 1.02-.2 1.41-.59l7.78-7.78 2.81-2.81c.8-.78.8-2.07 0-2.86zM5.41 20L4 18.59l7.72-7.72 1.47 1.35L5.41 20z\"/>\n",
              "  </svg>\n",
              "      </button>\n",
              "      \n",
              "  <style>\n",
              "    .colab-df-container {\n",
              "      display:flex;\n",
              "      flex-wrap:wrap;\n",
              "      gap: 12px;\n",
              "    }\n",
              "\n",
              "    .colab-df-convert {\n",
              "      background-color: #E8F0FE;\n",
              "      border: none;\n",
              "      border-radius: 50%;\n",
              "      cursor: pointer;\n",
              "      display: none;\n",
              "      fill: #1967D2;\n",
              "      height: 32px;\n",
              "      padding: 0 0 0 0;\n",
              "      width: 32px;\n",
              "    }\n",
              "\n",
              "    .colab-df-convert:hover {\n",
              "      background-color: #E2EBFA;\n",
              "      box-shadow: 0px 1px 2px rgba(60, 64, 67, 0.3), 0px 1px 3px 1px rgba(60, 64, 67, 0.15);\n",
              "      fill: #174EA6;\n",
              "    }\n",
              "\n",
              "    [theme=dark] .colab-df-convert {\n",
              "      background-color: #3B4455;\n",
              "      fill: #D2E3FC;\n",
              "    }\n",
              "\n",
              "    [theme=dark] .colab-df-convert:hover {\n",
              "      background-color: #434B5C;\n",
              "      box-shadow: 0px 1px 3px 1px rgba(0, 0, 0, 0.15);\n",
              "      filter: drop-shadow(0px 1px 2px rgba(0, 0, 0, 0.3));\n",
              "      fill: #FFFFFF;\n",
              "    }\n",
              "  </style>\n",
              "\n",
              "      <script>\n",
              "        const buttonEl =\n",
              "          document.querySelector('#df-de6affa3-a21f-4b82-b73d-0c1612181b2a button.colab-df-convert');\n",
              "        buttonEl.style.display =\n",
              "          google.colab.kernel.accessAllowed ? 'block' : 'none';\n",
              "\n",
              "        async function convertToInteractive(key) {\n",
              "          const element = document.querySelector('#df-de6affa3-a21f-4b82-b73d-0c1612181b2a');\n",
              "          const dataTable =\n",
              "            await google.colab.kernel.invokeFunction('convertToInteractive',\n",
              "                                                     [key], {});\n",
              "          if (!dataTable) return;\n",
              "\n",
              "          const docLinkHtml = 'Like what you see? Visit the ' +\n",
              "            '<a target=\"_blank\" href=https://colab.research.google.com/notebooks/data_table.ipynb>data table notebook</a>'\n",
              "            + ' to learn more about interactive tables.';\n",
              "          element.innerHTML = '';\n",
              "          dataTable['output_type'] = 'display_data';\n",
              "          await google.colab.output.renderOutput(dataTable, element);\n",
              "          const docLink = document.createElement('div');\n",
              "          docLink.innerHTML = docLinkHtml;\n",
              "          element.appendChild(docLink);\n",
              "        }\n",
              "      </script>\n",
              "    </div>\n",
              "  </div>\n",
              "  "
            ]
          },
          "metadata": {},
          "execution_count": 38
        }
      ]
    },
    {
      "cell_type": "markdown",
      "source": [
        "- Albuminuria has 0.00 values for min, 25%, 50%, and 75%."
      ],
      "metadata": {
        "id": "7oZ2MVk0Gt8F"
      }
    },
    {
      "cell_type": "markdown",
      "source": [
        "##### **Albuminuria Column**"
      ],
      "metadata": {
        "id": "FG-kWJQgTzkB"
      }
    },
    {
      "cell_type": "code",
      "source": [
        "# Display the unique values and their counts for this column.\n",
        "df['Albuminuria'].value_counts(ascending=False)"
      ],
      "metadata": {
        "colab": {
          "base_uri": "https://localhost:8080/"
        },
        "id": "gHvJ_eh2UBhK",
        "outputId": "7d079e4d-ba13-431c-8f57-ed96d86ea81d"
      },
      "execution_count": 39,
      "outputs": [
        {
          "output_type": "execute_result",
          "data": {
            "text/plain": [
              "0    2089\n",
              "1     254\n",
              "2      58\n",
              "Name: Albuminuria, dtype: int64"
            ]
          },
          "metadata": {},
          "execution_count": 39
        }
      ]
    },
    {
      "cell_type": "code",
      "source": [
        "# Display the unique values and their count percentages for this column.\n",
        "df['Albuminuria'].value_counts(ascending=False, normalize = True)"
      ],
      "metadata": {
        "colab": {
          "base_uri": "https://localhost:8080/"
        },
        "id": "fc6M9H41US5g",
        "outputId": "f7ecb6d4-b5e6-4886-bf05-b36fc37a5acc"
      },
      "execution_count": 40,
      "outputs": [
        {
          "output_type": "execute_result",
          "data": {
            "text/plain": [
              "0    0.870054\n",
              "1    0.105789\n",
              "2    0.024157\n",
              "Name: Albuminuria, dtype: float64"
            ]
          },
          "metadata": {},
          "execution_count": 40
        }
      ]
    },
    {
      "cell_type": "markdown",
      "source": [
        "- Albuminuria is an ordinal column with values of 0, 1, and 2.\n",
        "- It has a significant percentage count of 0 values."
      ],
      "metadata": {
        "id": "d8o4uEtaUHdL"
      }
    },
    {
      "cell_type": "markdown",
      "source": [
        "## **Exploratory Data Analysis**"
      ],
      "metadata": {
        "id": "NqfnRAP-jWdZ"
      }
    },
    {
      "cell_type": "markdown",
      "source": [
        "### **Numeric Columns**"
      ],
      "metadata": {
        "id": "DR5bJFxo4HDt"
      }
    },
    {
      "cell_type": "markdown",
      "source": [
        "#### **Summary Statistics**"
      ],
      "metadata": {
        "id": "FuAo4Uo3FxL7"
      }
    },
    {
      "cell_type": "code",
      "source": [
        "# Display the descriptive statistics for the numeric columns.\n",
        "df.describe()"
      ],
      "metadata": {
        "id": "kraQODkRpF-F",
        "colab": {
          "base_uri": "https://localhost:8080/",
          "height": 300
        },
        "outputId": "94c1509d-3e13-4b13-a6ee-969fbb3fe9b4"
      },
      "execution_count": 41,
      "outputs": [
        {
          "output_type": "execute_result",
          "data": {
            "text/plain": [
              "               Age       Income    WaistCirc          BMI  Albuminuria  \\\n",
              "count  2401.000000  2284.000000  2316.000000  2375.000000  2401.000000   \n",
              "mean     48.691795  4005.253940    98.307254    28.702189     0.154102   \n",
              "std      17.632852  2954.032186    16.252634     6.662242     0.422780   \n",
              "min      20.000000   300.000000    56.200000    13.400000     0.000000   \n",
              "25%      34.000000  1600.000000    86.675000    24.000000     0.000000   \n",
              "50%      48.000000  2500.000000    97.000000    27.700000     0.000000   \n",
              "75%      63.000000  6200.000000   107.625000    32.100000     0.000000   \n",
              "max      80.000000  9000.000000   176.000000    68.700000     2.000000   \n",
              "\n",
              "           UrAlbCr     UricAcid  BloodGlucose          HDL  Triglycerides  \n",
              "count  2401.000000  2401.000000   2401.000000  2401.000000    2401.000000  \n",
              "mean     43.626131     5.489046    108.247813    53.369429     128.125364  \n",
              "std     258.272829     1.439358     34.820657    15.185537      95.322477  \n",
              "min       1.400000     1.800000     39.000000    14.000000      26.000000  \n",
              "25%       4.450000     4.500000     92.000000    43.000000      75.000000  \n",
              "50%       7.070000     5.400000     99.000000    51.000000     103.000000  \n",
              "75%      13.690000     6.400000    110.000000    62.000000     150.000000  \n",
              "max    5928.000000    11.300000    382.000000   156.000000    1562.000000  "
            ],
            "text/html": [
              "\n",
              "  <div id=\"df-0a819e38-cb3f-42f5-86ec-1b04ecc5d080\">\n",
              "    <div class=\"colab-df-container\">\n",
              "      <div>\n",
              "<style scoped>\n",
              "    .dataframe tbody tr th:only-of-type {\n",
              "        vertical-align: middle;\n",
              "    }\n",
              "\n",
              "    .dataframe tbody tr th {\n",
              "        vertical-align: top;\n",
              "    }\n",
              "\n",
              "    .dataframe thead th {\n",
              "        text-align: right;\n",
              "    }\n",
              "</style>\n",
              "<table border=\"1\" class=\"dataframe\">\n",
              "  <thead>\n",
              "    <tr style=\"text-align: right;\">\n",
              "      <th></th>\n",
              "      <th>Age</th>\n",
              "      <th>Income</th>\n",
              "      <th>WaistCirc</th>\n",
              "      <th>BMI</th>\n",
              "      <th>Albuminuria</th>\n",
              "      <th>UrAlbCr</th>\n",
              "      <th>UricAcid</th>\n",
              "      <th>BloodGlucose</th>\n",
              "      <th>HDL</th>\n",
              "      <th>Triglycerides</th>\n",
              "    </tr>\n",
              "  </thead>\n",
              "  <tbody>\n",
              "    <tr>\n",
              "      <th>count</th>\n",
              "      <td>2401.000000</td>\n",
              "      <td>2284.000000</td>\n",
              "      <td>2316.000000</td>\n",
              "      <td>2375.000000</td>\n",
              "      <td>2401.000000</td>\n",
              "      <td>2401.000000</td>\n",
              "      <td>2401.000000</td>\n",
              "      <td>2401.000000</td>\n",
              "      <td>2401.000000</td>\n",
              "      <td>2401.000000</td>\n",
              "    </tr>\n",
              "    <tr>\n",
              "      <th>mean</th>\n",
              "      <td>48.691795</td>\n",
              "      <td>4005.253940</td>\n",
              "      <td>98.307254</td>\n",
              "      <td>28.702189</td>\n",
              "      <td>0.154102</td>\n",
              "      <td>43.626131</td>\n",
              "      <td>5.489046</td>\n",
              "      <td>108.247813</td>\n",
              "      <td>53.369429</td>\n",
              "      <td>128.125364</td>\n",
              "    </tr>\n",
              "    <tr>\n",
              "      <th>std</th>\n",
              "      <td>17.632852</td>\n",
              "      <td>2954.032186</td>\n",
              "      <td>16.252634</td>\n",
              "      <td>6.662242</td>\n",
              "      <td>0.422780</td>\n",
              "      <td>258.272829</td>\n",
              "      <td>1.439358</td>\n",
              "      <td>34.820657</td>\n",
              "      <td>15.185537</td>\n",
              "      <td>95.322477</td>\n",
              "    </tr>\n",
              "    <tr>\n",
              "      <th>min</th>\n",
              "      <td>20.000000</td>\n",
              "      <td>300.000000</td>\n",
              "      <td>56.200000</td>\n",
              "      <td>13.400000</td>\n",
              "      <td>0.000000</td>\n",
              "      <td>1.400000</td>\n",
              "      <td>1.800000</td>\n",
              "      <td>39.000000</td>\n",
              "      <td>14.000000</td>\n",
              "      <td>26.000000</td>\n",
              "    </tr>\n",
              "    <tr>\n",
              "      <th>25%</th>\n",
              "      <td>34.000000</td>\n",
              "      <td>1600.000000</td>\n",
              "      <td>86.675000</td>\n",
              "      <td>24.000000</td>\n",
              "      <td>0.000000</td>\n",
              "      <td>4.450000</td>\n",
              "      <td>4.500000</td>\n",
              "      <td>92.000000</td>\n",
              "      <td>43.000000</td>\n",
              "      <td>75.000000</td>\n",
              "    </tr>\n",
              "    <tr>\n",
              "      <th>50%</th>\n",
              "      <td>48.000000</td>\n",
              "      <td>2500.000000</td>\n",
              "      <td>97.000000</td>\n",
              "      <td>27.700000</td>\n",
              "      <td>0.000000</td>\n",
              "      <td>7.070000</td>\n",
              "      <td>5.400000</td>\n",
              "      <td>99.000000</td>\n",
              "      <td>51.000000</td>\n",
              "      <td>103.000000</td>\n",
              "    </tr>\n",
              "    <tr>\n",
              "      <th>75%</th>\n",
              "      <td>63.000000</td>\n",
              "      <td>6200.000000</td>\n",
              "      <td>107.625000</td>\n",
              "      <td>32.100000</td>\n",
              "      <td>0.000000</td>\n",
              "      <td>13.690000</td>\n",
              "      <td>6.400000</td>\n",
              "      <td>110.000000</td>\n",
              "      <td>62.000000</td>\n",
              "      <td>150.000000</td>\n",
              "    </tr>\n",
              "    <tr>\n",
              "      <th>max</th>\n",
              "      <td>80.000000</td>\n",
              "      <td>9000.000000</td>\n",
              "      <td>176.000000</td>\n",
              "      <td>68.700000</td>\n",
              "      <td>2.000000</td>\n",
              "      <td>5928.000000</td>\n",
              "      <td>11.300000</td>\n",
              "      <td>382.000000</td>\n",
              "      <td>156.000000</td>\n",
              "      <td>1562.000000</td>\n",
              "    </tr>\n",
              "  </tbody>\n",
              "</table>\n",
              "</div>\n",
              "      <button class=\"colab-df-convert\" onclick=\"convertToInteractive('df-0a819e38-cb3f-42f5-86ec-1b04ecc5d080')\"\n",
              "              title=\"Convert this dataframe to an interactive table.\"\n",
              "              style=\"display:none;\">\n",
              "        \n",
              "  <svg xmlns=\"http://www.w3.org/2000/svg\" height=\"24px\"viewBox=\"0 0 24 24\"\n",
              "       width=\"24px\">\n",
              "    <path d=\"M0 0h24v24H0V0z\" fill=\"none\"/>\n",
              "    <path d=\"M18.56 5.44l.94 2.06.94-2.06 2.06-.94-2.06-.94-.94-2.06-.94 2.06-2.06.94zm-11 1L8.5 8.5l.94-2.06 2.06-.94-2.06-.94L8.5 2.5l-.94 2.06-2.06.94zm10 10l.94 2.06.94-2.06 2.06-.94-2.06-.94-.94-2.06-.94 2.06-2.06.94z\"/><path d=\"M17.41 7.96l-1.37-1.37c-.4-.4-.92-.59-1.43-.59-.52 0-1.04.2-1.43.59L10.3 9.45l-7.72 7.72c-.78.78-.78 2.05 0 2.83L4 21.41c.39.39.9.59 1.41.59.51 0 1.02-.2 1.41-.59l7.78-7.78 2.81-2.81c.8-.78.8-2.07 0-2.86zM5.41 20L4 18.59l7.72-7.72 1.47 1.35L5.41 20z\"/>\n",
              "  </svg>\n",
              "      </button>\n",
              "      \n",
              "  <style>\n",
              "    .colab-df-container {\n",
              "      display:flex;\n",
              "      flex-wrap:wrap;\n",
              "      gap: 12px;\n",
              "    }\n",
              "\n",
              "    .colab-df-convert {\n",
              "      background-color: #E8F0FE;\n",
              "      border: none;\n",
              "      border-radius: 50%;\n",
              "      cursor: pointer;\n",
              "      display: none;\n",
              "      fill: #1967D2;\n",
              "      height: 32px;\n",
              "      padding: 0 0 0 0;\n",
              "      width: 32px;\n",
              "    }\n",
              "\n",
              "    .colab-df-convert:hover {\n",
              "      background-color: #E2EBFA;\n",
              "      box-shadow: 0px 1px 2px rgba(60, 64, 67, 0.3), 0px 1px 3px 1px rgba(60, 64, 67, 0.15);\n",
              "      fill: #174EA6;\n",
              "    }\n",
              "\n",
              "    [theme=dark] .colab-df-convert {\n",
              "      background-color: #3B4455;\n",
              "      fill: #D2E3FC;\n",
              "    }\n",
              "\n",
              "    [theme=dark] .colab-df-convert:hover {\n",
              "      background-color: #434B5C;\n",
              "      box-shadow: 0px 1px 3px 1px rgba(0, 0, 0, 0.15);\n",
              "      filter: drop-shadow(0px 1px 2px rgba(0, 0, 0, 0.3));\n",
              "      fill: #FFFFFF;\n",
              "    }\n",
              "  </style>\n",
              "\n",
              "      <script>\n",
              "        const buttonEl =\n",
              "          document.querySelector('#df-0a819e38-cb3f-42f5-86ec-1b04ecc5d080 button.colab-df-convert');\n",
              "        buttonEl.style.display =\n",
              "          google.colab.kernel.accessAllowed ? 'block' : 'none';\n",
              "\n",
              "        async function convertToInteractive(key) {\n",
              "          const element = document.querySelector('#df-0a819e38-cb3f-42f5-86ec-1b04ecc5d080');\n",
              "          const dataTable =\n",
              "            await google.colab.kernel.invokeFunction('convertToInteractive',\n",
              "                                                     [key], {});\n",
              "          if (!dataTable) return;\n",
              "\n",
              "          const docLinkHtml = 'Like what you see? Visit the ' +\n",
              "            '<a target=\"_blank\" href=https://colab.research.google.com/notebooks/data_table.ipynb>data table notebook</a>'\n",
              "            + ' to learn more about interactive tables.';\n",
              "          element.innerHTML = '';\n",
              "          dataTable['output_type'] = 'display_data';\n",
              "          await google.colab.output.renderOutput(dataTable, element);\n",
              "          const docLink = document.createElement('div');\n",
              "          docLink.innerHTML = docLinkHtml;\n",
              "          element.appendChild(docLink);\n",
              "        }\n",
              "      </script>\n",
              "    </div>\n",
              "  </div>\n",
              "  "
            ]
          },
          "metadata": {},
          "execution_count": 41
        }
      ]
    },
    {
      "cell_type": "code",
      "source": [
        "# Display histogram charts for the numeric columns in the dataframe.\n",
        "df.hist(figsize=(12,9), bins=30)\n",
        "plt.tight_layout()\n",
        "plt.show;"
      ],
      "metadata": {
        "id": "vGurkLnSHkXt",
        "colab": {
          "base_uri": "https://localhost:8080/",
          "height": 657
        },
        "outputId": "fd6a359c-d2b9-4791-c167-e07241017448"
      },
      "execution_count": 42,
      "outputs": [
        {
          "output_type": "display_data",
          "data": {
            "text/plain": [
              "<Figure size 864x648 with 12 Axes>"
            ],
            "image/png": "[encoded data removed]"
          },
          "metadata": {
            "needs_background": "light"
          }
        }
      ]
    },
    {
      "cell_type": "markdown",
      "source": [
        "#### **Age**"
      ],
      "metadata": {
        "id": "yOy_kXUVVctC"
      }
    },
    {
      "cell_type": "code",
      "source": [
        "# Display column statistics.\n",
        "df.Age.describe()"
      ],
      "metadata": {
        "colab": {
          "base_uri": "https://localhost:8080/"
        },
        "id": "JwynJ9Pn8WDF",
        "outputId": "d9820dfc-8ba0-4206-fbf3-c0ee52593f43"
      },
      "execution_count": 43,
      "outputs": [
        {
          "output_type": "execute_result",
          "data": {
            "text/plain": [
              "count    2401.000000\n",
              "mean       48.691795\n",
              "std        17.632852\n",
              "min        20.000000\n",
              "25%        34.000000\n",
              "50%        48.000000\n",
              "75%        63.000000\n",
              "max        80.000000\n",
              "Name: Age, dtype: float64"
            ]
          },
          "metadata": {},
          "execution_count": 43
        }
      ]
    },
    {
      "cell_type": "code",
      "source": [
        "# Display column statistics.\n",
        "column_statistics('Age')"
      ],
      "metadata": {
        "colab": {
          "base_uri": "https://localhost:8080/"
        },
        "id": "JI4B8QY-C-V6",
        "outputId": "e974482e-3b88-4536-d739-0c56d1c9368c"
      },
      "execution_count": 44,
      "outputs": [
        {
          "output_type": "stream",
          "name": "stdout",
          "text": [
            "Missing Values: 0 (0.0)%\n",
            "Outliers: 0 (0.0)% low, 0 (0.0)% high\n",
            "Unique values: 61\n"
          ]
        }
      ]
    },
    {
      "cell_type": "code",
      "source": [
        "plt.figure(figsize = (12,4))\n",
        "sns.histplot(data=df, x='Age', color='#069AF3', bins=100); \n",
        "plt.title('Age Distribution', fontsize = 22, weight='bold')\n",
        "plt.xlabel('Years', fontsize = 16, weight='bold')\n",
        "plt.ylabel('Instance Count', fontsize = 16, weight='bold');\n",
        "plt.xticks(fontsize = 10, weight='bold', rotation=0)\n",
        "plt.yticks(fontsize = 10, weight='bold');\n",
        "plt.tight_layout()\n",
        "plt.show;"
      ],
      "metadata": {
        "colab": {
          "base_uri": "https://localhost:8080/",
          "height": 297
        },
        "outputId": "873ae7c5-fecd-49ce-cb31-ce34225e3e19",
        "id": "SCSz3NeYVctD"
      },
      "execution_count": 45,
      "outputs": [
        {
          "output_type": "display_data",
          "data": {
            "text/plain": [
              "<Figure size 864x288 with 1 Axes>"
            ],
            "image/png": "[encoded data removed]"
          },
          "metadata": {
            "needs_background": "light"
          }
        }
      ]
    },
    {
      "cell_type": "code",
      "source": [
        "plt.figure(figsize = (12, 2))\n",
        "sns.boxplot(data=df, x='Age', width=.5, color='#069AF3'); \n",
        "plt.title('Age Distribution', fontsize = 22, weight='bold')\n",
        "plt.xlabel('Years', fontsize = 16, weight='bold')\n",
        "plt.xticks(fontsize = 10, weight='bold', rotation=0)\n",
        "plt.tight_layout()\n",
        "plt.show;"
      ],
      "metadata": {
        "id": "Z7I4mRVGVctD",
        "colab": {
          "base_uri": "https://localhost:8080/",
          "height": 152
        },
        "outputId": "4caa41b9-f97e-4b3f-a32f-cbd7167bbd70"
      },
      "execution_count": 46,
      "outputs": [
        {
          "output_type": "display_data",
          "data": {
            "text/plain": [
              "<Figure size 864x144 with 1 Axes>"
            ],
            "image/png": "[encoded data removed]"
          },
          "metadata": {
            "needs_background": "light"
          }
        }
      ]
    },
    {
      "cell_type": "markdown",
      "source": [
        "- **Dispersion** - 'Age' is fairly evenly dispersed, with the excepton of the 79 year old value which is extremely high relative to other ages.\n",
        "- **Skew** - 'Age' does not appear to be skewed.\n",
        "- **Outliers** - 'Age' does not have any outliers.\n"
      ],
      "metadata": {
        "id": "p4VOHes8VctE"
      }
    },
    {
      "cell_type": "markdown",
      "source": [
        "#### **Income**"
      ],
      "metadata": {
        "id": "uEH1IXdDVdDF"
      }
    },
    {
      "cell_type": "code",
      "source": [
        "# Display column statistics.\n",
        "df.Income.describe()"
      ],
      "metadata": {
        "colab": {
          "base_uri": "https://localhost:8080/"
        },
        "id": "q_3FfjGT8yCV",
        "outputId": "8ca3c173-33c2-4960-a792-6b0f3a4c29b4"
      },
      "execution_count": 47,
      "outputs": [
        {
          "output_type": "execute_result",
          "data": {
            "text/plain": [
              "count    2284.000000\n",
              "mean     4005.253940\n",
              "std      2954.032186\n",
              "min       300.000000\n",
              "25%      1600.000000\n",
              "50%      2500.000000\n",
              "75%      6200.000000\n",
              "max      9000.000000\n",
              "Name: Income, dtype: float64"
            ]
          },
          "metadata": {},
          "execution_count": 47
        }
      ]
    },
    {
      "cell_type": "code",
      "source": [
        "# Display column statistics.\n",
        "column_statistics('Income')"
      ],
      "metadata": {
        "colab": {
          "base_uri": "https://localhost:8080/"
        },
        "id": "3xgQKafkDDHG",
        "outputId": "f153f5b1-c9c8-462c-ae4f-eda73424dd9e"
      },
      "execution_count": 48,
      "outputs": [
        {
          "output_type": "stream",
          "name": "stdout",
          "text": [
            "Missing Values: 117 (4.9)%\n",
            "Outliers: 0 (0.0)% low, 0 (0.0)% high\n",
            "Unique values: 14\n",
            "9000.0    337\n",
            "2500.0    257\n",
            "3500.0    228\n",
            "1000.0    210\n",
            "2000.0    207\n",
            "1600.0    190\n",
            "8200.0    178\n",
            "6200.0    138\n",
            "4500.0    136\n",
            "800.0     123\n",
            "NaN       117\n",
            "5400.0    103\n",
            "300.0      93\n",
            "1700.0     54\n",
            "1500.0     30\n",
            "Name: Income, dtype: int64\n"
          ]
        }
      ]
    },
    {
      "cell_type": "code",
      "source": [
        "plt.figure(figsize = (12,4))\n",
        "sns.histplot(data=df, x='Income', color='#069AF3', bins=20); \n",
        "plt.title('Income Distribution', fontsize = 22, weight='bold')\n",
        "plt.xlabel('Dollars', fontsize = 16, weight='bold')\n",
        "plt.ylabel('Instance Count', fontsize = 16, weight='bold');\n",
        "plt.xticks(fontsize = 10, weight='bold', rotation=0)\n",
        "plt.yticks(fontsize = 10, weight='bold');\n",
        "plt.tight_layout()\n",
        "plt.show;"
      ],
      "metadata": {
        "colab": {
          "base_uri": "https://localhost:8080/",
          "height": 297
        },
        "outputId": "8270779c-a1e7-4d13-f15c-5599ae4eb90d",
        "id": "gMT3utkvVdDG"
      },
      "execution_count": 49,
      "outputs": [
        {
          "output_type": "display_data",
          "data": {
            "text/plain": [
              "<Figure size 864x288 with 1 Axes>"
            ],
            "image/png": "[encoded data removed]"
          },
          "metadata": {
            "needs_background": "light"
          }
        }
      ]
    },
    {
      "cell_type": "code",
      "source": [
        "plt.figure(figsize = (12, 2))\n",
        "sns.boxplot(data=df, x='Income', width=.5, color='#069AF3'); \n",
        "plt.title('Income Distribution', fontsize = 22, weight='bold')\n",
        "plt.xlabel('Dollars', fontsize = 16, weight='bold')\n",
        "plt.xticks(fontsize = 10, weight='bold', rotation=0)\n",
        "plt.tight_layout()\n",
        "plt.show;"
      ],
      "metadata": {
        "colab": {
          "base_uri": "https://localhost:8080/",
          "height": 152
        },
        "id": "ieXUUGGsVdDG",
        "outputId": "0a0fa70e-6f0a-4e1f-e387-1c2d5319b441"
      },
      "execution_count": 50,
      "outputs": [
        {
          "output_type": "display_data",
          "data": {
            "text/plain": [
              "<Figure size 864x144 with 1 Axes>"
            ],
            "image/png": "[encoded data removed]"
          },
          "metadata": {
            "needs_background": "light"
          }
        }
      ]
    },
    {
      "cell_type": "markdown",
      "source": [
        "- **Dispersion** - 'Income' only has 14 unique values, and is not evenly dispersed.\n",
        "- **Skew** - 'Income' is postively skewed.\n",
        "- **Outliers** - 'Income' does not have any outliers."
      ],
      "metadata": {
        "id": "vlRJFsx1VdDH"
      }
    },
    {
      "cell_type": "markdown",
      "source": [
        "#### **WaistCirc**"
      ],
      "metadata": {
        "id": "XZpSLNhkVdN1"
      }
    },
    {
      "cell_type": "code",
      "source": [
        "# Display column statistics.\n",
        "column_statistics('WaistCirc')"
      ],
      "metadata": {
        "colab": {
          "base_uri": "https://localhost:8080/"
        },
        "id": "RGaAl-dp862T",
        "outputId": "9c1c9d4b-5347-4447-f37a-dc9dd4f97a91"
      },
      "execution_count": 51,
      "outputs": [
        {
          "output_type": "stream",
          "name": "stdout",
          "text": [
            "Missing Values: 85 (3.5)%\n",
            "Outliers: 0 (0.0)% low, 44 (1.8)% high\n",
            "Unique values: 635\n"
          ]
        }
      ]
    },
    {
      "cell_type": "code",
      "source": [
        "column_statistics('WaistCirc')"
      ],
      "metadata": {
        "colab": {
          "base_uri": "https://localhost:8080/"
        },
        "id": "dDb9SQFRDGvz",
        "outputId": "9e6d966a-b04b-4b8e-e78b-88f95c0eeff3"
      },
      "execution_count": 52,
      "outputs": [
        {
          "output_type": "stream",
          "name": "stdout",
          "text": [
            "Missing Values: 85 (3.5)%\n",
            "Outliers: 0 (0.0)% low, 44 (1.8)% high\n",
            "Unique values: 635\n"
          ]
        }
      ]
    },
    {
      "cell_type": "code",
      "source": [
        "plt.figure(figsize = (12,4))\n",
        "sns.histplot(data=df, x='WaistCirc', color='#069AF3', bins=100); \n",
        "plt.title('WaistCirc Distribution', fontsize = 22, weight='bold')\n",
        "plt.xlabel('Centimeters', fontsize = 16, weight='bold')\n",
        "plt.ylabel('Instance Count', fontsize = 16, weight='bold');\n",
        "plt.xticks(fontsize = 10, weight='bold', rotation=0)\n",
        "plt.yticks(fontsize = 10, weight='bold');\n",
        "plt.tight_layout()\n",
        "plt.show;"
      ],
      "metadata": {
        "colab": {
          "base_uri": "https://localhost:8080/",
          "height": 297
        },
        "outputId": "cc025d11-e415-40fe-f951-29fadd4aefed",
        "id": "qkEDpQuaVdN1"
      },
      "execution_count": 53,
      "outputs": [
        {
          "output_type": "display_data",
          "data": {
            "text/plain": [
              "<Figure size 864x288 with 1 Axes>"
            ],
            "image/png": "[encoded data removed]"
          },
          "metadata": {
            "needs_background": "light"
          }
        }
      ]
    },
    {
      "cell_type": "code",
      "source": [
        "plt.figure(figsize = (12, 2))\n",
        "\n",
        "sns.boxplot(data=df, x='WaistCirc', width=.5, color='#069AF3'); \n",
        "\n",
        "plt.title('WaistCirc Distribution', fontsize = 22, weight='bold')\n",
        "plt.xlabel('Centimeters', fontsize = 16, weight='bold')\n",
        "plt.xticks(fontsize = 10, weight='bold', rotation=0)\n",
        "\n",
        "plt.tight_layout()\n",
        "plt.show;"
      ],
      "metadata": {
        "colab": {
          "base_uri": "https://localhost:8080/",
          "height": 152
        },
        "id": "7hdSXKmhVdN2",
        "outputId": "40585396-d7e2-474c-9c40-3fe128804f7f"
      },
      "execution_count": 54,
      "outputs": [
        {
          "output_type": "display_data",
          "data": {
            "text/plain": [
              "<Figure size 864x144 with 1 Axes>"
            ],
            "image/png": "[encoded data removed]"
          },
          "metadata": {
            "needs_background": "light"
          }
        }
      ]
    },
    {
      "cell_type": "markdown",
      "source": [
        "- **Dispersion** - 'WaistCirc' is not evenly dispersed.\n",
        "- **Skew** - 'WaistCirc' does not appear to be skewed.\n",
        "- **Outliers** - 'WaistCirc' has 44 (1.8%) outliers on the high side. "
      ],
      "metadata": {
        "id": "mREOVtilVdN2"
      }
    },
    {
      "cell_type": "markdown",
      "source": [
        "#### **BMI**"
      ],
      "metadata": {
        "id": "vSf7bqf6VdYC"
      }
    },
    {
      "cell_type": "code",
      "source": [
        "# Display column statistics.\n",
        "df.BMI.describe()"
      ],
      "metadata": {
        "colab": {
          "base_uri": "https://localhost:8080/"
        },
        "id": "at9M1PVY8925",
        "outputId": "55af6393-bd75-4159-98fd-19a30b41c745"
      },
      "execution_count": 55,
      "outputs": [
        {
          "output_type": "execute_result",
          "data": {
            "text/plain": [
              "count    2375.000000\n",
              "mean       28.702189\n",
              "std         6.662242\n",
              "min        13.400000\n",
              "25%        24.000000\n",
              "50%        27.700000\n",
              "75%        32.100000\n",
              "max        68.700000\n",
              "Name: BMI, dtype: float64"
            ]
          },
          "metadata": {},
          "execution_count": 55
        }
      ]
    },
    {
      "cell_type": "code",
      "source": [
        "# Display column statistics.\n",
        "column_statistics('BMI')"
      ],
      "metadata": {
        "colab": {
          "base_uri": "https://localhost:8080/"
        },
        "id": "p25mlRmsDNAk",
        "outputId": "463fdc38-ea92-4997-ec50-da2f3ee8c5ab"
      },
      "execution_count": 56,
      "outputs": [
        {
          "output_type": "stream",
          "name": "stdout",
          "text": [
            "Missing Values: 26 (1.1)%\n",
            "Outliers: 0 (0.0)% low, 67 (2.8)% high\n",
            "Unique values: 322\n"
          ]
        }
      ]
    },
    {
      "cell_type": "code",
      "source": [
        "plt.figure(figsize = (12,4))\n",
        "sns.histplot(data=df, x='BMI', color='#069AF3', bins=100); \n",
        "plt.title('BMI Distribution', fontsize = 22, weight='bold')\n",
        "plt.xlabel('kg/m**2', fontsize = 16, weight='bold')\n",
        "plt.ylabel('Instance Count', fontsize = 16, weight='bold');\n",
        "plt.xticks(fontsize = 10, weight='bold', rotation=0)\n",
        "plt.yticks(fontsize = 10, weight='bold');\n",
        "plt.tight_layout()\n",
        "plt.show;"
      ],
      "metadata": {
        "colab": {
          "base_uri": "https://localhost:8080/",
          "height": 297
        },
        "outputId": "f379094a-2b99-4419-cdf4-6ec3e4a4465e",
        "id": "FOkKJC9eVdYD"
      },
      "execution_count": 57,
      "outputs": [
        {
          "output_type": "display_data",
          "data": {
            "text/plain": [
              "<Figure size 864x288 with 1 Axes>"
            ],
            "image/png": "[encoded data removed]"
          },
          "metadata": {
            "needs_background": "light"
          }
        }
      ]
    },
    {
      "cell_type": "code",
      "source": [
        "plt.figure(figsize = (12, 2))\n",
        "sns.boxplot(data=df, x='BMI', width=.5, color='#069AF3'); \n",
        "plt.title('BMI Distribution', fontsize = 22, weight='bold')\n",
        "plt.xlabel('BMI', fontsize = 16, weight='bold')\n",
        "plt.xticks(fontsize = 10, weight='bold', rotation=0)\n",
        "plt.tight_layout()\n",
        "plt.show;"
      ],
      "metadata": {
        "colab": {
          "base_uri": "https://localhost:8080/",
          "height": 152
        },
        "id": "EX6UFZPfVdYD",
        "outputId": "43b321db-b593-4e72-c59b-4bd3d372ed2d"
      },
      "execution_count": 58,
      "outputs": [
        {
          "output_type": "display_data",
          "data": {
            "text/plain": [
              "<Figure size 864x144 with 1 Axes>"
            ],
            "image/png": "[encoded data removed]"
          },
          "metadata": {
            "needs_background": "light"
          }
        }
      ]
    },
    {
      "cell_type": "markdown",
      "source": [
        "- **Dispersion** - 'WaistCirc' is not evenly dispersed.\n",
        "- **Skew** - 'WaistCirc' does not appear to be skewed.\n",
        "- **Outliers** - 'WaistCirc' has 67 (2.8%) outliers on the high side. "
      ],
      "metadata": {
        "id": "y__Mi0wIVdYE"
      }
    },
    {
      "cell_type": "markdown",
      "source": [
        "#### **Albuminuria**"
      ],
      "metadata": {
        "id": "owGwGFpSVdhH"
      }
    },
    {
      "cell_type": "code",
      "source": [
        "# Display column statistics.\n",
        "df.Albuminuria.describe()"
      ],
      "metadata": {
        "colab": {
          "base_uri": "https://localhost:8080/"
        },
        "id": "iE-TSv-59Ndj",
        "outputId": "ce8fec42-66dc-4c3f-db51-9973d6960975"
      },
      "execution_count": 59,
      "outputs": [
        {
          "output_type": "execute_result",
          "data": {
            "text/plain": [
              "count    2401.000000\n",
              "mean        0.154102\n",
              "std         0.422780\n",
              "min         0.000000\n",
              "25%         0.000000\n",
              "50%         0.000000\n",
              "75%         0.000000\n",
              "max         2.000000\n",
              "Name: Albuminuria, dtype: float64"
            ]
          },
          "metadata": {},
          "execution_count": 59
        }
      ]
    },
    {
      "cell_type": "code",
      "source": [
        "# Display column statistics.\n",
        "column_statistics('Albuminuria')"
      ],
      "metadata": {
        "colab": {
          "base_uri": "https://localhost:8080/"
        },
        "id": "NnQZKyZqDS07",
        "outputId": "fefe256b-5fe7-410a-c584-191b10ba9cfc"
      },
      "execution_count": 60,
      "outputs": [
        {
          "output_type": "stream",
          "name": "stdout",
          "text": [
            "Missing Values: 0 (0.0)%\n",
            "Outliers: 0 (0.0)% low, 312 (13.0)% high\n",
            "Unique values: 3\n",
            "0    2089\n",
            "1     254\n",
            "2      58\n",
            "Name: Albuminuria, dtype: int64\n"
          ]
        }
      ]
    },
    {
      "cell_type": "code",
      "source": [
        "plt.figure(figsize = (12,4))\n",
        "sns.histplot(data=df, x='Albuminuria', color='#069AF3', bins=3); \n",
        "plt.title('Albuminuria Distribution', fontsize = 22, weight='bold')\n",
        "plt.xlabel('mg/L', fontsize = 16, weight='bold')\n",
        "plt.ylabel('Instance Count', fontsize = 16, weight='bold');\n",
        "plt.xticks(fontsize = 10, weight='bold', rotation=0)\n",
        "plt.yticks(fontsize = 10, weight='bold');\n",
        "plt.tight_layout()\n",
        "plt.show;"
      ],
      "metadata": {
        "colab": {
          "base_uri": "https://localhost:8080/",
          "height": 297
        },
        "outputId": "cdc31d28-af71-4457-f34b-8cbec6a50aca",
        "id": "PqL2V06CVdhH"
      },
      "execution_count": 61,
      "outputs": [
        {
          "output_type": "display_data",
          "data": {
            "text/plain": [
              "<Figure size 864x288 with 1 Axes>"
            ],
            "image/png": "[encoded data removed]"
          },
          "metadata": {
            "needs_background": "light"
          }
        }
      ]
    },
    {
      "cell_type": "code",
      "source": [
        "plt.figure(figsize = (12, 2))\n",
        "sns.boxplot(data=df, x='Albuminuria', width=.5, color='#069AF3'); \n",
        "plt.title('Albuminuria Distribution', fontsize = 22, weight='bold')\n",
        "plt.xlabel('mg/L', fontsize = 16, weight='bold')\n",
        "plt.xticks(fontsize = 10, weight='bold', rotation=0)\n",
        "plt.tight_layout()\n",
        "plt.show;"
      ],
      "metadata": {
        "colab": {
          "base_uri": "https://localhost:8080/",
          "height": 152
        },
        "id": "fIrhpftpVdhI",
        "outputId": "63f13d12-2151-49f8-d608-4504494d3cdf"
      },
      "execution_count": 62,
      "outputs": [
        {
          "output_type": "display_data",
          "data": {
            "text/plain": [
              "<Figure size 864x144 with 1 Axes>"
            ],
            "image/png": "[encoded data removed]"
          },
          "metadata": {
            "needs_background": "light"
          }
        }
      ]
    },
    {
      "cell_type": "markdown",
      "source": [
        "- Albuminuria is an ordinal column with values of 0, 1, and 2.\n",
        "- It has a significant count of '0' values relative to the '1' and '2' values.\n",
        "- **Outliers** - 'WaistCirc' has 312 (13.0%) outliers on the high side, this includes all of the '1' and '2' values."
      ],
      "metadata": {
        "id": "8GVLf4w2VdhI"
      }
    },
    {
      "cell_type": "markdown",
      "source": [
        "#### **UrAlbCr**"
      ],
      "metadata": {
        "id": "Hn5YWROrVdqb"
      }
    },
    {
      "cell_type": "code",
      "source": [
        "# Display column statistics.\n",
        "df.UrAlbCr.describe()"
      ],
      "metadata": {
        "colab": {
          "base_uri": "https://localhost:8080/"
        },
        "id": "s6-J98Br9Uo_",
        "outputId": "b5a99b57-b3fb-4ac8-d42f-043a50f2cafd"
      },
      "execution_count": 63,
      "outputs": [
        {
          "output_type": "execute_result",
          "data": {
            "text/plain": [
              "count    2401.000000\n",
              "mean       43.626131\n",
              "std       258.272829\n",
              "min         1.400000\n",
              "25%         4.450000\n",
              "50%         7.070000\n",
              "75%        13.690000\n",
              "max      5928.000000\n",
              "Name: UrAlbCr, dtype: float64"
            ]
          },
          "metadata": {},
          "execution_count": 63
        }
      ]
    },
    {
      "cell_type": "code",
      "source": [
        "# Display column statistics.\n",
        "column_statistics('UrAlbCr')"
      ],
      "metadata": {
        "colab": {
          "base_uri": "https://localhost:8080/"
        },
        "id": "V7WBKrhbDZ8M",
        "outputId": "adad6210-b64c-4331-ddb6-3848dd426da3"
      },
      "execution_count": 64,
      "outputs": [
        {
          "output_type": "stream",
          "name": "stdout",
          "text": [
            "Missing Values: 0 (0.0)%\n",
            "Outliers: 0 (0.0)% low, 332 (13.8)% high\n",
            "Unique values: 1383\n"
          ]
        }
      ]
    },
    {
      "cell_type": "code",
      "source": [
        "plt.figure(figsize = (12,4))\n",
        "sns.histplot(data=df, x='UrAlbCr', color='#069AF3', bins=100); \n",
        "plt.title('UrAlbCr Distribution', fontsize = 22, weight='bold')\n",
        "plt.xlabel('(mcg/L)/(mg/L)', fontsize = 16, weight='bold')\n",
        "plt.ylabel('Instance Count', fontsize = 16, weight='bold');\n",
        "plt.xticks(fontsize = 10, weight='bold', rotation=0)\n",
        "plt.yticks(fontsize = 10, weight='bold');\n",
        "plt.tight_layout()\n",
        "plt.show;"
      ],
      "metadata": {
        "colab": {
          "base_uri": "https://localhost:8080/",
          "height": 297
        },
        "outputId": "486bf54d-6685-4b9a-accc-af09fa5adbcf",
        "id": "ekVoG_QbVdqb"
      },
      "execution_count": 65,
      "outputs": [
        {
          "output_type": "display_data",
          "data": {
            "text/plain": [
              "<Figure size 864x288 with 1 Axes>"
            ],
            "image/png": "[encoded data removed]"
          },
          "metadata": {
            "needs_background": "light"
          }
        }
      ]
    },
    {
      "cell_type": "code",
      "source": [
        "plt.figure(figsize = (12, 2))\n",
        "sns.boxplot(data=df, x='UrAlbCr', width=.5, color='#069AF3'); \n",
        "plt.title('UrAlbCr', fontsize = 22, weight='bold')\n",
        "plt.xlabel('(mcg/L)/(mg/L)', fontsize = 16, weight='bold')\n",
        "plt.xticks(fontsize = 10, weight='bold', rotation=0)\n",
        "plt.tight_layout()\n",
        "plt.show;"
      ],
      "metadata": {
        "colab": {
          "base_uri": "https://localhost:8080/",
          "height": 152
        },
        "id": "_rdP9DUfVdqc",
        "outputId": "bccc353b-5064-4b64-c23a-b20d650cb6e9"
      },
      "execution_count": 66,
      "outputs": [
        {
          "output_type": "display_data",
          "data": {
            "text/plain": [
              "<Figure size 864x144 with 1 Axes>"
            ],
            "image/png": "[encoded data removed]"
          },
          "metadata": {
            "needs_background": "light"
          }
        }
      ]
    },
    {
      "cell_type": "markdown",
      "source": [
        "- **Dispersion** - 'UrAlbCr' has the majority or its values between 0 and 100.\n",
        "- **Outliers** - 'UrAlbCr' has 332 (13.8%) outliers on the high side. "
      ],
      "metadata": {
        "id": "5svr_871Vdqc"
      }
    },
    {
      "cell_type": "markdown",
      "source": [
        "#### **UricAcid**"
      ],
      "metadata": {
        "id": "CuuastPsVdzL"
      }
    },
    {
      "cell_type": "code",
      "source": [
        "# Display column statistics.\n",
        "df.UricAcid.describe()"
      ],
      "metadata": {
        "colab": {
          "base_uri": "https://localhost:8080/"
        },
        "id": "VpFLv8xm9dMP",
        "outputId": "17e6bf21-b514-4faa-9aa6-7cd4bfc5d71e"
      },
      "execution_count": 67,
      "outputs": [
        {
          "output_type": "execute_result",
          "data": {
            "text/plain": [
              "count    2401.000000\n",
              "mean        5.489046\n",
              "std         1.439358\n",
              "min         1.800000\n",
              "25%         4.500000\n",
              "50%         5.400000\n",
              "75%         6.400000\n",
              "max        11.300000\n",
              "Name: UricAcid, dtype: float64"
            ]
          },
          "metadata": {},
          "execution_count": 67
        }
      ]
    },
    {
      "cell_type": "code",
      "source": [
        "# Display column statistics.\n",
        "column_statistics('UricAcid')"
      ],
      "metadata": {
        "colab": {
          "base_uri": "https://localhost:8080/"
        },
        "id": "u5iND1jtDgb_",
        "outputId": "555c8bc0-13c4-4c1c-e666-779d1a62ca85"
      },
      "execution_count": 68,
      "outputs": [
        {
          "output_type": "stream",
          "name": "stdout",
          "text": [
            "Missing Values: 0 (0.0)%\n",
            "Outliers: 0 (0.0)% low, 30 (1.2)% high\n",
            "Unique values: 88\n"
          ]
        }
      ]
    },
    {
      "cell_type": "code",
      "source": [
        "plt.figure(figsize = (12,4))\n",
        "sns.histplot(data=df, x='UricAcid', color='#069AF3', bins=100); \n",
        "plt.title('UricAcid Distribution', fontsize = 22, weight='bold')\n",
        "plt.xlabel('mg/dl', fontsize = 16, weight='bold')\n",
        "plt.ylabel('Instance Count', fontsize = 16, weight='bold');\n",
        "plt.xticks(fontsize = 10, weight='bold', rotation=00)\n",
        "plt.yticks(fontsize = 10, weight='bold');\n",
        "plt.tight_layout()\n",
        "plt.show;"
      ],
      "metadata": {
        "colab": {
          "base_uri": "https://localhost:8080/",
          "height": 297
        },
        "outputId": "d89a61e7-1a95-473f-f739-3ea24f83d697",
        "id": "TQDIYCy6VdzM"
      },
      "execution_count": 69,
      "outputs": [
        {
          "output_type": "display_data",
          "data": {
            "text/plain": [
              "<Figure size 864x288 with 1 Axes>"
            ],
            "image/png": "[encoded data removed]"
          },
          "metadata": {
            "needs_background": "light"
          }
        }
      ]
    },
    {
      "cell_type": "code",
      "source": [
        "plt.figure(figsize = (12, 2))\n",
        "sns.boxplot(data=df, x='UricAcid', width=.5, color='#069AF3'); \n",
        "plt.title('UricAcid Distribution', fontsize = 22, weight='bold')\n",
        "plt.xlabel('mg/dl', fontsize = 16, weight='bold')\n",
        "plt.xticks(fontsize = 10, weight='bold', rotation=0)\n",
        "plt.tight_layout()\n",
        "plt.show;"
      ],
      "metadata": {
        "colab": {
          "base_uri": "https://localhost:8080/",
          "height": 152
        },
        "id": "RFkSItmmVdzM",
        "outputId": "60c09848-4744-45be-ecfc-994ea3ea1ca5"
      },
      "execution_count": 70,
      "outputs": [
        {
          "output_type": "display_data",
          "data": {
            "text/plain": [
              "<Figure size 864x144 with 1 Axes>"
            ],
            "image/png": "[encoded data removed]"
          },
          "metadata": {
            "needs_background": "light"
          }
        }
      ]
    },
    {
      "cell_type": "markdown",
      "source": [
        "- **Dispersion** - 'UricAcid' is not evenly dispersed.\n",
        "- **Skew** - 'UricAcid' is not skewed.\n",
        "- **Outliers** - 'UricAcid' has 30 (1.2%) outliers in the high side."
      ],
      "metadata": {
        "id": "bQdujrlQVdzM"
      }
    },
    {
      "cell_type": "markdown",
      "source": [
        "#### **BloodGlucose**"
      ],
      "metadata": {
        "id": "s5AC_IeNVeGF"
      }
    },
    {
      "cell_type": "code",
      "source": [
        "# Display column statistics.\n",
        "df.BloodGlucose.describe()"
      ],
      "metadata": {
        "colab": {
          "base_uri": "https://localhost:8080/"
        },
        "id": "oJzCLU6B9lWa",
        "outputId": "3beba402-1dea-42d7-b08b-ca5dcbf3c8f4"
      },
      "execution_count": 71,
      "outputs": [
        {
          "output_type": "execute_result",
          "data": {
            "text/plain": [
              "count    2401.000000\n",
              "mean      108.247813\n",
              "std        34.820657\n",
              "min        39.000000\n",
              "25%        92.000000\n",
              "50%        99.000000\n",
              "75%       110.000000\n",
              "max       382.000000\n",
              "Name: BloodGlucose, dtype: float64"
            ]
          },
          "metadata": {},
          "execution_count": 71
        }
      ]
    },
    {
      "cell_type": "code",
      "source": [
        "# Display column statistics.\n",
        "column_statistics('BloodGlucose')"
      ],
      "metadata": {
        "colab": {
          "base_uri": "https://localhost:8080/"
        },
        "id": "gD7ah_gSDmpI",
        "outputId": "b75ea471-5bc0-4e9e-c814-8fd4474002b6"
      },
      "execution_count": 72,
      "outputs": [
        {
          "output_type": "stream",
          "name": "stdout",
          "text": [
            "Missing Values: 0 (0.0)%\n",
            "Outliers: 6 (0.2)% low, 214 (8.9)% high\n",
            "Unique values: 187\n"
          ]
        }
      ]
    },
    {
      "cell_type": "code",
      "source": [
        "plt.figure(figsize = (12,4))\n",
        "sns.histplot(data=df, x='BloodGlucose', color='#069AF3', bins=100); \n",
        "plt.title('BloodGlucose Distribution', fontsize = 22, weight='bold')\n",
        "plt.xlabel('mg/dL', fontsize = 16, weight='bold')\n",
        "plt.ylabel('Instance Count', fontsize = 16, weight='bold');\n",
        "plt.xticks(fontsize = 10, weight='bold', rotation=0)\n",
        "plt.yticks(fontsize = 10, weight='bold');\n",
        "plt.tight_layout()\n",
        "plt.show;"
      ],
      "metadata": {
        "colab": {
          "base_uri": "https://localhost:8080/",
          "height": 297
        },
        "outputId": "37c4e045-7b40-4634-db74-1fcf747a89fb",
        "id": "TY5Jj1FsVeGG"
      },
      "execution_count": 73,
      "outputs": [
        {
          "output_type": "display_data",
          "data": {
            "text/plain": [
              "<Figure size 864x288 with 1 Axes>"
            ],
            "image/png": "[encoded data removed]"
          },
          "metadata": {
            "needs_background": "light"
          }
        }
      ]
    },
    {
      "cell_type": "code",
      "source": [
        "plt.figure(figsize = (12, 2))\n",
        "sns.boxplot(data=df, x='BloodGlucose', width=.5, color='#069AF3'); \n",
        "plt.title('BloodGlucose Distribution', fontsize = 22, weight='bold')\n",
        "plt.xlabel('mg/dL', fontsize = 16, weight='bold')\n",
        "plt.xticks(fontsize = 10, weight='bold', rotation=0)\n",
        "plt.tight_layout()\n",
        "plt.show;"
      ],
      "metadata": {
        "colab": {
          "base_uri": "https://localhost:8080/",
          "height": 152
        },
        "id": "2raOkOUzVeGG",
        "outputId": "a05baa40-9711-4c16-fd8a-c31e33a1e4dc"
      },
      "execution_count": 74,
      "outputs": [
        {
          "output_type": "display_data",
          "data": {
            "text/plain": [
              "<Figure size 864x144 with 1 Axes>"
            ],
            "image/png": "[encoded data removed]"
          },
          "metadata": {
            "needs_background": "light"
          }
        }
      ]
    },
    {
      "cell_type": "markdown",
      "source": [
        "- **Dispersion** - 'BloodGlucose' is not evenly dispersed.\n",
        "- **Skew** - 'BloodGlucose' is slightly positively skewed.\n",
        "- **Outliers** - 'BloodGlucose' has 6 (0.2%) outliers on the low side, and 214 (8.9)% outliers on the high side."
      ],
      "metadata": {
        "id": "6-KAhrDOVeGG"
      }
    },
    {
      "cell_type": "markdown",
      "source": [
        "#### **HDL**"
      ],
      "metadata": {
        "id": "l33exiPzXJsm"
      }
    },
    {
      "cell_type": "code",
      "source": [
        "# Display column statistics.\n",
        "df.HDL.describe()"
      ],
      "metadata": {
        "colab": {
          "base_uri": "https://localhost:8080/"
        },
        "id": "c_nUH06F9tYW",
        "outputId": "afcf444d-42e2-4a2f-c568-fdab69139b3b"
      },
      "execution_count": 75,
      "outputs": [
        {
          "output_type": "execute_result",
          "data": {
            "text/plain": [
              "count    2401.000000\n",
              "mean       53.369429\n",
              "std        15.185537\n",
              "min        14.000000\n",
              "25%        43.000000\n",
              "50%        51.000000\n",
              "75%        62.000000\n",
              "max       156.000000\n",
              "Name: HDL, dtype: float64"
            ]
          },
          "metadata": {},
          "execution_count": 75
        }
      ]
    },
    {
      "cell_type": "code",
      "source": [
        "# Display column statistics.\n",
        "column_statistics('HDL')"
      ],
      "metadata": {
        "colab": {
          "base_uri": "https://localhost:8080/"
        },
        "id": "uKPinaZ5Dt9_",
        "outputId": "24143527-b3d6-4d16-ce2b-6e4b2c88509e"
      },
      "execution_count": 76,
      "outputs": [
        {
          "output_type": "stream",
          "name": "stdout",
          "text": [
            "Missing Values: 0 (0.0)%\n",
            "Outliers: 1 (0.0)% low, 53 (2.2)% high\n",
            "Unique values: 93\n"
          ]
        }
      ]
    },
    {
      "cell_type": "code",
      "source": [
        "plt.figure(figsize = (12,4))\n",
        "sns.histplot(data=df, x='HDL', color='#069AF3', bins=100); \n",
        "plt.title('HDL Distribution', fontsize = 22, weight='bold')\n",
        "plt.xlabel('mg/dl', fontsize = 16, weight='bold')\n",
        "plt.ylabel('Item Count', fontsize = 16, weight='bold');\n",
        "plt.xticks(fontsize = 10, weight='bold', rotation=0)\n",
        "plt.yticks(fontsize = 10, weight='bold');\n",
        "plt.tight_layout()\n",
        "plt.show;"
      ],
      "metadata": {
        "colab": {
          "base_uri": "https://localhost:8080/",
          "height": 297
        },
        "outputId": "2c3779a6-75f2-4ace-bf74-d92acc1050de",
        "id": "UYduC8wUXJsq"
      },
      "execution_count": 77,
      "outputs": [
        {
          "output_type": "display_data",
          "data": {
            "text/plain": [
              "<Figure size 864x288 with 1 Axes>"
            ],
            "image/png": "[encoded data removed]"
          },
          "metadata": {
            "needs_background": "light"
          }
        }
      ]
    },
    {
      "cell_type": "code",
      "source": [
        "plt.figure(figsize = (12, 2))\n",
        "sns.boxplot(data=df, x='HDL', color='#069AF3'); \n",
        "plt.title('HDL Distribution', fontsize = 22, weight='bold')\n",
        "plt.xlabel('mg/dl', fontsize = 16, weight='bold')\n",
        "plt.xticks(fontsize = 10, weight='bold', rotation=0)\n",
        "plt.tight_layout()\n",
        "plt.show;"
      ],
      "metadata": {
        "colab": {
          "base_uri": "https://localhost:8080/",
          "height": 152
        },
        "outputId": "6e1ef554-4cba-48cb-b1b5-bc05c5d92b8a",
        "id": "fwq9tA4uXJsr"
      },
      "execution_count": 78,
      "outputs": [
        {
          "output_type": "display_data",
          "data": {
            "text/plain": [
              "<Figure size 864x144 with 1 Axes>"
            ],
            "image/png": "[encoded data removed]"
          },
          "metadata": {
            "needs_background": "light"
          }
        }
      ]
    },
    {
      "cell_type": "markdown",
      "source": [
        "- **Dispersion** - 'HDL' is not evenly dispersed.\n",
        "- **Skew** - 'HDL' is slightly positively skewed.\n",
        "- **Outliers** - 'HDL' has only 1 (0.0%) outlier on the low side, 53 (2.2%) outliers on the high side."
      ],
      "metadata": {
        "id": "p38OQlzoXJsr"
      }
    },
    {
      "cell_type": "markdown",
      "source": [
        "#### **Triglycerides**"
      ],
      "metadata": {
        "id": "FyMgDZswXKDv"
      }
    },
    {
      "cell_type": "code",
      "source": [
        "# Display column statistics.\n",
        "df.Triglycerides.describe()"
      ],
      "metadata": {
        "colab": {
          "base_uri": "https://localhost:8080/"
        },
        "id": "gP6vX8ZU902m",
        "outputId": "b9a1479a-0792-4bd6-fea6-fa62e1a9febe"
      },
      "execution_count": 79,
      "outputs": [
        {
          "output_type": "execute_result",
          "data": {
            "text/plain": [
              "count    2401.000000\n",
              "mean      128.125364\n",
              "std        95.322477\n",
              "min        26.000000\n",
              "25%        75.000000\n",
              "50%       103.000000\n",
              "75%       150.000000\n",
              "max      1562.000000\n",
              "Name: Triglycerides, dtype: float64"
            ]
          },
          "metadata": {},
          "execution_count": 79
        }
      ]
    },
    {
      "cell_type": "code",
      "source": [
        "# Display column statistics.\n",
        "column_statistics('Triglycerides')"
      ],
      "metadata": {
        "colab": {
          "base_uri": "https://localhost:8080/"
        },
        "id": "tZKWBb2kD3i_",
        "outputId": "0559a4ff-ee30-40b0-9586-ff54e953b96b"
      },
      "execution_count": 80,
      "outputs": [
        {
          "output_type": "stream",
          "name": "stdout",
          "text": [
            "Missing Values: 0 (0.0)%\n",
            "Outliers: 0 (0.0)% low, 161 (6.7)% high\n",
            "Unique values: 345\n"
          ]
        }
      ]
    },
    {
      "cell_type": "code",
      "source": [
        "plt.figure(figsize = (12,4))\n",
        "sns.histplot(data=df, x='Triglycerides', color='#069AF3', bins=100); \n",
        "plt.title('Triglycerides Distribution', fontsize = 22, weight='bold')\n",
        "plt.xlabel('mg/dL', fontsize = 16, weight='bold')\n",
        "plt.ylabel('Instance Count', fontsize = 16, weight='bold');\n",
        "plt.xticks(fontsize = 10, weight='bold', rotation=0)\n",
        "plt.yticks(fontsize = 10, weight='bold');\n",
        "plt.tight_layout()\n",
        "plt.show;"
      ],
      "metadata": {
        "colab": {
          "base_uri": "https://localhost:8080/",
          "height": 297
        },
        "outputId": "45c6b90e-0f92-462f-f01a-749903239cb7",
        "id": "MaTxOqUgXKDw"
      },
      "execution_count": 81,
      "outputs": [
        {
          "output_type": "display_data",
          "data": {
            "text/plain": [
              "<Figure size 864x288 with 1 Axes>"
            ],
            "image/png": "[encoded data removed]"
          },
          "metadata": {
            "needs_background": "light"
          }
        }
      ]
    },
    {
      "cell_type": "code",
      "source": [
        "plt.figure(figsize = (12, 2))\n",
        "sns.boxplot(data=df, x='Triglycerides', color='#069AF3'); \n",
        "plt.title('Triglycerides Distribution', fontsize = 22, weight='bold')\n",
        "plt.xlabel('mg/dL', fontsize = 16, weight='bold')\n",
        "plt.xticks(fontsize = 10, weight='bold', rotation=0)\n",
        "plt.tight_layout()\n",
        "plt.show;"
      ],
      "metadata": {
        "colab": {
          "base_uri": "https://localhost:8080/",
          "height": 152
        },
        "outputId": "92d80ca6-2d65-4e3b-8396-72909c11c949",
        "id": "AyB2n-ZDXKDw"
      },
      "execution_count": 82,
      "outputs": [
        {
          "output_type": "display_data",
          "data": {
            "text/plain": [
              "<Figure size 864x144 with 1 Axes>"
            ],
            "image/png": "[encoded data removed]"
          },
          "metadata": {
            "needs_background": "light"
          }
        }
      ]
    },
    {
      "cell_type": "markdown",
      "source": [
        "- **Dispersion** - 'Triglycerides' is not evenly dispersed.\n",
        "- **Skew** - 'Triglycerides' is slightly positively skewed.\n",
        "- **Outliers** - 'Triglycerides' has 161 (6.7%) outliers on the high side."
      ],
      "metadata": {
        "id": "e7dj4vSbXKDx"
      }
    },
    {
      "cell_type": "markdown",
      "source": [
        "### **Categorical Columns**"
      ],
      "metadata": {
        "id": "v7f3iwOtoss5"
      }
    },
    {
      "cell_type": "markdown",
      "source": [
        "#### **Summary Statistics**"
      ],
      "metadata": {
        "id": "gghNiJeuF9sF"
      }
    },
    {
      "cell_type": "code",
      "source": [
        "# Display the descriptive statistics for the non-numeric columns.\n",
        "df.describe(exclude=('number'))"
      ],
      "metadata": {
        "id": "vYEzy06soxBb",
        "colab": {
          "base_uri": "https://localhost:8080/",
          "height": 175
        },
        "outputId": "d0f34d62-c852-4e7d-e361-c3d8f511123c"
      },
      "execution_count": 83,
      "outputs": [
        {
          "output_type": "execute_result",
          "data": {
            "text/plain": [
              "           Sex  Marital   Race MetabolicSyndrome\n",
              "count     2401     2401   2401              2401\n",
              "unique       2        6      6                 2\n",
              "top     Female  Married  White         No MetSyn\n",
              "freq      1211     1192    933              1579"
            ],
            "text/html": [
              "\n",
              "  <div id=\"df-103ec245-fe59-45c5-91fd-3cf1382d25c2\">\n",
              "    <div class=\"colab-df-container\">\n",
              "      <div>\n",
              "<style scoped>\n",
              "    .dataframe tbody tr th:only-of-type {\n",
              "        vertical-align: middle;\n",
              "    }\n",
              "\n",
              "    .dataframe tbody tr th {\n",
              "        vertical-align: top;\n",
              "    }\n",
              "\n",
              "    .dataframe thead th {\n",
              "        text-align: right;\n",
              "    }\n",
              "</style>\n",
              "<table border=\"1\" class=\"dataframe\">\n",
              "  <thead>\n",
              "    <tr style=\"text-align: right;\">\n",
              "      <th></th>\n",
              "      <th>Sex</th>\n",
              "      <th>Marital</th>\n",
              "      <th>Race</th>\n",
              "      <th>MetabolicSyndrome</th>\n",
              "    </tr>\n",
              "  </thead>\n",
              "  <tbody>\n",
              "    <tr>\n",
              "      <th>count</th>\n",
              "      <td>2401</td>\n",
              "      <td>2401</td>\n",
              "      <td>2401</td>\n",
              "      <td>2401</td>\n",
              "    </tr>\n",
              "    <tr>\n",
              "      <th>unique</th>\n",
              "      <td>2</td>\n",
              "      <td>6</td>\n",
              "      <td>6</td>\n",
              "      <td>2</td>\n",
              "    </tr>\n",
              "    <tr>\n",
              "      <th>top</th>\n",
              "      <td>Female</td>\n",
              "      <td>Married</td>\n",
              "      <td>White</td>\n",
              "      <td>No MetSyn</td>\n",
              "    </tr>\n",
              "    <tr>\n",
              "      <th>freq</th>\n",
              "      <td>1211</td>\n",
              "      <td>1192</td>\n",
              "      <td>933</td>\n",
              "      <td>1579</td>\n",
              "    </tr>\n",
              "  </tbody>\n",
              "</table>\n",
              "</div>\n",
              "      <button class=\"colab-df-convert\" onclick=\"convertToInteractive('df-103ec245-fe59-45c5-91fd-3cf1382d25c2')\"\n",
              "              title=\"Convert this dataframe to an interactive table.\"\n",
              "              style=\"display:none;\">\n",
              "        \n",
              "  <svg xmlns=\"http://www.w3.org/2000/svg\" height=\"24px\"viewBox=\"0 0 24 24\"\n",
              "       width=\"24px\">\n",
              "    <path d=\"M0 0h24v24H0V0z\" fill=\"none\"/>\n",
              "    <path d=\"M18.56 5.44l.94 2.06.94-2.06 2.06-.94-2.06-.94-.94-2.06-.94 2.06-2.06.94zm-11 1L8.5 8.5l.94-2.06 2.06-.94-2.06-.94L8.5 2.5l-.94 2.06-2.06.94zm10 10l.94 2.06.94-2.06 2.06-.94-2.06-.94-.94-2.06-.94 2.06-2.06.94z\"/><path d=\"M17.41 7.96l-1.37-1.37c-.4-.4-.92-.59-1.43-.59-.52 0-1.04.2-1.43.59L10.3 9.45l-7.72 7.72c-.78.78-.78 2.05 0 2.83L4 21.41c.39.39.9.59 1.41.59.51 0 1.02-.2 1.41-.59l7.78-7.78 2.81-2.81c.8-.78.8-2.07 0-2.86zM5.41 20L4 18.59l7.72-7.72 1.47 1.35L5.41 20z\"/>\n",
              "  </svg>\n",
              "      </button>\n",
              "      \n",
              "  <style>\n",
              "    .colab-df-container {\n",
              "      display:flex;\n",
              "      flex-wrap:wrap;\n",
              "      gap: 12px;\n",
              "    }\n",
              "\n",
              "    .colab-df-convert {\n",
              "      background-color: #E8F0FE;\n",
              "      border: none;\n",
              "      border-radius: 50%;\n",
              "      cursor: pointer;\n",
              "      display: none;\n",
              "      fill: #1967D2;\n",
              "      height: 32px;\n",
              "      padding: 0 0 0 0;\n",
              "      width: 32px;\n",
              "    }\n",
              "\n",
              "    .colab-df-convert:hover {\n",
              "      background-color: #E2EBFA;\n",
              "      box-shadow: 0px 1px 2px rgba(60, 64, 67, 0.3), 0px 1px 3px 1px rgba(60, 64, 67, 0.15);\n",
              "      fill: #174EA6;\n",
              "    }\n",
              "\n",
              "    [theme=dark] .colab-df-convert {\n",
              "      background-color: #3B4455;\n",
              "      fill: #D2E3FC;\n",
              "    }\n",
              "\n",
              "    [theme=dark] .colab-df-convert:hover {\n",
              "      background-color: #434B5C;\n",
              "      box-shadow: 0px 1px 3px 1px rgba(0, 0, 0, 0.15);\n",
              "      filter: drop-shadow(0px 1px 2px rgba(0, 0, 0, 0.3));\n",
              "      fill: #FFFFFF;\n",
              "    }\n",
              "  </style>\n",
              "\n",
              "      <script>\n",
              "        const buttonEl =\n",
              "          document.querySelector('#df-103ec245-fe59-45c5-91fd-3cf1382d25c2 button.colab-df-convert');\n",
              "        buttonEl.style.display =\n",
              "          google.colab.kernel.accessAllowed ? 'block' : 'none';\n",
              "\n",
              "        async function convertToInteractive(key) {\n",
              "          const element = document.querySelector('#df-103ec245-fe59-45c5-91fd-3cf1382d25c2');\n",
              "          const dataTable =\n",
              "            await google.colab.kernel.invokeFunction('convertToInteractive',\n",
              "                                                     [key], {});\n",
              "          if (!dataTable) return;\n",
              "\n",
              "          const docLinkHtml = 'Like what you see? Visit the ' +\n",
              "            '<a target=\"_blank\" href=https://colab.research.google.com/notebooks/data_table.ipynb>data table notebook</a>'\n",
              "            + ' to learn more about interactive tables.';\n",
              "          element.innerHTML = '';\n",
              "          dataTable['output_type'] = 'display_data';\n",
              "          await google.colab.output.renderOutput(dataTable, element);\n",
              "          const docLink = document.createElement('div');\n",
              "          docLink.innerHTML = docLinkHtml;\n",
              "          element.appendChild(docLink);\n",
              "        }\n",
              "      </script>\n",
              "    </div>\n",
              "  </div>\n",
              "  "
            ]
          },
          "metadata": {},
          "execution_count": 83
        }
      ]
    },
    {
      "cell_type": "markdown",
      "source": [
        "- No issues noted."
      ],
      "metadata": {
        "id": "AvpJythc_3T-"
      }
    },
    {
      "cell_type": "markdown",
      "source": [
        "#### **Sex**"
      ],
      "metadata": {
        "id": "xj5aKKkKlCY7"
      }
    },
    {
      "cell_type": "code",
      "source": [
        "# Display column statistics.\n",
        "df.Sex.describe()"
      ],
      "metadata": {
        "colab": {
          "base_uri": "https://localhost:8080/"
        },
        "id": "KJH41DfE97TC",
        "outputId": "df6879e8-0122-4e8c-8399-382fb32825a6"
      },
      "execution_count": 84,
      "outputs": [
        {
          "output_type": "execute_result",
          "data": {
            "text/plain": [
              "count       2401\n",
              "unique         2\n",
              "top       Female\n",
              "freq        1211\n",
              "Name: Sex, dtype: object"
            ]
          },
          "metadata": {},
          "execution_count": 84
        }
      ]
    },
    {
      "cell_type": "code",
      "source": [
        "# Display column statistics.\n",
        "column_statistics('Sex')"
      ],
      "metadata": {
        "colab": {
          "base_uri": "https://localhost:8080/"
        },
        "id": "dKpp8zGvELOi",
        "outputId": "1c7c0451-3031-4799-9e9a-09bfa879bca1"
      },
      "execution_count": 85,
      "outputs": [
        {
          "output_type": "stream",
          "name": "stdout",
          "text": [
            "Missing Values: 0 (0.0)%\n",
            "Unique values: 2\n",
            "Female    1211\n",
            "Male      1190\n",
            "Name: Sex, dtype: int64\n"
          ]
        }
      ]
    },
    {
      "cell_type": "code",
      "source": [
        "# Display column statistics.\n",
        "df['Sex'].value_counts(normalize=True)"
      ],
      "metadata": {
        "id": "H6KY68TumlHs",
        "colab": {
          "base_uri": "https://localhost:8080/"
        },
        "outputId": "de901aa3-9bfc-4bde-e2c4-42642b8ba0f2"
      },
      "execution_count": 86,
      "outputs": [
        {
          "output_type": "execute_result",
          "data": {
            "text/plain": [
              "Female    0.504373\n",
              "Male      0.495627\n",
              "Name: Sex, dtype: float64"
            ]
          },
          "metadata": {},
          "execution_count": 86
        }
      ]
    },
    {
      "cell_type": "code",
      "source": [
        "plt.figure(figsize = (12,4))\n",
        "sns.countplot(data=df, x=df.Sex, color='#069AF3', order=['Female', 'Male'])\n",
        "plt.title('Sex', fontsize = 22, weight='bold');\n",
        "plt.xlabel('', fontsize = 16, weight='bold');\n",
        "plt.ylabel('Instance Count', fontsize = 16, weight='bold');\n",
        "plt.xticks(fontsize = 16, weight='bold', rotation=0);\n",
        "plt.yticks(fontsize = 10, weight='bold');\n",
        "plt.tight_layout()\n",
        "plt.show;"
      ],
      "metadata": {
        "id": "ffR33urklVFQ",
        "colab": {
          "base_uri": "https://localhost:8080/",
          "height": 297
        },
        "outputId": "75d59852-a6d0-4271-dbe0-34e6043e8934"
      },
      "execution_count": 87,
      "outputs": [
        {
          "output_type": "display_data",
          "data": {
            "text/plain": [
              "<Figure size 864x288 with 1 Axes>"
            ],
            "image/png": "[encoded data removed]"
          },
          "metadata": {
            "needs_background": "light"
          }
        }
      ]
    },
    {
      "cell_type": "markdown",
      "source": [
        "- Sex appears to be fairly evenly balanced between the two values."
      ],
      "metadata": {
        "id": "zc-VJHvcLq_0"
      }
    },
    {
      "cell_type": "markdown",
      "source": [
        "#### **Marital**"
      ],
      "metadata": {
        "id": "VC_ymyffF6hL"
      }
    },
    {
      "cell_type": "code",
      "source": [
        "# Display column statistics.\n",
        "df.Marital.describe()"
      ],
      "metadata": {
        "id": "IEalFkwW-KMY",
        "colab": {
          "base_uri": "https://localhost:8080/"
        },
        "outputId": "30f8bcb5-6a38-41e2-c97a-657029073f7e"
      },
      "execution_count": 88,
      "outputs": [
        {
          "output_type": "execute_result",
          "data": {
            "text/plain": [
              "count        2401\n",
              "unique          6\n",
              "top       Married\n",
              "freq         1192\n",
              "Name: Marital, dtype: object"
            ]
          },
          "metadata": {},
          "execution_count": 88
        }
      ]
    },
    {
      "cell_type": "code",
      "source": [
        "# Display column statistics.\n",
        "column_statistics('Marital')"
      ],
      "metadata": {
        "id": "q7DQ9CuKF6hM",
        "colab": {
          "base_uri": "https://localhost:8080/"
        },
        "outputId": "a7ef67e5-97ef-42d2-be21-59f133eb0e95"
      },
      "execution_count": 89,
      "outputs": [
        {
          "output_type": "stream",
          "name": "stdout",
          "text": [
            "Missing Values: 0 (0.0)%\n",
            "Unique values: 6\n",
            "Married      1192\n",
            "Single        498\n",
            "Divorced      242\n",
            "Unknown       208\n",
            "Widowed       166\n",
            "Separated      95\n",
            "Name: Marital, dtype: int64\n"
          ]
        }
      ]
    },
    {
      "cell_type": "code",
      "source": [
        "df['Marital'].value_counts(normalize=True)"
      ],
      "metadata": {
        "id": "XUb6NB5bF6hM",
        "colab": {
          "base_uri": "https://localhost:8080/"
        },
        "outputId": "54b57159-acdd-459f-d12e-2add521fa4fd"
      },
      "execution_count": 90,
      "outputs": [
        {
          "output_type": "execute_result",
          "data": {
            "text/plain": [
              "Married      0.496460\n",
              "Single       0.207414\n",
              "Divorced     0.100791\n",
              "Unknown      0.086631\n",
              "Widowed      0.069138\n",
              "Separated    0.039567\n",
              "Name: Marital, dtype: float64"
            ]
          },
          "metadata": {},
          "execution_count": 90
        }
      ]
    },
    {
      "cell_type": "code",
      "source": [
        "plt.figure(figsize = (12,4))\n",
        "sns.countplot(data=df, x=df.Marital, color='#069AF3', order=['Married',\n",
        "              'Single', 'Divorced', 'Unknown', 'Widowed', 'Separated'])\n",
        "plt.title('Marital Distribution', fontsize = 22, weight='bold');\n",
        "plt.xlabel('', fontsize = 16, weight='bold');\n",
        "plt.ylabel('Item Count', fontsize = 16, weight='bold');\n",
        "plt.xticks(fontsize = 16, weight='bold', rotation=0);\n",
        "plt.yticks(fontsize = 10, weight='bold');\n",
        "plt.tight_layout()\n",
        "plt.show;"
      ],
      "metadata": {
        "id": "yPyGRIBlF6hN",
        "colab": {
          "base_uri": "https://localhost:8080/",
          "height": 297
        },
        "outputId": "59af3e7b-eb5c-4a33-bef6-b195aaaa9125"
      },
      "execution_count": 91,
      "outputs": [
        {
          "output_type": "display_data",
          "data": {
            "text/plain": [
              "<Figure size 864x288 with 1 Axes>"
            ],
            "image/png": "[encoded data removed]"
          },
          "metadata": {
            "needs_background": "light"
          }
        }
      ]
    },
    {
      "cell_type": "markdown",
      "source": [
        "- 'Married' has significantly more values, followed by 'Single'."
      ],
      "metadata": {
        "id": "satxcZTaF6hN"
      }
    },
    {
      "cell_type": "markdown",
      "source": [
        "#### **MetabolicSyndrome**"
      ],
      "metadata": {
        "id": "3q_qMxNRF6-D"
      }
    },
    {
      "cell_type": "code",
      "source": [
        "# Display column statistics.\n",
        "df.MetabolicSyndrome.describe()"
      ],
      "metadata": {
        "id": "V9___9mk-VV0",
        "colab": {
          "base_uri": "https://localhost:8080/"
        },
        "outputId": "e703d05c-5155-4f1c-edc9-636fb58f3a14"
      },
      "execution_count": 92,
      "outputs": [
        {
          "output_type": "execute_result",
          "data": {
            "text/plain": [
              "count          2401\n",
              "unique            2\n",
              "top       No MetSyn\n",
              "freq           1579\n",
              "Name: MetabolicSyndrome, dtype: object"
            ]
          },
          "metadata": {},
          "execution_count": 92
        }
      ]
    },
    {
      "cell_type": "code",
      "source": [
        "# Display column statistics.\n",
        "column_statistics('MetabolicSyndrome')"
      ],
      "metadata": {
        "id": "NeojKCoAF6-D",
        "colab": {
          "base_uri": "https://localhost:8080/"
        },
        "outputId": "d2b411c7-d672-4aa7-e551-33ff6a45e858"
      },
      "execution_count": 93,
      "outputs": [
        {
          "output_type": "stream",
          "name": "stdout",
          "text": [
            "Missing Values: 0 (0.0)%\n",
            "Unique values: 2\n",
            "No MetSyn    1579\n",
            "MetSyn        822\n",
            "Name: MetabolicSyndrome, dtype: int64\n"
          ]
        }
      ]
    },
    {
      "cell_type": "code",
      "source": [
        "df['MetabolicSyndrome'].value_counts(normalize=True)"
      ],
      "metadata": {
        "id": "LadEn-P6F6-E",
        "colab": {
          "base_uri": "https://localhost:8080/"
        },
        "outputId": "67eab037-e951-4b6e-e9d8-7ed847d45a37"
      },
      "execution_count": 94,
      "outputs": [
        {
          "output_type": "execute_result",
          "data": {
            "text/plain": [
              "No MetSyn    0.657643\n",
              "MetSyn       0.342357\n",
              "Name: MetabolicSyndrome, dtype: float64"
            ]
          },
          "metadata": {},
          "execution_count": 94
        }
      ]
    },
    {
      "cell_type": "code",
      "source": [
        "plt.figure(figsize = (12,4))\n",
        "sns.countplot(data=df, x=df.MetabolicSyndrome, color='#069AF3', order=['No MetSyn', 'MetSyn'])\n",
        "plt.title('MetabolicSyndrome Distribution', fontsize = 22, weight='bold');\n",
        "plt.xlabel('', fontsize = 16, weight='bold');\n",
        "plt.ylabel('Item Count', fontsize = 16, weight='bold');\n",
        "plt.xticks(fontsize = 16, weight='bold', rotation=0);\n",
        "plt.yticks(fontsize = 10, weight='bold');\n",
        "plt.tight_layout()\n",
        "plt.show;"
      ],
      "metadata": {
        "id": "jgW7Qn9PF6-E",
        "colab": {
          "base_uri": "https://localhost:8080/",
          "height": 297
        },
        "outputId": "2b84ab51-fb85-4499-dea4-38a6901a73b1"
      },
      "execution_count": 95,
      "outputs": [
        {
          "output_type": "display_data",
          "data": {
            "text/plain": [
              "<Figure size 864x288 with 1 Axes>"
            ],
            "image/png": "[encoded data removed]"
          },
          "metadata": {
            "needs_background": "light"
          }
        }
      ]
    },
    {
      "cell_type": "markdown",
      "source": [
        "- There are significantly more 'No MetSyn' (negative) values than 'MetSyn' (positive) values.\n",
        "- This is our target value to predict and it is unbalanced."
      ],
      "metadata": {
        "id": "-NRmkmiIF6-E"
      }
    },
    {
      "cell_type": "markdown",
      "source": [
        "### **Correlation Heatmap**"
      ],
      "metadata": {
        "id": "wupOHLcD_9SO"
      }
    },
    {
      "cell_type": "code",
      "source": [
        "plt.figure(figsize = (8, 8))\n",
        "corr = df.corr()\n",
        "sns.heatmap(corr, cmap='viridis', annot=True);\n",
        "plt.title('Correlation Heatmap', fontsize = 16, weight='bold')\n",
        "plt.xticks(fontsize = 10, weight='bold', rotation=90)\n",
        "plt.yticks(fontsize = 10, weight='bold');\n",
        "plt.tight_layout()\n",
        "plt.show;"
      ],
      "metadata": {
        "id": "rd5sQYFwNJ_a",
        "colab": {
          "base_uri": "https://localhost:8080/",
          "height": 585
        },
        "outputId": "d8b611d8-ef9c-445c-dd2f-75df863a7354"
      },
      "execution_count": 96,
      "outputs": [
        {
          "output_type": "display_data",
          "data": {
            "text/plain": [
              "<Figure size 576x576 with 2 Axes>"
            ],
            "image/png": "[encoded data removed]"
          },
          "metadata": {
            "needs_background": "light"
          }
        }
      ]
    },
    {
      "cell_type": "markdown",
      "source": [
        "- BMI and WaistCirc have high positive correlation of 0.91. Body mass index (BMI) is a measure of body fat percentage based on height and weight that applies to adult men and women. BMI and WaistCirc are both dependent variables of height and weight."
      ],
      "metadata": {
        "id": "CQSGKZ-zNnXU"
      }
    },
    {
      "cell_type": "markdown",
      "source": [
        "## **Preprocessing/Processing for Machine Learning**"
      ],
      "metadata": {
        "id": "dAuHnCUr_-EG"
      }
    },
    {
      "cell_type": "markdown",
      "source": [
        "### **Identify each feature as ordinal, numerical, nominal, or pass through**"
      ],
      "metadata": {
        "id": "xI63NsyjBHtT"
      }
    },
    {
      "cell_type": "markdown",
      "source": [
        "- ordinal features = none\n",
        "- numeric features = []\n",
        "- nominal features = []\n",
        "- date/time features = none\n",
        "- pass through = none"
      ],
      "metadata": {
        "id": "yRKc66PWBJrc"
      }
    },
    {
      "cell_type": "markdown",
      "source": [
        "- There are no features to impute, and all features to be included in X_Train and X_Test are numercal, so we will not need to create or use column transformers. We can include Standard Scalar with our KNN Model Processor in a single pipeline."
      ],
      "metadata": {
        "id": "PtbGYpcsKJQj"
      }
    },
    {
      "cell_type": "markdown",
      "source": [
        "### **Evaluate if Target is Balanced**"
      ],
      "metadata": {
        "id": "WHWENgIEksGs"
      }
    },
    {
      "cell_type": "code",
      "source": [
        "df['MetabolicSyndrome'].value_counts(normalize=True)"
      ],
      "metadata": {
        "colab": {
          "base_uri": "https://localhost:8080/"
        },
        "id": "4Z0BtgMvkiFo",
        "outputId": "48fbb30e-923b-4f54-de92-b6e685e3d2da"
      },
      "execution_count": 97,
      "outputs": [
        {
          "output_type": "execute_result",
          "data": {
            "text/plain": [
              "No MetSyn    0.657643\n",
              "MetSyn       0.342357\n",
              "Name: MetabolicSyndrome, dtype: float64"
            ]
          },
          "metadata": {},
          "execution_count": 97
        }
      ]
    },
    {
      "cell_type": "markdown",
      "source": [
        "- The target, MetabolicSyndrome, is not balanced."
      ],
      "metadata": {
        "id": "s3LP7TsPkjZR"
      }
    },
    {
      "cell_type": "markdown",
      "source": [
        "### **Validation Split**"
      ],
      "metadata": {
        "id": "MJIJUuaMBdmv"
      }
    },
    {
      "cell_type": "code",
      "source": [
        "# Define features (X) and target (y)\n",
        "X = df.drop(columns = ['MetabolicSyndrome'])\n",
        "y = df['MetabolicSyndrome']"
      ],
      "metadata": {
        "id": "InFQiRIXBdEH"
      },
      "execution_count": 98,
      "outputs": []
    },
    {
      "cell_type": "code",
      "source": [
        "# Split\n",
        "X_train, X_test, y_train, y_test = train_test_split(X, y, random_state=42)"
      ],
      "metadata": {
        "id": "GmnIF81FBi0v"
      },
      "execution_count": 102,
      "outputs": []
    },
    {
      "cell_type": "markdown",
      "source": [
        "### **Instantiate Column Selectors**"
      ],
      "metadata": {
        "id": "7sBLzSPLBpZs"
      }
    },
    {
      "cell_type": "code",
      "source": [
        "# Selectors\n",
        "cat_selector = make_column_selector(dtype_include='object')\n",
        "num_selector = make_column_selector(dtype_include='number')"
      ],
      "metadata": {
        "id": "1dMBx7j-CVKL"
      },
      "execution_count": 112,
      "outputs": []
    },
    {
      "cell_type": "code",
      "source": [
        "cat_selector(X_train)"
      ],
      "metadata": {
        "id": "9_Khz9WZEU5D",
        "colab": {
          "base_uri": "https://localhost:8080/"
        },
        "outputId": "177daddb-b059-47e8-e1dd-a15e8d7bee8b"
      },
      "execution_count": null,
      "outputs": [
        {
          "output_type": "execute_result",
          "data": {
            "text/plain": [
              "['Item_Fat_Content',\n",
              " 'Item_Type',\n",
              " 'Outlet_Identifier',\n",
              " 'Outlet_Establishment_Year',\n",
              " 'Outlet_Size',\n",
              " 'Outlet_Location_Type',\n",
              " 'Outlet_Type']"
            ]
          },
          "metadata": {},
          "execution_count": 95
        }
      ]
    },
    {
      "cell_type": "code",
      "source": [
        "num_selector(X_train)"
      ],
      "metadata": {
        "id": "BdO7NlhaErnc",
        "colab": {
          "base_uri": "https://localhost:8080/"
        },
        "outputId": "7c6a54d6-0363-446a-f31c-fff48ba7f3a2"
      },
      "execution_count": 113,
      "outputs": [
        {
          "output_type": "execute_result",
          "data": {
            "text/plain": [
              "['Age',\n",
              " 'Income',\n",
              " 'WaistCirc',\n",
              " 'BMI',\n",
              " 'Albuminuria',\n",
              " 'UrAlbCr',\n",
              " 'UricAcid',\n",
              " 'BloodGlucose',\n",
              " 'HDL',\n",
              " 'Triglycerides']"
            ]
          },
          "metadata": {},
          "execution_count": 113
        }
      ]
    },
    {
      "cell_type": "markdown",
      "source": [
        "### **Instantiate Transformers**"
      ],
      "metadata": {
        "id": "B4uiQO7CEL-f"
      }
    },
    {
      "cell_type": "code",
      "source": [
        "# Imputers\n",
        "freq_imputer = SimpleImputer(strategy='most_frequent')\n",
        "median_imputer = SimpleImputer(strategy='median')\n",
        "# Scaler\n",
        "scaler = StandardScaler()\n",
        "# One Hot Encoder\n",
        "ohe = OneHotEncoder(handle_unknown='ignore', sparse=False)"
      ],
      "metadata": {
        "id": "BIAulxDNEL-g"
      },
      "execution_count": 114,
      "outputs": []
    },
    {
      "cell_type": "markdown",
      "source": [
        "### **Instantiate Pipelines**"
      ],
      "metadata": {
        "id": "I9QYhz6GBbrY"
      }
    },
    {
      "cell_type": "code",
      "source": [
        "# Numeric pipeline\n",
        "numeric_pipe = make_pipeline(median_imputer, scaler)\n",
        "numeric_pipe"
      ],
      "metadata": {
        "id": "ljedGo0UB4Xi",
        "colab": {
          "base_uri": "https://localhost:8080/"
        },
        "outputId": "9758bb21-0acc-4f5f-a741-9d4a20d2421e"
      },
      "execution_count": 115,
      "outputs": [
        {
          "output_type": "execute_result",
          "data": {
            "text/plain": [
              "Pipeline(steps=[('simpleimputer', SimpleImputer(strategy='median')),\n",
              "                ('standardscaler', StandardScaler())])"
            ]
          },
          "metadata": {},
          "execution_count": 115
        }
      ]
    },
    {
      "cell_type": "code",
      "source": [
        "# Categorical pipeline\n",
        "categorical_pipe = make_pipeline(freq_imputer, ohe)\n",
        "categorical_pipe"
      ],
      "metadata": {
        "id": "VUB4INtqB8Qg",
        "colab": {
          "base_uri": "https://localhost:8080/"
        },
        "outputId": "0e2d06d6-026c-4d20-96c0-28fed4963e7e"
      },
      "execution_count": 116,
      "outputs": [
        {
          "output_type": "execute_result",
          "data": {
            "text/plain": [
              "Pipeline(steps=[('simpleimputer', SimpleImputer(strategy='most_frequent')),\n",
              "                ('onehotencoder',\n",
              "                 OneHotEncoder(handle_unknown='ignore', sparse=False))])"
            ]
          },
          "metadata": {},
          "execution_count": 116
        }
      ]
    },
    {
      "cell_type": "markdown",
      "source": [
        "### **Instantiate ColumnTransformer**"
      ],
      "metadata": {
        "id": "IyyJcylbBinz"
      }
    },
    {
      "cell_type": "code",
      "source": [
        "# Tuples for Column Transformer\n",
        "number_tuple = (numeric_pipe, num_selector)\n",
        "category_tuple = (categorical_pipe, cat_selector)\n",
        "\n",
        "# ColumnTransformer\n",
        "preprocessor = make_column_transformer(number_tuple, category_tuple, remainder='passthrough')\n",
        "preprocessor"
      ],
      "metadata": {
        "id": "GUMU9szJCBDl",
        "colab": {
          "base_uri": "https://localhost:8080/"
        },
        "outputId": "d87358b9-6f62-458b-f1f8-3cd6e702d5ec"
      },
      "execution_count": 117,
      "outputs": [
        {
          "output_type": "execute_result",
          "data": {
            "text/plain": [
              "ColumnTransformer(remainder='passthrough',\n",
              "                  transformers=[('pipeline-1',\n",
              "                                 Pipeline(steps=[('simpleimputer',\n",
              "                                                  SimpleImputer(strategy='median')),\n",
              "                                                 ('standardscaler',\n",
              "                                                  StandardScaler())]),\n",
              "                                 <sklearn.compose._column_transformer.make_column_selector object at 0x7fde2e866d50>),\n",
              "                                ('pipeline-2',\n",
              "                                 Pipeline(steps=[('simpleimputer',\n",
              "                                                  SimpleImputer(strategy='most_frequent')),\n",
              "                                                 ('onehotencoder',\n",
              "                                                  OneHotEncoder(handle_unknown='ignore',\n",
              "                                                                sparse=False))]),\n",
              "                                 <sklearn.compose._column_transformer.make_column_selector object at 0x7fde2e866890>)])"
            ]
          },
          "metadata": {},
          "execution_count": 117
        }
      ]
    },
    {
      "cell_type": "markdown",
      "source": [
        "### **Fit and Transform Data**"
      ],
      "metadata": {
        "id": "UFf_AOS0E9m_"
      }
    },
    {
      "cell_type": "code",
      "source": [
        "# Fit on Train\n",
        "preprocessor.fit(X_train)"
      ],
      "metadata": {
        "colab": {
          "base_uri": "https://localhost:8080/"
        },
        "outputId": "edf5df03-aab8-453c-ae7a-0902f224a778",
        "id": "D8uSXqK5E9m_"
      },
      "execution_count": 120,
      "outputs": [
        {
          "output_type": "execute_result",
          "data": {
            "text/plain": [
              "ColumnTransformer(remainder='passthrough',\n",
              "                  transformers=[('pipeline-1',\n",
              "                                 Pipeline(steps=[('simpleimputer',\n",
              "                                                  SimpleImputer(strategy='median')),\n",
              "                                                 ('standardscaler',\n",
              "                                                  StandardScaler())]),\n",
              "                                 <sklearn.compose._column_transformer.make_column_selector object at 0x7fde2e866d50>),\n",
              "                                ('pipeline-2',\n",
              "                                 Pipeline(steps=[('simpleimputer',\n",
              "                                                  SimpleImputer(strategy='most_frequent')),\n",
              "                                                 ('onehotencoder',\n",
              "                                                  OneHotEncoder(handle_unknown='ignore',\n",
              "                                                                sparse=False))]),\n",
              "                                 <sklearn.compose._column_transformer.make_column_selector object at 0x7fde2e866890>)])"
            ]
          },
          "metadata": {},
          "execution_count": 120
        }
      ]
    },
    {
      "cell_type": "code",
      "source": [
        "# Transform Train and Test\n",
        "X_train_processed = preprocessor.transform(X_train)\n",
        "X_test_processed = preprocessor.transform(X_test)"
      ],
      "metadata": {
        "id": "pOMUJoopCiIf"
      },
      "execution_count": 121,
      "outputs": []
    },
    {
      "cell_type": "markdown",
      "source": [
        "### **Inspect the Result**"
      ],
      "metadata": {
        "id": "zqsX0lJDBzyn"
      }
    },
    {
      "cell_type": "code",
      "source": [
        "# Check for missing values and that data is scaled and one-hot encoded\n",
        "print(np.isnan(X_train_processed).sum().sum(), 'missing values in training data')\n",
        "print(np.isnan(X_test_processed).sum().sum(), 'missing values in testing data')\n",
        "print('\\n')\n",
        "print('All data in X_train_processed are', X_train_processed.dtype)\n",
        "print('All data in X_test_processed are', X_test_processed.dtype)\n",
        "print('\\n')\n",
        "print('shape of data is', X_train_processed.shape)\n",
        "print('\\n')\n",
        "X_train_processed"
      ],
      "metadata": {
        "id": "AWapESdSCmK8",
        "colab": {
          "base_uri": "https://localhost:8080/"
        },
        "outputId": "504344c0-60df-46bc-ca9c-d80a9ec3eeea"
      },
      "execution_count": 122,
      "outputs": [
        {
          "output_type": "stream",
          "name": "stdout",
          "text": [
            "0 missing values in training data\n",
            "0 missing values in testing data\n",
            "\n",
            "\n",
            "All data in X_train_processed are float64\n",
            "All data in X_test_processed are float64\n",
            "\n",
            "\n",
            "shape of data is (1800, 24)\n",
            "\n",
            "\n"
          ]
        },
        {
          "output_type": "execute_result",
          "data": {
            "text/plain": [
              "array([[-0.17687515,  1.44357931,  1.59131287, ...,  0.        ,\n",
              "         0.        ,  1.        ],\n",
              "       [-0.85740654, -0.16517283, -0.76716338, ...,  1.        ,\n",
              "         0.        ,  0.        ],\n",
              "       [-0.91411749, -0.16517283, -1.46597116, ...,  1.        ,\n",
              "         0.        ,  0.        ],\n",
              "       ...,\n",
              "       [ 1.75129713, -0.16517283, -0.53006788, ...,  0.        ,\n",
              "         0.        ,  1.        ],\n",
              "       [ 0.67378909, -0.67860436,  0.76771799, ...,  0.        ,\n",
              "         0.        ,  0.        ],\n",
              "       [-1.14096129, -0.67860436,  0.49318636, ...,  0.        ,\n",
              "         0.        ,  1.        ]])"
            ]
          },
          "metadata": {},
          "execution_count": 122
        }
      ]
    },
    {
      "cell_type": "code",
      "source": [
        "X_test_df = pd.DataFrame(X_test_processed)\n",
        "X_train_df = pd.DataFrame(X_train_processed)"
      ],
      "metadata": {
        "id": "rDHkXIQr4f-x"
      },
      "execution_count": 123,
      "outputs": []
    },
    {
      "cell_type": "code",
      "source": [
        "X_train_df.describe().round(2)"
      ],
      "metadata": {
        "id": "FoV0NDRv4lAT",
        "colab": {
          "base_uri": "https://localhost:8080/",
          "height": 393
        },
        "outputId": "e47b77c6-e3bf-4b6d-816c-e2ac5049e22a"
      },
      "execution_count": 124,
      "outputs": [
        {
          "output_type": "execute_result",
          "data": {
            "text/plain": [
              "            0        1        2        3        4        5        6        7   \\\n",
              "count  1800.00  1800.00  1800.00  1800.00  1800.00  1800.00  1800.00  1800.00   \n",
              "mean     -0.00    -0.00     0.00     0.00     0.00     0.00     0.00     0.00   \n",
              "std       1.00     1.00     1.00     1.00     1.00     1.00     1.00     1.00   \n",
              "min      -1.65    -1.26    -2.21    -2.28    -0.37    -0.16    -2.53    -2.06   \n",
              "25%      -0.86    -0.82    -0.70    -0.70    -0.37    -0.15    -0.69    -0.47   \n",
              "50%      -0.01    -0.51    -0.09    -0.16    -0.37    -0.14    -0.07    -0.23   \n",
              "75%       0.79     0.76     0.56     0.51    -0.37    -0.12     0.61     0.07   \n",
              "max       1.75     1.72     4.84     6.01     4.34    20.81     3.95     8.20   \n",
              "\n",
              "            8        9   ...       14       15       16       17       18  \\\n",
              "count  1800.00  1800.00  ...  1800.00  1800.00  1800.00  1800.00  1800.00   \n",
              "mean     -0.00     0.00  ...     0.04     0.21     0.09     0.07     0.15   \n",
              "std       1.00     1.00  ...     0.20     0.41     0.28     0.25     0.36   \n",
              "min      -2.15    -1.06  ...     0.00     0.00     0.00     0.00     0.00   \n",
              "25%      -0.70    -0.56  ...     0.00     0.00     0.00     0.00     0.00   \n",
              "50%      -0.14    -0.26  ...     0.00     0.00     0.00     0.00     0.00   \n",
              "75%       0.55     0.22  ...     0.00     0.00     0.00     0.00     0.00   \n",
              "max       6.73    14.89  ...     1.00     1.00     1.00     1.00     1.00   \n",
              "\n",
              "            19       20       21       22       23  \n",
              "count  1800.00  1800.00  1800.00  1800.00  1800.00  \n",
              "mean      0.23     0.11     0.10     0.03     0.39  \n",
              "std       0.42     0.31     0.31     0.16     0.49  \n",
              "min       0.00     0.00     0.00     0.00     0.00  \n",
              "25%       0.00     0.00     0.00     0.00     0.00  \n",
              "50%       0.00     0.00     0.00     0.00     0.00  \n",
              "75%       0.00     0.00     0.00     0.00     1.00  \n",
              "max       1.00     1.00     1.00     1.00     1.00  \n",
              "\n",
              "[8 rows x 24 columns]"
            ],
            "text/html": [
              "\n",
              "  <div id=\"df-06ac007b-d9c0-403b-bf28-abb91a2a5f85\">\n",
              "    <div class=\"colab-df-container\">\n",
              "      <div>\n",
              "<style scoped>\n",
              "    .dataframe tbody tr th:only-of-type {\n",
              "        vertical-align: middle;\n",
              "    }\n",
              "\n",
              "    .dataframe tbody tr th {\n",
              "        vertical-align: top;\n",
              "    }\n",
              "\n",
              "    .dataframe thead th {\n",
              "        text-align: right;\n",
              "    }\n",
              "</style>\n",
              "<table border=\"1\" class=\"dataframe\">\n",
              "  <thead>\n",
              "    <tr style=\"text-align: right;\">\n",
              "      <th></th>\n",
              "      <th>0</th>\n",
              "      <th>1</th>\n",
              "      <th>2</th>\n",
              "      <th>3</th>\n",
              "      <th>4</th>\n",
              "      <th>5</th>\n",
              "      <th>6</th>\n",
              "      <th>7</th>\n",
              "      <th>8</th>\n",
              "      <th>9</th>\n",
              "      <th>...</th>\n",
              "      <th>14</th>\n",
              "      <th>15</th>\n",
              "      <th>16</th>\n",
              "      <th>17</th>\n",
              "      <th>18</th>\n",
              "      <th>19</th>\n",
              "      <th>20</th>\n",
              "      <th>21</th>\n",
              "      <th>22</th>\n",
              "      <th>23</th>\n",
              "    </tr>\n",
              "  </thead>\n",
              "  <tbody>\n",
              "    <tr>\n",
              "      <th>count</th>\n",
              "      <td>1800.00</td>\n",
              "      <td>1800.00</td>\n",
              "      <td>1800.00</td>\n",
              "      <td>1800.00</td>\n",
              "      <td>1800.00</td>\n",
              "      <td>1800.00</td>\n",
              "      <td>1800.00</td>\n",
              "      <td>1800.00</td>\n",
              "      <td>1800.00</td>\n",
              "      <td>1800.00</td>\n",
              "      <td>...</td>\n",
              "      <td>1800.00</td>\n",
              "      <td>1800.00</td>\n",
              "      <td>1800.00</td>\n",
              "      <td>1800.00</td>\n",
              "      <td>1800.00</td>\n",
              "      <td>1800.00</td>\n",
              "      <td>1800.00</td>\n",
              "      <td>1800.00</td>\n",
              "      <td>1800.00</td>\n",
              "      <td>1800.00</td>\n",
              "    </tr>\n",
              "    <tr>\n",
              "      <th>mean</th>\n",
              "      <td>-0.00</td>\n",
              "      <td>-0.00</td>\n",
              "      <td>0.00</td>\n",
              "      <td>0.00</td>\n",
              "      <td>0.00</td>\n",
              "      <td>0.00</td>\n",
              "      <td>0.00</td>\n",
              "      <td>0.00</td>\n",
              "      <td>-0.00</td>\n",
              "      <td>0.00</td>\n",
              "      <td>...</td>\n",
              "      <td>0.04</td>\n",
              "      <td>0.21</td>\n",
              "      <td>0.09</td>\n",
              "      <td>0.07</td>\n",
              "      <td>0.15</td>\n",
              "      <td>0.23</td>\n",
              "      <td>0.11</td>\n",
              "      <td>0.10</td>\n",
              "      <td>0.03</td>\n",
              "      <td>0.39</td>\n",
              "    </tr>\n",
              "    <tr>\n",
              "      <th>std</th>\n",
              "      <td>1.00</td>\n",
              "      <td>1.00</td>\n",
              "      <td>1.00</td>\n",
              "      <td>1.00</td>\n",
              "      <td>1.00</td>\n",
              "      <td>1.00</td>\n",
              "      <td>1.00</td>\n",
              "      <td>1.00</td>\n",
              "      <td>1.00</td>\n",
              "      <td>1.00</td>\n",
              "      <td>...</td>\n",
              "      <td>0.20</td>\n",
              "      <td>0.41</td>\n",
              "      <td>0.28</td>\n",
              "      <td>0.25</td>\n",
              "      <td>0.36</td>\n",
              "      <td>0.42</td>\n",
              "      <td>0.31</td>\n",
              "      <td>0.31</td>\n",
              "      <td>0.16</td>\n",
              "      <td>0.49</td>\n",
              "    </tr>\n",
              "    <tr>\n",
              "      <th>min</th>\n",
              "      <td>-1.65</td>\n",
              "      <td>-1.26</td>\n",
              "      <td>-2.21</td>\n",
              "      <td>-2.28</td>\n",
              "      <td>-0.37</td>\n",
              "      <td>-0.16</td>\n",
              "      <td>-2.53</td>\n",
              "      <td>-2.06</td>\n",
              "      <td>-2.15</td>\n",
              "      <td>-1.06</td>\n",
              "      <td>...</td>\n",
              "      <td>0.00</td>\n",
              "      <td>0.00</td>\n",
              "      <td>0.00</td>\n",
              "      <td>0.00</td>\n",
              "      <td>0.00</td>\n",
              "      <td>0.00</td>\n",
              "      <td>0.00</td>\n",
              "      <td>0.00</td>\n",
              "      <td>0.00</td>\n",
              "      <td>0.00</td>\n",
              "    </tr>\n",
              "    <tr>\n",
              "      <th>25%</th>\n",
              "      <td>-0.86</td>\n",
              "      <td>-0.82</td>\n",
              "      <td>-0.70</td>\n",
              "      <td>-0.70</td>\n",
              "      <td>-0.37</td>\n",
              "      <td>-0.15</td>\n",
              "      <td>-0.69</td>\n",
              "      <td>-0.47</td>\n",
              "      <td>-0.70</td>\n",
              "      <td>-0.56</td>\n",
              "      <td>...</td>\n",
              "      <td>0.00</td>\n",
              "      <td>0.00</td>\n",
              "      <td>0.00</td>\n",
              "      <td>0.00</td>\n",
              "      <td>0.00</td>\n",
              "      <td>0.00</td>\n",
              "      <td>0.00</td>\n",
              "      <td>0.00</td>\n",
              "      <td>0.00</td>\n",
              "      <td>0.00</td>\n",
              "    </tr>\n",
              "    <tr>\n",
              "      <th>50%</th>\n",
              "      <td>-0.01</td>\n",
              "      <td>-0.51</td>\n",
              "      <td>-0.09</td>\n",
              "      <td>-0.16</td>\n",
              "      <td>-0.37</td>\n",
              "      <td>-0.14</td>\n",
              "      <td>-0.07</td>\n",
              "      <td>-0.23</td>\n",
              "      <td>-0.14</td>\n",
              "      <td>-0.26</td>\n",
              "      <td>...</td>\n",
              "      <td>0.00</td>\n",
              "      <td>0.00</td>\n",
              "      <td>0.00</td>\n",
              "      <td>0.00</td>\n",
              "      <td>0.00</td>\n",
              "      <td>0.00</td>\n",
              "      <td>0.00</td>\n",
              "      <td>0.00</td>\n",
              "      <td>0.00</td>\n",
              "      <td>0.00</td>\n",
              "    </tr>\n",
              "    <tr>\n",
              "      <th>75%</th>\n",
              "      <td>0.79</td>\n",
              "      <td>0.76</td>\n",
              "      <td>0.56</td>\n",
              "      <td>0.51</td>\n",
              "      <td>-0.37</td>\n",
              "      <td>-0.12</td>\n",
              "      <td>0.61</td>\n",
              "      <td>0.07</td>\n",
              "      <td>0.55</td>\n",
              "      <td>0.22</td>\n",
              "      <td>...</td>\n",
              "      <td>0.00</td>\n",
              "      <td>0.00</td>\n",
              "      <td>0.00</td>\n",
              "      <td>0.00</td>\n",
              "      <td>0.00</td>\n",
              "      <td>0.00</td>\n",
              "      <td>0.00</td>\n",
              "      <td>0.00</td>\n",
              "      <td>0.00</td>\n",
              "      <td>1.00</td>\n",
              "    </tr>\n",
              "    <tr>\n",
              "      <th>max</th>\n",
              "      <td>1.75</td>\n",
              "      <td>1.72</td>\n",
              "      <td>4.84</td>\n",
              "      <td>6.01</td>\n",
              "      <td>4.34</td>\n",
              "      <td>20.81</td>\n",
              "      <td>3.95</td>\n",
              "      <td>8.20</td>\n",
              "      <td>6.73</td>\n",
              "      <td>14.89</td>\n",
              "      <td>...</td>\n",
              "      <td>1.00</td>\n",
              "      <td>1.00</td>\n",
              "      <td>1.00</td>\n",
              "      <td>1.00</td>\n",
              "      <td>1.00</td>\n",
              "      <td>1.00</td>\n",
              "      <td>1.00</td>\n",
              "      <td>1.00</td>\n",
              "      <td>1.00</td>\n",
              "      <td>1.00</td>\n",
              "    </tr>\n",
              "  </tbody>\n",
              "</table>\n",
              "<p>8 rows × 24 columns</p>\n",
              "</div>\n",
              "      <button class=\"colab-df-convert\" onclick=\"convertToInteractive('df-06ac007b-d9c0-403b-bf28-abb91a2a5f85')\"\n",
              "              title=\"Convert this dataframe to an interactive table.\"\n",
              "              style=\"display:none;\">\n",
              "        \n",
              "  <svg xmlns=\"http://www.w3.org/2000/svg\" height=\"24px\"viewBox=\"0 0 24 24\"\n",
              "       width=\"24px\">\n",
              "    <path d=\"M0 0h24v24H0V0z\" fill=\"none\"/>\n",
              "    <path d=\"M18.56 5.44l.94 2.06.94-2.06 2.06-.94-2.06-.94-.94-2.06-.94 2.06-2.06.94zm-11 1L8.5 8.5l.94-2.06 2.06-.94-2.06-.94L8.5 2.5l-.94 2.06-2.06.94zm10 10l.94 2.06.94-2.06 2.06-.94-2.06-.94-.94-2.06-.94 2.06-2.06.94z\"/><path d=\"M17.41 7.96l-1.37-1.37c-.4-.4-.92-.59-1.43-.59-.52 0-1.04.2-1.43.59L10.3 9.45l-7.72 7.72c-.78.78-.78 2.05 0 2.83L4 21.41c.39.39.9.59 1.41.59.51 0 1.02-.2 1.41-.59l7.78-7.78 2.81-2.81c.8-.78.8-2.07 0-2.86zM5.41 20L4 18.59l7.72-7.72 1.47 1.35L5.41 20z\"/>\n",
              "  </svg>\n",
              "      </button>\n",
              "      \n",
              "  <style>\n",
              "    .colab-df-container {\n",
              "      display:flex;\n",
              "      flex-wrap:wrap;\n",
              "      gap: 12px;\n",
              "    }\n",
              "\n",
              "    .colab-df-convert {\n",
              "      background-color: #E8F0FE;\n",
              "      border: none;\n",
              "      border-radius: 50%;\n",
              "      cursor: pointer;\n",
              "      display: none;\n",
              "      fill: #1967D2;\n",
              "      height: 32px;\n",
              "      padding: 0 0 0 0;\n",
              "      width: 32px;\n",
              "    }\n",
              "\n",
              "    .colab-df-convert:hover {\n",
              "      background-color: #E2EBFA;\n",
              "      box-shadow: 0px 1px 2px rgba(60, 64, 67, 0.3), 0px 1px 3px 1px rgba(60, 64, 67, 0.15);\n",
              "      fill: #174EA6;\n",
              "    }\n",
              "\n",
              "    [theme=dark] .colab-df-convert {\n",
              "      background-color: #3B4455;\n",
              "      fill: #D2E3FC;\n",
              "    }\n",
              "\n",
              "    [theme=dark] .colab-df-convert:hover {\n",
              "      background-color: #434B5C;\n",
              "      box-shadow: 0px 1px 3px 1px rgba(0, 0, 0, 0.15);\n",
              "      filter: drop-shadow(0px 1px 2px rgba(0, 0, 0, 0.3));\n",
              "      fill: #FFFFFF;\n",
              "    }\n",
              "  </style>\n",
              "\n",
              "      <script>\n",
              "        const buttonEl =\n",
              "          document.querySelector('#df-06ac007b-d9c0-403b-bf28-abb91a2a5f85 button.colab-df-convert');\n",
              "        buttonEl.style.display =\n",
              "          google.colab.kernel.accessAllowed ? 'block' : 'none';\n",
              "\n",
              "        async function convertToInteractive(key) {\n",
              "          const element = document.querySelector('#df-06ac007b-d9c0-403b-bf28-abb91a2a5f85');\n",
              "          const dataTable =\n",
              "            await google.colab.kernel.invokeFunction('convertToInteractive',\n",
              "                                                     [key], {});\n",
              "          if (!dataTable) return;\n",
              "\n",
              "          const docLinkHtml = 'Like what you see? Visit the ' +\n",
              "            '<a target=\"_blank\" href=https://colab.research.google.com/notebooks/data_table.ipynb>data table notebook</a>'\n",
              "            + ' to learn more about interactive tables.';\n",
              "          element.innerHTML = '';\n",
              "          dataTable['output_type'] = 'display_data';\n",
              "          await google.colab.output.renderOutput(dataTable, element);\n",
              "          const docLink = document.createElement('div');\n",
              "          docLink.innerHTML = docLinkHtml;\n",
              "          element.appendChild(docLink);\n",
              "        }\n",
              "      </script>\n",
              "    </div>\n",
              "  </div>\n",
              "  "
            ]
          },
          "metadata": {},
          "execution_count": 124
        }
      ]
    },
    {
      "cell_type": "code",
      "source": [
        "X_test_df.describe().round(2)"
      ],
      "metadata": {
        "id": "k9J8U8r_4nE_",
        "colab": {
          "base_uri": "https://localhost:8080/",
          "height": 330
        },
        "outputId": "f5826e55-2465-425b-c650-3cf57649e635"
      },
      "execution_count": 126,
      "outputs": [
        {
          "output_type": "execute_result",
          "data": {
            "text/plain": [
              "           0       1       2       3       4       5       6       7       8   \\\n",
              "count  601.00  601.00  601.00  601.00  601.00  601.00  601.00  601.00  601.00   \n",
              "mean    -0.10   -0.07   -0.06   -0.03   -0.01   -0.05   -0.04    0.05   -0.08   \n",
              "std      1.00    0.97    0.98    0.99    0.98    0.58    0.92    1.15    0.99   \n",
              "min     -1.65   -1.26   -2.64   -2.31   -0.37   -0.16   -2.05   -1.61   -2.61   \n",
              "25%     -0.97   -0.82   -0.75   -0.73   -0.37   -0.15   -0.69   -0.47   -0.83   \n",
              "50%     -0.18   -0.51   -0.09   -0.16   -0.37   -0.14   -0.07   -0.26   -0.24   \n",
              "75%      0.73    0.49    0.51    0.46   -0.37   -0.12    0.54    0.04    0.55   \n",
              "max      1.75    1.72    3.51    4.55    4.34    8.34    3.00    7.72    6.34   \n",
              "\n",
              "           9   ...      14      15      16      17      18      19     20  \\\n",
              "count  601.00  ...  601.00  601.00  601.00  601.00  601.00  601.00  601.0   \n",
              "mean     0.01  ...    0.03    0.21    0.09    0.07    0.14    0.24    0.1   \n",
              "std      0.96  ...    0.17    0.41    0.28    0.25    0.34    0.43    0.3   \n",
              "min     -1.06  ...    0.00    0.00    0.00    0.00    0.00    0.00    0.0   \n",
              "25%     -0.54  ...    0.00    0.00    0.00    0.00    0.00    0.00    0.0   \n",
              "50%     -0.26  ...    0.00    0.00    0.00    0.00    0.00    0.00    0.0   \n",
              "75%      0.24  ...    0.00    0.00    0.00    0.00    0.00    0.00    0.0   \n",
              "max      8.84  ...    1.00    1.00    1.00    1.00    1.00    1.00    1.0   \n",
              "\n",
              "           21      22      23  \n",
              "count  601.00  601.00  601.00  \n",
              "mean     0.11    0.02    0.39  \n",
              "std      0.31    0.16    0.49  \n",
              "min      0.00    0.00    0.00  \n",
              "25%      0.00    0.00    0.00  \n",
              "50%      0.00    0.00    0.00  \n",
              "75%      0.00    0.00    1.00  \n",
              "max      1.00    1.00    1.00  \n",
              "\n",
              "[8 rows x 24 columns]"
            ],
            "text/html": [
              "\n",
              "  <div id=\"df-d1e439e2-a78e-4c73-839f-fd25a69bbd16\">\n",
              "    <div class=\"colab-df-container\">\n",
              "      <div>\n",
              "<style scoped>\n",
              "    .dataframe tbody tr th:only-of-type {\n",
              "        vertical-align: middle;\n",
              "    }\n",
              "\n",
              "    .dataframe tbody tr th {\n",
              "        vertical-align: top;\n",
              "    }\n",
              "\n",
              "    .dataframe thead th {\n",
              "        text-align: right;\n",
              "    }\n",
              "</style>\n",
              "<table border=\"1\" class=\"dataframe\">\n",
              "  <thead>\n",
              "    <tr style=\"text-align: right;\">\n",
              "      <th></th>\n",
              "      <th>0</th>\n",
              "      <th>1</th>\n",
              "      <th>2</th>\n",
              "      <th>3</th>\n",
              "      <th>4</th>\n",
              "      <th>5</th>\n",
              "      <th>6</th>\n",
              "      <th>7</th>\n",
              "      <th>8</th>\n",
              "      <th>9</th>\n",
              "      <th>...</th>\n",
              "      <th>14</th>\n",
              "      <th>15</th>\n",
              "      <th>16</th>\n",
              "      <th>17</th>\n",
              "      <th>18</th>\n",
              "      <th>19</th>\n",
              "      <th>20</th>\n",
              "      <th>21</th>\n",
              "      <th>22</th>\n",
              "      <th>23</th>\n",
              "    </tr>\n",
              "  </thead>\n",
              "  <tbody>\n",
              "    <tr>\n",
              "      <th>count</th>\n",
              "      <td>601.00</td>\n",
              "      <td>601.00</td>\n",
              "      <td>601.00</td>\n",
              "      <td>601.00</td>\n",
              "      <td>601.00</td>\n",
              "      <td>601.00</td>\n",
              "      <td>601.00</td>\n",
              "      <td>601.00</td>\n",
              "      <td>601.00</td>\n",
              "      <td>601.00</td>\n",
              "      <td>...</td>\n",
              "      <td>601.00</td>\n",
              "      <td>601.00</td>\n",
              "      <td>601.00</td>\n",
              "      <td>601.00</td>\n",
              "      <td>601.00</td>\n",
              "      <td>601.00</td>\n",
              "      <td>601.0</td>\n",
              "      <td>601.00</td>\n",
              "      <td>601.00</td>\n",
              "      <td>601.00</td>\n",
              "    </tr>\n",
              "    <tr>\n",
              "      <th>mean</th>\n",
              "      <td>-0.10</td>\n",
              "      <td>-0.07</td>\n",
              "      <td>-0.06</td>\n",
              "      <td>-0.03</td>\n",
              "      <td>-0.01</td>\n",
              "      <td>-0.05</td>\n",
              "      <td>-0.04</td>\n",
              "      <td>0.05</td>\n",
              "      <td>-0.08</td>\n",
              "      <td>0.01</td>\n",
              "      <td>...</td>\n",
              "      <td>0.03</td>\n",
              "      <td>0.21</td>\n",
              "      <td>0.09</td>\n",
              "      <td>0.07</td>\n",
              "      <td>0.14</td>\n",
              "      <td>0.24</td>\n",
              "      <td>0.1</td>\n",
              "      <td>0.11</td>\n",
              "      <td>0.02</td>\n",
              "      <td>0.39</td>\n",
              "    </tr>\n",
              "    <tr>\n",
              "      <th>std</th>\n",
              "      <td>1.00</td>\n",
              "      <td>0.97</td>\n",
              "      <td>0.98</td>\n",
              "      <td>0.99</td>\n",
              "      <td>0.98</td>\n",
              "      <td>0.58</td>\n",
              "      <td>0.92</td>\n",
              "      <td>1.15</td>\n",
              "      <td>0.99</td>\n",
              "      <td>0.96</td>\n",
              "      <td>...</td>\n",
              "      <td>0.17</td>\n",
              "      <td>0.41</td>\n",
              "      <td>0.28</td>\n",
              "      <td>0.25</td>\n",
              "      <td>0.34</td>\n",
              "      <td>0.43</td>\n",
              "      <td>0.3</td>\n",
              "      <td>0.31</td>\n",
              "      <td>0.16</td>\n",
              "      <td>0.49</td>\n",
              "    </tr>\n",
              "    <tr>\n",
              "      <th>min</th>\n",
              "      <td>-1.65</td>\n",
              "      <td>-1.26</td>\n",
              "      <td>-2.64</td>\n",
              "      <td>-2.31</td>\n",
              "      <td>-0.37</td>\n",
              "      <td>-0.16</td>\n",
              "      <td>-2.05</td>\n",
              "      <td>-1.61</td>\n",
              "      <td>-2.61</td>\n",
              "      <td>-1.06</td>\n",
              "      <td>...</td>\n",
              "      <td>0.00</td>\n",
              "      <td>0.00</td>\n",
              "      <td>0.00</td>\n",
              "      <td>0.00</td>\n",
              "      <td>0.00</td>\n",
              "      <td>0.00</td>\n",
              "      <td>0.0</td>\n",
              "      <td>0.00</td>\n",
              "      <td>0.00</td>\n",
              "      <td>0.00</td>\n",
              "    </tr>\n",
              "    <tr>\n",
              "      <th>25%</th>\n",
              "      <td>-0.97</td>\n",
              "      <td>-0.82</td>\n",
              "      <td>-0.75</td>\n",
              "      <td>-0.73</td>\n",
              "      <td>-0.37</td>\n",
              "      <td>-0.15</td>\n",
              "      <td>-0.69</td>\n",
              "      <td>-0.47</td>\n",
              "      <td>-0.83</td>\n",
              "      <td>-0.54</td>\n",
              "      <td>...</td>\n",
              "      <td>0.00</td>\n",
              "      <td>0.00</td>\n",
              "      <td>0.00</td>\n",
              "      <td>0.00</td>\n",
              "      <td>0.00</td>\n",
              "      <td>0.00</td>\n",
              "      <td>0.0</td>\n",
              "      <td>0.00</td>\n",
              "      <td>0.00</td>\n",
              "      <td>0.00</td>\n",
              "    </tr>\n",
              "    <tr>\n",
              "      <th>50%</th>\n",
              "      <td>-0.18</td>\n",
              "      <td>-0.51</td>\n",
              "      <td>-0.09</td>\n",
              "      <td>-0.16</td>\n",
              "      <td>-0.37</td>\n",
              "      <td>-0.14</td>\n",
              "      <td>-0.07</td>\n",
              "      <td>-0.26</td>\n",
              "      <td>-0.24</td>\n",
              "      <td>-0.26</td>\n",
              "      <td>...</td>\n",
              "      <td>0.00</td>\n",
              "      <td>0.00</td>\n",
              "      <td>0.00</td>\n",
              "      <td>0.00</td>\n",
              "      <td>0.00</td>\n",
              "      <td>0.00</td>\n",
              "      <td>0.0</td>\n",
              "      <td>0.00</td>\n",
              "      <td>0.00</td>\n",
              "      <td>0.00</td>\n",
              "    </tr>\n",
              "    <tr>\n",
              "      <th>75%</th>\n",
              "      <td>0.73</td>\n",
              "      <td>0.49</td>\n",
              "      <td>0.51</td>\n",
              "      <td>0.46</td>\n",
              "      <td>-0.37</td>\n",
              "      <td>-0.12</td>\n",
              "      <td>0.54</td>\n",
              "      <td>0.04</td>\n",
              "      <td>0.55</td>\n",
              "      <td>0.24</td>\n",
              "      <td>...</td>\n",
              "      <td>0.00</td>\n",
              "      <td>0.00</td>\n",
              "      <td>0.00</td>\n",
              "      <td>0.00</td>\n",
              "      <td>0.00</td>\n",
              "      <td>0.00</td>\n",
              "      <td>0.0</td>\n",
              "      <td>0.00</td>\n",
              "      <td>0.00</td>\n",
              "      <td>1.00</td>\n",
              "    </tr>\n",
              "    <tr>\n",
              "      <th>max</th>\n",
              "      <td>1.75</td>\n",
              "      <td>1.72</td>\n",
              "      <td>3.51</td>\n",
              "      <td>4.55</td>\n",
              "      <td>4.34</td>\n",
              "      <td>8.34</td>\n",
              "      <td>3.00</td>\n",
              "      <td>7.72</td>\n",
              "      <td>6.34</td>\n",
              "      <td>8.84</td>\n",
              "      <td>...</td>\n",
              "      <td>1.00</td>\n",
              "      <td>1.00</td>\n",
              "      <td>1.00</td>\n",
              "      <td>1.00</td>\n",
              "      <td>1.00</td>\n",
              "      <td>1.00</td>\n",
              "      <td>1.0</td>\n",
              "      <td>1.00</td>\n",
              "      <td>1.00</td>\n",
              "      <td>1.00</td>\n",
              "    </tr>\n",
              "  </tbody>\n",
              "</table>\n",
              "<p>8 rows × 24 columns</p>\n",
              "</div>\n",
              "      <button class=\"colab-df-convert\" onclick=\"convertToInteractive('df-d1e439e2-a78e-4c73-839f-fd25a69bbd16')\"\n",
              "              title=\"Convert this dataframe to an interactive table.\"\n",
              "              style=\"display:none;\">\n",
              "        \n",
              "  <svg xmlns=\"http://www.w3.org/2000/svg\" height=\"24px\"viewBox=\"0 0 24 24\"\n",
              "       width=\"24px\">\n",
              "    <path d=\"M0 0h24v24H0V0z\" fill=\"none\"/>\n",
              "    <path d=\"M18.56 5.44l.94 2.06.94-2.06 2.06-.94-2.06-.94-.94-2.06-.94 2.06-2.06.94zm-11 1L8.5 8.5l.94-2.06 2.06-.94-2.06-.94L8.5 2.5l-.94 2.06-2.06.94zm10 10l.94 2.06.94-2.06 2.06-.94-2.06-.94-.94-2.06-.94 2.06-2.06.94z\"/><path d=\"M17.41 7.96l-1.37-1.37c-.4-.4-.92-.59-1.43-.59-.52 0-1.04.2-1.43.59L10.3 9.45l-7.72 7.72c-.78.78-.78 2.05 0 2.83L4 21.41c.39.39.9.59 1.41.59.51 0 1.02-.2 1.41-.59l7.78-7.78 2.81-2.81c.8-.78.8-2.07 0-2.86zM5.41 20L4 18.59l7.72-7.72 1.47 1.35L5.41 20z\"/>\n",
              "  </svg>\n",
              "      </button>\n",
              "      \n",
              "  <style>\n",
              "    .colab-df-container {\n",
              "      display:flex;\n",
              "      flex-wrap:wrap;\n",
              "      gap: 12px;\n",
              "    }\n",
              "\n",
              "    .colab-df-convert {\n",
              "      background-color: #E8F0FE;\n",
              "      border: none;\n",
              "      border-radius: 50%;\n",
              "      cursor: pointer;\n",
              "      display: none;\n",
              "      fill: #1967D2;\n",
              "      height: 32px;\n",
              "      padding: 0 0 0 0;\n",
              "      width: 32px;\n",
              "    }\n",
              "\n",
              "    .colab-df-convert:hover {\n",
              "      background-color: #E2EBFA;\n",
              "      box-shadow: 0px 1px 2px rgba(60, 64, 67, 0.3), 0px 1px 3px 1px rgba(60, 64, 67, 0.15);\n",
              "      fill: #174EA6;\n",
              "    }\n",
              "\n",
              "    [theme=dark] .colab-df-convert {\n",
              "      background-color: #3B4455;\n",
              "      fill: #D2E3FC;\n",
              "    }\n",
              "\n",
              "    [theme=dark] .colab-df-convert:hover {\n",
              "      background-color: #434B5C;\n",
              "      box-shadow: 0px 1px 3px 1px rgba(0, 0, 0, 0.15);\n",
              "      filter: drop-shadow(0px 1px 2px rgba(0, 0, 0, 0.3));\n",
              "      fill: #FFFFFF;\n",
              "    }\n",
              "  </style>\n",
              "\n",
              "      <script>\n",
              "        const buttonEl =\n",
              "          document.querySelector('#df-d1e439e2-a78e-4c73-839f-fd25a69bbd16 button.colab-df-convert');\n",
              "        buttonEl.style.display =\n",
              "          google.colab.kernel.accessAllowed ? 'block' : 'none';\n",
              "\n",
              "        async function convertToInteractive(key) {\n",
              "          const element = document.querySelector('#df-d1e439e2-a78e-4c73-839f-fd25a69bbd16');\n",
              "          const dataTable =\n",
              "            await google.colab.kernel.invokeFunction('convertToInteractive',\n",
              "                                                     [key], {});\n",
              "          if (!dataTable) return;\n",
              "\n",
              "          const docLinkHtml = 'Like what you see? Visit the ' +\n",
              "            '<a target=\"_blank\" href=https://colab.research.google.com/notebooks/data_table.ipynb>data table notebook</a>'\n",
              "            + ' to learn more about interactive tables.';\n",
              "          element.innerHTML = '';\n",
              "          dataTable['output_type'] = 'display_data';\n",
              "          await google.colab.output.renderOutput(dataTable, element);\n",
              "          const docLink = document.createElement('div');\n",
              "          docLink.innerHTML = docLinkHtml;\n",
              "          element.appendChild(docLink);\n",
              "        }\n",
              "      </script>\n",
              "    </div>\n",
              "  </div>\n",
              "  "
            ]
          },
          "metadata": {},
          "execution_count": 126
        }
      ]
    },
    {
      "cell_type": "markdown",
      "source": [
        "## **Baseline Model**"
      ],
      "metadata": {
        "id": "zwKXCC8lvhg3"
      }
    },
    {
      "cell_type": "markdown",
      "source": [
        "### **Instantiate the Baseline Model**"
      ],
      "metadata": {
        "id": "9V2b30TM4M2l"
      }
    },
    {
      "cell_type": "code",
      "source": [
        "# Instantiate the Model\n",
        "dummy = DummyClassifier(strategy='most_frequent')\n",
        "dummy_model_processor = make_pipeline(scaler, dummy)\n",
        "# Fit the Model\n",
        "dummy_model_processor.fit(X_train_processed, y_train)"
      ],
      "metadata": {
        "colab": {
          "base_uri": "https://localhost:8080/"
        },
        "id": "nCVkucOA3_Qv",
        "outputId": "ceb0f113-946a-4927-dd98-cebecb731f24"
      },
      "execution_count": 128,
      "outputs": [
        {
          "output_type": "execute_result",
          "data": {
            "text/plain": [
              "Pipeline(steps=[('standardscaler', StandardScaler()),\n",
              "                ('dummyclassifier', DummyClassifier(strategy='most_frequent'))])"
            ]
          },
          "metadata": {},
          "execution_count": 128
        }
      ]
    },
    {
      "cell_type": "markdown",
      "source": [
        "### **Baseline Metrics**"
      ],
      "metadata": {
        "id": "IJQx-eXl4R1N"
      }
    },
    {
      "cell_type": "markdown",
      "source": [
        "#### **Predictions**"
      ],
      "metadata": {
        "id": "NG2hEjx7lFhw"
      }
    },
    {
      "cell_type": "code",
      "source": [
        "# Predictions From Dummy Model\n",
        "dummy_train_preds = dummy_model_processor.predict(X_train_df)\n",
        "dummy_test_preds = dummy_model_processor.predict(X_test_df)"
      ],
      "metadata": {
        "id": "PkAg1V8u4H2q"
      },
      "execution_count": 131,
      "outputs": []
    },
    {
      "cell_type": "markdown",
      "source": [
        "#### **Accuracy Scores**"
      ],
      "metadata": {
        "id": "DTd_7VO4lPpA"
      }
    },
    {
      "cell_type": "code",
      "source": [
        "# Calculate classification accuracy\n",
        "dummy_model_accuracy = accuracy_score(y_test, dummy_test_preds)\n",
        "# Print Accuracy Score\n",
        "print(f'Dummy Model Accuracy Score = {dummy_model_accuracy}')"
      ],
      "metadata": {
        "colab": {
          "base_uri": "https://localhost:8080/"
        },
        "id": "gmIFfIqYlblf",
        "outputId": "3674d7ee-20ae-4df5-a084-1c8f472066e4"
      },
      "execution_count": 134,
      "outputs": [
        {
          "output_type": "stream",
          "name": "stdout",
          "text": [
            "Dummy Model Accuracy Score = 0.6605657237936772\n"
          ]
        }
      ]
    },
    {
      "cell_type": "code",
      "source": [
        "# Calculate classification accuracy\n",
        "dummy_train_score = dummy_model_processor.score(X_train_processed, y_train)\n",
        "dummy_test_score = dummy_model_processor.score(X_test_processed, y_test)\n",
        "# Print Accuracy Scores\n",
        "print(f'Dummy Model Train Accuracy Score: {dummy_train_score}')\n",
        "print(f'Dummy Model Test Accuracy Score: {dummy_test_score}')"
      ],
      "metadata": {
        "colab": {
          "base_uri": "https://localhost:8080/"
        },
        "id": "zQ0FisnylBn3",
        "outputId": "3bba08d3-3fc9-4b6f-90a9-8383abc5e6e4"
      },
      "execution_count": 136,
      "outputs": [
        {
          "output_type": "stream",
          "name": "stdout",
          "text": [
            "Dummy Model Train Accuracy Score: 0.6566666666666666\n",
            "Dummy Model Test Accuracy Score: 0.6605657237936772\n"
          ]
        }
      ]
    },
    {
      "cell_type": "markdown",
      "source": [
        "## **Logistic Regression Model**"
      ],
      "metadata": {
        "id": "2K16MUBE3yGL"
      }
    },
    {
      "cell_type": "markdown",
      "source": [
        "### **Instantiate the Linear Regression Model**"
      ],
      "metadata": {
        "id": "fTMgX9jBwb1b"
      }
    },
    {
      "cell_type": "code",
      "source": [
        "# Make an instance of the Model\n",
        "logreg = LogisticRegression(C = 1000)"
      ],
      "metadata": {
        "id": "PLAz3K6Wwh5O"
      },
      "execution_count": 137,
      "outputs": []
    },
    {
      "cell_type": "markdown",
      "source": [
        "### **Create the Pipeline**"
      ],
      "metadata": {
        "id": "4ffAEWqQwu2z"
      }
    },
    {
      "cell_type": "code",
      "source": [
        "# Create pipeline\n",
        "logreg_pipe = make_pipeline(scaler, logreg)"
      ],
      "metadata": {
        "id": "XD6TThVKwsnr"
      },
      "execution_count": 138,
      "outputs": []
    },
    {
      "cell_type": "markdown",
      "source": [
        "### **Fit and Train the Model on the Data**"
      ],
      "metadata": {
        "id": "qV2RXiA1xFQt"
      }
    },
    {
      "cell_type": "code",
      "source": [
        "# Fit the model\n",
        "logreg_pipe.fit(X_train_processed,y_train)"
      ],
      "metadata": {
        "colab": {
          "base_uri": "https://localhost:8080/"
        },
        "id": "ZygEsIuNxJa5",
        "outputId": "8a31532e-84fc-4add-d2e3-8170d08f1905"
      },
      "execution_count": 139,
      "outputs": [
        {
          "output_type": "execute_result",
          "data": {
            "text/plain": [
              "Pipeline(steps=[('standardscaler', StandardScaler()),\n",
              "                ('logisticregression', LogisticRegression(C=1000))])"
            ]
          },
          "metadata": {},
          "execution_count": 139
        }
      ]
    },
    {
      "cell_type": "markdown",
      "source": [
        "### **Print Training Scores**"
      ],
      "metadata": {
        "id": "IQkBEEMZyfkD"
      }
    },
    {
      "cell_type": "code",
      "source": [
        "# Print Scores\n",
        "print(logreg_pipe.score(X_train_processed, y_train))\n",
        "print(logreg_pipe.score(X_test_processed, y_test))"
      ],
      "metadata": {
        "colab": {
          "base_uri": "https://localhost:8080/"
        },
        "id": "xcMFHKrKyde0",
        "outputId": "322592ba-8442-4617-88c7-38e8e9ea8b24"
      },
      "execution_count": 141,
      "outputs": [
        {
          "output_type": "stream",
          "name": "stdout",
          "text": [
            "0.8555555555555555\n",
            "0.831946755407654\n"
          ]
        }
      ]
    },
    {
      "cell_type": "markdown",
      "source": [
        "### **Hyperparameter Tuning**"
      ],
      "metadata": {
        "id": "8O_KI4WwyoSB"
      }
    },
    {
      "cell_type": "markdown",
      "source": [
        "#### **L1 Tuning**"
      ],
      "metadata": {
        "id": "N-kyMzhpysYc"
      }
    },
    {
      "cell_type": "markdown",
      "source": [
        "##### **Wideband Tuning**"
      ],
      "metadata": {
        "id": "A_w7UE5i6q19"
      }
    },
    {
      "cell_type": "code",
      "source": [
        "# Create a List of C Values and Empty Lists for Scores\n",
        "c_values = [0.0001, 0.001, 0.01, 0.1, 1, 10, 100, 1000]\n",
        "train_scores = []\n",
        "test_scores = []\n",
        " \n",
        "# Create a loop to iterative over the C values\n",
        "for c in c_values:\n",
        " \n",
        "  # Instantiate and Fit the Model on the data\n",
        "  log_reg = LogisticRegression(C=c, max_iter=1000, solver='liblinear', penalty='l1')\n",
        "  log_reg_pipe = make_pipeline(scaler, log_reg)\n",
        "  log_reg_pipe.fit(X_train_processed, y_train)\n",
        " \n",
        "  # Add the Train and Test Scores to our Scores Lists\n",
        "  train_scores.append(log_reg_pipe.score(X_train_processed, y_train))\n",
        "  test_scores.append(log_reg_pipe.score(X_test_processed, y_test))\n",
        " \n",
        "# Plot the Accuracy Scores for the C Values\n",
        "fig, ax = plt.subplots(1,1)\n",
        "ax.plot(c_values, train_scores, label='Training Accuracy')\n",
        "ax.plot(c_values, test_scores, label='Testing Accuracy')\n",
        "ax.set_xticks(c_values)\n",
        "ax.set_title('Change in accuracy over C values for l1 regularization')\n",
        "ax.legend()\n",
        " \n",
        "# Set the X Axis to a logarithmic Scale\n",
        "ax.set_xscale('log')\n",
        "\n",
        "# Print a Dictionary for C Values and Accuracy Scores\n",
        "{c:score for c, score in zip(c_values, test_scores)}"
      ],
      "metadata": {
        "colab": {
          "base_uri": "https://localhost:8080/",
          "height": 423
        },
        "id": "eudusiTOy050",
        "outputId": "3919d531-7236-453b-c278-2b2f13e0cf49"
      },
      "execution_count": 143,
      "outputs": [
        {
          "output_type": "execute_result",
          "data": {
            "text/plain": [
              "{0.0001: 0.33943427620632277,\n",
              " 0.001: 0.33943427620632277,\n",
              " 0.01: 0.8069883527454242,\n",
              " 0.1: 0.8302828618968386,\n",
              " 1: 0.8286189683860233,\n",
              " 10: 0.831946755407654,\n",
              " 100: 0.831946755407654,\n",
              " 1000: 0.831946755407654}"
            ]
          },
          "metadata": {},
          "execution_count": 143
        },
        {
          "output_type": "display_data",
          "data": {
            "text/plain": [
              "<Figure size 432x288 with 1 Axes>"
            ],
            "image/png": "[encoded data removed]"
          },
          "metadata": {
            "needs_background": "light"
          }
        }
      ]
    },
    {
      "cell_type": "markdown",
      "source": [
        "##### **Fine Tuning**"
      ],
      "metadata": {
        "id": "QmqzLHCmEtF4"
      }
    },
    {
      "cell_type": "code",
      "source": [
        "# Create a List of C Values and Empty Lists for Scores\n",
        "c_values = [5.05, 5.06, 5.07, 5.08, 5.09, 5.10, 5.11, 5.12, 5.13, 5.14, 5.15, 5.16, 5.17, 5.18, 5.19, 5.20, 5.21, 5.22, 5.23, 5.24, 5.25]\n",
        "train_scores = []\n",
        "test_scores = []\n",
        " \n",
        "# Create a loop to iterative over the C values\n",
        "for c in c_values:\n",
        " \n",
        "  # Instantiate and Fit the Model on the data\n",
        "  log_reg = LogisticRegression(C=c, max_iter=1000, solver='liblinear', penalty='l1')\n",
        "  log_reg_pipe = make_pipeline(scaler, log_reg)\n",
        "  log_reg_pipe.fit(X_train_processed, y_train)\n",
        " \n",
        "  # Add the Train and Test Scores to our Scores Lists\n",
        "  train_scores.append(log_reg_pipe.score(X_train_processed, y_train))\n",
        "  test_scores.append(log_reg_pipe.score(X_test_processed, y_test))\n",
        " \n",
        "# Plot the Accuracy Scores for the C Values\n",
        "fig, ax = plt.subplots(1,1)\n",
        "ax.plot(c_values, train_scores, label='Training Accuracy')\n",
        "ax.plot(c_values, test_scores, label='Testing Accuracy')\n",
        "ax.set_xticks(c_values)\n",
        "ax.set_title('Change in accuracy over C values for l1 regularization')\n",
        "ax.legend()\n",
        " \n",
        "# Set the X Axis to a logarithmic Scale\n",
        "ax.set_xscale('log')\n",
        "\n",
        "# Print a Dictionary for C Values and Accuracy Scores\n",
        "{c:score for c, score in zip(c_values, test_scores)}"
      ],
      "metadata": {
        "colab": {
          "base_uri": "https://localhost:8080/",
          "height": 648
        },
        "id": "8dricej25EL8",
        "outputId": "6c790ddb-8b6e-4fee-ffe8-bfa29a45281d"
      },
      "execution_count": 155,
      "outputs": [
        {
          "output_type": "execute_result",
          "data": {
            "text/plain": [
              "{5.05: 0.831946755407654,\n",
              " 5.06: 0.8302828618968386,\n",
              " 5.07: 0.8302828618968386,\n",
              " 5.08: 0.8302828618968386,\n",
              " 5.09: 0.8302828618968386,\n",
              " 5.1: 0.8302828618968386,\n",
              " 5.11: 0.8302828618968386,\n",
              " 5.12: 0.8302828618968386,\n",
              " 5.13: 0.8302828618968386,\n",
              " 5.14: 0.8302828618968386,\n",
              " 5.15: 0.8302828618968386,\n",
              " 5.16: 0.8302828618968386,\n",
              " 5.17: 0.8302828618968386,\n",
              " 5.18: 0.831946755407654,\n",
              " 5.19: 0.831946755407654,\n",
              " 5.2: 0.831946755407654,\n",
              " 5.21: 0.831946755407654,\n",
              " 5.22: 0.831946755407654,\n",
              " 5.23: 0.831946755407654,\n",
              " 5.24: 0.8302828618968386,\n",
              " 5.25: 0.831946755407654}"
            ]
          },
          "metadata": {},
          "execution_count": 155
        },
        {
          "output_type": "display_data",
          "data": {
            "text/plain": [
              "<Figure size 432x288 with 1 Axes>"
            ],
            "image/png": "[encoded data removed]"
          },
          "metadata": {
            "needs_background": "light"
          }
        }
      ]
    },
    {
      "cell_type": "markdown",
      "source": [
        "##### **Best L1 Tuned Logistics Regression Model**"
      ],
      "metadata": {
        "id": "Cfh6QEA5PAMl"
      }
    },
    {
      "cell_type": "code",
      "source": [
        "best_l1_log_reg = LogisticRegression(C=5.2, max_iter=1000, solver='liblinear', penalty='l1')\n",
        "best_l1_log_reg_pipe = make_pipeline(scaler, best_l1_log_reg)\n",
        "best_l1_log_reg_pipe.fit(X_train_processed, y_train)"
      ],
      "metadata": {
        "colab": {
          "base_uri": "https://localhost:8080/"
        },
        "id": "tykgxxUuPB5E",
        "outputId": "ab2ba2b3-f772-4302-8be7-9bdebe0292e1"
      },
      "execution_count": 158,
      "outputs": [
        {
          "output_type": "execute_result",
          "data": {
            "text/plain": [
              "Pipeline(steps=[('standardscaler', StandardScaler()),\n",
              "                ('logisticregression',\n",
              "                 LogisticRegression(C=5.2, max_iter=1000, penalty='l1',\n",
              "                                    solver='liblinear'))])"
            ]
          },
          "metadata": {},
          "execution_count": 158
        }
      ]
    },
    {
      "cell_type": "markdown",
      "source": [
        "##### **Predictions**"
      ],
      "metadata": {
        "id": "rfH-wQ8s3FNu"
      }
    },
    {
      "cell_type": "code",
      "source": [
        "# Predictions from Best L1 Tuned Logistics Regression Model\n",
        "best_l1_log_reg_train_preds = best_l1_log_reg_pipe.predict(X_train_processed)\n",
        "best_l1_log_reg_test_preds = best_l1_log_reg_pipe.predict(X_test_processed)"
      ],
      "metadata": {
        "id": "yZg7mFAtPfzW"
      },
      "execution_count": 160,
      "outputs": []
    },
    {
      "cell_type": "markdown",
      "source": [
        "##### **Accuracy Scores**"
      ],
      "metadata": {
        "id": "dXVFc2XE21TV"
      }
    },
    {
      "cell_type": "code",
      "source": [
        "# Calculate classification accuracy\n",
        "best_l1_log_reg_model_accuracy = accuracy_score(y_test, best_l1_log_reg_test_preds)\n",
        "# Print Accuracy Score\n",
        "print(f'Best L1 Tuned Logistics Regression Model Accuracy Score = {best_l1_log_reg_model_accuracy}')"
      ],
      "metadata": {
        "colab": {
          "base_uri": "https://localhost:8080/"
        },
        "id": "tH5SXjMqCAF9",
        "outputId": "b82476e6-1652-4326-cd00-958ed95580d6"
      },
      "execution_count": 161,
      "outputs": [
        {
          "output_type": "stream",
          "name": "stdout",
          "text": [
            "Best L1 Tuned Logistics Regression Model Accuracy Score = 0.831946755407654\n"
          ]
        }
      ]
    },
    {
      "cell_type": "code",
      "source": [
        "# Calculate classification accuracy\n",
        "best_l1_log_reg_train_score = best_l1_log_reg_pipe.score(X_train_processed, y_train)\n",
        "best_l1_log_reg_test_score = best_l1_log_reg_pipe.score(X_test_processed, y_test)\n",
        "# Print Accuracy Scores\n",
        "print(f'Best L1 Tuned Logistics Regression Train Accuracy Score: {best_l1_log_reg_train_score}')\n",
        "print(f'Best L1 Tuned Logistics Regression Test Accuracy Score: {best_l1_log_reg_test_score}')"
      ],
      "metadata": {
        "colab": {
          "base_uri": "https://localhost:8080/"
        },
        "id": "saqce9Mhy868",
        "outputId": "17f85f5e-1e43-4ddb-fd1f-e4f2f6e65c7b"
      },
      "execution_count": 163,
      "outputs": [
        {
          "output_type": "stream",
          "name": "stdout",
          "text": [
            "Best L1 Tuned Logistics Regression Train Accuracy Score: 0.8561111111111112\n",
            "Best L1 Tuned Logistics Regression Test Accuracy Score: 0.831946755407654\n"
          ]
        }
      ]
    },
    {
      "cell_type": "markdown",
      "source": [
        "#### **L2 Tuning**"
      ],
      "metadata": {
        "id": "iwy5GBCPyv6I"
      }
    },
    {
      "cell_type": "markdown",
      "source": [
        "##### **Wideband Tuning**"
      ],
      "metadata": {
        "id": "3OMt-ezRE3sX"
      }
    },
    {
      "cell_type": "code",
      "source": [
        "# Create a List of C Values and Empty Lists for Scores\n",
        "c_values = [0.0001, 0.001, 0.01, 0.1, 1, 10, 100, 1000]\n",
        "train_scores = []\n",
        "test_scores = []\n",
        " \n",
        "# Create a loop to iterative over the C values\n",
        "for c in c_values:\n",
        " \n",
        "  # Instantiate and Fit the Model on the data\n",
        "  log_reg = LogisticRegression(C=c, max_iter=1000, solver='liblinear', penalty='l2')\n",
        "  log_reg_pipe = make_pipeline(scaler, log_reg)\n",
        "  log_reg_pipe.fit(X_train_processed, y_train)\n",
        " \n",
        "  # Add the Train and Test Scores to our Scores Lists\n",
        "  train_scores.append(log_reg_pipe.score(X_train_processed, y_train))\n",
        "  test_scores.append(log_reg_pipe.score(X_test_processed, y_test))\n",
        " \n",
        "# Plot the Accuracy Scores for the C Values\n",
        "fig, ax = plt.subplots(1,1)\n",
        "ax.plot(c_values, train_scores, label='Training Accuracy')\n",
        "ax.plot(c_values, test_scores, label='Testing Accuracy')\n",
        "ax.set_xticks(c_values)\n",
        "ax.set_title('Change in accuracy over C values for l1 regularization')\n",
        "ax.legend()\n",
        " \n",
        "# Set the X Axis to a logarithmic Scale\n",
        "ax.set_xscale('log')\n",
        "\n",
        "# Print a Dictionary for C Values and Accuracy Scores\n",
        "{c:score for c, score in zip(c_values, test_scores)}"
      ],
      "metadata": {
        "colab": {
          "base_uri": "https://localhost:8080/",
          "height": 423
        },
        "id": "A-cXE5EMzC4F",
        "outputId": "af213ac8-bcdf-458b-fc0c-48623f2ebe11"
      },
      "execution_count": 166,
      "outputs": [
        {
          "output_type": "execute_result",
          "data": {
            "text/plain": [
              "{0.0001: 0.7886855241264559,\n",
              " 0.001: 0.7986688851913477,\n",
              " 0.01: 0.8286189683860233,\n",
              " 0.1: 0.826955074875208,\n",
              " 1: 0.8302828618968386,\n",
              " 10: 0.831946755407654,\n",
              " 100: 0.831946755407654,\n",
              " 1000: 0.831946755407654}"
            ]
          },
          "metadata": {},
          "execution_count": 166
        },
        {
          "output_type": "display_data",
          "data": {
            "text/plain": [
              "<Figure size 432x288 with 1 Axes>"
            ],
            "image/png": "[encoded data removed]"
          },
          "metadata": {
            "needs_background": "light"
          }
        }
      ]
    },
    {
      "cell_type": "markdown",
      "source": [
        "##### **Fine Tuning**"
      ],
      "metadata": {
        "id": "PqQhNKSozQfU"
      }
    },
    {
      "cell_type": "code",
      "source": [
        "# Create a List of C Values and Empty Lists for Scores\n",
        "c_values =  [0.95, 0.96, 0.97, 0.98, 0.99, 1.00, 1.01, 1.02, 1.03, 1.04, 1.05]\n",
        "train_scores = []\n",
        "test_scores = []\n",
        " \n",
        "# Create a loop to iterative over the C values\n",
        "for c in c_values:\n",
        " \n",
        "  # Instantiate and Fit the Model on the data\n",
        "  log_reg = LogisticRegression(C=c, max_iter=1000, solver='liblinear', penalty='l2')\n",
        "  log_reg_pipe = make_pipeline(scaler, log_reg)\n",
        "  log_reg_pipe.fit(X_train_processed, y_train)\n",
        " \n",
        "  # Add the Train and Test Scores to our Scores Lists\n",
        "  train_scores.append(log_reg_pipe.score(X_train_processed, y_train))\n",
        "  test_scores.append(log_reg_pipe.score(X_test_processed, y_test))\n",
        " \n",
        "# Plot the Accuracy Scores for the C Values\n",
        "fig, ax = plt.subplots(1,1)\n",
        "ax.plot(c_values, train_scores, label='Training Accuracy')\n",
        "ax.plot(c_values, test_scores, label='Testing Accuracy')\n",
        "ax.set_xticks(c_values)\n",
        "ax.set_title('Change in accuracy over C values for l1 regularization')\n",
        "ax.legend()\n",
        " \n",
        "# Set the X Axis to a logarithmic Scale\n",
        "ax.set_xscale('log')\n",
        "\n",
        "# Print a Dictionary for C Values and Accuracy Scores\n",
        "{c:score for c, score in zip(c_values, test_scores)}"
      ],
      "metadata": {
        "colab": {
          "base_uri": "https://localhost:8080/",
          "height": 476
        },
        "outputId": "cd477b37-2a5a-4fb1-8129-7a4363428430",
        "id": "QRi7nPXTFDSN"
      },
      "execution_count": 175,
      "outputs": [
        {
          "output_type": "execute_result",
          "data": {
            "text/plain": [
              "{0.95: 0.8302828618968386,\n",
              " 0.96: 0.8302828618968386,\n",
              " 0.97: 0.8302828618968386,\n",
              " 0.98: 0.8302828618968386,\n",
              " 0.99: 0.8302828618968386,\n",
              " 1.0: 0.8302828618968386,\n",
              " 1.01: 0.8302828618968386,\n",
              " 1.02: 0.831946755407654,\n",
              " 1.03: 0.831946755407654,\n",
              " 1.04: 0.831946755407654,\n",
              " 1.05: 0.831946755407654}"
            ]
          },
          "metadata": {},
          "execution_count": 175
        },
        {
          "output_type": "display_data",
          "data": {
            "text/plain": [
              "<Figure size 432x288 with 1 Axes>"
            ],
            "image/png": "[encoded data removed]"
          },
          "metadata": {
            "needs_background": "light"
          }
        }
      ]
    },
    {
      "cell_type": "markdown",
      "source": [
        "##### **Best L2 Tuned Logistics Regression Model**"
      ],
      "metadata": {
        "id": "FOWN5HPnHNsM"
      }
    },
    {
      "cell_type": "code",
      "source": [
        "best_l2_log_reg = LogisticRegression(C=1.02, max_iter=1000, solver='liblinear', penalty='l2')\n",
        "best_l2_log_reg_pipe = make_pipeline(scaler, best_l2_log_reg)\n",
        "best_l2_log_reg_pipe.fit(X_train_processed, y_train)"
      ],
      "metadata": {
        "colab": {
          "base_uri": "https://localhost:8080/"
        },
        "id": "ggrnSphXGl2u",
        "outputId": "61b53864-60b0-413e-c1be-88e847a19d7d"
      },
      "execution_count": 177,
      "outputs": [
        {
          "output_type": "execute_result",
          "data": {
            "text/plain": [
              "Pipeline(steps=[('standardscaler', StandardScaler()),\n",
              "                ('logisticregression',\n",
              "                 LogisticRegression(C=1.02, max_iter=1000,\n",
              "                                    solver='liblinear'))])"
            ]
          },
          "metadata": {},
          "execution_count": 177
        }
      ]
    },
    {
      "cell_type": "markdown",
      "source": [
        "##### **Predictions**"
      ],
      "metadata": {
        "id": "FMdWSxN73Pzx"
      }
    },
    {
      "cell_type": "code",
      "source": [
        "# Predictions from Best L2 Tuned Logistics Regression Model\n",
        "best_l2_log_reg_train_preds = best_l2_log_reg_pipe.predict(X_train_processed)\n",
        "best_l2_log_reg_test_preds = best_l2_log_reg_pipe.predict(X_test_processed)"
      ],
      "metadata": {
        "id": "29gf2DFz0pBM"
      },
      "execution_count": 179,
      "outputs": []
    },
    {
      "cell_type": "markdown",
      "source": [
        "##### **Accuracy Scores**"
      ],
      "metadata": {
        "id": "UajE0ex03NTS"
      }
    },
    {
      "cell_type": "code",
      "source": [
        "# Calculate classification accuracy\n",
        "best_l2_log_reg_model_accuracy = accuracy_score(y_test, best_l2_log_reg_test_preds)\n",
        "# Print Accuracy Score\n",
        "print(f'Best L2 Tuned Logistics Regression Model Accuracy Score = {best_l2_log_reg_model_accuracy}')"
      ],
      "metadata": {
        "colab": {
          "base_uri": "https://localhost:8080/"
        },
        "id": "Sjpxeveh7PWw",
        "outputId": "929f0c2e-01bd-4e5f-9c5f-3b16073dfff5"
      },
      "execution_count": 180,
      "outputs": [
        {
          "output_type": "stream",
          "name": "stdout",
          "text": [
            "Best L2 Tuned Logistics Regression Model Accuracy Score = 0.831946755407654\n"
          ]
        }
      ]
    },
    {
      "cell_type": "code",
      "source": [
        "# Calculate classification accuracy\n",
        "best_l2_log_reg_train_score = best_l2_log_reg_pipe.score(X_train_processed, y_train)\n",
        "best_l2_log_reg_test_score = best_l2_log_reg_pipe.score(X_test_processed, y_test)\n",
        "# Print Accuracy Scores\n",
        "print(f'Best L2 Tuned Logistics Regression Train Accuracy Score: {best_l2_log_reg_train_score}')\n",
        "print(f'Best L2 Tuned Logistics Regression Test Accuracy Score: {best_l2_log_reg_test_score}')"
      ],
      "metadata": {
        "colab": {
          "base_uri": "https://localhost:8080/"
        },
        "outputId": "d36de991-8c5a-4164-ea23-26289789669f",
        "id": "AIJRR2Xy0pBX"
      },
      "execution_count": 182,
      "outputs": [
        {
          "output_type": "stream",
          "name": "stdout",
          "text": [
            "Best L2 Tuned Logistics Regression Train Accuracy Score: 0.8561111111111112\n",
            "Best L2 Tuned Logistics Regression Test Accuracy Score: 0.831946755407654\n"
          ]
        }
      ]
    },
    {
      "cell_type": "markdown",
      "source": [
        "\n",
        "\n",
        "---\n",
        "\n"
      ],
      "metadata": {
        "id": "QheVg6J1xD6x"
      }
    },
    {
      "cell_type": "markdown",
      "source": [
        "## **Random Forest Model**"
      ],
      "metadata": {
        "id": "SnEWkNygu3qm"
      }
    },
    {
      "cell_type": "markdown",
      "source": [
        "### **Instantiate the Random Forest Model**"
      ],
      "metadata": {
        "id": "zbIQXhk-Wz98"
      }
    },
    {
      "cell_type": "code",
      "source": [
        "# Make an instance of the Model\n",
        "ran_for = RandomForestClassifier(random_state = 42)"
      ],
      "metadata": {
        "id": "ECwdy6ODWz98"
      },
      "execution_count": 184,
      "outputs": []
    },
    {
      "cell_type": "markdown",
      "source": [
        "### **Fit and Train the Model on the Data**"
      ],
      "metadata": {
        "id": "5hhP1kesWz99"
      }
    },
    {
      "cell_type": "code",
      "source": [
        "# Fit the model\n",
        "ran_for.fit(X_train_processed, y_train)"
      ],
      "metadata": {
        "colab": {
          "base_uri": "https://localhost:8080/"
        },
        "outputId": "be89cf21-7028-4a8e-9ccc-3fe412785859",
        "id": "usfNUuYCWz99"
      },
      "execution_count": 185,
      "outputs": [
        {
          "output_type": "execute_result",
          "data": {
            "text/plain": [
              "RandomForestClassifier(random_state=42)"
            ]
          },
          "metadata": {},
          "execution_count": 185
        }
      ]
    },
    {
      "cell_type": "markdown",
      "source": [
        "### **Predictions**"
      ],
      "metadata": {
        "id": "EnrDsApB3epz"
      }
    },
    {
      "cell_type": "code",
      "source": [
        "# Predictions from KNN Model with the best hyperparameters\n",
        "ran_for_train_preds = ran_for.predict(X_train_processed)\n",
        "ran_for_test_preds = ran_for.predict(X_test_processed)"
      ],
      "metadata": {
        "id": "OWinZ-IfZoY-"
      },
      "execution_count": 186,
      "outputs": []
    },
    {
      "cell_type": "markdown",
      "source": [
        "### **Accuracy Scores**"
      ],
      "metadata": {
        "id": "pw_fvnq6Wz9-"
      }
    },
    {
      "cell_type": "code",
      "source": [
        "# Calculate classification accuracy\n",
        "ran_for_model_accuracy = accuracy_score(y_test, ran_for_test_preds)\n",
        "# Print Accuracy Score\n",
        "print(f'Random Forest Model Accuracy Score = {ran_for_model_accuracy}')"
      ],
      "metadata": {
        "colab": {
          "base_uri": "https://localhost:8080/"
        },
        "id": "Mf7jZZ1xZwDA",
        "outputId": "1c21c742-1f21-4877-c1d8-a2d43ea4392f"
      },
      "execution_count": 187,
      "outputs": [
        {
          "output_type": "stream",
          "name": "stdout",
          "text": [
            "Random Forest Model Accuracy Score = 0.8752079866888519\n"
          ]
        }
      ]
    },
    {
      "cell_type": "code",
      "source": [
        "# Calculate classification accuracy\n",
        "ran_for_train_score = ran_for.score(X_train_processed, y_train)\n",
        "ran_for_test_score = ran_for.score(X_test_processed, y_test)\n",
        "print(f'Random Forest Train Accuracy Score: {ran_for_train_score}')\n",
        "print(f'Random Forest Test Accuracy Score: {ran_for_test_score}')"
      ],
      "metadata": {
        "colab": {
          "base_uri": "https://localhost:8080/"
        },
        "outputId": "e74b6463-bc4a-4e9d-ac62-4529acbbdc0a",
        "id": "-8_wvVCMWz9-"
      },
      "execution_count": 188,
      "outputs": [
        {
          "output_type": "stream",
          "name": "stdout",
          "text": [
            "Random Forest Train Accuracy Score: 1.0\n",
            "Random Forest Test Accuracy Score: 0.8752079866888519\n"
          ]
        }
      ]
    },
    {
      "cell_type": "markdown",
      "source": [
        "\n",
        "\n",
        "---\n",
        "\n"
      ],
      "metadata": {
        "id": "8bInQ3bX19FP"
      }
    },
    {
      "cell_type": "markdown",
      "source": [
        "## **KNN Model**"
      ],
      "metadata": {
        "id": "gimOTMhqUtz-"
      }
    },
    {
      "cell_type": "markdown",
      "source": [
        "#### **KNN Model Processor**"
      ],
      "metadata": {
        "id": "1TUnflVUGjyB"
      }
    },
    {
      "cell_type": "code",
      "source": [
        "# Make an instance of the Model\n",
        "knn = KNeighborsClassifier()"
      ],
      "metadata": {
        "id": "cSbq6-w3GfQu"
      },
      "execution_count": 189,
      "outputs": []
    },
    {
      "cell_type": "markdown",
      "source": [
        "#### **Create Pipelines**"
      ],
      "metadata": {
        "id": "H1dadypqG7NU"
      }
    },
    {
      "cell_type": "code",
      "source": [
        "# Create Pipeline\n",
        "knn_model_processor = make_pipeline(scaler, knn)"
      ],
      "metadata": {
        "id": "3GnX6b2DGuBz"
      },
      "execution_count": 190,
      "outputs": []
    },
    {
      "cell_type": "markdown",
      "source": [
        "#### **Fit and Transform Data**"
      ],
      "metadata": {
        "id": "UWx7IUbSBqCG"
      }
    },
    {
      "cell_type": "code",
      "source": [
        "# Fit on Train\n",
        "knn_model_processor.fit(X_train_processed, y_train)"
      ],
      "metadata": {
        "id": "o6M3u2CRCfIS",
        "colab": {
          "base_uri": "https://localhost:8080/"
        },
        "outputId": "c078ab06-165f-46d0-929f-31960ac25afe"
      },
      "execution_count": 194,
      "outputs": [
        {
          "output_type": "execute_result",
          "data": {
            "text/plain": [
              "Pipeline(steps=[('standardscaler', StandardScaler()),\n",
              "                ('kneighborsclassifier', KNeighborsClassifier())])"
            ]
          },
          "metadata": {},
          "execution_count": 194
        }
      ]
    },
    {
      "cell_type": "markdown",
      "source": [
        "#### **Accuracy Score**"
      ],
      "metadata": {
        "id": "3dLd2kvKKD7_"
      }
    },
    {
      "cell_type": "code",
      "source": [
        "# Print Model Accuracy\n",
        "knn_model_accuracy = accuracy_score(y_test, knn_model_processor.predict(X_test_processed))\n",
        "\n",
        "print(f'KNN Model Accuracy = {knn_model_accuracy}')"
      ],
      "metadata": {
        "colab": {
          "base_uri": "https://localhost:8080/"
        },
        "id": "QUpRmnJ8LtEU",
        "outputId": "ad375477-3ddc-4981-d31a-38af0c01ae1e"
      },
      "execution_count": 196,
      "outputs": [
        {
          "output_type": "stream",
          "name": "stdout",
          "text": [
            "KNN Model Accuracy = 0.7653910149750416\n"
          ]
        }
      ]
    },
    {
      "cell_type": "markdown",
      "source": [
        "#### **Hypertuning Parameters**"
      ],
      "metadata": {
        "id": "NR_vBDbiaA8S"
      }
    },
    {
      "cell_type": "markdown",
      "source": [
        "#### **Get KNN Model Parameters**"
      ],
      "metadata": {
        "id": "Ek8RE1OBaJ0r"
      }
    },
    {
      "cell_type": "code",
      "source": [
        "knn_model_processor.get_params()"
      ],
      "metadata": {
        "colab": {
          "base_uri": "https://localhost:8080/"
        },
        "id": "p___Kj5zaPP0",
        "outputId": "b9b47702-8588-496a-adbc-79afb4a0c823"
      },
      "execution_count": 197,
      "outputs": [
        {
          "output_type": "execute_result",
          "data": {
            "text/plain": [
              "{'kneighborsclassifier': KNeighborsClassifier(),\n",
              " 'kneighborsclassifier__algorithm': 'auto',\n",
              " 'kneighborsclassifier__leaf_size': 30,\n",
              " 'kneighborsclassifier__metric': 'minkowski',\n",
              " 'kneighborsclassifier__metric_params': None,\n",
              " 'kneighborsclassifier__n_jobs': None,\n",
              " 'kneighborsclassifier__n_neighbors': 5,\n",
              " 'kneighborsclassifier__p': 2,\n",
              " 'kneighborsclassifier__weights': 'uniform',\n",
              " 'memory': None,\n",
              " 'standardscaler': StandardScaler(),\n",
              " 'standardscaler__copy': True,\n",
              " 'standardscaler__with_mean': True,\n",
              " 'standardscaler__with_std': True,\n",
              " 'steps': [('standardscaler', StandardScaler()),\n",
              "  ('kneighborsclassifier', KNeighborsClassifier())],\n",
              " 'verbose': False}"
            ]
          },
          "metadata": {},
          "execution_count": 197
        }
      ]
    },
    {
      "cell_type": "markdown",
      "source": [
        "#### **Hypertune Using Loop**"
      ],
      "metadata": {
        "id": "ApZyrtFWyAzI"
      }
    },
    {
      "cell_type": "code",
      "source": [
        "krange = range(1, 50)\n",
        "k_list = []\n",
        "for k in krange: \n",
        "  knn_model_processor = make_pipeline(scaler, KNeighborsClassifier(n_neighbors=k))\n",
        "  knn_model_processor.fit(X_train_processed, y_train)\n",
        "  score = accuracy_score(y_test, knn_model_processor.predict(X_test_processed))\n",
        "  k_list.append(score)"
      ],
      "metadata": {
        "id": "JzRB2sLRyBKc"
      },
      "execution_count": 200,
      "outputs": []
    },
    {
      "cell_type": "code",
      "source": [
        "# Visualize Score\n",
        "plt.plot(krange, k_list)\n",
        "plt.xlabel('K')\n",
        "plt.ylabel('Score');"
      ],
      "metadata": {
        "colab": {
          "base_uri": "https://localhost:8080/",
          "height": 278
        },
        "id": "RNaOfut2ysR-",
        "outputId": "8e56aec9-c4c0-45b5-edc3-ec2e4ab80407"
      },
      "execution_count": 201,
      "outputs": [
        {
          "output_type": "display_data",
          "data": {
            "text/plain": [
              "<Figure size 432x288 with 1 Axes>"
            ],
            "image/png": "[encoded data removed]"
          },
          "metadata": {
            "needs_background": "light"
          }
        }
      ]
    },
    {
      "cell_type": "code",
      "source": [
        "knn_model_processor = make_pipeline(scaler, KNeighborsClassifier(n_neighbors=10))\n",
        "knn_model_processor.fit(X_train_processed, y_train)\n",
        "score = accuracy_score(y_test, knn_model_processor.predict(X_test_processed))"
      ],
      "metadata": {
        "id": "aP6hm0Y10ORB"
      },
      "execution_count": 204,
      "outputs": []
    },
    {
      "cell_type": "code",
      "source": [
        "# Print Model Accuracy Score\n",
        "knn_model_accuracy = accuracy_score(y_test, knn_model_processor.predict(X_test_processed))\n",
        "print(f'KNN Model Accuracy Score = {knn_model_accuracy}')"
      ],
      "metadata": {
        "colab": {
          "base_uri": "https://localhost:8080/"
        },
        "id": "EP166Psg0XFj",
        "outputId": "bcb99cbb-4ead-45a8-f7fd-30d4ad642ae5"
      },
      "execution_count": 205,
      "outputs": [
        {
          "output_type": "stream",
          "name": "stdout",
          "text": [
            "KNN Model Accuracy Score = 0.7853577371048253\n"
          ]
        }
      ]
    },
    {
      "cell_type": "markdown",
      "source": [
        "#### **Hypertune using GridSearch**"
      ],
      "metadata": {
        "id": "Uem4MFNb1KZT"
      }
    },
    {
      "cell_type": "markdown",
      "source": [
        "##### **Select KNN Model Parameters for GridSearch**"
      ],
      "metadata": {
        "id": "Tf-K0ACffUAt"
      }
    },
    {
      "cell_type": "code",
      "source": [
        "# Select Hyperparameters\n",
        "knn_parameters = { 'kneighborsclassifier__n_neighbors': [9,10,11], # Default is 5\n",
        "                  'kneighborsclassifier__leaf_size': [2,3,4,5,6,7,8,9,10]} # Default is 30"
      ],
      "metadata": {
        "id": "vWBB8jSUah15"
      },
      "execution_count": 209,
      "outputs": []
    },
    {
      "cell_type": "markdown",
      "source": [
        "##### **Instantiate Grid Search**"
      ],
      "metadata": {
        "id": "iPNOCynSbFet"
      }
    },
    {
      "cell_type": "code",
      "source": [
        "# Instantiate Gridsearch\n",
        "knn_grid = GridSearchCV(knn_model_processor, knn_parameters)\n",
        "# Fit GridSearch\n",
        "knn_grid.fit(X_train_processed, y_train)"
      ],
      "metadata": {
        "colab": {
          "base_uri": "https://localhost:8080/"
        },
        "id": "JbWg_mzMbNUN",
        "outputId": "8665e31b-165f-4e31-c3b2-e1385e4ba88e"
      },
      "execution_count": 210,
      "outputs": [
        {
          "output_type": "execute_result",
          "data": {
            "text/plain": [
              "GridSearchCV(estimator=Pipeline(steps=[('standardscaler', StandardScaler()),\n",
              "                                       ('kneighborsclassifier',\n",
              "                                        KNeighborsClassifier(n_neighbors=10))]),\n",
              "             param_grid={'kneighborsclassifier__leaf_size': [2, 3, 4, 5, 6, 7,\n",
              "                                                             8, 9, 10],\n",
              "                         'kneighborsclassifier__n_neighbors': [9, 10, 11]})"
            ]
          },
          "metadata": {},
          "execution_count": 210
        }
      ]
    },
    {
      "cell_type": "code",
      "source": [
        "# Display the best hyperparameters From GridSearchCV\n",
        "knn_grid.best_params_"
      ],
      "metadata": {
        "colab": {
          "base_uri": "https://localhost:8080/"
        },
        "id": "_UU62yjycZii",
        "outputId": "5d33eaf9-f10c-44b5-ed1f-11bd336fe7eb"
      },
      "execution_count": 208,
      "outputs": [
        {
          "output_type": "execute_result",
          "data": {
            "text/plain": [
              "{'kneighborsclassifier__leaf_size': 5, 'kneighborsclassifier__n_neighbors': 10}"
            ]
          },
          "metadata": {},
          "execution_count": 208
        }
      ]
    },
    {
      "cell_type": "code",
      "source": [
        "# Extract KNN Model with best hyperparameters\n",
        "best_knn = knn_grid.best_estimator_"
      ],
      "metadata": {
        "id": "gi1a-bTUydIM"
      },
      "execution_count": 211,
      "outputs": []
    },
    {
      "cell_type": "markdown",
      "source": [
        "### **Predictions**"
      ],
      "metadata": {
        "id": "L3kUu-0w3_8T"
      }
    },
    {
      "cell_type": "code",
      "source": [
        "# Predictions from KNN Model with the best hyperparameters\n",
        "knn_train_preds = best_knn.predict(X_train_processed)\n",
        "knn_test_preds = best_knn.predict(X_test_processed)"
      ],
      "metadata": {
        "id": "y7PZwwVcypn6"
      },
      "execution_count": 212,
      "outputs": []
    },
    {
      "cell_type": "markdown",
      "source": [
        "### **Accuracy Scores**"
      ],
      "metadata": {
        "id": "WTg6MnRV4J6m"
      }
    },
    {
      "cell_type": "code",
      "source": [
        "# Print Model Accuracy Score\n",
        "knn_model_accuracy = accuracy_score(y_test, knn_test_preds)\n",
        "print(f'KNN Model Accuracy Score = {knn_model_accuracy}')"
      ],
      "metadata": {
        "colab": {
          "base_uri": "https://localhost:8080/"
        },
        "id": "IR3lM4mBDDRi",
        "outputId": "1e4c9e7e-1e58-4d9a-b320-60a0e5774527"
      },
      "execution_count": 213,
      "outputs": [
        {
          "output_type": "stream",
          "name": "stdout",
          "text": [
            "KNN Model Accuracy Score = 0.7853577371048253\n"
          ]
        }
      ]
    },
    {
      "cell_type": "code",
      "source": [
        "# calculate classification accuracy\n",
        "knn_train_score = best_knn.score(X_train_processed, y_train)\n",
        "knn_test_score = best_knn.score(X_test_processed, y_test)\n",
        "print(f'KNN Train Accuracy Score: {knn_train_score}')\n",
        "print(f'KNN Test Accuracy Score: {knn_test_score}')"
      ],
      "metadata": {
        "colab": {
          "base_uri": "https://localhost:8080/"
        },
        "id": "e4T_adXP4Vfq",
        "outputId": "c5b7cede-0d28-4571-dbc1-56d672641ad2"
      },
      "execution_count": 214,
      "outputs": [
        {
          "output_type": "stream",
          "name": "stdout",
          "text": [
            "KNN Train Accuracy Score: 0.8288888888888889\n",
            "KNN Test Accuracy Score: 0.7853577371048253\n"
          ]
        }
      ]
    },
    {
      "cell_type": "markdown",
      "source": [
        "## **Confusion Matrices**"
      ],
      "metadata": {
        "id": "2EAA-ixmlID0"
      }
    },
    {
      "cell_type": "markdown",
      "source": [
        "#### **Confusion Report**"
      ],
      "metadata": {
        "id": "WpOQjt-rlxk6"
      }
    },
    {
      "cell_type": "code",
      "source": [
        "# Confusion Matrix\n",
        "dummy_confusion_matrix = confusion_matrix(y_test, dummy_test_preds)\n",
        "l1_log_reg_confusion_matrix = confusion_matrix(y_test, best_l1_log_reg_test_preds)\n",
        "l2_log_reg_confusion_matrix = confusion_matrix(y_test, best_l2_log_reg_test_preds)\n",
        "ran_for_confusion_matrix = confusion_matrix(y_test, best_l2_log_reg_test_preds)\n",
        "knn_confusion_matrix = confusion_matrix(y_test, knn_test_preds)\n",
        "\n",
        "print(f'Dummy Confusion Matrix:\\n {dummy_confusion_matrix}')\n",
        "print('\\n')\n",
        "print(f'Random Forest Confusion Matrix:\\n {ran_for_confusion_matrix}')\n",
        "print('\\n')\n",
        "print(f'L1 Tuned Logistics Regression Confusion Matrix:\\n {l1_log_reg_confusion_matrix}')\n",
        "print('\\n')\n",
        "print(f'L2 Tuned Logistics Regression Confusion Matrix:\\n {l2_log_reg_confusion_matrix}')\n",
        "print('\\n')\n",
        "print(f'KNN Confusion Matrix:\\n {knn_confusion_matrix}')"
      ],
      "metadata": {
        "colab": {
          "base_uri": "https://localhost:8080/"
        },
        "id": "p2JXUUpSlJ9K",
        "outputId": "b72d7395-db8b-4c5c-9f8e-e07597dcf364"
      },
      "execution_count": 215,
      "outputs": [
        {
          "output_type": "stream",
          "name": "stdout",
          "text": [
            "Dummy Confusion Matrix:\n",
            " [[  0 204]\n",
            " [  0 397]]\n",
            "\n",
            "\n",
            "Random Forest Confusion Matrix:\n",
            " [[137  67]\n",
            " [ 34 363]]\n",
            "\n",
            "\n",
            "L1 Tuned Logistics Regression Confusion Matrix:\n",
            " [[137  67]\n",
            " [ 34 363]]\n",
            "\n",
            "\n",
            "L2 Tuned Logistics Regression Confusion Matrix:\n",
            " [[137  67]\n",
            " [ 34 363]]\n",
            "\n",
            "\n",
            "KNN Confusion Matrix:\n",
            " [[124  80]\n",
            " [ 49 348]]\n"
          ]
        }
      ]
    },
    {
      "cell_type": "markdown",
      "source": [
        "#### **Normalized Confusion Report**"
      ],
      "metadata": {
        "id": "kvaQdRn5m1bA"
      }
    },
    {
      "cell_type": "code",
      "source": [
        "# Normalized Confusion Report\n",
        "dummy_confusion_matrix = confusion_matrix(y_test, dummy_test_preds, normalize = 'true')\n",
        "l1_log_reg_confusion_matrix = confusion_matrix(y_test, best_l1_log_reg_test_preds, normalize = 'true')\n",
        "l2_log_reg_confusion_matrix = confusion_matrix(y_test, best_l2_log_reg_test_preds, normalize = 'true')\n",
        "ran_for_confusion_matrix = confusion_matrix(y_test, ran_for_test_preds, normalize = 'true')\n",
        "knn_confusion_matrix = confusion_matrix(y_test, knn_test_preds, normalize = 'true')\n",
        "\n",
        "print(f'Dummy Confusion Matrix:\\n {dummy_confusion_matrix}')\n",
        "print('\\n')\n",
        "print(f'L1 Tuned Logistics Regression Confusion Matrix:\\n {l1_log_reg_confusion_matrix}')\n",
        "print('\\n')\n",
        "print(f'L2 Tuned Logistics Regression Confusion Matrix:\\n {l2_log_reg_confusion_matrix}')\n",
        "print('\\n')\n",
        "print(f'Random Forest Confusion Matrix:\\n {ran_for_confusion_matrix}')\n",
        "print('\\n')\n",
        "print(f'KNN Confusion Matrix:\\n {knn_confusion_matrix}')"
      ],
      "metadata": {
        "colab": {
          "base_uri": "https://localhost:8080/"
        },
        "id": "IwWU6ydDl5YZ",
        "outputId": "0b3ab728-0cd8-4832-c197-20d648c8af05"
      },
      "execution_count": 216,
      "outputs": [
        {
          "output_type": "stream",
          "name": "stdout",
          "text": [
            "Dummy Confusion Matrix:\n",
            " [[0. 1.]\n",
            " [0. 1.]]\n",
            "\n",
            "\n",
            "L1 Tuned Logistics Regression Confusion Matrix:\n",
            " [[0.67156863 0.32843137]\n",
            " [0.08564232 0.91435768]]\n",
            "\n",
            "\n",
            "L2 Tuned Logistics Regression Confusion Matrix:\n",
            " [[0.67156863 0.32843137]\n",
            " [0.08564232 0.91435768]]\n",
            "\n",
            "\n",
            "Random Forest Confusion Matrix:\n",
            " [[0.76470588 0.23529412]\n",
            " [0.06801008 0.93198992]]\n",
            "\n",
            "\n",
            "KNN Confusion Matrix:\n",
            " [[0.60784314 0.39215686]\n",
            " [0.12342569 0.87657431]]\n"
          ]
        }
      ]
    },
    {
      "cell_type": "markdown",
      "source": [
        "#### **Heatmap of Confusion Matrices**"
      ],
      "metadata": {
        "id": "58d7tidcm8UY"
      }
    },
    {
      "cell_type": "code",
      "source": [
        "# Dummy Model\n",
        "ConfusionMatrixDisplay.from_estimator(dummy_model_processor, X_test_processed, y_test, cmap='Blues', normalize='true');"
      ],
      "metadata": {
        "colab": {
          "base_uri": "https://localhost:8080/",
          "height": 282
        },
        "id": "GEiIktYmvvGN",
        "outputId": "9d3c43df-28a1-4cb2-ba05-c775ec65bfbc"
      },
      "execution_count": 217,
      "outputs": [
        {
          "output_type": "display_data",
          "data": {
            "text/plain": [
              "<Figure size 432x288 with 2 Axes>"
            ],
            "image/png": "[encoded data removed]"
          },
          "metadata": {
            "needs_background": "light"
          }
        }
      ]
    },
    {
      "cell_type": "code",
      "source": [
        "# Logistics Model with L1 tuned\n",
        "ConfusionMatrixDisplay.from_estimator(best_l1_log_reg_pipe, X_test_processed, y_test, cmap='Blues', normalize='true');"
      ],
      "metadata": {
        "colab": {
          "base_uri": "https://localhost:8080/",
          "height": 280
        },
        "id": "dnZKbntIwHUo",
        "outputId": "0e746068-5e32-4781-e2b6-69d73dc7d157"
      },
      "execution_count": 218,
      "outputs": [
        {
          "output_type": "display_data",
          "data": {
            "text/plain": [
              "<Figure size 432x288 with 2 Axes>"
            ],
            "image/png": "[encoded data removed]"
          },
          "metadata": {
            "needs_background": "light"
          }
        }
      ]
    },
    {
      "cell_type": "code",
      "source": [
        "# Logistics Model with L2 tuned\n",
        "ConfusionMatrixDisplay.from_estimator(best_l2_log_reg_pipe, X_test_processed, y_test, cmap='Blues', normalize='true');"
      ],
      "metadata": {
        "colab": {
          "base_uri": "https://localhost:8080/",
          "height": 280
        },
        "id": "jX6Y1JCzwf_0",
        "outputId": "b45c009a-19a3-4ea7-c531-17cf3fddf023"
      },
      "execution_count": 219,
      "outputs": [
        {
          "output_type": "display_data",
          "data": {
            "text/plain": [
              "<Figure size 432x288 with 2 Axes>"
            ],
            "image/png": "[encoded data removed]"
          },
          "metadata": {
            "needs_background": "light"
          }
        }
      ]
    },
    {
      "cell_type": "code",
      "source": [
        "# Random Forest Model\n",
        "ConfusionMatrixDisplay.from_estimator(ran_for, X_test_processed, y_test, cmap='Blues', normalize='true');"
      ],
      "metadata": {
        "id": "DgPIf3Bq6QPy",
        "colab": {
          "base_uri": "https://localhost:8080/",
          "height": 278
        },
        "outputId": "6808f9f8-597b-4d46-eb58-6734127cc438"
      },
      "execution_count": 220,
      "outputs": [
        {
          "output_type": "display_data",
          "data": {
            "text/plain": [
              "<Figure size 432x288 with 2 Axes>"
            ],
            "image/png": "[encoded data removed]"
          },
          "metadata": {
            "needs_background": "light"
          }
        }
      ]
    },
    {
      "cell_type": "code",
      "source": [
        "# KNN Model\n",
        "ConfusionMatrixDisplay.from_estimator(best_knn, X_test_processed, y_test, cmap='Blues', normalize='true');"
      ],
      "metadata": {
        "colab": {
          "base_uri": "https://localhost:8080/",
          "height": 278
        },
        "id": "FD4-bfLtUbV-",
        "outputId": "f61f2ca7-3bba-4782-ca64-4b74360a7ea2"
      },
      "execution_count": 221,
      "outputs": [
        {
          "output_type": "display_data",
          "data": {
            "text/plain": [
              "<Figure size 432x288 with 2 Axes>"
            ],
            "image/png": "[encoded data removed]"
          },
          "metadata": {
            "needs_background": "light"
          }
        }
      ]
    },
    {
      "cell_type": "markdown",
      "source": [
        "## **Classification Reports**"
      ],
      "metadata": {
        "id": "p8ubH7Sv9fhh"
      }
    },
    {
      "cell_type": "code",
      "source": [
        "# Classification Reports\n",
        "dummy_classification_report = classification_report(y_test, dummy_test_preds)\n",
        "ran_for_classification_report = classification_report(y_test, ran_for_test_preds)\n",
        "best_l1_log_reg_report = classification_report(y_test, best_l1_log_reg_test_preds)\n",
        "best_l2_log_reg_report = classification_report(y_test, best_l2_log_reg_test_preds)\n",
        "knn_classification_report = classification_report(y_test, knn_test_preds)\n",
        "print('\\n')\n",
        "print(f'Dummy Model Classification Report \\n{dummy_classification_report}');\n",
        "print('\\n')\n",
        "print(f'Random Forest Model Classification Report \\n{ran_for_classification_report}');\n",
        "print('\\n')\n",
        "print(f'L1 Tuned Logistics Classification Report \\n{best_l1_log_reg_report}');\n",
        "print('\\n')\n",
        "print(f'L2 Tuned Logistics Classification Report \\n{best_l2_log_reg_report}');\n",
        "print('\\n')\n",
        "print(f'KNN Model Classification Report \\n{knn_classification_report}');"
      ],
      "metadata": {
        "colab": {
          "base_uri": "https://localhost:8080/"
        },
        "id": "Q97mBSq3mLMM",
        "outputId": "3fc83750-d2aa-4651-e464-2b391fb7d3f0"
      },
      "execution_count": 223,
      "outputs": [
        {
          "output_type": "stream",
          "name": "stderr",
          "text": [
            "/usr/local/lib/python3.7/dist-packages/sklearn/metrics/_classification.py:1318: UndefinedMetricWarning: Precision and F-score are ill-defined and being set to 0.0 in labels with no predicted samples. Use `zero_division` parameter to control this behavior.\n",
            "  _warn_prf(average, modifier, msg_start, len(result))\n",
            "/usr/local/lib/python3.7/dist-packages/sklearn/metrics/_classification.py:1318: UndefinedMetricWarning: Precision and F-score are ill-defined and being set to 0.0 in labels with no predicted samples. Use `zero_division` parameter to control this behavior.\n",
            "  _warn_prf(average, modifier, msg_start, len(result))\n",
            "/usr/local/lib/python3.7/dist-packages/sklearn/metrics/_classification.py:1318: UndefinedMetricWarning: Precision and F-score are ill-defined and being set to 0.0 in labels with no predicted samples. Use `zero_division` parameter to control this behavior.\n",
            "  _warn_prf(average, modifier, msg_start, len(result))\n"
          ]
        },
        {
          "output_type": "stream",
          "name": "stdout",
          "text": [
            "\n",
            "\n",
            "Dummy Model Classification Report \n",
            "              precision    recall  f1-score   support\n",
            "\n",
            "      MetSyn       0.00      0.00      0.00       204\n",
            "   No MetSyn       0.66      1.00      0.80       397\n",
            "\n",
            "    accuracy                           0.66       601\n",
            "   macro avg       0.33      0.50      0.40       601\n",
            "weighted avg       0.44      0.66      0.53       601\n",
            "\n",
            "\n",
            "\n",
            "Random Forest Model Classification Report \n",
            "              precision    recall  f1-score   support\n",
            "\n",
            "      MetSyn       0.85      0.76      0.81       204\n",
            "   No MetSyn       0.89      0.93      0.91       397\n",
            "\n",
            "    accuracy                           0.88       601\n",
            "   macro avg       0.87      0.85      0.86       601\n",
            "weighted avg       0.87      0.88      0.87       601\n",
            "\n",
            "\n",
            "\n",
            "L1 Tuned Logistics Classification Report \n",
            "              precision    recall  f1-score   support\n",
            "\n",
            "      MetSyn       0.80      0.67      0.73       204\n",
            "   No MetSyn       0.84      0.91      0.88       397\n",
            "\n",
            "    accuracy                           0.83       601\n",
            "   macro avg       0.82      0.79      0.80       601\n",
            "weighted avg       0.83      0.83      0.83       601\n",
            "\n",
            "\n",
            "\n",
            "L2 Tuned Logistics Classification Report \n",
            "              precision    recall  f1-score   support\n",
            "\n",
            "      MetSyn       0.80      0.67      0.73       204\n",
            "   No MetSyn       0.84      0.91      0.88       397\n",
            "\n",
            "    accuracy                           0.83       601\n",
            "   macro avg       0.82      0.79      0.80       601\n",
            "weighted avg       0.83      0.83      0.83       601\n",
            "\n",
            "\n",
            "\n",
            "KNN Model Classification Report \n",
            "              precision    recall  f1-score   support\n",
            "\n",
            "      MetSyn       0.72      0.61      0.66       204\n",
            "   No MetSyn       0.81      0.88      0.84       397\n",
            "\n",
            "    accuracy                           0.79       601\n",
            "   macro avg       0.76      0.74      0.75       601\n",
            "weighted avg       0.78      0.79      0.78       601\n",
            "\n"
          ]
        }
      ]
    },
    {
      "cell_type": "markdown",
      "source": [
        "## **Findings**"
      ],
      "metadata": {
        "id": "-V657DPZoZca"
      }
    },
    {
      "cell_type": "markdown",
      "source": [
        "### **Accuracy Scores**"
      ],
      "metadata": {
        "id": "aKDWoKo3sCTj"
      }
    },
    {
      "cell_type": "code",
      "source": [
        "# Print Accuracy Scores\n",
        "print(f'Dummy Model Train Accuracy Score: {dummy_train_score}')\n",
        "print(f'Dummy Model Test Accuracy Score: {dummy_test_score}')\n",
        "print('\\n')\n",
        "print(f'Best L1 Tuned Logistics Regression Train Accuracy Score: {best_l1_log_reg_train_score}')\n",
        "print(f'Best L1 Tuned Logistics Regression Test Accuracy Score: {best_l1_log_reg_test_score}')\n",
        "print('\\n')\n",
        "print(f'Best L2 Tuned Logistics Regression Train Accuracy Score: {best_l2_log_reg_train_score}')\n",
        "print(f'Best L2 Tuned Logistics Regression Test Accuracy Score: {best_l2_log_reg_test_score}')\n",
        "print('\\n')\n",
        "print(f'Random Forest Train Accuracy Score: {ran_for_train_score}')\n",
        "print(f'Random Forest Test Accuracy Score: {ran_for_test_score}')\n",
        "print('\\n')\n",
        "print(f'KNN Train Accuracy Score: {knn_train_score}')\n",
        "print(f'KNN Test Accuracy Score: {knn_test_score}')"
      ],
      "metadata": {
        "colab": {
          "base_uri": "https://localhost:8080/"
        },
        "id": "pO_vbNVzLamf",
        "outputId": "ade7a5e4-86e5-47aa-c241-0a0106a0ae00"
      },
      "execution_count": 224,
      "outputs": [
        {
          "output_type": "stream",
          "name": "stdout",
          "text": [
            "Dummy Model Train Accuracy Score: 0.6566666666666666\n",
            "Dummy Model Test Accuracy Score: 0.6605657237936772\n",
            "\n",
            "\n",
            "Best L1 Tuned Logistics Regression Train Accuracy Score: 0.8561111111111112\n",
            "Best L1 Tuned Logistics Regression Test Accuracy Score: 0.831946755407654\n",
            "\n",
            "\n",
            "Best L2 Tuned Logistics Regression Train Accuracy Score: 0.8561111111111112\n",
            "Best L2 Tuned Logistics Regression Test Accuracy Score: 0.831946755407654\n",
            "\n",
            "\n",
            "Random Forest Train Accuracy Score: 1.0\n",
            "Random Forest Test Accuracy Score: 0.8752079866888519\n",
            "\n",
            "\n",
            "KNN Train Accuracy Score: 0.8288888888888889\n",
            "KNN Test Accuracy Score: 0.7853577371048253\n"
          ]
        }
      ]
    },
    {
      "cell_type": "markdown",
      "source": [
        "\n",
        "\n",
        "---\n",
        "\n"
      ],
      "metadata": {
        "id": "OkkQJQV4aXe3"
      }
    },
    {
      "cell_type": "markdown",
      "source": [
        "## **To Do List**"
      ],
      "metadata": {
        "id": "CbQqhwnRfwZU"
      }
    },
    {
      "cell_type": "markdown",
      "source": [
        "- xxx\n",
        "- xxx\n",
        "- xxx"
      ],
      "metadata": {
        "id": "Z7un0h9E5yqh"
      }
    }
  ]
}