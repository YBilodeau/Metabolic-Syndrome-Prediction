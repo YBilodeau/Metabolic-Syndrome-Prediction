{
  "nbformat": 4,
  "nbformat_minor": 0,
  "metadata": {
    "colab": {
      "name": "Metabolic Syndrome Prediction.ipynb",
      "provenance": [],
      "collapsed_sections": [],
      "toc_visible": true,
      "mount_file_id": "1L5s2kEE1Akm5jTSxNQKsMmaywp3DkZFC",
      "authorship_tag": "ABX9TyOIbuUaAnQBpNNPTxqX3aTv",
      "include_colab_link": true
    },
    "kernelspec": {
      "name": "python3",
      "display_name": "Python 3"
    },
    "language_info": {
      "name": "python"
    }
  },
  "cells": [
    {
      "cell_type": "markdown",
      "metadata": {
        "id": "view-in-github",
        "colab_type": "text"
      },
      "source": [
        "<a href=\"https://colab.research.google.com/github/YBilodeau/Metabolic-Syndrome-Prediction-Project/blob/main/Metabolic_Syndrome_Prediction.ipynb\" target=\"_parent\"><img src=\"https://colab.research.google.com/assets/colab-badge.svg\" alt=\"Open In Colab\"/></a>"
      ]
    },
    {
      "cell_type": "markdown",
      "source": [
        "# **Metabolic Syndrome Prediction**\n",
        "\n",
        "- Yvon Bilodeau\n",
        "- March 2022"
      ],
      "metadata": {
        "id": "64KrNUfAOlDd"
      }
    },
    {
      "cell_type": "markdown",
      "source": [
        "\n",
        "\n",
        "---\n",
        "\n"
      ],
      "metadata": {
        "id": "w7hd5wAHihGi"
      }
    },
    {
      "cell_type": "markdown",
      "source": [
        "### **Project Description**\n"
      ],
      "metadata": {
        "id": "qr7OHrm9QwcH"
      }
    },
    {
      "cell_type": "markdown",
      "source": [
        "The goal of this project is to predict metabolic syndrome, yes or no based on common risk factors.\n",
        "\n",
        "The dataset for this analysis came from the [NHANES](https://www.cdc.gov/nchs/nhanes/index.htm) initiative where the following variables were combined from multiple tables with SQL: abnormal waist circumference, triglycerides above 150, HDL cholesterol below 50 in women or 40 in men, history of hypertension and mildly elevated fasting blood sugar (100-125). Additionally other variables were added, such as uric acid, race, income, etc. that may contribute to the model."
      ],
      "metadata": {
        "id": "Mho8CpzdSBU3"
      }
    },
    {
      "cell_type": "markdown",
      "source": [
        "### **Source of data**"
      ],
      "metadata": {
        "id": "QwlzFMohQp_l"
      }
    },
    {
      "cell_type": "markdown",
      "source": [
        "- [Data World](https://data.world/informatics-edu/metabolic-syndrome-prediction)\n"
      ],
      "metadata": {
        "id": "A_xi5OE7R1H1"
      }
    },
    {
      "cell_type": "markdown",
      "source": [
        "## **Mount Data | Import Libraries | Load the Dataset**"
      ],
      "metadata": {
        "id": "Z9vyP80nOg9d"
      }
    },
    {
      "cell_type": "markdown",
      "source": [
        "### **Mount Google Drive**"
      ],
      "metadata": {
        "id": "ikybS2tmi-pK"
      }
    },
    {
      "cell_type": "code",
      "source": [
        "# Mount Google Drive.\n",
        "from google.colab import drive\n",
        "drive.mount('/content/drive')"
      ],
      "metadata": {
        "colab": {
          "base_uri": "https://localhost:8080/"
        },
        "outputId": "2e713d1b-549e-4ffb-8c75-c462a7440785",
        "id": "tUq0-QFFi-pK"
      },
      "execution_count": 1,
      "outputs": [
        {
          "output_type": "stream",
          "name": "stdout",
          "text": [
            "Drive already mounted at /content/drive; to attempt to forcibly remount, call drive.mount(\"/content/drive\", force_remount=True).\n"
          ]
        }
      ]
    },
    {
      "cell_type": "markdown",
      "source": [
        "### **Import Libraries**"
      ],
      "metadata": {
        "id": "qbj062e9Ou6-"
      }
    },
    {
      "cell_type": "code",
      "execution_count": 2,
      "metadata": {
        "id": "aUYz6fIbFWBJ"
      },
      "outputs": [],
      "source": [
        "# Import Libraries\n",
        "import numpy as np\n",
        "import pandas as pd\n",
        "import matplotlib.pyplot as plt\n",
        "import seaborn as sns\n",
        "import missingno as msno"
      ]
    },
    {
      "cell_type": "markdown",
      "source": [
        "### **Load the Dataset**\n",
        "\n",
        "- Data downloaded from [link](https://data.world/informatics-edu/metabolic-syndrome-prediction/file/Metabolic%20%20Syndrome.csv)."
      ],
      "metadata": {
        "id": "JOUAIYIJO29y"
      }
    },
    {
      "cell_type": "code",
      "source": [
        "# Load the dataset.\n",
        "filename = \"/content/drive/MyDrive/Colab Notebooks/CodingDojo/000 Data Files/Metabolic  Syndrome.csv\"\n",
        "df = pd.read_csv(filename)"
      ],
      "metadata": {
        "id": "TrjtMPiZPPWL"
      },
      "execution_count": 3,
      "outputs": []
    },
    {
      "cell_type": "markdown",
      "source": [
        "## **Inspect the Data**"
      ],
      "metadata": {
        "id": "MytoZVznPWPd"
      }
    },
    {
      "cell_type": "markdown",
      "source": [
        "### Display the Row and Column Count"
      ],
      "metadata": {
        "id": "JVXIY3Sj_QN8"
      }
    },
    {
      "cell_type": "code",
      "source": [
        "# Display the number of rows and columns for the dataframe.\n",
        "df.shape\n",
        "print(f'There are {df.shape[0]} rows, and {df.shape[1]} columns.')\n",
        "print(f'The rows represent {df.shape[0]} observations, and the columns represent {df.shape[1]-1} features and 1 target variable.')"
      ],
      "metadata": {
        "id": "fkts3k-KPm5a",
        "colab": {
          "base_uri": "https://localhost:8080/"
        },
        "outputId": "dd9cfdcd-e7a9-440c-a755-38da4bc5c21c"
      },
      "execution_count": 4,
      "outputs": [
        {
          "output_type": "stream",
          "name": "stdout",
          "text": [
            "There are 2401 rows, and 15 columns.\n",
            "The rows represent 2401 observations, and the columns represent 14 features and 1 target variable.\n"
          ]
        }
      ]
    },
    {
      "cell_type": "markdown",
      "source": [
        "### Display Data Types"
      ],
      "metadata": {
        "id": "Npez_DLB_cH7"
      }
    },
    {
      "cell_type": "code",
      "source": [
        "# Display the column names and datatypes for each column.\n",
        "# Columns with mixed datatypes are identified as an object datatype.\n",
        "df.dtypes"
      ],
      "metadata": {
        "id": "DaLyMnan_LyF",
        "colab": {
          "base_uri": "https://localhost:8080/"
        },
        "outputId": "d0acd20b-1dd4-48d1-f60c-0281c89e59ef"
      },
      "execution_count": 5,
      "outputs": [
        {
          "output_type": "execute_result",
          "data": {
            "text/plain": [
              "seqn                   int64\n",
              "Age                    int64\n",
              "Sex                   object\n",
              "Marital               object\n",
              "Income               float64\n",
              "Race                  object\n",
              "WaistCirc            float64\n",
              "BMI                  float64\n",
              "Albuminuria            int64\n",
              "UrAlbCr              float64\n",
              "UricAcid             float64\n",
              "BloodGlucose           int64\n",
              "HDL                    int64\n",
              "Triglycerides          int64\n",
              "MetabolicSyndrome     object\n",
              "dtype: object"
            ]
          },
          "metadata": {},
          "execution_count": 5
        }
      ]
    },
    {
      "cell_type": "markdown",
      "source": [
        "### Display Column Names, Count of Non-Null Values, and Data Types"
      ],
      "metadata": {
        "id": "-ddijDWr_uq-"
      }
    },
    {
      "cell_type": "code",
      "source": [
        "# Display the column names, count of non-null values, and their datatypes.\n",
        "df.info()"
      ],
      "metadata": {
        "id": "Fj8u4kjlGL8Z",
        "colab": {
          "base_uri": "https://localhost:8080/"
        },
        "outputId": "92dafa79-b479-4a7e-d49d-1591e8b507e0"
      },
      "execution_count": 6,
      "outputs": [
        {
          "output_type": "stream",
          "name": "stdout",
          "text": [
            "<class 'pandas.core.frame.DataFrame'>\n",
            "RangeIndex: 2401 entries, 0 to 2400\n",
            "Data columns (total 15 columns):\n",
            " #   Column             Non-Null Count  Dtype  \n",
            "---  ------             --------------  -----  \n",
            " 0   seqn               2401 non-null   int64  \n",
            " 1   Age                2401 non-null   int64  \n",
            " 2   Sex                2401 non-null   object \n",
            " 3   Marital            2193 non-null   object \n",
            " 4   Income             2284 non-null   float64\n",
            " 5   Race               2401 non-null   object \n",
            " 6   WaistCirc          2316 non-null   float64\n",
            " 7   BMI                2375 non-null   float64\n",
            " 8   Albuminuria        2401 non-null   int64  \n",
            " 9   UrAlbCr            2401 non-null   float64\n",
            " 10  UricAcid           2401 non-null   float64\n",
            " 11  BloodGlucose       2401 non-null   int64  \n",
            " 12  HDL                2401 non-null   int64  \n",
            " 13  Triglycerides      2401 non-null   int64  \n",
            " 14  MetabolicSyndrome  2401 non-null   object \n",
            "dtypes: float64(5), int64(6), object(4)\n",
            "memory usage: 281.5+ KB\n"
          ]
        }
      ]
    },
    {
      "cell_type": "markdown",
      "source": [
        "### Display First (10) Rows"
      ],
      "metadata": {
        "id": "s3T6QYAOzGHl"
      }
    },
    {
      "cell_type": "code",
      "source": [
        "# Display the first (10) rows of the dataframe.\n",
        "df.head(10)"
      ],
      "metadata": {
        "id": "o2OINffGGKRh",
        "colab": {
          "base_uri": "https://localhost:8080/",
          "height": 427
        },
        "outputId": "dfb2ea98-8282-4b4b-f497-569fa33a4ae9"
      },
      "execution_count": 7,
      "outputs": [
        {
          "output_type": "execute_result",
          "data": {
            "text/plain": [
              "    seqn  Age     Sex   Marital  Income   Race  WaistCirc   BMI  Albuminuria  \\\n",
              "0  62161   22    Male    Single  8200.0  White       81.0  23.3            0   \n",
              "1  62164   44  Female   Married  4500.0  White       80.1  23.2            0   \n",
              "2  62169   21    Male    Single   800.0  Asian       69.6  20.1            0   \n",
              "3  62172   43  Female    Single  2000.0  Black      120.4  33.3            0   \n",
              "4  62177   51    Male   Married     NaN  Asian       81.1  20.1            0   \n",
              "5  62178   80    Male   Widowed   300.0  White      112.5  28.5            0   \n",
              "6  62184   26    Male    Single  9000.0  Black       78.6  22.1            0   \n",
              "7  62189   30  Female   Married  6200.0  Asian       80.2  22.4            0   \n",
              "8  62191   70    Male  Divorced  1000.0  Black        NaN   NaN            1   \n",
              "9  62195   35    Male       NaN  2500.0  Black       99.0  28.2            0   \n",
              "\n",
              "   UrAlbCr  UricAcid  BloodGlucose  HDL  Triglycerides MetabolicSyndrome  \n",
              "0     3.88       4.9            92   41             84         No MetSyn  \n",
              "1     8.55       4.5            82   28             56         No MetSyn  \n",
              "2     5.07       5.4           107   43             78         No MetSyn  \n",
              "3     5.22       5.0           104   73            141         No MetSyn  \n",
              "4     8.13       5.0            95   43            126         No MetSyn  \n",
              "5     9.79       4.8           105   47            100         No MetSyn  \n",
              "6     9.21       5.4            87   61             40         No MetSyn  \n",
              "7     8.78       6.7            83   48             91         No MetSyn  \n",
              "8    45.67       5.4            96   35             75         No MetSyn  \n",
              "9     2.21       6.7            94   46             86         No MetSyn  "
            ],
            "text/html": [
              "\n",
              "  <div id=\"df-73924083-47cf-4456-88a3-8fc5b108b246\">\n",
              "    <div class=\"colab-df-container\">\n",
              "      <div>\n",
              "<style scoped>\n",
              "    .dataframe tbody tr th:only-of-type {\n",
              "        vertical-align: middle;\n",
              "    }\n",
              "\n",
              "    .dataframe tbody tr th {\n",
              "        vertical-align: top;\n",
              "    }\n",
              "\n",
              "    .dataframe thead th {\n",
              "        text-align: right;\n",
              "    }\n",
              "</style>\n",
              "<table border=\"1\" class=\"dataframe\">\n",
              "  <thead>\n",
              "    <tr style=\"text-align: right;\">\n",
              "      <th></th>\n",
              "      <th>seqn</th>\n",
              "      <th>Age</th>\n",
              "      <th>Sex</th>\n",
              "      <th>Marital</th>\n",
              "      <th>Income</th>\n",
              "      <th>Race</th>\n",
              "      <th>WaistCirc</th>\n",
              "      <th>BMI</th>\n",
              "      <th>Albuminuria</th>\n",
              "      <th>UrAlbCr</th>\n",
              "      <th>UricAcid</th>\n",
              "      <th>BloodGlucose</th>\n",
              "      <th>HDL</th>\n",
              "      <th>Triglycerides</th>\n",
              "      <th>MetabolicSyndrome</th>\n",
              "    </tr>\n",
              "  </thead>\n",
              "  <tbody>\n",
              "    <tr>\n",
              "      <th>0</th>\n",
              "      <td>62161</td>\n",
              "      <td>22</td>\n",
              "      <td>Male</td>\n",
              "      <td>Single</td>\n",
              "      <td>8200.0</td>\n",
              "      <td>White</td>\n",
              "      <td>81.0</td>\n",
              "      <td>23.3</td>\n",
              "      <td>0</td>\n",
              "      <td>3.88</td>\n",
              "      <td>4.9</td>\n",
              "      <td>92</td>\n",
              "      <td>41</td>\n",
              "      <td>84</td>\n",
              "      <td>No MetSyn</td>\n",
              "    </tr>\n",
              "    <tr>\n",
              "      <th>1</th>\n",
              "      <td>62164</td>\n",
              "      <td>44</td>\n",
              "      <td>Female</td>\n",
              "      <td>Married</td>\n",
              "      <td>4500.0</td>\n",
              "      <td>White</td>\n",
              "      <td>80.1</td>\n",
              "      <td>23.2</td>\n",
              "      <td>0</td>\n",
              "      <td>8.55</td>\n",
              "      <td>4.5</td>\n",
              "      <td>82</td>\n",
              "      <td>28</td>\n",
              "      <td>56</td>\n",
              "      <td>No MetSyn</td>\n",
              "    </tr>\n",
              "    <tr>\n",
              "      <th>2</th>\n",
              "      <td>62169</td>\n",
              "      <td>21</td>\n",
              "      <td>Male</td>\n",
              "      <td>Single</td>\n",
              "      <td>800.0</td>\n",
              "      <td>Asian</td>\n",
              "      <td>69.6</td>\n",
              "      <td>20.1</td>\n",
              "      <td>0</td>\n",
              "      <td>5.07</td>\n",
              "      <td>5.4</td>\n",
              "      <td>107</td>\n",
              "      <td>43</td>\n",
              "      <td>78</td>\n",
              "      <td>No MetSyn</td>\n",
              "    </tr>\n",
              "    <tr>\n",
              "      <th>3</th>\n",
              "      <td>62172</td>\n",
              "      <td>43</td>\n",
              "      <td>Female</td>\n",
              "      <td>Single</td>\n",
              "      <td>2000.0</td>\n",
              "      <td>Black</td>\n",
              "      <td>120.4</td>\n",
              "      <td>33.3</td>\n",
              "      <td>0</td>\n",
              "      <td>5.22</td>\n",
              "      <td>5.0</td>\n",
              "      <td>104</td>\n",
              "      <td>73</td>\n",
              "      <td>141</td>\n",
              "      <td>No MetSyn</td>\n",
              "    </tr>\n",
              "    <tr>\n",
              "      <th>4</th>\n",
              "      <td>62177</td>\n",
              "      <td>51</td>\n",
              "      <td>Male</td>\n",
              "      <td>Married</td>\n",
              "      <td>NaN</td>\n",
              "      <td>Asian</td>\n",
              "      <td>81.1</td>\n",
              "      <td>20.1</td>\n",
              "      <td>0</td>\n",
              "      <td>8.13</td>\n",
              "      <td>5.0</td>\n",
              "      <td>95</td>\n",
              "      <td>43</td>\n",
              "      <td>126</td>\n",
              "      <td>No MetSyn</td>\n",
              "    </tr>\n",
              "    <tr>\n",
              "      <th>5</th>\n",
              "      <td>62178</td>\n",
              "      <td>80</td>\n",
              "      <td>Male</td>\n",
              "      <td>Widowed</td>\n",
              "      <td>300.0</td>\n",
              "      <td>White</td>\n",
              "      <td>112.5</td>\n",
              "      <td>28.5</td>\n",
              "      <td>0</td>\n",
              "      <td>9.79</td>\n",
              "      <td>4.8</td>\n",
              "      <td>105</td>\n",
              "      <td>47</td>\n",
              "      <td>100</td>\n",
              "      <td>No MetSyn</td>\n",
              "    </tr>\n",
              "    <tr>\n",
              "      <th>6</th>\n",
              "      <td>62184</td>\n",
              "      <td>26</td>\n",
              "      <td>Male</td>\n",
              "      <td>Single</td>\n",
              "      <td>9000.0</td>\n",
              "      <td>Black</td>\n",
              "      <td>78.6</td>\n",
              "      <td>22.1</td>\n",
              "      <td>0</td>\n",
              "      <td>9.21</td>\n",
              "      <td>5.4</td>\n",
              "      <td>87</td>\n",
              "      <td>61</td>\n",
              "      <td>40</td>\n",
              "      <td>No MetSyn</td>\n",
              "    </tr>\n",
              "    <tr>\n",
              "      <th>7</th>\n",
              "      <td>62189</td>\n",
              "      <td>30</td>\n",
              "      <td>Female</td>\n",
              "      <td>Married</td>\n",
              "      <td>6200.0</td>\n",
              "      <td>Asian</td>\n",
              "      <td>80.2</td>\n",
              "      <td>22.4</td>\n",
              "      <td>0</td>\n",
              "      <td>8.78</td>\n",
              "      <td>6.7</td>\n",
              "      <td>83</td>\n",
              "      <td>48</td>\n",
              "      <td>91</td>\n",
              "      <td>No MetSyn</td>\n",
              "    </tr>\n",
              "    <tr>\n",
              "      <th>8</th>\n",
              "      <td>62191</td>\n",
              "      <td>70</td>\n",
              "      <td>Male</td>\n",
              "      <td>Divorced</td>\n",
              "      <td>1000.0</td>\n",
              "      <td>Black</td>\n",
              "      <td>NaN</td>\n",
              "      <td>NaN</td>\n",
              "      <td>1</td>\n",
              "      <td>45.67</td>\n",
              "      <td>5.4</td>\n",
              "      <td>96</td>\n",
              "      <td>35</td>\n",
              "      <td>75</td>\n",
              "      <td>No MetSyn</td>\n",
              "    </tr>\n",
              "    <tr>\n",
              "      <th>9</th>\n",
              "      <td>62195</td>\n",
              "      <td>35</td>\n",
              "      <td>Male</td>\n",
              "      <td>NaN</td>\n",
              "      <td>2500.0</td>\n",
              "      <td>Black</td>\n",
              "      <td>99.0</td>\n",
              "      <td>28.2</td>\n",
              "      <td>0</td>\n",
              "      <td>2.21</td>\n",
              "      <td>6.7</td>\n",
              "      <td>94</td>\n",
              "      <td>46</td>\n",
              "      <td>86</td>\n",
              "      <td>No MetSyn</td>\n",
              "    </tr>\n",
              "  </tbody>\n",
              "</table>\n",
              "</div>\n",
              "      <button class=\"colab-df-convert\" onclick=\"convertToInteractive('df-73924083-47cf-4456-88a3-8fc5b108b246')\"\n",
              "              title=\"Convert this dataframe to an interactive table.\"\n",
              "              style=\"display:none;\">\n",
              "        \n",
              "  <svg xmlns=\"http://www.w3.org/2000/svg\" height=\"24px\"viewBox=\"0 0 24 24\"\n",
              "       width=\"24px\">\n",
              "    <path d=\"M0 0h24v24H0V0z\" fill=\"none\"/>\n",
              "    <path d=\"M18.56 5.44l.94 2.06.94-2.06 2.06-.94-2.06-.94-.94-2.06-.94 2.06-2.06.94zm-11 1L8.5 8.5l.94-2.06 2.06-.94-2.06-.94L8.5 2.5l-.94 2.06-2.06.94zm10 10l.94 2.06.94-2.06 2.06-.94-2.06-.94-.94-2.06-.94 2.06-2.06.94z\"/><path d=\"M17.41 7.96l-1.37-1.37c-.4-.4-.92-.59-1.43-.59-.52 0-1.04.2-1.43.59L10.3 9.45l-7.72 7.72c-.78.78-.78 2.05 0 2.83L4 21.41c.39.39.9.59 1.41.59.51 0 1.02-.2 1.41-.59l7.78-7.78 2.81-2.81c.8-.78.8-2.07 0-2.86zM5.41 20L4 18.59l7.72-7.72 1.47 1.35L5.41 20z\"/>\n",
              "  </svg>\n",
              "      </button>\n",
              "      \n",
              "  <style>\n",
              "    .colab-df-container {\n",
              "      display:flex;\n",
              "      flex-wrap:wrap;\n",
              "      gap: 12px;\n",
              "    }\n",
              "\n",
              "    .colab-df-convert {\n",
              "      background-color: #E8F0FE;\n",
              "      border: none;\n",
              "      border-radius: 50%;\n",
              "      cursor: pointer;\n",
              "      display: none;\n",
              "      fill: #1967D2;\n",
              "      height: 32px;\n",
              "      padding: 0 0 0 0;\n",
              "      width: 32px;\n",
              "    }\n",
              "\n",
              "    .colab-df-convert:hover {\n",
              "      background-color: #E2EBFA;\n",
              "      box-shadow: 0px 1px 2px rgba(60, 64, 67, 0.3), 0px 1px 3px 1px rgba(60, 64, 67, 0.15);\n",
              "      fill: #174EA6;\n",
              "    }\n",
              "\n",
              "    [theme=dark] .colab-df-convert {\n",
              "      background-color: #3B4455;\n",
              "      fill: #D2E3FC;\n",
              "    }\n",
              "\n",
              "    [theme=dark] .colab-df-convert:hover {\n",
              "      background-color: #434B5C;\n",
              "      box-shadow: 0px 1px 3px 1px rgba(0, 0, 0, 0.15);\n",
              "      filter: drop-shadow(0px 1px 2px rgba(0, 0, 0, 0.3));\n",
              "      fill: #FFFFFF;\n",
              "    }\n",
              "  </style>\n",
              "\n",
              "      <script>\n",
              "        const buttonEl =\n",
              "          document.querySelector('#df-73924083-47cf-4456-88a3-8fc5b108b246 button.colab-df-convert');\n",
              "        buttonEl.style.display =\n",
              "          google.colab.kernel.accessAllowed ? 'block' : 'none';\n",
              "\n",
              "        async function convertToInteractive(key) {\n",
              "          const element = document.querySelector('#df-73924083-47cf-4456-88a3-8fc5b108b246');\n",
              "          const dataTable =\n",
              "            await google.colab.kernel.invokeFunction('convertToInteractive',\n",
              "                                                     [key], {});\n",
              "          if (!dataTable) return;\n",
              "\n",
              "          const docLinkHtml = 'Like what you see? Visit the ' +\n",
              "            '<a target=\"_blank\" href=https://colab.research.google.com/notebooks/data_table.ipynb>data table notebook</a>'\n",
              "            + ' to learn more about interactive tables.';\n",
              "          element.innerHTML = '';\n",
              "          dataTable['output_type'] = 'display_data';\n",
              "          await google.colab.output.renderOutput(dataTable, element);\n",
              "          const docLink = document.createElement('div');\n",
              "          docLink.innerHTML = docLinkHtml;\n",
              "          element.appendChild(docLink);\n",
              "        }\n",
              "      </script>\n",
              "    </div>\n",
              "  </div>\n",
              "  "
            ]
          },
          "metadata": {},
          "execution_count": 7
        }
      ]
    },
    {
      "cell_type": "markdown",
      "source": [
        "- Data appears to have loaded correctly."
      ],
      "metadata": {
        "id": "PR7F91WVziI0"
      }
    },
    {
      "cell_type": "markdown",
      "source": [
        "## **Clean the Data**"
      ],
      "metadata": {
        "id": "YHb4d4c9nPyz"
      }
    },
    {
      "cell_type": "code",
      "source": [
        "# Display the descriptive statistics for the numeric columns.\n",
        "df.describe()"
      ],
      "metadata": {
        "colab": {
          "base_uri": "https://localhost:8080/",
          "height": 364
        },
        "id": "U13vsVNZbFok",
        "outputId": "91270e6d-57ce-4968-f91a-1120ae264586"
      },
      "execution_count": 8,
      "outputs": [
        {
          "output_type": "execute_result",
          "data": {
            "text/plain": [
              "               seqn          Age       Income    WaistCirc          BMI  \\\n",
              "count   2401.000000  2401.000000  2284.000000  2316.000000  2375.000000   \n",
              "mean   67030.674302    48.691795  4005.253940    98.307254    28.702189   \n",
              "std     2823.565114    17.632852  2954.032186    16.252634     6.662242   \n",
              "min    62161.000000    20.000000   300.000000    56.200000    13.400000   \n",
              "25%    64591.000000    34.000000  1600.000000    86.675000    24.000000   \n",
              "50%    67059.000000    48.000000  2500.000000    97.000000    27.700000   \n",
              "75%    69495.000000    63.000000  6200.000000   107.625000    32.100000   \n",
              "max    71915.000000    80.000000  9000.000000   176.000000    68.700000   \n",
              "\n",
              "       Albuminuria      UrAlbCr     UricAcid  BloodGlucose          HDL  \\\n",
              "count  2401.000000  2401.000000  2401.000000   2401.000000  2401.000000   \n",
              "mean      0.154102    43.626131     5.489046    108.247813    53.369429   \n",
              "std       0.422780   258.272829     1.439358     34.820657    15.185537   \n",
              "min       0.000000     1.400000     1.800000     39.000000    14.000000   \n",
              "25%       0.000000     4.450000     4.500000     92.000000    43.000000   \n",
              "50%       0.000000     7.070000     5.400000     99.000000    51.000000   \n",
              "75%       0.000000    13.690000     6.400000    110.000000    62.000000   \n",
              "max       2.000000  5928.000000    11.300000    382.000000   156.000000   \n",
              "\n",
              "       Triglycerides  \n",
              "count    2401.000000  \n",
              "mean      128.125364  \n",
              "std        95.322477  \n",
              "min        26.000000  \n",
              "25%        75.000000  \n",
              "50%       103.000000  \n",
              "75%       150.000000  \n",
              "max      1562.000000  "
            ],
            "text/html": [
              "\n",
              "  <div id=\"df-3d922e0c-977b-45d9-8b06-3df5d519f4dd\">\n",
              "    <div class=\"colab-df-container\">\n",
              "      <div>\n",
              "<style scoped>\n",
              "    .dataframe tbody tr th:only-of-type {\n",
              "        vertical-align: middle;\n",
              "    }\n",
              "\n",
              "    .dataframe tbody tr th {\n",
              "        vertical-align: top;\n",
              "    }\n",
              "\n",
              "    .dataframe thead th {\n",
              "        text-align: right;\n",
              "    }\n",
              "</style>\n",
              "<table border=\"1\" class=\"dataframe\">\n",
              "  <thead>\n",
              "    <tr style=\"text-align: right;\">\n",
              "      <th></th>\n",
              "      <th>seqn</th>\n",
              "      <th>Age</th>\n",
              "      <th>Income</th>\n",
              "      <th>WaistCirc</th>\n",
              "      <th>BMI</th>\n",
              "      <th>Albuminuria</th>\n",
              "      <th>UrAlbCr</th>\n",
              "      <th>UricAcid</th>\n",
              "      <th>BloodGlucose</th>\n",
              "      <th>HDL</th>\n",
              "      <th>Triglycerides</th>\n",
              "    </tr>\n",
              "  </thead>\n",
              "  <tbody>\n",
              "    <tr>\n",
              "      <th>count</th>\n",
              "      <td>2401.000000</td>\n",
              "      <td>2401.000000</td>\n",
              "      <td>2284.000000</td>\n",
              "      <td>2316.000000</td>\n",
              "      <td>2375.000000</td>\n",
              "      <td>2401.000000</td>\n",
              "      <td>2401.000000</td>\n",
              "      <td>2401.000000</td>\n",
              "      <td>2401.000000</td>\n",
              "      <td>2401.000000</td>\n",
              "      <td>2401.000000</td>\n",
              "    </tr>\n",
              "    <tr>\n",
              "      <th>mean</th>\n",
              "      <td>67030.674302</td>\n",
              "      <td>48.691795</td>\n",
              "      <td>4005.253940</td>\n",
              "      <td>98.307254</td>\n",
              "      <td>28.702189</td>\n",
              "      <td>0.154102</td>\n",
              "      <td>43.626131</td>\n",
              "      <td>5.489046</td>\n",
              "      <td>108.247813</td>\n",
              "      <td>53.369429</td>\n",
              "      <td>128.125364</td>\n",
              "    </tr>\n",
              "    <tr>\n",
              "      <th>std</th>\n",
              "      <td>2823.565114</td>\n",
              "      <td>17.632852</td>\n",
              "      <td>2954.032186</td>\n",
              "      <td>16.252634</td>\n",
              "      <td>6.662242</td>\n",
              "      <td>0.422780</td>\n",
              "      <td>258.272829</td>\n",
              "      <td>1.439358</td>\n",
              "      <td>34.820657</td>\n",
              "      <td>15.185537</td>\n",
              "      <td>95.322477</td>\n",
              "    </tr>\n",
              "    <tr>\n",
              "      <th>min</th>\n",
              "      <td>62161.000000</td>\n",
              "      <td>20.000000</td>\n",
              "      <td>300.000000</td>\n",
              "      <td>56.200000</td>\n",
              "      <td>13.400000</td>\n",
              "      <td>0.000000</td>\n",
              "      <td>1.400000</td>\n",
              "      <td>1.800000</td>\n",
              "      <td>39.000000</td>\n",
              "      <td>14.000000</td>\n",
              "      <td>26.000000</td>\n",
              "    </tr>\n",
              "    <tr>\n",
              "      <th>25%</th>\n",
              "      <td>64591.000000</td>\n",
              "      <td>34.000000</td>\n",
              "      <td>1600.000000</td>\n",
              "      <td>86.675000</td>\n",
              "      <td>24.000000</td>\n",
              "      <td>0.000000</td>\n",
              "      <td>4.450000</td>\n",
              "      <td>4.500000</td>\n",
              "      <td>92.000000</td>\n",
              "      <td>43.000000</td>\n",
              "      <td>75.000000</td>\n",
              "    </tr>\n",
              "    <tr>\n",
              "      <th>50%</th>\n",
              "      <td>67059.000000</td>\n",
              "      <td>48.000000</td>\n",
              "      <td>2500.000000</td>\n",
              "      <td>97.000000</td>\n",
              "      <td>27.700000</td>\n",
              "      <td>0.000000</td>\n",
              "      <td>7.070000</td>\n",
              "      <td>5.400000</td>\n",
              "      <td>99.000000</td>\n",
              "      <td>51.000000</td>\n",
              "      <td>103.000000</td>\n",
              "    </tr>\n",
              "    <tr>\n",
              "      <th>75%</th>\n",
              "      <td>69495.000000</td>\n",
              "      <td>63.000000</td>\n",
              "      <td>6200.000000</td>\n",
              "      <td>107.625000</td>\n",
              "      <td>32.100000</td>\n",
              "      <td>0.000000</td>\n",
              "      <td>13.690000</td>\n",
              "      <td>6.400000</td>\n",
              "      <td>110.000000</td>\n",
              "      <td>62.000000</td>\n",
              "      <td>150.000000</td>\n",
              "    </tr>\n",
              "    <tr>\n",
              "      <th>max</th>\n",
              "      <td>71915.000000</td>\n",
              "      <td>80.000000</td>\n",
              "      <td>9000.000000</td>\n",
              "      <td>176.000000</td>\n",
              "      <td>68.700000</td>\n",
              "      <td>2.000000</td>\n",
              "      <td>5928.000000</td>\n",
              "      <td>11.300000</td>\n",
              "      <td>382.000000</td>\n",
              "      <td>156.000000</td>\n",
              "      <td>1562.000000</td>\n",
              "    </tr>\n",
              "  </tbody>\n",
              "</table>\n",
              "</div>\n",
              "      <button class=\"colab-df-convert\" onclick=\"convertToInteractive('df-3d922e0c-977b-45d9-8b06-3df5d519f4dd')\"\n",
              "              title=\"Convert this dataframe to an interactive table.\"\n",
              "              style=\"display:none;\">\n",
              "        \n",
              "  <svg xmlns=\"http://www.w3.org/2000/svg\" height=\"24px\"viewBox=\"0 0 24 24\"\n",
              "       width=\"24px\">\n",
              "    <path d=\"M0 0h24v24H0V0z\" fill=\"none\"/>\n",
              "    <path d=\"M18.56 5.44l.94 2.06.94-2.06 2.06-.94-2.06-.94-.94-2.06-.94 2.06-2.06.94zm-11 1L8.5 8.5l.94-2.06 2.06-.94-2.06-.94L8.5 2.5l-.94 2.06-2.06.94zm10 10l.94 2.06.94-2.06 2.06-.94-2.06-.94-.94-2.06-.94 2.06-2.06.94z\"/><path d=\"M17.41 7.96l-1.37-1.37c-.4-.4-.92-.59-1.43-.59-.52 0-1.04.2-1.43.59L10.3 9.45l-7.72 7.72c-.78.78-.78 2.05 0 2.83L4 21.41c.39.39.9.59 1.41.59.51 0 1.02-.2 1.41-.59l7.78-7.78 2.81-2.81c.8-.78.8-2.07 0-2.86zM5.41 20L4 18.59l7.72-7.72 1.47 1.35L5.41 20z\"/>\n",
              "  </svg>\n",
              "      </button>\n",
              "      \n",
              "  <style>\n",
              "    .colab-df-container {\n",
              "      display:flex;\n",
              "      flex-wrap:wrap;\n",
              "      gap: 12px;\n",
              "    }\n",
              "\n",
              "    .colab-df-convert {\n",
              "      background-color: #E8F0FE;\n",
              "      border: none;\n",
              "      border-radius: 50%;\n",
              "      cursor: pointer;\n",
              "      display: none;\n",
              "      fill: #1967D2;\n",
              "      height: 32px;\n",
              "      padding: 0 0 0 0;\n",
              "      width: 32px;\n",
              "    }\n",
              "\n",
              "    .colab-df-convert:hover {\n",
              "      background-color: #E2EBFA;\n",
              "      box-shadow: 0px 1px 2px rgba(60, 64, 67, 0.3), 0px 1px 3px 1px rgba(60, 64, 67, 0.15);\n",
              "      fill: #174EA6;\n",
              "    }\n",
              "\n",
              "    [theme=dark] .colab-df-convert {\n",
              "      background-color: #3B4455;\n",
              "      fill: #D2E3FC;\n",
              "    }\n",
              "\n",
              "    [theme=dark] .colab-df-convert:hover {\n",
              "      background-color: #434B5C;\n",
              "      box-shadow: 0px 1px 3px 1px rgba(0, 0, 0, 0.15);\n",
              "      filter: drop-shadow(0px 1px 2px rgba(0, 0, 0, 0.3));\n",
              "      fill: #FFFFFF;\n",
              "    }\n",
              "  </style>\n",
              "\n",
              "      <script>\n",
              "        const buttonEl =\n",
              "          document.querySelector('#df-3d922e0c-977b-45d9-8b06-3df5d519f4dd button.colab-df-convert');\n",
              "        buttonEl.style.display =\n",
              "          google.colab.kernel.accessAllowed ? 'block' : 'none';\n",
              "\n",
              "        async function convertToInteractive(key) {\n",
              "          const element = document.querySelector('#df-3d922e0c-977b-45d9-8b06-3df5d519f4dd');\n",
              "          const dataTable =\n",
              "            await google.colab.kernel.invokeFunction('convertToInteractive',\n",
              "                                                     [key], {});\n",
              "          if (!dataTable) return;\n",
              "\n",
              "          const docLinkHtml = 'Like what you see? Visit the ' +\n",
              "            '<a target=\"_blank\" href=https://colab.research.google.com/notebooks/data_table.ipynb>data table notebook</a>'\n",
              "            + ' to learn more about interactive tables.';\n",
              "          element.innerHTML = '';\n",
              "          dataTable['output_type'] = 'display_data';\n",
              "          await google.colab.output.renderOutput(dataTable, element);\n",
              "          const docLink = document.createElement('div');\n",
              "          docLink.innerHTML = docLinkHtml;\n",
              "          element.appendChild(docLink);\n",
              "        }\n",
              "      </script>\n",
              "    </div>\n",
              "  </div>\n",
              "  "
            ]
          },
          "metadata": {},
          "execution_count": 8
        }
      ]
    },
    {
      "cell_type": "code",
      "source": [
        "# Display the descriptive statistics for the non-numeric columns.\n",
        "df.describe(exclude=\"number\")"
      ],
      "metadata": {
        "colab": {
          "base_uri": "https://localhost:8080/",
          "height": 175
        },
        "id": "9O9E5DDGxC4j",
        "outputId": "371fd24d-2f05-4608-f7d5-3b5021130a1a"
      },
      "execution_count": 9,
      "outputs": [
        {
          "output_type": "execute_result",
          "data": {
            "text/plain": [
              "           Sex  Marital   Race MetabolicSyndrome\n",
              "count     2401     2193   2401              2401\n",
              "unique       2        5      6                 2\n",
              "top     Female  Married  White         No MetSyn\n",
              "freq      1211     1192    933              1579"
            ],
            "text/html": [
              "\n",
              "  <div id=\"df-42930caf-ae65-47f9-b6d2-0854b28688e5\">\n",
              "    <div class=\"colab-df-container\">\n",
              "      <div>\n",
              "<style scoped>\n",
              "    .dataframe tbody tr th:only-of-type {\n",
              "        vertical-align: middle;\n",
              "    }\n",
              "\n",
              "    .dataframe tbody tr th {\n",
              "        vertical-align: top;\n",
              "    }\n",
              "\n",
              "    .dataframe thead th {\n",
              "        text-align: right;\n",
              "    }\n",
              "</style>\n",
              "<table border=\"1\" class=\"dataframe\">\n",
              "  <thead>\n",
              "    <tr style=\"text-align: right;\">\n",
              "      <th></th>\n",
              "      <th>Sex</th>\n",
              "      <th>Marital</th>\n",
              "      <th>Race</th>\n",
              "      <th>MetabolicSyndrome</th>\n",
              "    </tr>\n",
              "  </thead>\n",
              "  <tbody>\n",
              "    <tr>\n",
              "      <th>count</th>\n",
              "      <td>2401</td>\n",
              "      <td>2193</td>\n",
              "      <td>2401</td>\n",
              "      <td>2401</td>\n",
              "    </tr>\n",
              "    <tr>\n",
              "      <th>unique</th>\n",
              "      <td>2</td>\n",
              "      <td>5</td>\n",
              "      <td>6</td>\n",
              "      <td>2</td>\n",
              "    </tr>\n",
              "    <tr>\n",
              "      <th>top</th>\n",
              "      <td>Female</td>\n",
              "      <td>Married</td>\n",
              "      <td>White</td>\n",
              "      <td>No MetSyn</td>\n",
              "    </tr>\n",
              "    <tr>\n",
              "      <th>freq</th>\n",
              "      <td>1211</td>\n",
              "      <td>1192</td>\n",
              "      <td>933</td>\n",
              "      <td>1579</td>\n",
              "    </tr>\n",
              "  </tbody>\n",
              "</table>\n",
              "</div>\n",
              "      <button class=\"colab-df-convert\" onclick=\"convertToInteractive('df-42930caf-ae65-47f9-b6d2-0854b28688e5')\"\n",
              "              title=\"Convert this dataframe to an interactive table.\"\n",
              "              style=\"display:none;\">\n",
              "        \n",
              "  <svg xmlns=\"http://www.w3.org/2000/svg\" height=\"24px\"viewBox=\"0 0 24 24\"\n",
              "       width=\"24px\">\n",
              "    <path d=\"M0 0h24v24H0V0z\" fill=\"none\"/>\n",
              "    <path d=\"M18.56 5.44l.94 2.06.94-2.06 2.06-.94-2.06-.94-.94-2.06-.94 2.06-2.06.94zm-11 1L8.5 8.5l.94-2.06 2.06-.94-2.06-.94L8.5 2.5l-.94 2.06-2.06.94zm10 10l.94 2.06.94-2.06 2.06-.94-2.06-.94-.94-2.06-.94 2.06-2.06.94z\"/><path d=\"M17.41 7.96l-1.37-1.37c-.4-.4-.92-.59-1.43-.59-.52 0-1.04.2-1.43.59L10.3 9.45l-7.72 7.72c-.78.78-.78 2.05 0 2.83L4 21.41c.39.39.9.59 1.41.59.51 0 1.02-.2 1.41-.59l7.78-7.78 2.81-2.81c.8-.78.8-2.07 0-2.86zM5.41 20L4 18.59l7.72-7.72 1.47 1.35L5.41 20z\"/>\n",
              "  </svg>\n",
              "      </button>\n",
              "      \n",
              "  <style>\n",
              "    .colab-df-container {\n",
              "      display:flex;\n",
              "      flex-wrap:wrap;\n",
              "      gap: 12px;\n",
              "    }\n",
              "\n",
              "    .colab-df-convert {\n",
              "      background-color: #E8F0FE;\n",
              "      border: none;\n",
              "      border-radius: 50%;\n",
              "      cursor: pointer;\n",
              "      display: none;\n",
              "      fill: #1967D2;\n",
              "      height: 32px;\n",
              "      padding: 0 0 0 0;\n",
              "      width: 32px;\n",
              "    }\n",
              "\n",
              "    .colab-df-convert:hover {\n",
              "      background-color: #E2EBFA;\n",
              "      box-shadow: 0px 1px 2px rgba(60, 64, 67, 0.3), 0px 1px 3px 1px rgba(60, 64, 67, 0.15);\n",
              "      fill: #174EA6;\n",
              "    }\n",
              "\n",
              "    [theme=dark] .colab-df-convert {\n",
              "      background-color: #3B4455;\n",
              "      fill: #D2E3FC;\n",
              "    }\n",
              "\n",
              "    [theme=dark] .colab-df-convert:hover {\n",
              "      background-color: #434B5C;\n",
              "      box-shadow: 0px 1px 3px 1px rgba(0, 0, 0, 0.15);\n",
              "      filter: drop-shadow(0px 1px 2px rgba(0, 0, 0, 0.3));\n",
              "      fill: #FFFFFF;\n",
              "    }\n",
              "  </style>\n",
              "\n",
              "      <script>\n",
              "        const buttonEl =\n",
              "          document.querySelector('#df-42930caf-ae65-47f9-b6d2-0854b28688e5 button.colab-df-convert');\n",
              "        buttonEl.style.display =\n",
              "          google.colab.kernel.accessAllowed ? 'block' : 'none';\n",
              "\n",
              "        async function convertToInteractive(key) {\n",
              "          const element = document.querySelector('#df-42930caf-ae65-47f9-b6d2-0854b28688e5');\n",
              "          const dataTable =\n",
              "            await google.colab.kernel.invokeFunction('convertToInteractive',\n",
              "                                                     [key], {});\n",
              "          if (!dataTable) return;\n",
              "\n",
              "          const docLinkHtml = 'Like what you see? Visit the ' +\n",
              "            '<a target=\"_blank\" href=https://colab.research.google.com/notebooks/data_table.ipynb>data table notebook</a>'\n",
              "            + ' to learn more about interactive tables.';\n",
              "          element.innerHTML = '';\n",
              "          dataTable['output_type'] = 'display_data';\n",
              "          await google.colab.output.renderOutput(dataTable, element);\n",
              "          const docLink = document.createElement('div');\n",
              "          docLink.innerHTML = docLinkHtml;\n",
              "          element.appendChild(docLink);\n",
              "        }\n",
              "      </script>\n",
              "    </div>\n",
              "  </div>\n",
              "  "
            ]
          },
          "metadata": {},
          "execution_count": 9
        }
      ]
    },
    {
      "cell_type": "markdown",
      "source": [
        "### **Remove Unnecessary Columns**"
      ],
      "metadata": {
        "id": "JB_TojXL5hhm"
      }
    },
    {
      "cell_type": "markdown",
      "source": [
        "#### **seqn column**"
      ],
      "metadata": {
        "id": "bqS6fmNO57zD"
      }
    },
    {
      "cell_type": "code",
      "source": [
        "# Display the count of unique values and the cardinlity for this column.\n",
        "unique_values = df.shape[0]\n",
        "cardinality = (df['seqn'].value_counts().sum())/(df.shape[0])*100\n",
        "print(f'This column has {unique_values} unique values which is {cardinality}% cardinality.')"
      ],
      "metadata": {
        "colab": {
          "base_uri": "https://localhost:8080/"
        },
        "id": "PNu43dS36Oxj",
        "outputId": "9254dd2a-bfaf-4c07-c7aa-bf3d7ac2dabe"
      },
      "execution_count": 10,
      "outputs": [
        {
          "output_type": "stream",
          "name": "stdout",
          "text": [
            "This column has 2401 unique values which is 100.0% cardinality.\n"
          ]
        }
      ]
    },
    {
      "cell_type": "markdown",
      "source": [
        "- This column will not contribute to predictability and so may be removed."
      ],
      "metadata": {
        "id": "Z2aELoQv9A-S"
      }
    },
    {
      "cell_type": "code",
      "source": [
        "# Drop the column.\n",
        "df.drop(columns = ['seqn'], inplace=True)"
      ],
      "metadata": {
        "id": "AnIeIgBq9lSe"
      },
      "execution_count": 11,
      "outputs": []
    },
    {
      "cell_type": "markdown",
      "source": [
        "- Confirm column has been dropped."
      ],
      "metadata": {
        "id": "VieowvYSeLMl"
      }
    },
    {
      "cell_type": "code",
      "source": [
        "# Display the first (5) rows of the dataframe.\n",
        "df.head()"
      ],
      "metadata": {
        "colab": {
          "base_uri": "https://localhost:8080/",
          "height": 270
        },
        "id": "G5fcWw0Odytt",
        "outputId": "9acc2728-3802-41e6-ddb8-0e68f3d23952"
      },
      "execution_count": 12,
      "outputs": [
        {
          "output_type": "execute_result",
          "data": {
            "text/plain": [
              "   Age     Sex  Marital  Income   Race  WaistCirc   BMI  Albuminuria  UrAlbCr  \\\n",
              "0   22    Male   Single  8200.0  White       81.0  23.3            0     3.88   \n",
              "1   44  Female  Married  4500.0  White       80.1  23.2            0     8.55   \n",
              "2   21    Male   Single   800.0  Asian       69.6  20.1            0     5.07   \n",
              "3   43  Female   Single  2000.0  Black      120.4  33.3            0     5.22   \n",
              "4   51    Male  Married     NaN  Asian       81.1  20.1            0     8.13   \n",
              "\n",
              "   UricAcid  BloodGlucose  HDL  Triglycerides MetabolicSyndrome  \n",
              "0       4.9            92   41             84         No MetSyn  \n",
              "1       4.5            82   28             56         No MetSyn  \n",
              "2       5.4           107   43             78         No MetSyn  \n",
              "3       5.0           104   73            141         No MetSyn  \n",
              "4       5.0            95   43            126         No MetSyn  "
            ],
            "text/html": [
              "\n",
              "  <div id=\"df-f4aaec0f-19cf-4a86-9da7-ab854b12d97b\">\n",
              "    <div class=\"colab-df-container\">\n",
              "      <div>\n",
              "<style scoped>\n",
              "    .dataframe tbody tr th:only-of-type {\n",
              "        vertical-align: middle;\n",
              "    }\n",
              "\n",
              "    .dataframe tbody tr th {\n",
              "        vertical-align: top;\n",
              "    }\n",
              "\n",
              "    .dataframe thead th {\n",
              "        text-align: right;\n",
              "    }\n",
              "</style>\n",
              "<table border=\"1\" class=\"dataframe\">\n",
              "  <thead>\n",
              "    <tr style=\"text-align: right;\">\n",
              "      <th></th>\n",
              "      <th>Age</th>\n",
              "      <th>Sex</th>\n",
              "      <th>Marital</th>\n",
              "      <th>Income</th>\n",
              "      <th>Race</th>\n",
              "      <th>WaistCirc</th>\n",
              "      <th>BMI</th>\n",
              "      <th>Albuminuria</th>\n",
              "      <th>UrAlbCr</th>\n",
              "      <th>UricAcid</th>\n",
              "      <th>BloodGlucose</th>\n",
              "      <th>HDL</th>\n",
              "      <th>Triglycerides</th>\n",
              "      <th>MetabolicSyndrome</th>\n",
              "    </tr>\n",
              "  </thead>\n",
              "  <tbody>\n",
              "    <tr>\n",
              "      <th>0</th>\n",
              "      <td>22</td>\n",
              "      <td>Male</td>\n",
              "      <td>Single</td>\n",
              "      <td>8200.0</td>\n",
              "      <td>White</td>\n",
              "      <td>81.0</td>\n",
              "      <td>23.3</td>\n",
              "      <td>0</td>\n",
              "      <td>3.88</td>\n",
              "      <td>4.9</td>\n",
              "      <td>92</td>\n",
              "      <td>41</td>\n",
              "      <td>84</td>\n",
              "      <td>No MetSyn</td>\n",
              "    </tr>\n",
              "    <tr>\n",
              "      <th>1</th>\n",
              "      <td>44</td>\n",
              "      <td>Female</td>\n",
              "      <td>Married</td>\n",
              "      <td>4500.0</td>\n",
              "      <td>White</td>\n",
              "      <td>80.1</td>\n",
              "      <td>23.2</td>\n",
              "      <td>0</td>\n",
              "      <td>8.55</td>\n",
              "      <td>4.5</td>\n",
              "      <td>82</td>\n",
              "      <td>28</td>\n",
              "      <td>56</td>\n",
              "      <td>No MetSyn</td>\n",
              "    </tr>\n",
              "    <tr>\n",
              "      <th>2</th>\n",
              "      <td>21</td>\n",
              "      <td>Male</td>\n",
              "      <td>Single</td>\n",
              "      <td>800.0</td>\n",
              "      <td>Asian</td>\n",
              "      <td>69.6</td>\n",
              "      <td>20.1</td>\n",
              "      <td>0</td>\n",
              "      <td>5.07</td>\n",
              "      <td>5.4</td>\n",
              "      <td>107</td>\n",
              "      <td>43</td>\n",
              "      <td>78</td>\n",
              "      <td>No MetSyn</td>\n",
              "    </tr>\n",
              "    <tr>\n",
              "      <th>3</th>\n",
              "      <td>43</td>\n",
              "      <td>Female</td>\n",
              "      <td>Single</td>\n",
              "      <td>2000.0</td>\n",
              "      <td>Black</td>\n",
              "      <td>120.4</td>\n",
              "      <td>33.3</td>\n",
              "      <td>0</td>\n",
              "      <td>5.22</td>\n",
              "      <td>5.0</td>\n",
              "      <td>104</td>\n",
              "      <td>73</td>\n",
              "      <td>141</td>\n",
              "      <td>No MetSyn</td>\n",
              "    </tr>\n",
              "    <tr>\n",
              "      <th>4</th>\n",
              "      <td>51</td>\n",
              "      <td>Male</td>\n",
              "      <td>Married</td>\n",
              "      <td>NaN</td>\n",
              "      <td>Asian</td>\n",
              "      <td>81.1</td>\n",
              "      <td>20.1</td>\n",
              "      <td>0</td>\n",
              "      <td>8.13</td>\n",
              "      <td>5.0</td>\n",
              "      <td>95</td>\n",
              "      <td>43</td>\n",
              "      <td>126</td>\n",
              "      <td>No MetSyn</td>\n",
              "    </tr>\n",
              "  </tbody>\n",
              "</table>\n",
              "</div>\n",
              "      <button class=\"colab-df-convert\" onclick=\"convertToInteractive('df-f4aaec0f-19cf-4a86-9da7-ab854b12d97b')\"\n",
              "              title=\"Convert this dataframe to an interactive table.\"\n",
              "              style=\"display:none;\">\n",
              "        \n",
              "  <svg xmlns=\"http://www.w3.org/2000/svg\" height=\"24px\"viewBox=\"0 0 24 24\"\n",
              "       width=\"24px\">\n",
              "    <path d=\"M0 0h24v24H0V0z\" fill=\"none\"/>\n",
              "    <path d=\"M18.56 5.44l.94 2.06.94-2.06 2.06-.94-2.06-.94-.94-2.06-.94 2.06-2.06.94zm-11 1L8.5 8.5l.94-2.06 2.06-.94-2.06-.94L8.5 2.5l-.94 2.06-2.06.94zm10 10l.94 2.06.94-2.06 2.06-.94-2.06-.94-.94-2.06-.94 2.06-2.06.94z\"/><path d=\"M17.41 7.96l-1.37-1.37c-.4-.4-.92-.59-1.43-.59-.52 0-1.04.2-1.43.59L10.3 9.45l-7.72 7.72c-.78.78-.78 2.05 0 2.83L4 21.41c.39.39.9.59 1.41.59.51 0 1.02-.2 1.41-.59l7.78-7.78 2.81-2.81c.8-.78.8-2.07 0-2.86zM5.41 20L4 18.59l7.72-7.72 1.47 1.35L5.41 20z\"/>\n",
              "  </svg>\n",
              "      </button>\n",
              "      \n",
              "  <style>\n",
              "    .colab-df-container {\n",
              "      display:flex;\n",
              "      flex-wrap:wrap;\n",
              "      gap: 12px;\n",
              "    }\n",
              "\n",
              "    .colab-df-convert {\n",
              "      background-color: #E8F0FE;\n",
              "      border: none;\n",
              "      border-radius: 50%;\n",
              "      cursor: pointer;\n",
              "      display: none;\n",
              "      fill: #1967D2;\n",
              "      height: 32px;\n",
              "      padding: 0 0 0 0;\n",
              "      width: 32px;\n",
              "    }\n",
              "\n",
              "    .colab-df-convert:hover {\n",
              "      background-color: #E2EBFA;\n",
              "      box-shadow: 0px 1px 2px rgba(60, 64, 67, 0.3), 0px 1px 3px 1px rgba(60, 64, 67, 0.15);\n",
              "      fill: #174EA6;\n",
              "    }\n",
              "\n",
              "    [theme=dark] .colab-df-convert {\n",
              "      background-color: #3B4455;\n",
              "      fill: #D2E3FC;\n",
              "    }\n",
              "\n",
              "    [theme=dark] .colab-df-convert:hover {\n",
              "      background-color: #434B5C;\n",
              "      box-shadow: 0px 1px 3px 1px rgba(0, 0, 0, 0.15);\n",
              "      filter: drop-shadow(0px 1px 2px rgba(0, 0, 0, 0.3));\n",
              "      fill: #FFFFFF;\n",
              "    }\n",
              "  </style>\n",
              "\n",
              "      <script>\n",
              "        const buttonEl =\n",
              "          document.querySelector('#df-f4aaec0f-19cf-4a86-9da7-ab854b12d97b button.colab-df-convert');\n",
              "        buttonEl.style.display =\n",
              "          google.colab.kernel.accessAllowed ? 'block' : 'none';\n",
              "\n",
              "        async function convertToInteractive(key) {\n",
              "          const element = document.querySelector('#df-f4aaec0f-19cf-4a86-9da7-ab854b12d97b');\n",
              "          const dataTable =\n",
              "            await google.colab.kernel.invokeFunction('convertToInteractive',\n",
              "                                                     [key], {});\n",
              "          if (!dataTable) return;\n",
              "\n",
              "          const docLinkHtml = 'Like what you see? Visit the ' +\n",
              "            '<a target=\"_blank\" href=https://colab.research.google.com/notebooks/data_table.ipynb>data table notebook</a>'\n",
              "            + ' to learn more about interactive tables.';\n",
              "          element.innerHTML = '';\n",
              "          dataTable['output_type'] = 'display_data';\n",
              "          await google.colab.output.renderOutput(dataTable, element);\n",
              "          const docLink = document.createElement('div');\n",
              "          docLink.innerHTML = docLinkHtml;\n",
              "          element.appendChild(docLink);\n",
              "        }\n",
              "      </script>\n",
              "    </div>\n",
              "  </div>\n",
              "  "
            ]
          },
          "metadata": {},
          "execution_count": 12
        }
      ]
    },
    {
      "cell_type": "markdown",
      "source": [
        "### **Remove Unecessary Rows**"
      ],
      "metadata": {
        "id": "vv_rktD5nYuP"
      }
    },
    {
      "cell_type": "code",
      "source": [
        "# Count the number of duplicate rows.\n",
        "print(f'There are {df.duplicated().sum()} duplicate rows.')"
      ],
      "metadata": {
        "id": "1LE-ina0VEsw",
        "colab": {
          "base_uri": "https://localhost:8080/"
        },
        "outputId": "7c6b92d3-6f16-4fc8-8e7c-530673598a7f"
      },
      "execution_count": 13,
      "outputs": [
        {
          "output_type": "stream",
          "name": "stdout",
          "text": [
            "There are 0 duplicate rows.\n"
          ]
        }
      ]
    },
    {
      "cell_type": "markdown",
      "source": [
        "- No duplicates were found or dropped."
      ],
      "metadata": {
        "id": "3Obw09ip0C_q"
      }
    },
    {
      "cell_type": "markdown",
      "source": [
        "### **Missing Values**"
      ],
      "metadata": {
        "id": "d-728pLSPPRf"
      }
    },
    {
      "cell_type": "code",
      "source": [
        "# Display missing values by column.\n",
        "msno.matrix(df, figsize=(16,3), labels=True, fontsize=12, sort=\"descending\", color=(0,0,0));"
      ],
      "metadata": {
        "id": "PDDJB1iTGSi5",
        "colab": {
          "base_uri": "https://localhost:8080/",
          "height": 282
        },
        "outputId": "45997591-66cd-46d3-b80c-590375c3d344"
      },
      "execution_count": 14,
      "outputs": [
        {
          "output_type": "display_data",
          "data": {
            "text/plain": [
              "<Figure size 1152x216 with 2 Axes>"
            ],
            "image/png": "[encoded data removed]"
          },
          "metadata": {
            "needs_background": "light"
          }
        }
      ]
    },
    {
      "cell_type": "code",
      "source": [
        "# Display the count of missing values by column.\n",
        "print(df.isna().sum())"
      ],
      "metadata": {
        "id": "KaEA3qPZVdMw",
        "colab": {
          "base_uri": "https://localhost:8080/"
        },
        "outputId": "06fdf8a1-6eda-481f-a30d-62a5ef4ca973"
      },
      "execution_count": 15,
      "outputs": [
        {
          "output_type": "stream",
          "name": "stdout",
          "text": [
            "Age                    0\n",
            "Sex                    0\n",
            "Marital              208\n",
            "Income               117\n",
            "Race                   0\n",
            "WaistCirc             85\n",
            "BMI                   26\n",
            "Albuminuria            0\n",
            "UrAlbCr                0\n",
            "UricAcid               0\n",
            "BloodGlucose           0\n",
            "HDL                    0\n",
            "Triglycerides          0\n",
            "MetabolicSyndrome      0\n",
            "dtype: int64\n"
          ]
        }
      ]
    },
    {
      "cell_type": "markdown",
      "source": [
        "- 'Marital', 'Income', 'WaistCirc' and 'BMI' columns have missing values."
      ],
      "metadata": {
        "id": "9WqZt5ZVPcn7"
      }
    },
    {
      "cell_type": "markdown",
      "source": [
        "#### **Statistics Function**"
      ],
      "metadata": {
        "id": "WaD_LRBJ51sT"
      }
    },
    {
      "cell_type": "code",
      "source": [
        "# Creates a function to display supplemental statistics\n",
        "def column_statistics(column_name, max_unique_values_to_disply=20):\n",
        "    # Display the count of missing values for this column.\n",
        "    print(f'Missing Values: {df[column_name].isna().sum()} ({round((df[column_name].isna().sum())/(df.shape[0])*100,1)})%')\n",
        "\n",
        "    # Determine Outliers - Only if this is a numeric column\n",
        "    if (df[column_name].dtype == 'int64') | (df[column_name].dtype == 'float64'):\n",
        "        # Create outlier filters\n",
        "        q1 = df[column_name].quantile(0.25) # 25th percentile\n",
        "        q3 = df[column_name].quantile(0.75) # 75th percentile\n",
        "        iqr = q3 - q1 # Interquartile range\n",
        "        low_limit = q1 - (1.5 * iqr) # low limit\n",
        "        high_limit = q3 + (1.5 * iqr) # high limit\n",
        "        # Create outlier dataframes\n",
        "        low_df = df[(df[column_name] < low_limit)]\n",
        "        high_df = df[(df[column_name] > high_limit)]\n",
        "        # Calculate the outlier counts and percentages\n",
        "        low_oulier_count = low_df.shape[0]\n",
        "        low_outlier_percentge = round(((low_oulier_count)/(df.shape[0])*100),1)\n",
        "        high_oulier_count = high_df.shape[0]\n",
        "        high_outlier_percentge = round(((high_oulier_count)/(df.shape[0])*100),1)\n",
        "        # Display the outlier counts.\n",
        "        print(f'Outliers: {low_oulier_count} ({low_outlier_percentge})% low, {high_oulier_count} ({high_outlier_percentge})% high')\n",
        "        \n",
        "    # Display the count of unique values for this column.\n",
        "    print(f'Unique values: {df[column_name].nunique()}')\n",
        "\n",
        "    # Display the unique values including Nan and their counts for this column,\n",
        "    # if the number of unique values is below the function parameter\n",
        "    if df[column_name].nunique() < max_unique_values_to_disply:\n",
        "        print(df[column_name].value_counts(dropna=False))"
      ],
      "metadata": {
        "id": "5vg7rxeHLiXa"
      },
      "execution_count": 16,
      "outputs": []
    },
    {
      "cell_type": "markdown",
      "source": [
        "#### **Categorical Columns**"
      ],
      "metadata": {
        "id": "leet1mZPKDR1"
      }
    },
    {
      "cell_type": "markdown",
      "source": [
        "##### **Marital column**\n"
      ],
      "metadata": {
        "id": "SmTEIXGjaLLq"
      }
    },
    {
      "cell_type": "code",
      "source": [
        "# Display column statistics.\n",
        "column_statistics('Marital', 1)"
      ],
      "metadata": {
        "colab": {
          "base_uri": "https://localhost:8080/"
        },
        "id": "HeIKSL8pBW_W",
        "outputId": "141dfa48-e9fa-400e-966d-9d5bcf31c94b"
      },
      "execution_count": 17,
      "outputs": [
        {
          "output_type": "stream",
          "name": "stdout",
          "text": [
            "Missing Values: 208 (8.7)%\n",
            "Unique values: 5\n"
          ]
        }
      ]
    },
    {
      "cell_type": "markdown",
      "source": [
        "- **Missing Value Options and Considerations**\n",
        " - **Drop column**\n",
        "   - con: This would result in a significant loss of data.\n",
        "   - 8.7% missing values is not significant enough to justify this option.\n",
        " - **Drop rows with missing values**\n",
        "   - con: This would result in a significant loss of data.\n",
        "   - 8.7% missing rows is too significant to justify this option.\n",
        "  - **Replace with constant value 'Unknown'**\n",
        "   - pro: This will not introduce bias.\n",
        "   - con: This will not factor correlations between features.  \n",
        "   - con: This may not generate the highest prediction scores possible.\n",
        " - **Simple Imputation using strategy = 'most frequent' (mode)**\n",
        "   - pro: This typically works well on categorical options.\n",
        "   - con: This can introduce bias.\n",
        "   - con: This will not factor correlations between features.   \n",
        " - **Advanced Imputation using SKLearn**\n",
        "   - pro: This will factor correlations between features.\n",
        "   - pro: This may have the potential to generate the highest prediction scores possible.\n",
        "   - con: This can be memory or time intensive.\n",
        "\n",
        "For the scope of this project we will utilize the Replace with constant value 'Unknown' as our initial strategy. However it is recommended  that others strategies be explored to see if prediction scores can be improved.\n"
      ],
      "metadata": {
        "id": "uyHLRJVcYUBJ"
      }
    },
    {
      "cell_type": "markdown",
      "source": [
        "- Replacing missing values with the constant 'Unknown' will not cause data leakage and may be performed prior to Preprocessing."
      ],
      "metadata": {
        "id": "_fUSW7ezRHgy"
      }
    },
    {
      "cell_type": "code",
      "source": [
        "# Fill NaN values with the constant value 'Unknown'.\n",
        "df.Marital.fillna('Unknown',inplace=True)"
      ],
      "metadata": {
        "id": "-kv6s5hZQPdU"
      },
      "execution_count": 18,
      "outputs": []
    },
    {
      "cell_type": "code",
      "source": [
        "# Display the unique values for this column.\n",
        "print(df['Marital'].unique())"
      ],
      "metadata": {
        "colab": {
          "base_uri": "https://localhost:8080/"
        },
        "id": "9rW2nGoHQbqP",
        "outputId": "a4354df3-5106-405f-ff35-3159bd4fd89a"
      },
      "execution_count": 19,
      "outputs": [
        {
          "output_type": "stream",
          "name": "stdout",
          "text": [
            "['Single' 'Married' 'Widowed' 'Divorced' 'Unknown' 'Separated']\n"
          ]
        }
      ]
    },
    {
      "cell_type": "markdown",
      "source": [
        "- No missing values for this column is confirmed."
      ],
      "metadata": {
        "id": "q_nhsoewQXWN"
      }
    },
    {
      "cell_type": "markdown",
      "source": [
        "#### **Numeric Columns**"
      ],
      "metadata": {
        "id": "Kj8BJB0VKel0"
      }
    },
    {
      "cell_type": "markdown",
      "source": [
        "##### **Income column**"
      ],
      "metadata": {
        "id": "fDMFy6yQNv83"
      }
    },
    {
      "cell_type": "code",
      "source": [
        "# Display column statistics.\n",
        "column_statistics('Income', 1)"
      ],
      "metadata": {
        "colab": {
          "base_uri": "https://localhost:8080/"
        },
        "id": "Cc5wfQjmOggr",
        "outputId": "4f426682-0898-42b1-8a8b-556b9533a304"
      },
      "execution_count": 20,
      "outputs": [
        {
          "output_type": "stream",
          "name": "stdout",
          "text": [
            "Missing Values: 117 (4.9)%\n",
            "Outliers: 0 (0.0)% low, 0 (0.0)% high\n",
            "Unique values: 14\n"
          ]
        }
      ]
    },
    {
      "cell_type": "markdown",
      "source": [
        "- **Missing Value Options and Considerations**\n",
        " - **Drop column**\n",
        "   - con: This would result in a significant loss of data.\n",
        "   - 4.9% missing values is not significant enough to justify this option.\n",
        " - **Drop rows with missing values**\n",
        "   - con: This would result in a significant loss of data.\n",
        "   - 4.9% missing rows is too significant to justify this option.\n",
        " - **Simple Imputation using strategy = 'mean'**\n",
        "   - pro: This typically works well small numeric datasets.\n",
        "   - con: This can introduce bias and is affected by skew and outliers more than the 'median' value.\n",
        "   - con: This will not factor correlations between features.   \n",
        " - **Simple Imputation using strategy = 'median'**\n",
        "   - pro: This typically works well small numeric datasets.\n",
        "   - pro: This is less affected by outliers than strategy = 'median'.\n",
        "   - con: This will not factor correlations between features.     \n",
        " - **Advanced Imputation using SKLearn**\n",
        "   - pro: This will factor correlations between features.\n",
        "   - pro: This may have the potential to generate the highest prediction scores possible.\n",
        "   - con: This can be memory and or time intensive..\n",
        "\n",
        "For the scope of this project we will utilize the (Simple Imputation using strategy = 'median') method as our initial strategy. This can introduce data leakage if applied prior to the Train Test Split and so will be handled in Preprocessing after the Train Test Split.\n",
        "\n",
        "However it is recommended  that others strategies be explored to see if prediction accuracy can be improved."
      ],
      "metadata": {
        "id": "8arCtJju6Im9"
      }
    },
    {
      "cell_type": "markdown",
      "source": [
        "##### **WaistCirc column**"
      ],
      "metadata": {
        "id": "ncbOdiILqV-l"
      }
    },
    {
      "cell_type": "code",
      "source": [
        "# Display column statistics.\n",
        "column_statistics('WaistCirc')"
      ],
      "metadata": {
        "colab": {
          "base_uri": "https://localhost:8080/"
        },
        "id": "AwbOLeh2PAVr",
        "outputId": "50f4a9f3-df2f-4263-eb90-4c6ee8d4a23e"
      },
      "execution_count": 21,
      "outputs": [
        {
          "output_type": "stream",
          "name": "stdout",
          "text": [
            "Missing Values: 85 (3.5)%\n",
            "Outliers: 0 (0.0)% low, 44 (1.8)% high\n",
            "Unique values: 635\n"
          ]
        }
      ]
    },
    {
      "cell_type": "markdown",
      "source": [
        "- **Missing Value Options and Considerations**\n",
        " - **Drop column**\n",
        "   - con: This would result in a significant loss of data.\n",
        "   - 1.8% missing values is not significant enough to justify this option.\n",
        " - **Drop rows with missing values**\n",
        "   - con: This would result in a significant loss of data.\n",
        "   - 1.8% missing rows is viable, but still too significant to justify this option.\n",
        " - **Simple Imputation using strategy = 'mean'**\n",
        "   - pro: This typically works well small numeric datasets.\n",
        "   - con: This can introduce bias and is affected by skew and outliers more than the 'median' value.\n",
        "   - con: This will not factor correlations between features.   \n",
        " - **Simple Imputation using strategy = 'median'**\n",
        "   - pro: This typically works well small numeric datasets.\n",
        "   - pro: This is less affected by outliers than strategy = 'median'.\n",
        "   - con: This will not factor correlations between features.     \n",
        " - **Advanced Imputation using SKLearn**\n",
        "   - pro: This will factor correlations between features.\n",
        "   - pro: This may have the potential to generate the highest prediction scores possible.\n",
        "   - con: This can be memory and or time intensive.\n",
        "\n",
        "For the scope of this project we will utilize the (Simple Imputation using strategy = 'median') method as our initial strategy. This can introduce data leakage if applied prior to the Train Test Split and so will be handled in Preprocessing after the Train Test Split.\n",
        "\n",
        "However it is recommended  that others strategies be explored to see if prediction accuracy can be improved."
      ],
      "metadata": {
        "id": "7DIAfRC96pmI"
      }
    },
    {
      "cell_type": "markdown",
      "source": [
        "##### **BMI column**"
      ],
      "metadata": {
        "id": "Qz4XA8ZTsYOG"
      }
    },
    {
      "cell_type": "code",
      "source": [
        "# Display column statistics.\n",
        "column_statistics('BMI')"
      ],
      "metadata": {
        "colab": {
          "base_uri": "https://localhost:8080/"
        },
        "id": "ImoEWo5NPEaB",
        "outputId": "b8325dd7-feae-44f9-85a5-587503e5bbf2"
      },
      "execution_count": 22,
      "outputs": [
        {
          "output_type": "stream",
          "name": "stdout",
          "text": [
            "Missing Values: 26 (1.1)%\n",
            "Outliers: 0 (0.0)% low, 67 (2.8)% high\n",
            "Unique values: 322\n"
          ]
        }
      ]
    },
    {
      "cell_type": "markdown",
      "source": [
        "- **Missing Value Options and Considerations**\n",
        " - **Drop column**\n",
        "   - con: This would result in a significant loss of data.\n",
        "   - 2.8% missing values is not significant enough to justify this option.\n",
        " - **Drop rows with missing values**\n",
        "   - con: This would result in a significant loss of data.\n",
        "   - 2.8% missing rows is viable, but still too significant to justify this option.\n",
        " - **Simple Imputation using strategy = 'mean'**\n",
        "   - pro: This typically works well small numeric datasets.\n",
        "   - con: This can introduce bias and is affected by skew and outliers more than the 'median' value.\n",
        "   - con: This will not factor correlations between features.   \n",
        " - **Simple Imputation using strategy = 'median'**\n",
        "   - pro: This typically works well small numeric datasets.\n",
        "   - pro: This is less affected by outliers than strategy = 'median'.\n",
        "   - con: This will not factor correlations between features.     \n",
        " - **Advanced Imputation using SKLearn**\n",
        "   - pro: This will factor correlations between features.\n",
        "   - pro: This may have the potential to generate the highest prediction scores possible.\n",
        "   - con: This can be memory and or time intensive.\n",
        "\n",
        "For the scope of this project we will utilize the (Simple Imputation using strategy = 'median') method as our initial strategy. This can introduce data leakage if applied prior to the Train Test Split and so will be handled in Preprocessing after the Train Test Split.\n",
        "\n",
        "However it is recommended  that others strategies be explored to see if prediction accuracy can be improved."
      ],
      "metadata": {
        "id": "e5KTwX-C6wQe"
      }
    },
    {
      "cell_type": "markdown",
      "source": [
        "### **Inspect Column Datatypes for Errors**"
      ],
      "metadata": {
        "id": "beYr7ZdUsr62"
      }
    },
    {
      "cell_type": "code",
      "source": [
        " # Ensure all columns match the data types listed in the data dictionary.\n",
        "df.dtypes"
      ],
      "metadata": {
        "id": "_S_WS97RtGV1",
        "colab": {
          "base_uri": "https://localhost:8080/"
        },
        "outputId": "c6661e4f-df88-476d-ba10-236344a5920a"
      },
      "execution_count": 23,
      "outputs": [
        {
          "output_type": "execute_result",
          "data": {
            "text/plain": [
              "Age                    int64\n",
              "Sex                   object\n",
              "Marital               object\n",
              "Income               float64\n",
              "Race                  object\n",
              "WaistCirc            float64\n",
              "BMI                  float64\n",
              "Albuminuria            int64\n",
              "UrAlbCr              float64\n",
              "UricAcid             float64\n",
              "BloodGlucose           int64\n",
              "HDL                    int64\n",
              "Triglycerides          int64\n",
              "MetabolicSyndrome     object\n",
              "dtype: object"
            ]
          },
          "metadata": {},
          "execution_count": 23
        }
      ]
    },
    {
      "cell_type": "code",
      "source": [
        "df.head()"
      ],
      "metadata": {
        "id": "a0y8MgMXtXaU",
        "colab": {
          "base_uri": "https://localhost:8080/",
          "height": 270
        },
        "outputId": "c12a5244-f66a-4a6c-f93a-b54234625f8e"
      },
      "execution_count": 24,
      "outputs": [
        {
          "output_type": "execute_result",
          "data": {
            "text/plain": [
              "   Age     Sex  Marital  Income   Race  WaistCirc   BMI  Albuminuria  UrAlbCr  \\\n",
              "0   22    Male   Single  8200.0  White       81.0  23.3            0     3.88   \n",
              "1   44  Female  Married  4500.0  White       80.1  23.2            0     8.55   \n",
              "2   21    Male   Single   800.0  Asian       69.6  20.1            0     5.07   \n",
              "3   43  Female   Single  2000.0  Black      120.4  33.3            0     5.22   \n",
              "4   51    Male  Married     NaN  Asian       81.1  20.1            0     8.13   \n",
              "\n",
              "   UricAcid  BloodGlucose  HDL  Triglycerides MetabolicSyndrome  \n",
              "0       4.9            92   41             84         No MetSyn  \n",
              "1       4.5            82   28             56         No MetSyn  \n",
              "2       5.4           107   43             78         No MetSyn  \n",
              "3       5.0           104   73            141         No MetSyn  \n",
              "4       5.0            95   43            126         No MetSyn  "
            ],
            "text/html": [
              "\n",
              "  <div id=\"df-0ac1885e-82d6-45a6-b17d-77ff000077f4\">\n",
              "    <div class=\"colab-df-container\">\n",
              "      <div>\n",
              "<style scoped>\n",
              "    .dataframe tbody tr th:only-of-type {\n",
              "        vertical-align: middle;\n",
              "    }\n",
              "\n",
              "    .dataframe tbody tr th {\n",
              "        vertical-align: top;\n",
              "    }\n",
              "\n",
              "    .dataframe thead th {\n",
              "        text-align: right;\n",
              "    }\n",
              "</style>\n",
              "<table border=\"1\" class=\"dataframe\">\n",
              "  <thead>\n",
              "    <tr style=\"text-align: right;\">\n",
              "      <th></th>\n",
              "      <th>Age</th>\n",
              "      <th>Sex</th>\n",
              "      <th>Marital</th>\n",
              "      <th>Income</th>\n",
              "      <th>Race</th>\n",
              "      <th>WaistCirc</th>\n",
              "      <th>BMI</th>\n",
              "      <th>Albuminuria</th>\n",
              "      <th>UrAlbCr</th>\n",
              "      <th>UricAcid</th>\n",
              "      <th>BloodGlucose</th>\n",
              "      <th>HDL</th>\n",
              "      <th>Triglycerides</th>\n",
              "      <th>MetabolicSyndrome</th>\n",
              "    </tr>\n",
              "  </thead>\n",
              "  <tbody>\n",
              "    <tr>\n",
              "      <th>0</th>\n",
              "      <td>22</td>\n",
              "      <td>Male</td>\n",
              "      <td>Single</td>\n",
              "      <td>8200.0</td>\n",
              "      <td>White</td>\n",
              "      <td>81.0</td>\n",
              "      <td>23.3</td>\n",
              "      <td>0</td>\n",
              "      <td>3.88</td>\n",
              "      <td>4.9</td>\n",
              "      <td>92</td>\n",
              "      <td>41</td>\n",
              "      <td>84</td>\n",
              "      <td>No MetSyn</td>\n",
              "    </tr>\n",
              "    <tr>\n",
              "      <th>1</th>\n",
              "      <td>44</td>\n",
              "      <td>Female</td>\n",
              "      <td>Married</td>\n",
              "      <td>4500.0</td>\n",
              "      <td>White</td>\n",
              "      <td>80.1</td>\n",
              "      <td>23.2</td>\n",
              "      <td>0</td>\n",
              "      <td>8.55</td>\n",
              "      <td>4.5</td>\n",
              "      <td>82</td>\n",
              "      <td>28</td>\n",
              "      <td>56</td>\n",
              "      <td>No MetSyn</td>\n",
              "    </tr>\n",
              "    <tr>\n",
              "      <th>2</th>\n",
              "      <td>21</td>\n",
              "      <td>Male</td>\n",
              "      <td>Single</td>\n",
              "      <td>800.0</td>\n",
              "      <td>Asian</td>\n",
              "      <td>69.6</td>\n",
              "      <td>20.1</td>\n",
              "      <td>0</td>\n",
              "      <td>5.07</td>\n",
              "      <td>5.4</td>\n",
              "      <td>107</td>\n",
              "      <td>43</td>\n",
              "      <td>78</td>\n",
              "      <td>No MetSyn</td>\n",
              "    </tr>\n",
              "    <tr>\n",
              "      <th>3</th>\n",
              "      <td>43</td>\n",
              "      <td>Female</td>\n",
              "      <td>Single</td>\n",
              "      <td>2000.0</td>\n",
              "      <td>Black</td>\n",
              "      <td>120.4</td>\n",
              "      <td>33.3</td>\n",
              "      <td>0</td>\n",
              "      <td>5.22</td>\n",
              "      <td>5.0</td>\n",
              "      <td>104</td>\n",
              "      <td>73</td>\n",
              "      <td>141</td>\n",
              "      <td>No MetSyn</td>\n",
              "    </tr>\n",
              "    <tr>\n",
              "      <th>4</th>\n",
              "      <td>51</td>\n",
              "      <td>Male</td>\n",
              "      <td>Married</td>\n",
              "      <td>NaN</td>\n",
              "      <td>Asian</td>\n",
              "      <td>81.1</td>\n",
              "      <td>20.1</td>\n",
              "      <td>0</td>\n",
              "      <td>8.13</td>\n",
              "      <td>5.0</td>\n",
              "      <td>95</td>\n",
              "      <td>43</td>\n",
              "      <td>126</td>\n",
              "      <td>No MetSyn</td>\n",
              "    </tr>\n",
              "  </tbody>\n",
              "</table>\n",
              "</div>\n",
              "      <button class=\"colab-df-convert\" onclick=\"convertToInteractive('df-0ac1885e-82d6-45a6-b17d-77ff000077f4')\"\n",
              "              title=\"Convert this dataframe to an interactive table.\"\n",
              "              style=\"display:none;\">\n",
              "        \n",
              "  <svg xmlns=\"http://www.w3.org/2000/svg\" height=\"24px\"viewBox=\"0 0 24 24\"\n",
              "       width=\"24px\">\n",
              "    <path d=\"M0 0h24v24H0V0z\" fill=\"none\"/>\n",
              "    <path d=\"M18.56 5.44l.94 2.06.94-2.06 2.06-.94-2.06-.94-.94-2.06-.94 2.06-2.06.94zm-11 1L8.5 8.5l.94-2.06 2.06-.94-2.06-.94L8.5 2.5l-.94 2.06-2.06.94zm10 10l.94 2.06.94-2.06 2.06-.94-2.06-.94-.94-2.06-.94 2.06-2.06.94z\"/><path d=\"M17.41 7.96l-1.37-1.37c-.4-.4-.92-.59-1.43-.59-.52 0-1.04.2-1.43.59L10.3 9.45l-7.72 7.72c-.78.78-.78 2.05 0 2.83L4 21.41c.39.39.9.59 1.41.59.51 0 1.02-.2 1.41-.59l7.78-7.78 2.81-2.81c.8-.78.8-2.07 0-2.86zM5.41 20L4 18.59l7.72-7.72 1.47 1.35L5.41 20z\"/>\n",
              "  </svg>\n",
              "      </button>\n",
              "      \n",
              "  <style>\n",
              "    .colab-df-container {\n",
              "      display:flex;\n",
              "      flex-wrap:wrap;\n",
              "      gap: 12px;\n",
              "    }\n",
              "\n",
              "    .colab-df-convert {\n",
              "      background-color: #E8F0FE;\n",
              "      border: none;\n",
              "      border-radius: 50%;\n",
              "      cursor: pointer;\n",
              "      display: none;\n",
              "      fill: #1967D2;\n",
              "      height: 32px;\n",
              "      padding: 0 0 0 0;\n",
              "      width: 32px;\n",
              "    }\n",
              "\n",
              "    .colab-df-convert:hover {\n",
              "      background-color: #E2EBFA;\n",
              "      box-shadow: 0px 1px 2px rgba(60, 64, 67, 0.3), 0px 1px 3px 1px rgba(60, 64, 67, 0.15);\n",
              "      fill: #174EA6;\n",
              "    }\n",
              "\n",
              "    [theme=dark] .colab-df-convert {\n",
              "      background-color: #3B4455;\n",
              "      fill: #D2E3FC;\n",
              "    }\n",
              "\n",
              "    [theme=dark] .colab-df-convert:hover {\n",
              "      background-color: #434B5C;\n",
              "      box-shadow: 0px 1px 3px 1px rgba(0, 0, 0, 0.15);\n",
              "      filter: drop-shadow(0px 1px 2px rgba(0, 0, 0, 0.3));\n",
              "      fill: #FFFFFF;\n",
              "    }\n",
              "  </style>\n",
              "\n",
              "      <script>\n",
              "        const buttonEl =\n",
              "          document.querySelector('#df-0ac1885e-82d6-45a6-b17d-77ff000077f4 button.colab-df-convert');\n",
              "        buttonEl.style.display =\n",
              "          google.colab.kernel.accessAllowed ? 'block' : 'none';\n",
              "\n",
              "        async function convertToInteractive(key) {\n",
              "          const element = document.querySelector('#df-0ac1885e-82d6-45a6-b17d-77ff000077f4');\n",
              "          const dataTable =\n",
              "            await google.colab.kernel.invokeFunction('convertToInteractive',\n",
              "                                                     [key], {});\n",
              "          if (!dataTable) return;\n",
              "\n",
              "          const docLinkHtml = 'Like what you see? Visit the ' +\n",
              "            '<a target=\"_blank\" href=https://colab.research.google.com/notebooks/data_table.ipynb>data table notebook</a>'\n",
              "            + ' to learn more about interactive tables.';\n",
              "          element.innerHTML = '';\n",
              "          dataTable['output_type'] = 'display_data';\n",
              "          await google.colab.output.renderOutput(dataTable, element);\n",
              "          const docLink = document.createElement('div');\n",
              "          docLink.innerHTML = docLinkHtml;\n",
              "          element.appendChild(docLink);\n",
              "        }\n",
              "      </script>\n",
              "    </div>\n",
              "  </div>\n",
              "  "
            ]
          },
          "metadata": {},
          "execution_count": 24
        }
      ]
    },
    {
      "cell_type": "markdown",
      "source": [
        "- All columns match their datatypes."
      ],
      "metadata": {
        "id": "WVPSQQU49EBm"
      }
    },
    {
      "cell_type": "markdown",
      "source": [
        "### **Inspect Column Names for Errors**"
      ],
      "metadata": {
        "id": "vrX847SqU8en"
      }
    },
    {
      "cell_type": "markdown",
      "source": [
        "Check for common syntax errors which may include extra white spaces at the beginning or end of strings or column names.\n",
        "\n",
        "Check for typos or inconsistencies in strings that need to be fixed.(example: cat, Cat, cats)"
      ],
      "metadata": {
        "id": "e6WqbzSg_odt"
      }
    },
    {
      "cell_type": "markdown",
      "source": [
        "#### **Object Datatypes**"
      ],
      "metadata": {
        "id": "TFSwmJz2SnuW"
      }
    },
    {
      "cell_type": "code",
      "source": [
        "# Display column names for object datatypes.\n",
        "dtypes = df.dtypes\n",
        "str_cols = dtypes[dtypes=='object'].index\n",
        "str_cols"
      ],
      "metadata": {
        "id": "_tLJC_-7xPnX",
        "colab": {
          "base_uri": "https://localhost:8080/"
        },
        "outputId": "33f792c3-bb4c-47f8-fb2c-6190eab9d439"
      },
      "execution_count": 25,
      "outputs": [
        {
          "output_type": "execute_result",
          "data": {
            "text/plain": [
              "Index(['Sex', 'Marital', 'Race', 'MetabolicSyndrome'], dtype='object')"
            ]
          },
          "metadata": {},
          "execution_count": 25
        }
      ]
    },
    {
      "cell_type": "markdown",
      "source": [
        "- No issues noted."
      ],
      "metadata": {
        "id": "7CrvifkfauXz"
      }
    },
    {
      "cell_type": "markdown",
      "source": [
        "#### **Numerical Datatypes**"
      ],
      "metadata": {
        "id": "nHncv5lKVoiJ"
      }
    },
    {
      "cell_type": "code",
      "source": [
        "# Display the column names for the numeric columns.\n",
        "dtypes = df.dtypes\n",
        "str_cols = dtypes[(dtypes == \"float64\") | (dtypes == \"int64\")].index\n",
        "str_cols"
      ],
      "metadata": {
        "colab": {
          "base_uri": "https://localhost:8080/"
        },
        "outputId": "236c3d69-6384-41ef-9762-12dabcb372c6",
        "id": "UEcuRwcB_cJb"
      },
      "execution_count": 26,
      "outputs": [
        {
          "output_type": "execute_result",
          "data": {
            "text/plain": [
              "Index(['Age', 'Income', 'WaistCirc', 'BMI', 'Albuminuria', 'UrAlbCr',\n",
              "       'UricAcid', 'BloodGlucose', 'HDL', 'Triglycerides'],\n",
              "      dtype='object')"
            ]
          },
          "metadata": {},
          "execution_count": 26
        }
      ]
    },
    {
      "cell_type": "markdown",
      "source": [
        "- No issues noted."
      ],
      "metadata": {
        "id": "QNjXbNFzaxo2"
      }
    },
    {
      "cell_type": "markdown",
      "source": [
        "### **Inspect Column Values for Errors**"
      ],
      "metadata": {
        "id": "hE1XF-SoFZ-N"
      }
    },
    {
      "cell_type": "markdown",
      "source": [
        "#### **Object Datatypes**"
      ],
      "metadata": {
        "id": "IlXi6yavTB57"
      }
    },
    {
      "cell_type": "markdown",
      "source": [
        "Check for common syntax errors which may include extra white spaces at the beginning or end of strings or column names.\n",
        "\n",
        "Check for typos or inconsistencies in strings that need to be fixed."
      ],
      "metadata": {
        "id": "D0IwaQTV0Y20"
      }
    },
    {
      "cell_type": "code",
      "source": [
        "# Display the descriptive statistics for the non-numeric columns.\n",
        "df.describe(exclude=\"number\")"
      ],
      "metadata": {
        "colab": {
          "base_uri": "https://localhost:8080/",
          "height": 175
        },
        "id": "ul-UP4cG76oP",
        "outputId": "1c91d8d3-32fa-437b-be90-78b6541dea21"
      },
      "execution_count": 27,
      "outputs": [
        {
          "output_type": "execute_result",
          "data": {
            "text/plain": [
              "           Sex  Marital   Race MetabolicSyndrome\n",
              "count     2401     2401   2401              2401\n",
              "unique       2        6      6                 2\n",
              "top     Female  Married  White         No MetSyn\n",
              "freq      1211     1192    933              1579"
            ],
            "text/html": [
              "\n",
              "  <div id=\"df-1b23e4c8-be98-4a26-bb9c-6fdaf18bcde9\">\n",
              "    <div class=\"colab-df-container\">\n",
              "      <div>\n",
              "<style scoped>\n",
              "    .dataframe tbody tr th:only-of-type {\n",
              "        vertical-align: middle;\n",
              "    }\n",
              "\n",
              "    .dataframe tbody tr th {\n",
              "        vertical-align: top;\n",
              "    }\n",
              "\n",
              "    .dataframe thead th {\n",
              "        text-align: right;\n",
              "    }\n",
              "</style>\n",
              "<table border=\"1\" class=\"dataframe\">\n",
              "  <thead>\n",
              "    <tr style=\"text-align: right;\">\n",
              "      <th></th>\n",
              "      <th>Sex</th>\n",
              "      <th>Marital</th>\n",
              "      <th>Race</th>\n",
              "      <th>MetabolicSyndrome</th>\n",
              "    </tr>\n",
              "  </thead>\n",
              "  <tbody>\n",
              "    <tr>\n",
              "      <th>count</th>\n",
              "      <td>2401</td>\n",
              "      <td>2401</td>\n",
              "      <td>2401</td>\n",
              "      <td>2401</td>\n",
              "    </tr>\n",
              "    <tr>\n",
              "      <th>unique</th>\n",
              "      <td>2</td>\n",
              "      <td>6</td>\n",
              "      <td>6</td>\n",
              "      <td>2</td>\n",
              "    </tr>\n",
              "    <tr>\n",
              "      <th>top</th>\n",
              "      <td>Female</td>\n",
              "      <td>Married</td>\n",
              "      <td>White</td>\n",
              "      <td>No MetSyn</td>\n",
              "    </tr>\n",
              "    <tr>\n",
              "      <th>freq</th>\n",
              "      <td>1211</td>\n",
              "      <td>1192</td>\n",
              "      <td>933</td>\n",
              "      <td>1579</td>\n",
              "    </tr>\n",
              "  </tbody>\n",
              "</table>\n",
              "</div>\n",
              "      <button class=\"colab-df-convert\" onclick=\"convertToInteractive('df-1b23e4c8-be98-4a26-bb9c-6fdaf18bcde9')\"\n",
              "              title=\"Convert this dataframe to an interactive table.\"\n",
              "              style=\"display:none;\">\n",
              "        \n",
              "  <svg xmlns=\"http://www.w3.org/2000/svg\" height=\"24px\"viewBox=\"0 0 24 24\"\n",
              "       width=\"24px\">\n",
              "    <path d=\"M0 0h24v24H0V0z\" fill=\"none\"/>\n",
              "    <path d=\"M18.56 5.44l.94 2.06.94-2.06 2.06-.94-2.06-.94-.94-2.06-.94 2.06-2.06.94zm-11 1L8.5 8.5l.94-2.06 2.06-.94-2.06-.94L8.5 2.5l-.94 2.06-2.06.94zm10 10l.94 2.06.94-2.06 2.06-.94-2.06-.94-.94-2.06-.94 2.06-2.06.94z\"/><path d=\"M17.41 7.96l-1.37-1.37c-.4-.4-.92-.59-1.43-.59-.52 0-1.04.2-1.43.59L10.3 9.45l-7.72 7.72c-.78.78-.78 2.05 0 2.83L4 21.41c.39.39.9.59 1.41.59.51 0 1.02-.2 1.41-.59l7.78-7.78 2.81-2.81c.8-.78.8-2.07 0-2.86zM5.41 20L4 18.59l7.72-7.72 1.47 1.35L5.41 20z\"/>\n",
              "  </svg>\n",
              "      </button>\n",
              "      \n",
              "  <style>\n",
              "    .colab-df-container {\n",
              "      display:flex;\n",
              "      flex-wrap:wrap;\n",
              "      gap: 12px;\n",
              "    }\n",
              "\n",
              "    .colab-df-convert {\n",
              "      background-color: #E8F0FE;\n",
              "      border: none;\n",
              "      border-radius: 50%;\n",
              "      cursor: pointer;\n",
              "      display: none;\n",
              "      fill: #1967D2;\n",
              "      height: 32px;\n",
              "      padding: 0 0 0 0;\n",
              "      width: 32px;\n",
              "    }\n",
              "\n",
              "    .colab-df-convert:hover {\n",
              "      background-color: #E2EBFA;\n",
              "      box-shadow: 0px 1px 2px rgba(60, 64, 67, 0.3), 0px 1px 3px 1px rgba(60, 64, 67, 0.15);\n",
              "      fill: #174EA6;\n",
              "    }\n",
              "\n",
              "    [theme=dark] .colab-df-convert {\n",
              "      background-color: #3B4455;\n",
              "      fill: #D2E3FC;\n",
              "    }\n",
              "\n",
              "    [theme=dark] .colab-df-convert:hover {\n",
              "      background-color: #434B5C;\n",
              "      box-shadow: 0px 1px 3px 1px rgba(0, 0, 0, 0.15);\n",
              "      filter: drop-shadow(0px 1px 2px rgba(0, 0, 0, 0.3));\n",
              "      fill: #FFFFFF;\n",
              "    }\n",
              "  </style>\n",
              "\n",
              "      <script>\n",
              "        const buttonEl =\n",
              "          document.querySelector('#df-1b23e4c8-be98-4a26-bb9c-6fdaf18bcde9 button.colab-df-convert');\n",
              "        buttonEl.style.display =\n",
              "          google.colab.kernel.accessAllowed ? 'block' : 'none';\n",
              "\n",
              "        async function convertToInteractive(key) {\n",
              "          const element = document.querySelector('#df-1b23e4c8-be98-4a26-bb9c-6fdaf18bcde9');\n",
              "          const dataTable =\n",
              "            await google.colab.kernel.invokeFunction('convertToInteractive',\n",
              "                                                     [key], {});\n",
              "          if (!dataTable) return;\n",
              "\n",
              "          const docLinkHtml = 'Like what you see? Visit the ' +\n",
              "            '<a target=\"_blank\" href=https://colab.research.google.com/notebooks/data_table.ipynb>data table notebook</a>'\n",
              "            + ' to learn more about interactive tables.';\n",
              "          element.innerHTML = '';\n",
              "          dataTable['output_type'] = 'display_data';\n",
              "          await google.colab.output.renderOutput(dataTable, element);\n",
              "          const docLink = document.createElement('div');\n",
              "          docLink.innerHTML = docLinkHtml;\n",
              "          element.appendChild(docLink);\n",
              "        }\n",
              "      </script>\n",
              "    </div>\n",
              "  </div>\n",
              "  "
            ]
          },
          "metadata": {},
          "execution_count": 27
        }
      ]
    },
    {
      "cell_type": "markdown",
      "source": [
        "##### **Sex column**"
      ],
      "metadata": {
        "id": "V9Sw2CpSTm1H"
      }
    },
    {
      "cell_type": "code",
      "source": [
        "# Display the unique values for this column.\n",
        "print(df['Sex'].unique())"
      ],
      "metadata": {
        "id": "fZMWhETqbuUc",
        "colab": {
          "base_uri": "https://localhost:8080/"
        },
        "outputId": "164ddaa7-c5c7-4876-f879-239ef648d34b"
      },
      "execution_count": 28,
      "outputs": [
        {
          "output_type": "stream",
          "name": "stdout",
          "text": [
            "['Male' 'Female']\n"
          ]
        }
      ]
    },
    {
      "cell_type": "code",
      "source": [
        "df['Sex'].value_counts()"
      ],
      "metadata": {
        "colab": {
          "base_uri": "https://localhost:8080/"
        },
        "id": "umZyv4bF9BW3",
        "outputId": "dce657b3-6b86-4ab6-d07b-7be7c6b2b59d"
      },
      "execution_count": 29,
      "outputs": [
        {
          "output_type": "execute_result",
          "data": {
            "text/plain": [
              "Female    1211\n",
              "Male      1190\n",
              "Name: Sex, dtype: int64"
            ]
          },
          "metadata": {},
          "execution_count": 29
        }
      ]
    },
    {
      "cell_type": "markdown",
      "source": [
        "- No issues noted."
      ],
      "metadata": {
        "id": "JI9qvQZohBe8"
      }
    },
    {
      "cell_type": "markdown",
      "source": [
        "##### **Marital column**"
      ],
      "metadata": {
        "id": "JENecdeLAmSb"
      }
    },
    {
      "cell_type": "code",
      "source": [
        "# Display the unique values for this column.\n",
        "print(df['Marital'].unique())"
      ],
      "metadata": {
        "colab": {
          "base_uri": "https://localhost:8080/"
        },
        "outputId": "4c5249fd-0817-480e-e21e-189073632db4",
        "id": "t3ssqC1FAmSc"
      },
      "execution_count": 30,
      "outputs": [
        {
          "output_type": "stream",
          "name": "stdout",
          "text": [
            "['Single' 'Married' 'Widowed' 'Divorced' 'Unknown' 'Separated']\n"
          ]
        }
      ]
    },
    {
      "cell_type": "code",
      "source": [
        "df['Marital'].value_counts()"
      ],
      "metadata": {
        "colab": {
          "base_uri": "https://localhost:8080/"
        },
        "id": "IQSVsCLM9HLt",
        "outputId": "d8766247-29c2-4442-cefe-f8fabf2cdaf4"
      },
      "execution_count": 31,
      "outputs": [
        {
          "output_type": "execute_result",
          "data": {
            "text/plain": [
              "Married      1192\n",
              "Single        498\n",
              "Divorced      242\n",
              "Unknown       208\n",
              "Widowed       166\n",
              "Separated      95\n",
              "Name: Marital, dtype: int64"
            ]
          },
          "metadata": {},
          "execution_count": 31
        }
      ]
    },
    {
      "cell_type": "markdown",
      "source": [
        "- No issues noted."
      ],
      "metadata": {
        "id": "hXRd-3T6AmSd"
      }
    },
    {
      "cell_type": "markdown",
      "source": [
        "##### **Race column**"
      ],
      "metadata": {
        "id": "Y8DqNp9tAnSS"
      }
    },
    {
      "cell_type": "code",
      "source": [
        "# Display the unique values for this column.\n",
        "print(df['Race'].unique())"
      ],
      "metadata": {
        "colab": {
          "base_uri": "https://localhost:8080/"
        },
        "outputId": "c9c51a73-463a-45df-bd21-71866acbbfa2",
        "id": "vCaSooo8AnST"
      },
      "execution_count": 32,
      "outputs": [
        {
          "output_type": "stream",
          "name": "stdout",
          "text": [
            "['White' 'Asian' 'Black' 'MexAmerican' 'Hispanic' 'Other']\n"
          ]
        }
      ]
    },
    {
      "cell_type": "code",
      "source": [
        "df['Race'].value_counts()"
      ],
      "metadata": {
        "colab": {
          "base_uri": "https://localhost:8080/"
        },
        "id": "J2A8hFb79M-8",
        "outputId": "5cc299ae-e30f-4956-cd16-112b8b4d80df"
      },
      "execution_count": 33,
      "outputs": [
        {
          "output_type": "execute_result",
          "data": {
            "text/plain": [
              "White          933\n",
              "Black          548\n",
              "Asian          349\n",
              "Hispanic       257\n",
              "MexAmerican    253\n",
              "Other           61\n",
              "Name: Race, dtype: int64"
            ]
          },
          "metadata": {},
          "execution_count": 33
        }
      ]
    },
    {
      "cell_type": "markdown",
      "source": [
        "- No issues noted."
      ],
      "metadata": {
        "id": "2luJLfMqAnSU"
      }
    },
    {
      "cell_type": "markdown",
      "source": [
        "##### **MetabolicSyndrome column**"
      ],
      "metadata": {
        "id": "uYeRXQRVAqmI"
      }
    },
    {
      "cell_type": "code",
      "source": [
        "# Display the unique values for this column.\n",
        "print(df['MetabolicSyndrome'].unique())"
      ],
      "metadata": {
        "colab": {
          "base_uri": "https://localhost:8080/"
        },
        "outputId": "f38af399-a697-4329-faea-477c9026f766",
        "id": "npW6tDP0AqmI"
      },
      "execution_count": 34,
      "outputs": [
        {
          "output_type": "stream",
          "name": "stdout",
          "text": [
            "['No MetSyn' 'MetSyn']\n"
          ]
        }
      ]
    },
    {
      "cell_type": "code",
      "source": [
        "df['MetabolicSyndrome'].value_counts()"
      ],
      "metadata": {
        "colab": {
          "base_uri": "https://localhost:8080/"
        },
        "id": "QLKg2UFH9Rb4",
        "outputId": "fa2c2034-a92c-4013-d275-23f265bb62e4"
      },
      "execution_count": 35,
      "outputs": [
        {
          "output_type": "execute_result",
          "data": {
            "text/plain": [
              "No MetSyn    1579\n",
              "MetSyn        822\n",
              "Name: MetabolicSyndrome, dtype: int64"
            ]
          },
          "metadata": {},
          "execution_count": 35
        }
      ]
    },
    {
      "cell_type": "markdown",
      "source": [
        "- No issues noted."
      ],
      "metadata": {
        "id": "lDdGMkarAqmK"
      }
    },
    {
      "cell_type": "markdown",
      "source": [
        "#### **Numerical Datatypes**"
      ],
      "metadata": {
        "id": "MJShs6IT7Yo3"
      }
    },
    {
      "cell_type": "code",
      "source": [
        "# Display the descriptive statistics for the numeric columns.\n",
        "df.describe().round(2)"
      ],
      "metadata": {
        "colab": {
          "base_uri": "https://localhost:8080/",
          "height": 300
        },
        "id": "MQS3aHqW7wzE",
        "outputId": "4d823a25-07ec-4c83-e177-500eb80001fa"
      },
      "execution_count": 36,
      "outputs": [
        {
          "output_type": "execute_result",
          "data": {
            "text/plain": [
              "           Age   Income  WaistCirc      BMI  Albuminuria  UrAlbCr  UricAcid  \\\n",
              "count  2401.00  2284.00    2316.00  2375.00      2401.00  2401.00   2401.00   \n",
              "mean     48.69  4005.25      98.31    28.70         0.15    43.63      5.49   \n",
              "std      17.63  2954.03      16.25     6.66         0.42   258.27      1.44   \n",
              "min      20.00   300.00      56.20    13.40         0.00     1.40      1.80   \n",
              "25%      34.00  1600.00      86.68    24.00         0.00     4.45      4.50   \n",
              "50%      48.00  2500.00      97.00    27.70         0.00     7.07      5.40   \n",
              "75%      63.00  6200.00     107.62    32.10         0.00    13.69      6.40   \n",
              "max      80.00  9000.00     176.00    68.70         2.00  5928.00     11.30   \n",
              "\n",
              "       BloodGlucose      HDL  Triglycerides  \n",
              "count       2401.00  2401.00        2401.00  \n",
              "mean         108.25    53.37         128.13  \n",
              "std           34.82    15.19          95.32  \n",
              "min           39.00    14.00          26.00  \n",
              "25%           92.00    43.00          75.00  \n",
              "50%           99.00    51.00         103.00  \n",
              "75%          110.00    62.00         150.00  \n",
              "max          382.00   156.00        1562.00  "
            ],
            "text/html": [
              "\n",
              "  <div id=\"df-a2d981ef-a7ef-45e2-806e-4953dd9cc60d\">\n",
              "    <div class=\"colab-df-container\">\n",
              "      <div>\n",
              "<style scoped>\n",
              "    .dataframe tbody tr th:only-of-type {\n",
              "        vertical-align: middle;\n",
              "    }\n",
              "\n",
              "    .dataframe tbody tr th {\n",
              "        vertical-align: top;\n",
              "    }\n",
              "\n",
              "    .dataframe thead th {\n",
              "        text-align: right;\n",
              "    }\n",
              "</style>\n",
              "<table border=\"1\" class=\"dataframe\">\n",
              "  <thead>\n",
              "    <tr style=\"text-align: right;\">\n",
              "      <th></th>\n",
              "      <th>Age</th>\n",
              "      <th>Income</th>\n",
              "      <th>WaistCirc</th>\n",
              "      <th>BMI</th>\n",
              "      <th>Albuminuria</th>\n",
              "      <th>UrAlbCr</th>\n",
              "      <th>UricAcid</th>\n",
              "      <th>BloodGlucose</th>\n",
              "      <th>HDL</th>\n",
              "      <th>Triglycerides</th>\n",
              "    </tr>\n",
              "  </thead>\n",
              "  <tbody>\n",
              "    <tr>\n",
              "      <th>count</th>\n",
              "      <td>2401.00</td>\n",
              "      <td>2284.00</td>\n",
              "      <td>2316.00</td>\n",
              "      <td>2375.00</td>\n",
              "      <td>2401.00</td>\n",
              "      <td>2401.00</td>\n",
              "      <td>2401.00</td>\n",
              "      <td>2401.00</td>\n",
              "      <td>2401.00</td>\n",
              "      <td>2401.00</td>\n",
              "    </tr>\n",
              "    <tr>\n",
              "      <th>mean</th>\n",
              "      <td>48.69</td>\n",
              "      <td>4005.25</td>\n",
              "      <td>98.31</td>\n",
              "      <td>28.70</td>\n",
              "      <td>0.15</td>\n",
              "      <td>43.63</td>\n",
              "      <td>5.49</td>\n",
              "      <td>108.25</td>\n",
              "      <td>53.37</td>\n",
              "      <td>128.13</td>\n",
              "    </tr>\n",
              "    <tr>\n",
              "      <th>std</th>\n",
              "      <td>17.63</td>\n",
              "      <td>2954.03</td>\n",
              "      <td>16.25</td>\n",
              "      <td>6.66</td>\n",
              "      <td>0.42</td>\n",
              "      <td>258.27</td>\n",
              "      <td>1.44</td>\n",
              "      <td>34.82</td>\n",
              "      <td>15.19</td>\n",
              "      <td>95.32</td>\n",
              "    </tr>\n",
              "    <tr>\n",
              "      <th>min</th>\n",
              "      <td>20.00</td>\n",
              "      <td>300.00</td>\n",
              "      <td>56.20</td>\n",
              "      <td>13.40</td>\n",
              "      <td>0.00</td>\n",
              "      <td>1.40</td>\n",
              "      <td>1.80</td>\n",
              "      <td>39.00</td>\n",
              "      <td>14.00</td>\n",
              "      <td>26.00</td>\n",
              "    </tr>\n",
              "    <tr>\n",
              "      <th>25%</th>\n",
              "      <td>34.00</td>\n",
              "      <td>1600.00</td>\n",
              "      <td>86.68</td>\n",
              "      <td>24.00</td>\n",
              "      <td>0.00</td>\n",
              "      <td>4.45</td>\n",
              "      <td>4.50</td>\n",
              "      <td>92.00</td>\n",
              "      <td>43.00</td>\n",
              "      <td>75.00</td>\n",
              "    </tr>\n",
              "    <tr>\n",
              "      <th>50%</th>\n",
              "      <td>48.00</td>\n",
              "      <td>2500.00</td>\n",
              "      <td>97.00</td>\n",
              "      <td>27.70</td>\n",
              "      <td>0.00</td>\n",
              "      <td>7.07</td>\n",
              "      <td>5.40</td>\n",
              "      <td>99.00</td>\n",
              "      <td>51.00</td>\n",
              "      <td>103.00</td>\n",
              "    </tr>\n",
              "    <tr>\n",
              "      <th>75%</th>\n",
              "      <td>63.00</td>\n",
              "      <td>6200.00</td>\n",
              "      <td>107.62</td>\n",
              "      <td>32.10</td>\n",
              "      <td>0.00</td>\n",
              "      <td>13.69</td>\n",
              "      <td>6.40</td>\n",
              "      <td>110.00</td>\n",
              "      <td>62.00</td>\n",
              "      <td>150.00</td>\n",
              "    </tr>\n",
              "    <tr>\n",
              "      <th>max</th>\n",
              "      <td>80.00</td>\n",
              "      <td>9000.00</td>\n",
              "      <td>176.00</td>\n",
              "      <td>68.70</td>\n",
              "      <td>2.00</td>\n",
              "      <td>5928.00</td>\n",
              "      <td>11.30</td>\n",
              "      <td>382.00</td>\n",
              "      <td>156.00</td>\n",
              "      <td>1562.00</td>\n",
              "    </tr>\n",
              "  </tbody>\n",
              "</table>\n",
              "</div>\n",
              "      <button class=\"colab-df-convert\" onclick=\"convertToInteractive('df-a2d981ef-a7ef-45e2-806e-4953dd9cc60d')\"\n",
              "              title=\"Convert this dataframe to an interactive table.\"\n",
              "              style=\"display:none;\">\n",
              "        \n",
              "  <svg xmlns=\"http://www.w3.org/2000/svg\" height=\"24px\"viewBox=\"0 0 24 24\"\n",
              "       width=\"24px\">\n",
              "    <path d=\"M0 0h24v24H0V0z\" fill=\"none\"/>\n",
              "    <path d=\"M18.56 5.44l.94 2.06.94-2.06 2.06-.94-2.06-.94-.94-2.06-.94 2.06-2.06.94zm-11 1L8.5 8.5l.94-2.06 2.06-.94-2.06-.94L8.5 2.5l-.94 2.06-2.06.94zm10 10l.94 2.06.94-2.06 2.06-.94-2.06-.94-.94-2.06-.94 2.06-2.06.94z\"/><path d=\"M17.41 7.96l-1.37-1.37c-.4-.4-.92-.59-1.43-.59-.52 0-1.04.2-1.43.59L10.3 9.45l-7.72 7.72c-.78.78-.78 2.05 0 2.83L4 21.41c.39.39.9.59 1.41.59.51 0 1.02-.2 1.41-.59l7.78-7.78 2.81-2.81c.8-.78.8-2.07 0-2.86zM5.41 20L4 18.59l7.72-7.72 1.47 1.35L5.41 20z\"/>\n",
              "  </svg>\n",
              "      </button>\n",
              "      \n",
              "  <style>\n",
              "    .colab-df-container {\n",
              "      display:flex;\n",
              "      flex-wrap:wrap;\n",
              "      gap: 12px;\n",
              "    }\n",
              "\n",
              "    .colab-df-convert {\n",
              "      background-color: #E8F0FE;\n",
              "      border: none;\n",
              "      border-radius: 50%;\n",
              "      cursor: pointer;\n",
              "      display: none;\n",
              "      fill: #1967D2;\n",
              "      height: 32px;\n",
              "      padding: 0 0 0 0;\n",
              "      width: 32px;\n",
              "    }\n",
              "\n",
              "    .colab-df-convert:hover {\n",
              "      background-color: #E2EBFA;\n",
              "      box-shadow: 0px 1px 2px rgba(60, 64, 67, 0.3), 0px 1px 3px 1px rgba(60, 64, 67, 0.15);\n",
              "      fill: #174EA6;\n",
              "    }\n",
              "\n",
              "    [theme=dark] .colab-df-convert {\n",
              "      background-color: #3B4455;\n",
              "      fill: #D2E3FC;\n",
              "    }\n",
              "\n",
              "    [theme=dark] .colab-df-convert:hover {\n",
              "      background-color: #434B5C;\n",
              "      box-shadow: 0px 1px 3px 1px rgba(0, 0, 0, 0.15);\n",
              "      filter: drop-shadow(0px 1px 2px rgba(0, 0, 0, 0.3));\n",
              "      fill: #FFFFFF;\n",
              "    }\n",
              "  </style>\n",
              "\n",
              "      <script>\n",
              "        const buttonEl =\n",
              "          document.querySelector('#df-a2d981ef-a7ef-45e2-806e-4953dd9cc60d button.colab-df-convert');\n",
              "        buttonEl.style.display =\n",
              "          google.colab.kernel.accessAllowed ? 'block' : 'none';\n",
              "\n",
              "        async function convertToInteractive(key) {\n",
              "          const element = document.querySelector('#df-a2d981ef-a7ef-45e2-806e-4953dd9cc60d');\n",
              "          const dataTable =\n",
              "            await google.colab.kernel.invokeFunction('convertToInteractive',\n",
              "                                                     [key], {});\n",
              "          if (!dataTable) return;\n",
              "\n",
              "          const docLinkHtml = 'Like what you see? Visit the ' +\n",
              "            '<a target=\"_blank\" href=https://colab.research.google.com/notebooks/data_table.ipynb>data table notebook</a>'\n",
              "            + ' to learn more about interactive tables.';\n",
              "          element.innerHTML = '';\n",
              "          dataTable['output_type'] = 'display_data';\n",
              "          await google.colab.output.renderOutput(dataTable, element);\n",
              "          const docLink = document.createElement('div');\n",
              "          docLink.innerHTML = docLinkHtml;\n",
              "          element.appendChild(docLink);\n",
              "        }\n",
              "      </script>\n",
              "    </div>\n",
              "  </div>\n",
              "  "
            ]
          },
          "metadata": {},
          "execution_count": 36
        }
      ]
    },
    {
      "cell_type": "markdown",
      "source": [
        "- Albuminuria has 0.00 values for min, 25%, 50%, and 75%."
      ],
      "metadata": {
        "id": "7oZ2MVk0Gt8F"
      }
    },
    {
      "cell_type": "markdown",
      "source": [
        "##### **Albuminuria Column**"
      ],
      "metadata": {
        "id": "FG-kWJQgTzkB"
      }
    },
    {
      "cell_type": "code",
      "source": [
        "# Display the unique values and their counts.\n",
        "df['Albuminuria'].value_counts(ascending=False)"
      ],
      "metadata": {
        "colab": {
          "base_uri": "https://localhost:8080/"
        },
        "id": "gHvJ_eh2UBhK",
        "outputId": "55f6334e-f900-4255-dcf1-a3b10e8b92a1"
      },
      "execution_count": 37,
      "outputs": [
        {
          "output_type": "execute_result",
          "data": {
            "text/plain": [
              "0    2089\n",
              "1     254\n",
              "2      58\n",
              "Name: Albuminuria, dtype: int64"
            ]
          },
          "metadata": {},
          "execution_count": 37
        }
      ]
    },
    {
      "cell_type": "code",
      "source": [
        "# Display the unique values and their count percentages.\n",
        "df['Albuminuria'].value_counts(ascending=False, normalize = True)"
      ],
      "metadata": {
        "colab": {
          "base_uri": "https://localhost:8080/"
        },
        "id": "fc6M9H41US5g",
        "outputId": "465fdde6-9bd4-45e3-f800-709e1d6bcddc"
      },
      "execution_count": 38,
      "outputs": [
        {
          "output_type": "execute_result",
          "data": {
            "text/plain": [
              "0    0.870054\n",
              "1    0.105789\n",
              "2    0.024157\n",
              "Name: Albuminuria, dtype: float64"
            ]
          },
          "metadata": {},
          "execution_count": 38
        }
      ]
    },
    {
      "cell_type": "markdown",
      "source": [
        "- Albuminuria is an ordinal column with values of 0, 1, and 2.\n",
        "- It has a significant percentage count of 0 values."
      ],
      "metadata": {
        "id": "d8o4uEtaUHdL"
      }
    },
    {
      "cell_type": "markdown",
      "source": [
        "## **Exploratory Data Analysis**"
      ],
      "metadata": {
        "id": "NqfnRAP-jWdZ"
      }
    },
    {
      "cell_type": "markdown",
      "source": [
        "### **Numeric Columns**"
      ],
      "metadata": {
        "id": "DR5bJFxo4HDt"
      }
    },
    {
      "cell_type": "markdown",
      "source": [
        "#### **Summary**"
      ],
      "metadata": {
        "id": "FuAo4Uo3FxL7"
      }
    },
    {
      "cell_type": "code",
      "source": [
        "df.describe()"
      ],
      "metadata": {
        "id": "kraQODkRpF-F",
        "colab": {
          "base_uri": "https://localhost:8080/",
          "height": 364
        },
        "outputId": "6048c584-a9cf-4d73-e5fa-d45476f3d0bd"
      },
      "execution_count": 39,
      "outputs": [
        {
          "output_type": "execute_result",
          "data": {
            "text/plain": [
              "               Age       Income    WaistCirc          BMI  Albuminuria  \\\n",
              "count  2401.000000  2284.000000  2316.000000  2375.000000  2401.000000   \n",
              "mean     48.691795  4005.253940    98.307254    28.702189     0.154102   \n",
              "std      17.632852  2954.032186    16.252634     6.662242     0.422780   \n",
              "min      20.000000   300.000000    56.200000    13.400000     0.000000   \n",
              "25%      34.000000  1600.000000    86.675000    24.000000     0.000000   \n",
              "50%      48.000000  2500.000000    97.000000    27.700000     0.000000   \n",
              "75%      63.000000  6200.000000   107.625000    32.100000     0.000000   \n",
              "max      80.000000  9000.000000   176.000000    68.700000     2.000000   \n",
              "\n",
              "           UrAlbCr     UricAcid  BloodGlucose          HDL  Triglycerides  \n",
              "count  2401.000000  2401.000000   2401.000000  2401.000000    2401.000000  \n",
              "mean     43.626131     5.489046    108.247813    53.369429     128.125364  \n",
              "std     258.272829     1.439358     34.820657    15.185537      95.322477  \n",
              "min       1.400000     1.800000     39.000000    14.000000      26.000000  \n",
              "25%       4.450000     4.500000     92.000000    43.000000      75.000000  \n",
              "50%       7.070000     5.400000     99.000000    51.000000     103.000000  \n",
              "75%      13.690000     6.400000    110.000000    62.000000     150.000000  \n",
              "max    5928.000000    11.300000    382.000000   156.000000    1562.000000  "
            ],
            "text/html": [
              "\n",
              "  <div id=\"df-9990d6c9-bc2b-4159-932d-a5d1ea348ee6\">\n",
              "    <div class=\"colab-df-container\">\n",
              "      <div>\n",
              "<style scoped>\n",
              "    .dataframe tbody tr th:only-of-type {\n",
              "        vertical-align: middle;\n",
              "    }\n",
              "\n",
              "    .dataframe tbody tr th {\n",
              "        vertical-align: top;\n",
              "    }\n",
              "\n",
              "    .dataframe thead th {\n",
              "        text-align: right;\n",
              "    }\n",
              "</style>\n",
              "<table border=\"1\" class=\"dataframe\">\n",
              "  <thead>\n",
              "    <tr style=\"text-align: right;\">\n",
              "      <th></th>\n",
              "      <th>Age</th>\n",
              "      <th>Income</th>\n",
              "      <th>WaistCirc</th>\n",
              "      <th>BMI</th>\n",
              "      <th>Albuminuria</th>\n",
              "      <th>UrAlbCr</th>\n",
              "      <th>UricAcid</th>\n",
              "      <th>BloodGlucose</th>\n",
              "      <th>HDL</th>\n",
              "      <th>Triglycerides</th>\n",
              "    </tr>\n",
              "  </thead>\n",
              "  <tbody>\n",
              "    <tr>\n",
              "      <th>count</th>\n",
              "      <td>2401.000000</td>\n",
              "      <td>2284.000000</td>\n",
              "      <td>2316.000000</td>\n",
              "      <td>2375.000000</td>\n",
              "      <td>2401.000000</td>\n",
              "      <td>2401.000000</td>\n",
              "      <td>2401.000000</td>\n",
              "      <td>2401.000000</td>\n",
              "      <td>2401.000000</td>\n",
              "      <td>2401.000000</td>\n",
              "    </tr>\n",
              "    <tr>\n",
              "      <th>mean</th>\n",
              "      <td>48.691795</td>\n",
              "      <td>4005.253940</td>\n",
              "      <td>98.307254</td>\n",
              "      <td>28.702189</td>\n",
              "      <td>0.154102</td>\n",
              "      <td>43.626131</td>\n",
              "      <td>5.489046</td>\n",
              "      <td>108.247813</td>\n",
              "      <td>53.369429</td>\n",
              "      <td>128.125364</td>\n",
              "    </tr>\n",
              "    <tr>\n",
              "      <th>std</th>\n",
              "      <td>17.632852</td>\n",
              "      <td>2954.032186</td>\n",
              "      <td>16.252634</td>\n",
              "      <td>6.662242</td>\n",
              "      <td>0.422780</td>\n",
              "      <td>258.272829</td>\n",
              "      <td>1.439358</td>\n",
              "      <td>34.820657</td>\n",
              "      <td>15.185537</td>\n",
              "      <td>95.322477</td>\n",
              "    </tr>\n",
              "    <tr>\n",
              "      <th>min</th>\n",
              "      <td>20.000000</td>\n",
              "      <td>300.000000</td>\n",
              "      <td>56.200000</td>\n",
              "      <td>13.400000</td>\n",
              "      <td>0.000000</td>\n",
              "      <td>1.400000</td>\n",
              "      <td>1.800000</td>\n",
              "      <td>39.000000</td>\n",
              "      <td>14.000000</td>\n",
              "      <td>26.000000</td>\n",
              "    </tr>\n",
              "    <tr>\n",
              "      <th>25%</th>\n",
              "      <td>34.000000</td>\n",
              "      <td>1600.000000</td>\n",
              "      <td>86.675000</td>\n",
              "      <td>24.000000</td>\n",
              "      <td>0.000000</td>\n",
              "      <td>4.450000</td>\n",
              "      <td>4.500000</td>\n",
              "      <td>92.000000</td>\n",
              "      <td>43.000000</td>\n",
              "      <td>75.000000</td>\n",
              "    </tr>\n",
              "    <tr>\n",
              "      <th>50%</th>\n",
              "      <td>48.000000</td>\n",
              "      <td>2500.000000</td>\n",
              "      <td>97.000000</td>\n",
              "      <td>27.700000</td>\n",
              "      <td>0.000000</td>\n",
              "      <td>7.070000</td>\n",
              "      <td>5.400000</td>\n",
              "      <td>99.000000</td>\n",
              "      <td>51.000000</td>\n",
              "      <td>103.000000</td>\n",
              "    </tr>\n",
              "    <tr>\n",
              "      <th>75%</th>\n",
              "      <td>63.000000</td>\n",
              "      <td>6200.000000</td>\n",
              "      <td>107.625000</td>\n",
              "      <td>32.100000</td>\n",
              "      <td>0.000000</td>\n",
              "      <td>13.690000</td>\n",
              "      <td>6.400000</td>\n",
              "      <td>110.000000</td>\n",
              "      <td>62.000000</td>\n",
              "      <td>150.000000</td>\n",
              "    </tr>\n",
              "    <tr>\n",
              "      <th>max</th>\n",
              "      <td>80.000000</td>\n",
              "      <td>9000.000000</td>\n",
              "      <td>176.000000</td>\n",
              "      <td>68.700000</td>\n",
              "      <td>2.000000</td>\n",
              "      <td>5928.000000</td>\n",
              "      <td>11.300000</td>\n",
              "      <td>382.000000</td>\n",
              "      <td>156.000000</td>\n",
              "      <td>1562.000000</td>\n",
              "    </tr>\n",
              "  </tbody>\n",
              "</table>\n",
              "</div>\n",
              "      <button class=\"colab-df-convert\" onclick=\"convertToInteractive('df-9990d6c9-bc2b-4159-932d-a5d1ea348ee6')\"\n",
              "              title=\"Convert this dataframe to an interactive table.\"\n",
              "              style=\"display:none;\">\n",
              "        \n",
              "  <svg xmlns=\"http://www.w3.org/2000/svg\" height=\"24px\"viewBox=\"0 0 24 24\"\n",
              "       width=\"24px\">\n",
              "    <path d=\"M0 0h24v24H0V0z\" fill=\"none\"/>\n",
              "    <path d=\"M18.56 5.44l.94 2.06.94-2.06 2.06-.94-2.06-.94-.94-2.06-.94 2.06-2.06.94zm-11 1L8.5 8.5l.94-2.06 2.06-.94-2.06-.94L8.5 2.5l-.94 2.06-2.06.94zm10 10l.94 2.06.94-2.06 2.06-.94-2.06-.94-.94-2.06-.94 2.06-2.06.94z\"/><path d=\"M17.41 7.96l-1.37-1.37c-.4-.4-.92-.59-1.43-.59-.52 0-1.04.2-1.43.59L10.3 9.45l-7.72 7.72c-.78.78-.78 2.05 0 2.83L4 21.41c.39.39.9.59 1.41.59.51 0 1.02-.2 1.41-.59l7.78-7.78 2.81-2.81c.8-.78.8-2.07 0-2.86zM5.41 20L4 18.59l7.72-7.72 1.47 1.35L5.41 20z\"/>\n",
              "  </svg>\n",
              "      </button>\n",
              "      \n",
              "  <style>\n",
              "    .colab-df-container {\n",
              "      display:flex;\n",
              "      flex-wrap:wrap;\n",
              "      gap: 12px;\n",
              "    }\n",
              "\n",
              "    .colab-df-convert {\n",
              "      background-color: #E8F0FE;\n",
              "      border: none;\n",
              "      border-radius: 50%;\n",
              "      cursor: pointer;\n",
              "      display: none;\n",
              "      fill: #1967D2;\n",
              "      height: 32px;\n",
              "      padding: 0 0 0 0;\n",
              "      width: 32px;\n",
              "    }\n",
              "\n",
              "    .colab-df-convert:hover {\n",
              "      background-color: #E2EBFA;\n",
              "      box-shadow: 0px 1px 2px rgba(60, 64, 67, 0.3), 0px 1px 3px 1px rgba(60, 64, 67, 0.15);\n",
              "      fill: #174EA6;\n",
              "    }\n",
              "\n",
              "    [theme=dark] .colab-df-convert {\n",
              "      background-color: #3B4455;\n",
              "      fill: #D2E3FC;\n",
              "    }\n",
              "\n",
              "    [theme=dark] .colab-df-convert:hover {\n",
              "      background-color: #434B5C;\n",
              "      box-shadow: 0px 1px 3px 1px rgba(0, 0, 0, 0.15);\n",
              "      filter: drop-shadow(0px 1px 2px rgba(0, 0, 0, 0.3));\n",
              "      fill: #FFFFFF;\n",
              "    }\n",
              "  </style>\n",
              "\n",
              "      <script>\n",
              "        const buttonEl =\n",
              "          document.querySelector('#df-9990d6c9-bc2b-4159-932d-a5d1ea348ee6 button.colab-df-convert');\n",
              "        buttonEl.style.display =\n",
              "          google.colab.kernel.accessAllowed ? 'block' : 'none';\n",
              "\n",
              "        async function convertToInteractive(key) {\n",
              "          const element = document.querySelector('#df-9990d6c9-bc2b-4159-932d-a5d1ea348ee6');\n",
              "          const dataTable =\n",
              "            await google.colab.kernel.invokeFunction('convertToInteractive',\n",
              "                                                     [key], {});\n",
              "          if (!dataTable) return;\n",
              "\n",
              "          const docLinkHtml = 'Like what you see? Visit the ' +\n",
              "            '<a target=\"_blank\" href=https://colab.research.google.com/notebooks/data_table.ipynb>data table notebook</a>'\n",
              "            + ' to learn more about interactive tables.';\n",
              "          element.innerHTML = '';\n",
              "          dataTable['output_type'] = 'display_data';\n",
              "          await google.colab.output.renderOutput(dataTable, element);\n",
              "          const docLink = document.createElement('div');\n",
              "          docLink.innerHTML = docLinkHtml;\n",
              "          element.appendChild(docLink);\n",
              "        }\n",
              "      </script>\n",
              "    </div>\n",
              "  </div>\n",
              "  "
            ]
          },
          "metadata": {},
          "execution_count": 39
        }
      ]
    },
    {
      "cell_type": "code",
      "source": [
        "df.hist(figsize=(16,12), bins=30)\n",
        "plt.tight_layout()\n",
        "plt.show;"
      ],
      "metadata": {
        "id": "vGurkLnSHkXt",
        "colab": {
          "base_uri": "https://localhost:8080/",
          "height": 723
        },
        "outputId": "cd6084dd-76a0-4e84-c344-1e2fcaab47ce"
      },
      "execution_count": 40,
      "outputs": [
        {
          "output_type": "display_data",
          "data": {
            "text/plain": [
              "<Figure size 1152x864 with 12 Axes>"
            ],
            "image/png": "[encoded data removed]"
          },
          "metadata": {
            "needs_background": "light"
          }
        }
      ]
    },
    {
      "cell_type": "markdown",
      "source": [
        "#### **Age**"
      ],
      "metadata": {
        "id": "yOy_kXUVVctC"
      }
    },
    {
      "cell_type": "code",
      "source": [
        "# Display column statistics.\n",
        "df.Age.describe()"
      ],
      "metadata": {
        "colab": {
          "base_uri": "https://localhost:8080/"
        },
        "id": "JwynJ9Pn8WDF",
        "outputId": "8ac9e931-de15-485d-b5cd-e3f18c0cbe08"
      },
      "execution_count": 41,
      "outputs": [
        {
          "output_type": "execute_result",
          "data": {
            "text/plain": [
              "count    2401.000000\n",
              "mean       48.691795\n",
              "std        17.632852\n",
              "min        20.000000\n",
              "25%        34.000000\n",
              "50%        48.000000\n",
              "75%        63.000000\n",
              "max        80.000000\n",
              "Name: Age, dtype: float64"
            ]
          },
          "metadata": {},
          "execution_count": 41
        }
      ]
    },
    {
      "cell_type": "code",
      "source": [
        "# Display column statistics.\n",
        "column_statistics('Age')"
      ],
      "metadata": {
        "colab": {
          "base_uri": "https://localhost:8080/"
        },
        "id": "JI4B8QY-C-V6",
        "outputId": "d3999e3a-0977-48ba-b7c2-cf7aa78654f8"
      },
      "execution_count": 42,
      "outputs": [
        {
          "output_type": "stream",
          "name": "stdout",
          "text": [
            "Missing Values: 0 (0.0)%\n",
            "Outliers: 0 (0.0)% low, 0 (0.0)% high\n",
            "Unique values: 61\n"
          ]
        }
      ]
    },
    {
      "cell_type": "code",
      "source": [
        "plt.figure(figsize = (12,4))\n",
        "sns.histplot(data=df, x='Age', color='#069AF3', bins=100); \n",
        "plt.title('Age Distribution', fontsize = 22, weight='bold')\n",
        "plt.xlabel('Age', fontsize = 16, weight='bold')\n",
        "plt.ylabel('Item Count', fontsize = 16, weight='bold');\n",
        "plt.xticks(fontsize = 10, weight='bold', rotation=30)\n",
        "plt.yticks(fontsize = 10, weight='bold');\n",
        "plt.tight_layout()\n",
        "plt.show;"
      ],
      "metadata": {
        "colab": {
          "base_uri": "https://localhost:8080/",
          "height": 297
        },
        "outputId": "cc3f8e4e-1930-46c6-95ee-0d5bfa2638e7",
        "id": "SCSz3NeYVctD"
      },
      "execution_count": 43,
      "outputs": [
        {
          "output_type": "display_data",
          "data": {
            "text/plain": [
              "<Figure size 864x288 with 1 Axes>"
            ],
            "image/png": "[encoded data removed]"
          },
          "metadata": {
            "needs_background": "light"
          }
        }
      ]
    },
    {
      "cell_type": "code",
      "source": [
        "plt.figure(figsize = (12, 2))\n",
        "sns.boxplot(data=df, x='Age', color='#069AF3'); \n",
        "plt.title('Age Distribution', fontsize = 22, weight='bold')\n",
        "plt.xlabel('Age', fontsize = 16, weight='bold')\n",
        "plt.xticks(fontsize = 10, weight='bold', rotation=0)\n",
        "plt.tight_layout()\n",
        "plt.show;"
      ],
      "metadata": {
        "id": "Z7I4mRVGVctD",
        "colab": {
          "base_uri": "https://localhost:8080/",
          "height": 153
        },
        "outputId": "5c32e2ac-893f-455b-e88b-a9021d80cb76"
      },
      "execution_count": 44,
      "outputs": [
        {
          "output_type": "display_data",
          "data": {
            "text/plain": [
              "<Figure size 864x144 with 1 Axes>"
            ],
            "image/png": "[encoded data removed]"
          },
          "metadata": {
            "needs_background": "light"
          }
        }
      ]
    },
    {
      "cell_type": "markdown",
      "source": [
        "- **Dispersion** - 'Age' is fairly evenly dispersed, with the excepton of the 79 year old value which is extremely high relative to other ages.\n",
        "- **Skew** - 'Age' does not appear to be skewed.\n",
        "- **Outliers** - 'Age' does not have any outliers.\n"
      ],
      "metadata": {
        "id": "p4VOHes8VctE"
      }
    },
    {
      "cell_type": "markdown",
      "source": [
        "#### **Income**"
      ],
      "metadata": {
        "id": "uEH1IXdDVdDF"
      }
    },
    {
      "cell_type": "code",
      "source": [
        "# Display column statistics.\n",
        "df.Income.describe()"
      ],
      "metadata": {
        "colab": {
          "base_uri": "https://localhost:8080/"
        },
        "id": "q_3FfjGT8yCV",
        "outputId": "9e8bb29a-35f7-46a8-df4d-a93cb1b40234"
      },
      "execution_count": 45,
      "outputs": [
        {
          "output_type": "execute_result",
          "data": {
            "text/plain": [
              "count    2284.000000\n",
              "mean     4005.253940\n",
              "std      2954.032186\n",
              "min       300.000000\n",
              "25%      1600.000000\n",
              "50%      2500.000000\n",
              "75%      6200.000000\n",
              "max      9000.000000\n",
              "Name: Income, dtype: float64"
            ]
          },
          "metadata": {},
          "execution_count": 45
        }
      ]
    },
    {
      "cell_type": "code",
      "source": [
        "# Display column statistics.\n",
        "column_statistics('Income')"
      ],
      "metadata": {
        "colab": {
          "base_uri": "https://localhost:8080/"
        },
        "id": "3xgQKafkDDHG",
        "outputId": "794f9a8d-48ac-4756-e6ce-518c671aa44d"
      },
      "execution_count": 46,
      "outputs": [
        {
          "output_type": "stream",
          "name": "stdout",
          "text": [
            "Missing Values: 117 (4.9)%\n",
            "Outliers: 0 (0.0)% low, 0 (0.0)% high\n",
            "Unique values: 14\n",
            "9000.0    337\n",
            "2500.0    257\n",
            "3500.0    228\n",
            "1000.0    210\n",
            "2000.0    207\n",
            "1600.0    190\n",
            "8200.0    178\n",
            "6200.0    138\n",
            "4500.0    136\n",
            "800.0     123\n",
            "NaN       117\n",
            "5400.0    103\n",
            "300.0      93\n",
            "1700.0     54\n",
            "1500.0     30\n",
            "Name: Income, dtype: int64\n"
          ]
        }
      ]
    },
    {
      "cell_type": "code",
      "source": [
        "plt.figure(figsize = (12,4))\n",
        "sns.histplot(data=df, x='Income', color='#069AF3', bins=20); \n",
        "plt.title('Income Distribution', fontsize = 22, weight='bold')\n",
        "plt.xlabel('Income', fontsize = 16, weight='bold')\n",
        "plt.ylabel('Income Count', fontsize = 16, weight='bold');\n",
        "plt.xticks(fontsize = 10, weight='bold', rotation=0)\n",
        "plt.yticks(fontsize = 10, weight='bold');\n",
        "plt.tight_layout()\n",
        "plt.show;"
      ],
      "metadata": {
        "colab": {
          "base_uri": "https://localhost:8080/",
          "height": 297
        },
        "outputId": "6af0263d-73f0-43bc-dba5-0d88555783f4",
        "id": "gMT3utkvVdDG"
      },
      "execution_count": 47,
      "outputs": [
        {
          "output_type": "display_data",
          "data": {
            "text/plain": [
              "<Figure size 864x288 with 1 Axes>"
            ],
            "image/png": "[encoded data removed]"
          },
          "metadata": {
            "needs_background": "light"
          }
        }
      ]
    },
    {
      "cell_type": "code",
      "source": [
        "plt.figure(figsize = (12, 2))\n",
        "sns.boxplot(data=df, x='Income', color='#069AF3'); \n",
        "plt.title('Income Distribution', fontsize = 22, weight='bold')\n",
        "plt.xlabel('Income', fontsize = 16, weight='bold')\n",
        "plt.xticks(fontsize = 10, weight='bold', rotation=0)\n",
        "plt.tight_layout()\n",
        "plt.show;"
      ],
      "metadata": {
        "colab": {
          "base_uri": "https://localhost:8080/",
          "height": 153
        },
        "id": "ieXUUGGsVdDG",
        "outputId": "59350c49-faf8-4445-f524-eae76adb8552"
      },
      "execution_count": 48,
      "outputs": [
        {
          "output_type": "display_data",
          "data": {
            "text/plain": [
              "<Figure size 864x144 with 1 Axes>"
            ],
            "image/png": "[encoded data removed]"
          },
          "metadata": {
            "needs_background": "light"
          }
        }
      ]
    },
    {
      "cell_type": "markdown",
      "source": [
        "- **Dispersion** - 'Income' only has 14 unique values, and is not evenly dispersed.\n",
        "- **Skew** - 'Income' is postively skewed.\n",
        "- **Outliers** - 'Income' does not have any outliers."
      ],
      "metadata": {
        "id": "vlRJFsx1VdDH"
      }
    },
    {
      "cell_type": "markdown",
      "source": [
        "#### **WaistCirc**"
      ],
      "metadata": {
        "id": "XZpSLNhkVdN1"
      }
    },
    {
      "cell_type": "code",
      "source": [
        "# Display column statistics.\n",
        "column_statistics('WaistCirc')"
      ],
      "metadata": {
        "colab": {
          "base_uri": "https://localhost:8080/"
        },
        "id": "RGaAl-dp862T",
        "outputId": "d4b533dd-81a5-41da-8302-8d10c1f4ae17"
      },
      "execution_count": 49,
      "outputs": [
        {
          "output_type": "stream",
          "name": "stdout",
          "text": [
            "Missing Values: 85 (3.5)%\n",
            "Outliers: 0 (0.0)% low, 44 (1.8)% high\n",
            "Unique values: 635\n"
          ]
        }
      ]
    },
    {
      "cell_type": "code",
      "source": [
        "column_statistics('WaistCirc')"
      ],
      "metadata": {
        "colab": {
          "base_uri": "https://localhost:8080/"
        },
        "id": "dDb9SQFRDGvz",
        "outputId": "8c6b2078-575d-4dee-f396-d63584d2a226"
      },
      "execution_count": 50,
      "outputs": [
        {
          "output_type": "stream",
          "name": "stdout",
          "text": [
            "Missing Values: 85 (3.5)%\n",
            "Outliers: 0 (0.0)% low, 44 (1.8)% high\n",
            "Unique values: 635\n"
          ]
        }
      ]
    },
    {
      "cell_type": "code",
      "source": [
        "plt.figure(figsize = (12,4))\n",
        "sns.histplot(data=df, x='WaistCirc', color='#069AF3', bins=100); \n",
        "plt.title('WaistCirc Distribution', fontsize = 22, weight='bold')\n",
        "plt.xlabel('WaistCirc', fontsize = 16, weight='bold')\n",
        "plt.ylabel('WaistCirc Count', fontsize = 16, weight='bold');\n",
        "plt.xticks(fontsize = 10, weight='bold', rotation=0)\n",
        "plt.yticks(fontsize = 10, weight='bold');\n",
        "plt.tight_layout()\n",
        "plt.show;"
      ],
      "metadata": {
        "colab": {
          "base_uri": "https://localhost:8080/",
          "height": 297
        },
        "outputId": "ab2a2483-e0d9-41f8-a49f-ab1d89669715",
        "id": "qkEDpQuaVdN1"
      },
      "execution_count": 51,
      "outputs": [
        {
          "output_type": "display_data",
          "data": {
            "text/plain": [
              "<Figure size 864x288 with 1 Axes>"
            ],
            "image/png": "[encoded data removed]"
          },
          "metadata": {
            "needs_background": "light"
          }
        }
      ]
    },
    {
      "cell_type": "code",
      "source": [
        "plt.figure(figsize = (12, 2))\n",
        "\n",
        "sns.boxplot(data=df, x='WaistCirc', color='#069AF3'); \n",
        "\n",
        "plt.title('WaistCirc Distribution', fontsize = 22, weight='bold')\n",
        "plt.xlabel('WaistCirc', fontsize = 16, weight='bold')\n",
        "plt.xticks(fontsize = 10, weight='bold', rotation=0)\n",
        "\n",
        "plt.tight_layout()\n",
        "plt.show;"
      ],
      "metadata": {
        "colab": {
          "base_uri": "https://localhost:8080/",
          "height": 153
        },
        "id": "7hdSXKmhVdN2",
        "outputId": "054745d9-ac4b-4034-b97d-985873b254f6"
      },
      "execution_count": 52,
      "outputs": [
        {
          "output_type": "display_data",
          "data": {
            "text/plain": [
              "<Figure size 864x144 with 1 Axes>"
            ],
            "image/png": "[encoded data removed]"
          },
          "metadata": {
            "needs_background": "light"
          }
        }
      ]
    },
    {
      "cell_type": "markdown",
      "source": [
        "- **Dispersion** - 'WaistCirc' is fairly evenly dispersed.\n",
        "- **Skew** - 'WaistCirc' does not appear to be skewed.\n",
        "- **Outliers** - 'WaistCirc' has 44 (1.8%) outliers on the high side. "
      ],
      "metadata": {
        "id": "mREOVtilVdN2"
      }
    },
    {
      "cell_type": "markdown",
      "source": [
        "#### **BMI**"
      ],
      "metadata": {
        "id": "vSf7bqf6VdYC"
      }
    },
    {
      "cell_type": "code",
      "source": [
        "# Display column statistics.\n",
        "df.BMI.describe()"
      ],
      "metadata": {
        "colab": {
          "base_uri": "https://localhost:8080/"
        },
        "id": "at9M1PVY8925",
        "outputId": "fc5072d9-1b7b-4850-cc9c-ba3d6b4c23db"
      },
      "execution_count": 53,
      "outputs": [
        {
          "output_type": "execute_result",
          "data": {
            "text/plain": [
              "count    2375.000000\n",
              "mean       28.702189\n",
              "std         6.662242\n",
              "min        13.400000\n",
              "25%        24.000000\n",
              "50%        27.700000\n",
              "75%        32.100000\n",
              "max        68.700000\n",
              "Name: BMI, dtype: float64"
            ]
          },
          "metadata": {},
          "execution_count": 53
        }
      ]
    },
    {
      "cell_type": "code",
      "source": [
        "# Display column statistics.\n",
        "column_statistics('BMI')"
      ],
      "metadata": {
        "colab": {
          "base_uri": "https://localhost:8080/"
        },
        "id": "p25mlRmsDNAk",
        "outputId": "71ea7e6c-6679-479c-b03b-b787febe5127"
      },
      "execution_count": 54,
      "outputs": [
        {
          "output_type": "stream",
          "name": "stdout",
          "text": [
            "Missing Values: 26 (1.1)%\n",
            "Outliers: 0 (0.0)% low, 67 (2.8)% high\n",
            "Unique values: 322\n"
          ]
        }
      ]
    },
    {
      "cell_type": "code",
      "source": [
        "plt.figure(figsize = (12,4))\n",
        "sns.histplot(data=df, x='BMI', color='#069AF3', bins=100); \n",
        "plt.title('BMI Distribution', fontsize = 22, weight='bold')\n",
        "plt.xlabel('BMI', fontsize = 16, weight='bold')\n",
        "plt.ylabel('Item Count', fontsize = 16, weight='bold');\n",
        "plt.xticks(fontsize = 10, weight='bold', rotation=0)\n",
        "plt.yticks(fontsize = 10, weight='bold');\n",
        "plt.tight_layout()\n",
        "plt.show;"
      ],
      "metadata": {
        "colab": {
          "base_uri": "https://localhost:8080/",
          "height": 297
        },
        "outputId": "5eb3a2f2-1f8d-4e66-a703-21239ef9ae39",
        "id": "FOkKJC9eVdYD"
      },
      "execution_count": 55,
      "outputs": [
        {
          "output_type": "display_data",
          "data": {
            "text/plain": [
              "<Figure size 864x288 with 1 Axes>"
            ],
            "image/png": "[encoded data removed]"
          },
          "metadata": {
            "needs_background": "light"
          }
        }
      ]
    },
    {
      "cell_type": "code",
      "source": [
        "plt.figure(figsize = (12, 2))\n",
        "sns.boxplot(data=df, x='BMI', color='#069AF3'); \n",
        "plt.title('BMI Distribution', fontsize = 22, weight='bold')\n",
        "plt.xlabel('BMI', fontsize = 16, weight='bold')\n",
        "plt.xticks(fontsize = 10, weight='bold', rotation=20)\n",
        "plt.tight_layout()\n",
        "plt.show;"
      ],
      "metadata": {
        "colab": {
          "base_uri": "https://localhost:8080/",
          "height": 153
        },
        "id": "EX6UFZPfVdYD",
        "outputId": "c424d919-2f58-4116-dabe-3ec76b7205c1"
      },
      "execution_count": 56,
      "outputs": [
        {
          "output_type": "display_data",
          "data": {
            "text/plain": [
              "<Figure size 864x144 with 1 Axes>"
            ],
            "image/png": "[encoded data removed]"
          },
          "metadata": {
            "needs_background": "light"
          }
        }
      ]
    },
    {
      "cell_type": "markdown",
      "source": [
        "- **Dispersion** - 'WaistCirc' is fairly evenly dispersed.\n",
        "- **Skew** - 'WaistCirc' does not appear to be skewed.\n",
        "- **Outliers** - 'WaistCirc' has 67 (2.8%) outliers on the high side. "
      ],
      "metadata": {
        "id": "y__Mi0wIVdYE"
      }
    },
    {
      "cell_type": "markdown",
      "source": [
        "#### **Albuminuria**"
      ],
      "metadata": {
        "id": "owGwGFpSVdhH"
      }
    },
    {
      "cell_type": "code",
      "source": [
        "# Display column statistics.\n",
        "df.Albuminuria.describe()"
      ],
      "metadata": {
        "colab": {
          "base_uri": "https://localhost:8080/"
        },
        "id": "iE-TSv-59Ndj",
        "outputId": "0acbb88d-cf6d-4075-f999-ed6bad38a0c0"
      },
      "execution_count": 57,
      "outputs": [
        {
          "output_type": "execute_result",
          "data": {
            "text/plain": [
              "count    2401.000000\n",
              "mean        0.154102\n",
              "std         0.422780\n",
              "min         0.000000\n",
              "25%         0.000000\n",
              "50%         0.000000\n",
              "75%         0.000000\n",
              "max         2.000000\n",
              "Name: Albuminuria, dtype: float64"
            ]
          },
          "metadata": {},
          "execution_count": 57
        }
      ]
    },
    {
      "cell_type": "code",
      "source": [
        "# Display column statistics.\n",
        "column_statistics('Albuminuria')"
      ],
      "metadata": {
        "colab": {
          "base_uri": "https://localhost:8080/"
        },
        "id": "NnQZKyZqDS07",
        "outputId": "10f3843d-ebe6-49b2-cb31-7af3f66e45a1"
      },
      "execution_count": 58,
      "outputs": [
        {
          "output_type": "stream",
          "name": "stdout",
          "text": [
            "Missing Values: 0 (0.0)%\n",
            "Outliers: 0 (0.0)% low, 312 (13.0)% high\n",
            "Unique values: 3\n",
            "0    2089\n",
            "1     254\n",
            "2      58\n",
            "Name: Albuminuria, dtype: int64\n"
          ]
        }
      ]
    },
    {
      "cell_type": "code",
      "source": [
        "plt.figure(figsize = (12,4))\n",
        "sns.histplot(data=df, x='Albuminuria', color='#069AF3', bins=3); \n",
        "plt.title('Albuminuria Distribution', fontsize = 22, weight='bold')\n",
        "plt.xlabel('Albuminuria', fontsize = 16, weight='bold')\n",
        "plt.ylabel('Item Count', fontsize = 16, weight='bold');\n",
        "plt.xticks(fontsize = 10, weight='bold', rotation=0)\n",
        "plt.yticks(fontsize = 10, weight='bold');\n",
        "plt.tight_layout()\n",
        "plt.show;"
      ],
      "metadata": {
        "colab": {
          "base_uri": "https://localhost:8080/",
          "height": 297
        },
        "outputId": "dcb59133-9bc1-4f4f-f70d-599785d2b120",
        "id": "PqL2V06CVdhH"
      },
      "execution_count": 59,
      "outputs": [
        {
          "output_type": "display_data",
          "data": {
            "text/plain": [
              "<Figure size 864x288 with 1 Axes>"
            ],
            "image/png": "[encoded data removed]"
          },
          "metadata": {
            "needs_background": "light"
          }
        }
      ]
    },
    {
      "cell_type": "code",
      "source": [
        "plt.figure(figsize = (12, 2))\n",
        "sns.boxplot(data=df, x='Albuminuria', color='#069AF3'); \n",
        "plt.title('Albuminuria Distribution', fontsize = 22, weight='bold')\n",
        "plt.xlabel('Albuminuria', fontsize = 16, weight='bold')\n",
        "plt.xticks(fontsize = 10, weight='bold', rotation=0)\n",
        "plt.tight_layout()\n",
        "plt.show;"
      ],
      "metadata": {
        "colab": {
          "base_uri": "https://localhost:8080/",
          "height": 153
        },
        "id": "fIrhpftpVdhI",
        "outputId": "999c4920-3205-407e-f328-5f0eba7d1b67"
      },
      "execution_count": 60,
      "outputs": [
        {
          "output_type": "display_data",
          "data": {
            "text/plain": [
              "<Figure size 864x144 with 1 Axes>"
            ],
            "image/png": "[encoded data removed]"
          },
          "metadata": {
            "needs_background": "light"
          }
        }
      ]
    },
    {
      "cell_type": "markdown",
      "source": [
        "- Albuminuria is an ordinal column with values of 0, 1, and 2.\n",
        "- It has a significant count of '0' values relative to the '1' and '2' values.\n",
        "- **Outliers** - 'WaistCirc' has 312 (13.0%) outliers on the high side, this includes all of the '1' and '2' values."
      ],
      "metadata": {
        "id": "8GVLf4w2VdhI"
      }
    },
    {
      "cell_type": "markdown",
      "source": [
        "#### **UrAlbCr**"
      ],
      "metadata": {
        "id": "Hn5YWROrVdqb"
      }
    },
    {
      "cell_type": "code",
      "source": [
        "# Display column statistics.\n",
        "df.UrAlbCr.describe()"
      ],
      "metadata": {
        "colab": {
          "base_uri": "https://localhost:8080/"
        },
        "id": "s6-J98Br9Uo_",
        "outputId": "cb210922-730c-4383-e37d-5cc0e4be8fbb"
      },
      "execution_count": 61,
      "outputs": [
        {
          "output_type": "execute_result",
          "data": {
            "text/plain": [
              "count    2401.000000\n",
              "mean       43.626131\n",
              "std       258.272829\n",
              "min         1.400000\n",
              "25%         4.450000\n",
              "50%         7.070000\n",
              "75%        13.690000\n",
              "max      5928.000000\n",
              "Name: UrAlbCr, dtype: float64"
            ]
          },
          "metadata": {},
          "execution_count": 61
        }
      ]
    },
    {
      "cell_type": "code",
      "source": [
        "# Display column statistics.\n",
        "column_statistics('UrAlbCr')"
      ],
      "metadata": {
        "colab": {
          "base_uri": "https://localhost:8080/"
        },
        "id": "V7WBKrhbDZ8M",
        "outputId": "9a84de3c-1462-4319-d717-0195ddf75bc6"
      },
      "execution_count": 62,
      "outputs": [
        {
          "output_type": "stream",
          "name": "stdout",
          "text": [
            "Missing Values: 0 (0.0)%\n",
            "Outliers: 0 (0.0)% low, 332 (13.8)% high\n",
            "Unique values: 1383\n"
          ]
        }
      ]
    },
    {
      "cell_type": "code",
      "source": [
        "plt.figure(figsize = (12,4))\n",
        "sns.histplot(data=df, x='UrAlbCr', color='#069AF3', bins=100); \n",
        "plt.title('UrAlbCr Distribution', fontsize = 22, weight='bold')\n",
        "plt.xlabel('UrAlbCr', fontsize = 16, weight='bold')\n",
        "plt.ylabel('Item Count', fontsize = 16, weight='bold');\n",
        "plt.xticks(fontsize = 10, weight='bold', rotation=0)\n",
        "plt.yticks(fontsize = 10, weight='bold');\n",
        "plt.tight_layout()\n",
        "plt.show;"
      ],
      "metadata": {
        "colab": {
          "base_uri": "https://localhost:8080/",
          "height": 297
        },
        "outputId": "809d62cf-5523-4a67-f645-204f7ee97b02",
        "id": "ekVoG_QbVdqb"
      },
      "execution_count": 63,
      "outputs": [
        {
          "output_type": "display_data",
          "data": {
            "text/plain": [
              "<Figure size 864x288 with 1 Axes>"
            ],
            "image/png": "[encoded data removed]"
          },
          "metadata": {
            "needs_background": "light"
          }
        }
      ]
    },
    {
      "cell_type": "code",
      "source": [
        "plt.figure(figsize = (12, 2))\n",
        "sns.boxplot(data=df, x='UrAlbCr', color='#069AF3'); \n",
        "plt.title('UrAlbCr Distribution', fontsize = 22, weight='bold')\n",
        "plt.xlabel('UrAlbCr', fontsize = 16, weight='bold')\n",
        "plt.xticks(fontsize = 10, weight='bold', rotation=0)\n",
        "plt.tight_layout()\n",
        "plt.show;"
      ],
      "metadata": {
        "colab": {
          "base_uri": "https://localhost:8080/",
          "height": 153
        },
        "id": "_rdP9DUfVdqc",
        "outputId": "570012eb-b056-4b1d-bf29-1f3a47166ab0"
      },
      "execution_count": 64,
      "outputs": [
        {
          "output_type": "display_data",
          "data": {
            "text/plain": [
              "<Figure size 864x144 with 1 Axes>"
            ],
            "image/png": "[encoded data removed]"
          },
          "metadata": {
            "needs_background": "light"
          }
        }
      ]
    },
    {
      "cell_type": "markdown",
      "source": [
        "- **Dispersion** - 'UrAlbCr' has the majority or its values between 0 and 100.\n",
        "- **Outliers** - 'UrAlbCr' has 332 (13.8%) outliers on the high side. "
      ],
      "metadata": {
        "id": "5svr_871Vdqc"
      }
    },
    {
      "cell_type": "markdown",
      "source": [
        "#### **UricAcid**"
      ],
      "metadata": {
        "id": "CuuastPsVdzL"
      }
    },
    {
      "cell_type": "code",
      "source": [
        "# Display column statistics.\n",
        "df.UricAcid.describe()"
      ],
      "metadata": {
        "colab": {
          "base_uri": "https://localhost:8080/"
        },
        "id": "VpFLv8xm9dMP",
        "outputId": "2aa4603b-e950-4a67-817a-d0e6f1bdc0ac"
      },
      "execution_count": 65,
      "outputs": [
        {
          "output_type": "execute_result",
          "data": {
            "text/plain": [
              "count    2401.000000\n",
              "mean        5.489046\n",
              "std         1.439358\n",
              "min         1.800000\n",
              "25%         4.500000\n",
              "50%         5.400000\n",
              "75%         6.400000\n",
              "max        11.300000\n",
              "Name: UricAcid, dtype: float64"
            ]
          },
          "metadata": {},
          "execution_count": 65
        }
      ]
    },
    {
      "cell_type": "code",
      "source": [
        "# Display column statistics.\n",
        "column_statistics('UricAcid')"
      ],
      "metadata": {
        "colab": {
          "base_uri": "https://localhost:8080/"
        },
        "id": "u5iND1jtDgb_",
        "outputId": "3fe42988-b064-48ca-99e7-fdd9cbbb2e52"
      },
      "execution_count": 66,
      "outputs": [
        {
          "output_type": "stream",
          "name": "stdout",
          "text": [
            "Missing Values: 0 (0.0)%\n",
            "Outliers: 0 (0.0)% low, 30 (1.2)% high\n",
            "Unique values: 88\n"
          ]
        }
      ]
    },
    {
      "cell_type": "code",
      "source": [
        "plt.figure(figsize = (12,4))\n",
        "sns.histplot(data=df, x='UricAcid', color='#069AF3', bins=100); \n",
        "plt.title('UricAcid Distribution', fontsize = 22, weight='bold')\n",
        "plt.xlabel('UricAcid', fontsize = 16, weight='bold')\n",
        "plt.ylabel('Item Count', fontsize = 16, weight='bold');\n",
        "plt.xticks(fontsize = 10, weight='bold', rotation=00)\n",
        "plt.yticks(fontsize = 10, weight='bold');\n",
        "plt.tight_layout()\n",
        "plt.show;"
      ],
      "metadata": {
        "colab": {
          "base_uri": "https://localhost:8080/",
          "height": 297
        },
        "outputId": "313881fd-b394-4334-cf06-bca060b95f3f",
        "id": "TQDIYCy6VdzM"
      },
      "execution_count": 67,
      "outputs": [
        {
          "output_type": "display_data",
          "data": {
            "text/plain": [
              "<Figure size 864x288 with 1 Axes>"
            ],
            "image/png": "[encoded data removed]"
          },
          "metadata": {
            "needs_background": "light"
          }
        }
      ]
    },
    {
      "cell_type": "code",
      "source": [
        "plt.figure(figsize = (12, 2))\n",
        "sns.boxplot(data=df, x='UricAcid', color='#069AF3'); \n",
        "plt.title('UricAcid Distribution', fontsize = 22, weight='bold')\n",
        "plt.xlabel('UricAcid', fontsize = 16, weight='bold')\n",
        "plt.xticks(fontsize = 10, weight='bold', rotation=0)\n",
        "plt.tight_layout()\n",
        "plt.show;"
      ],
      "metadata": {
        "colab": {
          "base_uri": "https://localhost:8080/",
          "height": 153
        },
        "id": "RFkSItmmVdzM",
        "outputId": "e8261713-6d6a-460e-c5c2-c2ae7009af0c"
      },
      "execution_count": 68,
      "outputs": [
        {
          "output_type": "display_data",
          "data": {
            "text/plain": [
              "<Figure size 864x144 with 1 Axes>"
            ],
            "image/png": "[encoded data removed]"
          },
          "metadata": {
            "needs_background": "light"
          }
        }
      ]
    },
    {
      "cell_type": "markdown",
      "source": [
        "- **Dispersion** - 'UricAcid' is fairly evenly dispersed.\n",
        "- **Skew** - 'UricAcid' is not skewed.\n",
        "- **Outliers** - 'UricAcid' has 30 (1.2%) outliers in the high side."
      ],
      "metadata": {
        "id": "bQdujrlQVdzM"
      }
    },
    {
      "cell_type": "markdown",
      "source": [
        "#### **BloodGlucose**"
      ],
      "metadata": {
        "id": "s5AC_IeNVeGF"
      }
    },
    {
      "cell_type": "code",
      "source": [
        "# Display column statistics.\n",
        "df.BloodGlucose.describe()"
      ],
      "metadata": {
        "colab": {
          "base_uri": "https://localhost:8080/"
        },
        "id": "oJzCLU6B9lWa",
        "outputId": "26850722-2c87-4de0-f5a3-57f41b154575"
      },
      "execution_count": 69,
      "outputs": [
        {
          "output_type": "execute_result",
          "data": {
            "text/plain": [
              "count    2401.000000\n",
              "mean      108.247813\n",
              "std        34.820657\n",
              "min        39.000000\n",
              "25%        92.000000\n",
              "50%        99.000000\n",
              "75%       110.000000\n",
              "max       382.000000\n",
              "Name: BloodGlucose, dtype: float64"
            ]
          },
          "metadata": {},
          "execution_count": 69
        }
      ]
    },
    {
      "cell_type": "code",
      "source": [
        "# Display column statistics.\n",
        "column_statistics('BloodGlucose')"
      ],
      "metadata": {
        "colab": {
          "base_uri": "https://localhost:8080/"
        },
        "id": "gD7ah_gSDmpI",
        "outputId": "a4dc2c4d-cbf4-44ae-9bea-ac43808008b3"
      },
      "execution_count": 70,
      "outputs": [
        {
          "output_type": "stream",
          "name": "stdout",
          "text": [
            "Missing Values: 0 (0.0)%\n",
            "Outliers: 6 (0.2)% low, 214 (8.9)% high\n",
            "Unique values: 187\n"
          ]
        }
      ]
    },
    {
      "cell_type": "code",
      "source": [
        "plt.figure(figsize = (12,4))\n",
        "sns.histplot(data=df, x='BloodGlucose', color='#069AF3', bins=100); \n",
        "plt.title('BloodGlucose Distribution', fontsize = 22, weight='bold')\n",
        "plt.xlabel('BloodGlucose', fontsize = 16, weight='bold')\n",
        "plt.ylabel('Item Count', fontsize = 16, weight='bold');\n",
        "plt.xticks(fontsize = 10, weight='bold', rotation=0)\n",
        "plt.yticks(fontsize = 10, weight='bold');\n",
        "plt.tight_layout()\n",
        "plt.show;"
      ],
      "metadata": {
        "colab": {
          "base_uri": "https://localhost:8080/",
          "height": 297
        },
        "outputId": "115a3a64-dcdf-45f4-9286-2132cf3773b2",
        "id": "TY5Jj1FsVeGG"
      },
      "execution_count": 71,
      "outputs": [
        {
          "output_type": "display_data",
          "data": {
            "text/plain": [
              "<Figure size 864x288 with 1 Axes>"
            ],
            "image/png": "[encoded data removed]"
          },
          "metadata": {
            "needs_background": "light"
          }
        }
      ]
    },
    {
      "cell_type": "code",
      "source": [
        "plt.figure(figsize = (12, 2))\n",
        "sns.boxplot(data=df, x='BloodGlucose', color='#069AF3'); \n",
        "plt.title('BloodGlucose Distribution', fontsize = 22, weight='bold')\n",
        "plt.xlabel('BloodGlucose', fontsize = 16, weight='bold')\n",
        "plt.xticks(fontsize = 10, weight='bold', rotation=0)\n",
        "plt.tight_layout()\n",
        "plt.show;"
      ],
      "metadata": {
        "colab": {
          "base_uri": "https://localhost:8080/",
          "height": 153
        },
        "id": "2raOkOUzVeGG",
        "outputId": "3fedb162-0c1c-4ac7-90a3-b864586dd37d"
      },
      "execution_count": 72,
      "outputs": [
        {
          "output_type": "display_data",
          "data": {
            "text/plain": [
              "<Figure size 864x144 with 1 Axes>"
            ],
            "image/png": "[encoded data removed]"
          },
          "metadata": {
            "needs_background": "light"
          }
        }
      ]
    },
    {
      "cell_type": "markdown",
      "source": [
        "- **Dispersion** - 'BloodGlucose' is not evenly dispersed.\n",
        "- **Skew** - 'BloodGlucose' is slightly positively skewed.\n",
        "- **Outliers** - 'BloodGlucose' has 6 (0.2%) outliers on the low side, and 214 (8.9)% outliers on the high side."
      ],
      "metadata": {
        "id": "6-KAhrDOVeGG"
      }
    },
    {
      "cell_type": "markdown",
      "source": [
        "#### **HDL**"
      ],
      "metadata": {
        "id": "l33exiPzXJsm"
      }
    },
    {
      "cell_type": "code",
      "source": [
        "# Display column statistics.\n",
        "df.HDL.describe()"
      ],
      "metadata": {
        "colab": {
          "base_uri": "https://localhost:8080/"
        },
        "id": "c_nUH06F9tYW",
        "outputId": "2061932d-46c2-4339-e72a-29a8aa4a4a5b"
      },
      "execution_count": 73,
      "outputs": [
        {
          "output_type": "execute_result",
          "data": {
            "text/plain": [
              "count    2401.000000\n",
              "mean       53.369429\n",
              "std        15.185537\n",
              "min        14.000000\n",
              "25%        43.000000\n",
              "50%        51.000000\n",
              "75%        62.000000\n",
              "max       156.000000\n",
              "Name: HDL, dtype: float64"
            ]
          },
          "metadata": {},
          "execution_count": 73
        }
      ]
    },
    {
      "cell_type": "code",
      "source": [
        "# Display column statistics.\n",
        "column_statistics('HDL')"
      ],
      "metadata": {
        "colab": {
          "base_uri": "https://localhost:8080/"
        },
        "id": "uKPinaZ5Dt9_",
        "outputId": "759d7106-eb63-48e8-9dcc-b87b6c8e9449"
      },
      "execution_count": 74,
      "outputs": [
        {
          "output_type": "stream",
          "name": "stdout",
          "text": [
            "Missing Values: 0 (0.0)%\n",
            "Outliers: 1 (0.0)% low, 53 (2.2)% high\n",
            "Unique values: 93\n"
          ]
        }
      ]
    },
    {
      "cell_type": "code",
      "source": [
        "plt.figure(figsize = (12,4))\n",
        "sns.histplot(data=df, x='HDL', color='#069AF3', bins=100); \n",
        "plt.title('HDL Distribution', fontsize = 22, weight='bold')\n",
        "plt.xlabel('HDL', fontsize = 16, weight='bold')\n",
        "plt.ylabel('Item Count', fontsize = 16, weight='bold');\n",
        "plt.xticks(fontsize = 10, weight='bold', rotation=0)\n",
        "plt.yticks(fontsize = 10, weight='bold');\n",
        "plt.tight_layout()\n",
        "plt.show;"
      ],
      "metadata": {
        "colab": {
          "base_uri": "https://localhost:8080/",
          "height": 297
        },
        "outputId": "038a6631-f331-4537-b52b-55c5ca6c9d8a",
        "id": "UYduC8wUXJsq"
      },
      "execution_count": 75,
      "outputs": [
        {
          "output_type": "display_data",
          "data": {
            "text/plain": [
              "<Figure size 864x288 with 1 Axes>"
            ],
            "image/png": "[encoded data removed]"
          },
          "metadata": {
            "needs_background": "light"
          }
        }
      ]
    },
    {
      "cell_type": "code",
      "source": [
        "plt.figure(figsize = (12, 2))\n",
        "sns.boxplot(data=df, x='HDL', color='#069AF3'); \n",
        "plt.title('HDL Distribution', fontsize = 22, weight='bold')\n",
        "plt.xlabel('HDL', fontsize = 16, weight='bold')\n",
        "plt.xticks(fontsize = 10, weight='bold', rotation=0)\n",
        "plt.tight_layout()\n",
        "plt.show;"
      ],
      "metadata": {
        "colab": {
          "base_uri": "https://localhost:8080/",
          "height": 153
        },
        "outputId": "872484e8-4e99-4ddc-c23c-b966b5025972",
        "id": "fwq9tA4uXJsr"
      },
      "execution_count": 76,
      "outputs": [
        {
          "output_type": "display_data",
          "data": {
            "text/plain": [
              "<Figure size 864x144 with 1 Axes>"
            ],
            "image/png": "[encoded data removed]"
          },
          "metadata": {
            "needs_background": "light"
          }
        }
      ]
    },
    {
      "cell_type": "markdown",
      "source": [
        "- **Dispersion** - 'HDL' is not evenly dispersed.\n",
        "- **Skew** - 'HDL' is slightly positively skewed.\n",
        "- **Outliers** - 'HDL' has only 1 (0.0%) outlier on the low side, 53 (2.2%) outliers on the high side."
      ],
      "metadata": {
        "id": "p38OQlzoXJsr"
      }
    },
    {
      "cell_type": "markdown",
      "source": [
        "#### **Triglycerides**"
      ],
      "metadata": {
        "id": "FyMgDZswXKDv"
      }
    },
    {
      "cell_type": "code",
      "source": [
        "# Display column statistics.\n",
        "df.Triglycerides.describe()"
      ],
      "metadata": {
        "colab": {
          "base_uri": "https://localhost:8080/"
        },
        "id": "gP6vX8ZU902m",
        "outputId": "3d21363f-b6a6-42f3-b799-e4c8b0084f56"
      },
      "execution_count": 77,
      "outputs": [
        {
          "output_type": "execute_result",
          "data": {
            "text/plain": [
              "count    2401.000000\n",
              "mean      128.125364\n",
              "std        95.322477\n",
              "min        26.000000\n",
              "25%        75.000000\n",
              "50%       103.000000\n",
              "75%       150.000000\n",
              "max      1562.000000\n",
              "Name: Triglycerides, dtype: float64"
            ]
          },
          "metadata": {},
          "execution_count": 77
        }
      ]
    },
    {
      "cell_type": "code",
      "source": [
        "# Display column statistics.\n",
        "column_statistics('Triglycerides')"
      ],
      "metadata": {
        "colab": {
          "base_uri": "https://localhost:8080/"
        },
        "id": "tZKWBb2kD3i_",
        "outputId": "cd7d5c6a-d1a4-4d64-b4cd-624b2bc64131"
      },
      "execution_count": 78,
      "outputs": [
        {
          "output_type": "stream",
          "name": "stdout",
          "text": [
            "Missing Values: 0 (0.0)%\n",
            "Outliers: 0 (0.0)% low, 161 (6.7)% high\n",
            "Unique values: 345\n"
          ]
        }
      ]
    },
    {
      "cell_type": "code",
      "source": [
        "plt.figure(figsize = (12,4))\n",
        "sns.histplot(data=df, x='Triglycerides', color='#069AF3', bins=100); \n",
        "plt.title('Triglycerides Distribution', fontsize = 22, weight='bold')\n",
        "plt.xlabel('Triglycerides', fontsize = 16, weight='bold')\n",
        "plt.ylabel('Item Count', fontsize = 16, weight='bold');\n",
        "plt.xticks(fontsize = 10, weight='bold', rotation=0)\n",
        "plt.yticks(fontsize = 10, weight='bold');\n",
        "plt.tight_layout()\n",
        "plt.show;"
      ],
      "metadata": {
        "colab": {
          "base_uri": "https://localhost:8080/",
          "height": 297
        },
        "outputId": "2a7ea79e-c867-48f9-a753-ab1a3594af0c",
        "id": "MaTxOqUgXKDw"
      },
      "execution_count": 79,
      "outputs": [
        {
          "output_type": "display_data",
          "data": {
            "text/plain": [
              "<Figure size 864x288 with 1 Axes>"
            ],
            "image/png": "[encoded data removed]"
          },
          "metadata": {
            "needs_background": "light"
          }
        }
      ]
    },
    {
      "cell_type": "code",
      "source": [
        "plt.figure(figsize = (12, 2))\n",
        "sns.boxplot(data=df, x='Triglycerides', color='#069AF3'); \n",
        "plt.title('Triglycerides Distribution', fontsize = 22, weight='bold')\n",
        "plt.xlabel('Triglycerides', fontsize = 16, weight='bold')\n",
        "plt.xticks(fontsize = 10, weight='bold', rotation=0)\n",
        "plt.tight_layout()\n",
        "plt.show;"
      ],
      "metadata": {
        "colab": {
          "base_uri": "https://localhost:8080/",
          "height": 153
        },
        "outputId": "4a32f66c-1259-4056-d1ed-676e62809e7e",
        "id": "AyB2n-ZDXKDw"
      },
      "execution_count": 80,
      "outputs": [
        {
          "output_type": "display_data",
          "data": {
            "text/plain": [
              "<Figure size 864x144 with 1 Axes>"
            ],
            "image/png": "[encoded data removed]"
          },
          "metadata": {
            "needs_background": "light"
          }
        }
      ]
    },
    {
      "cell_type": "markdown",
      "source": [
        "- **Dispersion** - 'Triglycerides' is not evenly dispersed.\n",
        "- **Skew** - 'Triglycerides' is slightly positively skewed.\n",
        "- **Outliers** - 'Triglycerides' has 161 (6.7%) outliers on the high side."
      ],
      "metadata": {
        "id": "e7dj4vSbXKDx"
      }
    },
    {
      "cell_type": "markdown",
      "source": [
        "### **Categorical Columns**"
      ],
      "metadata": {
        "id": "v7f3iwOtoss5"
      }
    },
    {
      "cell_type": "markdown",
      "source": [
        "#### **Summary**"
      ],
      "metadata": {
        "id": "gghNiJeuF9sF"
      }
    },
    {
      "cell_type": "code",
      "source": [
        "df.describe(exclude=('number'))"
      ],
      "metadata": {
        "id": "vYEzy06soxBb",
        "colab": {
          "base_uri": "https://localhost:8080/",
          "height": 175
        },
        "outputId": "d6f941f3-20e8-4165-9652-1ca16430982a"
      },
      "execution_count": 81,
      "outputs": [
        {
          "output_type": "execute_result",
          "data": {
            "text/plain": [
              "           Sex  Marital   Race MetabolicSyndrome\n",
              "count     2401     2401   2401              2401\n",
              "unique       2        6      6                 2\n",
              "top     Female  Married  White         No MetSyn\n",
              "freq      1211     1192    933              1579"
            ],
            "text/html": [
              "\n",
              "  <div id=\"df-f8b01377-f0dc-4ab4-8151-4e5820bd428f\">\n",
              "    <div class=\"colab-df-container\">\n",
              "      <div>\n",
              "<style scoped>\n",
              "    .dataframe tbody tr th:only-of-type {\n",
              "        vertical-align: middle;\n",
              "    }\n",
              "\n",
              "    .dataframe tbody tr th {\n",
              "        vertical-align: top;\n",
              "    }\n",
              "\n",
              "    .dataframe thead th {\n",
              "        text-align: right;\n",
              "    }\n",
              "</style>\n",
              "<table border=\"1\" class=\"dataframe\">\n",
              "  <thead>\n",
              "    <tr style=\"text-align: right;\">\n",
              "      <th></th>\n",
              "      <th>Sex</th>\n",
              "      <th>Marital</th>\n",
              "      <th>Race</th>\n",
              "      <th>MetabolicSyndrome</th>\n",
              "    </tr>\n",
              "  </thead>\n",
              "  <tbody>\n",
              "    <tr>\n",
              "      <th>count</th>\n",
              "      <td>2401</td>\n",
              "      <td>2401</td>\n",
              "      <td>2401</td>\n",
              "      <td>2401</td>\n",
              "    </tr>\n",
              "    <tr>\n",
              "      <th>unique</th>\n",
              "      <td>2</td>\n",
              "      <td>6</td>\n",
              "      <td>6</td>\n",
              "      <td>2</td>\n",
              "    </tr>\n",
              "    <tr>\n",
              "      <th>top</th>\n",
              "      <td>Female</td>\n",
              "      <td>Married</td>\n",
              "      <td>White</td>\n",
              "      <td>No MetSyn</td>\n",
              "    </tr>\n",
              "    <tr>\n",
              "      <th>freq</th>\n",
              "      <td>1211</td>\n",
              "      <td>1192</td>\n",
              "      <td>933</td>\n",
              "      <td>1579</td>\n",
              "    </tr>\n",
              "  </tbody>\n",
              "</table>\n",
              "</div>\n",
              "      <button class=\"colab-df-convert\" onclick=\"convertToInteractive('df-f8b01377-f0dc-4ab4-8151-4e5820bd428f')\"\n",
              "              title=\"Convert this dataframe to an interactive table.\"\n",
              "              style=\"display:none;\">\n",
              "        \n",
              "  <svg xmlns=\"http://www.w3.org/2000/svg\" height=\"24px\"viewBox=\"0 0 24 24\"\n",
              "       width=\"24px\">\n",
              "    <path d=\"M0 0h24v24H0V0z\" fill=\"none\"/>\n",
              "    <path d=\"M18.56 5.44l.94 2.06.94-2.06 2.06-.94-2.06-.94-.94-2.06-.94 2.06-2.06.94zm-11 1L8.5 8.5l.94-2.06 2.06-.94-2.06-.94L8.5 2.5l-.94 2.06-2.06.94zm10 10l.94 2.06.94-2.06 2.06-.94-2.06-.94-.94-2.06-.94 2.06-2.06.94z\"/><path d=\"M17.41 7.96l-1.37-1.37c-.4-.4-.92-.59-1.43-.59-.52 0-1.04.2-1.43.59L10.3 9.45l-7.72 7.72c-.78.78-.78 2.05 0 2.83L4 21.41c.39.39.9.59 1.41.59.51 0 1.02-.2 1.41-.59l7.78-7.78 2.81-2.81c.8-.78.8-2.07 0-2.86zM5.41 20L4 18.59l7.72-7.72 1.47 1.35L5.41 20z\"/>\n",
              "  </svg>\n",
              "      </button>\n",
              "      \n",
              "  <style>\n",
              "    .colab-df-container {\n",
              "      display:flex;\n",
              "      flex-wrap:wrap;\n",
              "      gap: 12px;\n",
              "    }\n",
              "\n",
              "    .colab-df-convert {\n",
              "      background-color: #E8F0FE;\n",
              "      border: none;\n",
              "      border-radius: 50%;\n",
              "      cursor: pointer;\n",
              "      display: none;\n",
              "      fill: #1967D2;\n",
              "      height: 32px;\n",
              "      padding: 0 0 0 0;\n",
              "      width: 32px;\n",
              "    }\n",
              "\n",
              "    .colab-df-convert:hover {\n",
              "      background-color: #E2EBFA;\n",
              "      box-shadow: 0px 1px 2px rgba(60, 64, 67, 0.3), 0px 1px 3px 1px rgba(60, 64, 67, 0.15);\n",
              "      fill: #174EA6;\n",
              "    }\n",
              "\n",
              "    [theme=dark] .colab-df-convert {\n",
              "      background-color: #3B4455;\n",
              "      fill: #D2E3FC;\n",
              "    }\n",
              "\n",
              "    [theme=dark] .colab-df-convert:hover {\n",
              "      background-color: #434B5C;\n",
              "      box-shadow: 0px 1px 3px 1px rgba(0, 0, 0, 0.15);\n",
              "      filter: drop-shadow(0px 1px 2px rgba(0, 0, 0, 0.3));\n",
              "      fill: #FFFFFF;\n",
              "    }\n",
              "  </style>\n",
              "\n",
              "      <script>\n",
              "        const buttonEl =\n",
              "          document.querySelector('#df-f8b01377-f0dc-4ab4-8151-4e5820bd428f button.colab-df-convert');\n",
              "        buttonEl.style.display =\n",
              "          google.colab.kernel.accessAllowed ? 'block' : 'none';\n",
              "\n",
              "        async function convertToInteractive(key) {\n",
              "          const element = document.querySelector('#df-f8b01377-f0dc-4ab4-8151-4e5820bd428f');\n",
              "          const dataTable =\n",
              "            await google.colab.kernel.invokeFunction('convertToInteractive',\n",
              "                                                     [key], {});\n",
              "          if (!dataTable) return;\n",
              "\n",
              "          const docLinkHtml = 'Like what you see? Visit the ' +\n",
              "            '<a target=\"_blank\" href=https://colab.research.google.com/notebooks/data_table.ipynb>data table notebook</a>'\n",
              "            + ' to learn more about interactive tables.';\n",
              "          element.innerHTML = '';\n",
              "          dataTable['output_type'] = 'display_data';\n",
              "          await google.colab.output.renderOutput(dataTable, element);\n",
              "          const docLink = document.createElement('div');\n",
              "          docLink.innerHTML = docLinkHtml;\n",
              "          element.appendChild(docLink);\n",
              "        }\n",
              "      </script>\n",
              "    </div>\n",
              "  </div>\n",
              "  "
            ]
          },
          "metadata": {},
          "execution_count": 81
        }
      ]
    },
    {
      "cell_type": "markdown",
      "source": [
        "- No issues noted."
      ],
      "metadata": {
        "id": "AvpJythc_3T-"
      }
    },
    {
      "cell_type": "markdown",
      "source": [
        "#### **Sex**"
      ],
      "metadata": {
        "id": "xj5aKKkKlCY7"
      }
    },
    {
      "cell_type": "code",
      "source": [
        "# Display column statistics.\n",
        "df.Sex.describe()"
      ],
      "metadata": {
        "colab": {
          "base_uri": "https://localhost:8080/"
        },
        "id": "KJH41DfE97TC",
        "outputId": "b6bc7d37-49db-4258-a320-c53f5b5ca5da"
      },
      "execution_count": 82,
      "outputs": [
        {
          "output_type": "execute_result",
          "data": {
            "text/plain": [
              "count       2401\n",
              "unique         2\n",
              "top       Female\n",
              "freq        1211\n",
              "Name: Sex, dtype: object"
            ]
          },
          "metadata": {},
          "execution_count": 82
        }
      ]
    },
    {
      "cell_type": "code",
      "source": [
        "# Display column statistics.\n",
        "column_statistics('Sex')"
      ],
      "metadata": {
        "colab": {
          "base_uri": "https://localhost:8080/"
        },
        "id": "dKpp8zGvELOi",
        "outputId": "a5cea523-0f26-4fd0-b1b6-53397e0d01d1"
      },
      "execution_count": 83,
      "outputs": [
        {
          "output_type": "stream",
          "name": "stdout",
          "text": [
            "Missing Values: 0 (0.0)%\n",
            "Unique values: 2\n",
            "Female    1211\n",
            "Male      1190\n",
            "Name: Sex, dtype: int64\n"
          ]
        }
      ]
    },
    {
      "cell_type": "code",
      "source": [
        "df['Sex'].value_counts(normalize=True)"
      ],
      "metadata": {
        "id": "H6KY68TumlHs",
        "colab": {
          "base_uri": "https://localhost:8080/"
        },
        "outputId": "e176f1d7-85ac-426b-edf4-21bd8ff0503c"
      },
      "execution_count": 84,
      "outputs": [
        {
          "output_type": "execute_result",
          "data": {
            "text/plain": [
              "Female    0.504373\n",
              "Male      0.495627\n",
              "Name: Sex, dtype: float64"
            ]
          },
          "metadata": {},
          "execution_count": 84
        }
      ]
    },
    {
      "cell_type": "code",
      "source": [
        "plt.figure(figsize = (12,4))\n",
        "sns.histplot(data=df, x='Sex', color='#069AF3'); \n",
        "plt.title('Sex Distribution', fontsize = 22, weight='bold');\n",
        "plt.xlabel('Sex', fontsize = 16, weight='bold');\n",
        "plt.ylabel('Item Count', fontsize = 16, weight='bold');\n",
        "plt.xticks(fontsize = 10, weight='bold', rotation=0);\n",
        "plt.yticks(fontsize = 10, weight='bold');\n",
        "plt.tight_layout()\n",
        "plt.show;"
      ],
      "metadata": {
        "id": "ffR33urklVFQ",
        "colab": {
          "base_uri": "https://localhost:8080/",
          "height": 297
        },
        "outputId": "a602a85f-2290-401f-8949-04707f4e7538"
      },
      "execution_count": 85,
      "outputs": [
        {
          "output_type": "display_data",
          "data": {
            "text/plain": [
              "<Figure size 864x288 with 1 Axes>"
            ],
            "image/png": "[encoded data removed]"
          },
          "metadata": {
            "needs_background": "light"
          }
        }
      ]
    },
    {
      "cell_type": "markdown",
      "source": [
        "- Sex appears to be fairly evenly balanced between the two values."
      ],
      "metadata": {
        "id": "zc-VJHvcLq_0"
      }
    },
    {
      "cell_type": "markdown",
      "source": [
        "#### **Marital**"
      ],
      "metadata": {
        "id": "VC_ymyffF6hL"
      }
    },
    {
      "cell_type": "code",
      "source": [
        "# Display column statistics.\n",
        "df.Marital.describe()"
      ],
      "metadata": {
        "colab": {
          "base_uri": "https://localhost:8080/"
        },
        "id": "IEalFkwW-KMY",
        "outputId": "5061941b-0728-435b-a8ed-dae6390ffb07"
      },
      "execution_count": 86,
      "outputs": [
        {
          "output_type": "execute_result",
          "data": {
            "text/plain": [
              "count        2401\n",
              "unique          6\n",
              "top       Married\n",
              "freq         1192\n",
              "Name: Marital, dtype: object"
            ]
          },
          "metadata": {},
          "execution_count": 86
        }
      ]
    },
    {
      "cell_type": "code",
      "source": [
        "# Display column statistics.\n",
        "column_statistics('Marital')"
      ],
      "metadata": {
        "colab": {
          "base_uri": "https://localhost:8080/"
        },
        "outputId": "5ce6d399-790f-40dc-e227-f3fc447db7e9",
        "id": "q7DQ9CuKF6hM"
      },
      "execution_count": 87,
      "outputs": [
        {
          "output_type": "stream",
          "name": "stdout",
          "text": [
            "Missing Values: 0 (0.0)%\n",
            "Unique values: 6\n",
            "Married      1192\n",
            "Single        498\n",
            "Divorced      242\n",
            "Unknown       208\n",
            "Widowed       166\n",
            "Separated      95\n",
            "Name: Marital, dtype: int64\n"
          ]
        }
      ]
    },
    {
      "cell_type": "code",
      "source": [
        "df['Marital'].value_counts(normalize=True)"
      ],
      "metadata": {
        "colab": {
          "base_uri": "https://localhost:8080/"
        },
        "outputId": "a7f16b7a-0b1a-4cc8-b8d1-fb5abe0d9532",
        "id": "XUb6NB5bF6hM"
      },
      "execution_count": 88,
      "outputs": [
        {
          "output_type": "execute_result",
          "data": {
            "text/plain": [
              "Married      0.496460\n",
              "Single       0.207414\n",
              "Divorced     0.100791\n",
              "Unknown      0.086631\n",
              "Widowed      0.069138\n",
              "Separated    0.039567\n",
              "Name: Marital, dtype: float64"
            ]
          },
          "metadata": {},
          "execution_count": 88
        }
      ]
    },
    {
      "cell_type": "code",
      "source": [
        "plt.figure(figsize = (12,4))\n",
        "sns.histplot(data=df, x='Marital', color='#069AF3'); \n",
        "plt.title('Marital Distribution', fontsize = 22, weight='bold');\n",
        "plt.xlabel('Marital', fontsize = 16, weight='bold');\n",
        "plt.ylabel('Item Count', fontsize = 16, weight='bold');\n",
        "plt.xticks(fontsize = 10, weight='bold', rotation=0);\n",
        "plt.yticks(fontsize = 10, weight='bold');\n",
        "plt.tight_layout()\n",
        "plt.show;"
      ],
      "metadata": {
        "colab": {
          "base_uri": "https://localhost:8080/",
          "height": 297
        },
        "outputId": "fb00af85-0ba2-4a63-c8b2-79ddfc3da4ca",
        "id": "yPyGRIBlF6hN"
      },
      "execution_count": 89,
      "outputs": [
        {
          "output_type": "display_data",
          "data": {
            "text/plain": [
              "<Figure size 864x288 with 1 Axes>"
            ],
            "image/png": "[encoded data removed]"
          },
          "metadata": {
            "needs_background": "light"
          }
        }
      ]
    },
    {
      "cell_type": "markdown",
      "source": [
        "- 'Married' has significantly more values, followed by 'Single'."
      ],
      "metadata": {
        "id": "satxcZTaF6hN"
      }
    },
    {
      "cell_type": "markdown",
      "source": [
        "#### **MetabolicSyndrome**"
      ],
      "metadata": {
        "id": "3q_qMxNRF6-D"
      }
    },
    {
      "cell_type": "code",
      "source": [
        "# Display column statistics.\n",
        "df.MetabolicSyndrome.describe()"
      ],
      "metadata": {
        "colab": {
          "base_uri": "https://localhost:8080/"
        },
        "id": "V9___9mk-VV0",
        "outputId": "8d98018e-691d-4554-d927-df5217e53768"
      },
      "execution_count": 90,
      "outputs": [
        {
          "output_type": "execute_result",
          "data": {
            "text/plain": [
              "count          2401\n",
              "unique            2\n",
              "top       No MetSyn\n",
              "freq           1579\n",
              "Name: MetabolicSyndrome, dtype: object"
            ]
          },
          "metadata": {},
          "execution_count": 90
        }
      ]
    },
    {
      "cell_type": "code",
      "source": [
        "# Display column statistics.\n",
        "column_statistics('MetabolicSyndrome')"
      ],
      "metadata": {
        "colab": {
          "base_uri": "https://localhost:8080/"
        },
        "outputId": "6c88ae12-776d-4930-cb4a-d53a35e772dc",
        "id": "NeojKCoAF6-D"
      },
      "execution_count": 91,
      "outputs": [
        {
          "output_type": "stream",
          "name": "stdout",
          "text": [
            "Missing Values: 0 (0.0)%\n",
            "Unique values: 2\n",
            "No MetSyn    1579\n",
            "MetSyn        822\n",
            "Name: MetabolicSyndrome, dtype: int64\n"
          ]
        }
      ]
    },
    {
      "cell_type": "code",
      "source": [
        "df['MetabolicSyndrome'].value_counts(normalize=True)"
      ],
      "metadata": {
        "colab": {
          "base_uri": "https://localhost:8080/"
        },
        "outputId": "db44bd68-8262-4cb9-ab36-a624b81ca098",
        "id": "LadEn-P6F6-E"
      },
      "execution_count": 92,
      "outputs": [
        {
          "output_type": "execute_result",
          "data": {
            "text/plain": [
              "No MetSyn    0.657643\n",
              "MetSyn       0.342357\n",
              "Name: MetabolicSyndrome, dtype: float64"
            ]
          },
          "metadata": {},
          "execution_count": 92
        }
      ]
    },
    {
      "cell_type": "code",
      "source": [
        "plt.figure(figsize = (12,4))\n",
        "sns.histplot(data=df, x='MetabolicSyndrome', color='#069AF3'); \n",
        "plt.title('MetabolicSyndrome Distribution', fontsize = 22, weight='bold');\n",
        "plt.xlabel('MetabolicSyndrome', fontsize = 16, weight='bold');\n",
        "plt.ylabel('Item Count', fontsize = 16, weight='bold');\n",
        "plt.xticks(fontsize = 10, weight='bold', rotation=0);\n",
        "plt.yticks(fontsize = 10, weight='bold');\n",
        "plt.tight_layout()\n",
        "plt.show;"
      ],
      "metadata": {
        "colab": {
          "base_uri": "https://localhost:8080/",
          "height": 297
        },
        "outputId": "8a4bc40d-8f1e-4be5-e362-8cba9cc97bac",
        "id": "jgW7Qn9PF6-E"
      },
      "execution_count": 93,
      "outputs": [
        {
          "output_type": "display_data",
          "data": {
            "text/plain": [
              "<Figure size 864x288 with 1 Axes>"
            ],
            "image/png": "[encoded data removed]"
          },
          "metadata": {
            "needs_background": "light"
          }
        }
      ]
    },
    {
      "cell_type": "markdown",
      "source": [
        "- There are significantly more 'No MetSyn' (negative) values than 'MetSyn' values.\n",
        "- This is our target value to predict and it is unbalanced."
      ],
      "metadata": {
        "id": "-NRmkmiIF6-E"
      }
    },
    {
      "cell_type": "markdown",
      "source": [
        "### **Correlation Heatmap**"
      ],
      "metadata": {
        "id": "wupOHLcD_9SO"
      }
    },
    {
      "cell_type": "code",
      "source": [
        "plt.figure(figsize = (8, 8))\n",
        "corr = df.corr()\n",
        "sns.heatmap(corr, cmap='vlag', annot=True);\n",
        "plt.title('Correlation Heatmap', fontsize = 16, weight='bold')\n",
        "plt.xticks(fontsize = 10, weight='bold', rotation=90)\n",
        "plt.yticks(fontsize = 10, weight='bold');\n",
        "plt.tight_layout()\n",
        "plt.show;"
      ],
      "metadata": {
        "id": "rd5sQYFwNJ_a",
        "colab": {
          "base_uri": "https://localhost:8080/",
          "height": 585
        },
        "outputId": "b46c8b6a-ef74-4fdc-88b8-9120fbe43758"
      },
      "execution_count": 94,
      "outputs": [
        {
          "output_type": "display_data",
          "data": {
            "text/plain": [
              "<Figure size 576x576 with 2 Axes>"
            ],
            "image/png": "[encoded data removed]"
          },
          "metadata": {
            "needs_background": "light"
          }
        }
      ]
    },
    {
      "cell_type": "markdown",
      "source": [
        "- BMI and WaistCirc have high positive correlation. Body mass index (BMI) is a measure of body fat percentge based on height and weight that applies to adult men and women. BMI and WaistCirc are both dependent variables of height and weight."
      ],
      "metadata": {
        "id": "CQSGKZ-zNnXU"
      }
    },
    {
      "cell_type": "markdown",
      "source": [
        "\n",
        "\n",
        "---\n",
        "\n"
      ],
      "metadata": {
        "id": "OkkQJQV4aXe3"
      }
    },
    {
      "cell_type": "markdown",
      "source": [
        "## **To Do List**"
      ],
      "metadata": {
        "id": "CbQqhwnRfwZU"
      }
    },
    {
      "cell_type": "markdown",
      "source": [
        "- Plots\n",
        " - revise categorical plots to display values in descending order using groupby \n",
        " - replace plot code with functions\n",
        " - convert plots to OOP\n",
        " - combine numeric hist and box plots into a single figure\n",
        " - optimize plot visualizations for presentations"
      ],
      "metadata": {
        "id": "-28ajgUcf10G"
      }
    },
    {
      "cell_type": "markdown",
      "source": [
        "revise categorical plots to display values in descending order using groupby\n",
        "\n",
        "-  Calculate the means using a group by and sort values, largest to smallest and save as a variable\n",
        "- In sns.barplot, add order=that var.index\n",
        "\n",
        "Example:\n",
        "avg_sales = df.groupby(\"\"Item_Type\"\")[\"\"Item_Outlet_Sales\"\"].mean().sort_values(ascending=False)\n",
        "axes = sns.barplot(x='Item_Outlet_Sales', y='Item_Type', data = df, order=avg_sales.index)\n",
        "\""
      ],
      "metadata": {
        "id": "4IXXKglA26Kr"
      }
    }
  ]
}