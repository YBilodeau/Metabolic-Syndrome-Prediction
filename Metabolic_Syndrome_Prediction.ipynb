{
  "nbformat": 4,
  "nbformat_minor": 0,
  "metadata": {
    "colab": {
      "name": "Metabolic Syndrome Prediction.ipynb",
      "provenance": [],
      "collapsed_sections": [],
      "mount_file_id": "1L5s2kEE1Akm5jTSxNQKsMmaywp3DkZFC",
      "authorship_tag": "ABX9TyOycPg7AAU1rzO3OuRG7wng",
      "include_colab_link": true
    },
    "kernelspec": {
      "name": "python3",
      "display_name": "Python 3"
    },
    "language_info": {
      "name": "python"
    }
  },
  "cells": [
    {
      "cell_type": "markdown",
      "metadata": {
        "id": "view-in-github",
        "colab_type": "text"
      },
      "source": [
        "<a href=\"https://colab.research.google.com/github/YBilodeau/Metabolic-Syndrome-Prediction-Project/blob/main/Metabolic_Syndrome_Prediction.ipynb\" target=\"_parent\"><img src=\"https://colab.research.google.com/assets/colab-badge.svg\" alt=\"Open In Colab\"/></a>"
      ]
    },
    {
      "cell_type": "markdown",
      "source": [
        "# **Metabolic Syndrome Prediction**\n",
        "\n",
        "- Yvon Bilodeau\n",
        "- March 2022"
      ],
      "metadata": {
        "id": "64KrNUfAOlDd"
      }
    },
    {
      "cell_type": "markdown",
      "source": [
        "\n",
        "\n",
        "---\n",
        "\n"
      ],
      "metadata": {
        "id": "w7hd5wAHihGi"
      }
    },
    {
      "cell_type": "markdown",
      "source": [
        "### **Project Description**\n"
      ],
      "metadata": {
        "id": "qr7OHrm9QwcH"
      }
    },
    {
      "cell_type": "markdown",
      "source": [
        "To predict metabolic syndrome, yes or not based on common risk factors\n",
        "\n",
        "The dataset for analysis came from the [NHANES](https://www.cdc.gov/nchs/nhanes/index.htm) initiative where the following variables were combined from multiple tables with SQL: abnormal waist circumference, triglycerides above 150, HDL cholesterol below 50 in women or 40 in men, history of hypertension and mildly elevated fasting blood sugar (100-125). Numerous other variables were added, such as uric acid, race, income, etc. that might contribute to the model but we will not sure, until we test the model."
      ],
      "metadata": {
        "id": "Mho8CpzdSBU3"
      }
    },
    {
      "cell_type": "markdown",
      "source": [
        "### **Source of data**"
      ],
      "metadata": {
        "id": "QwlzFMohQp_l"
      }
    },
    {
      "cell_type": "markdown",
      "source": [
        "- [Data World](https://data.world/informatics-edu/metabolic-syndrome-prediction)\n"
      ],
      "metadata": {
        "id": "A_xi5OE7R1H1"
      }
    },
    {
      "cell_type": "markdown",
      "source": [
        "## **Mount Data | Import Libraries | Load the Dataset**"
      ],
      "metadata": {
        "id": "Z9vyP80nOg9d"
      }
    },
    {
      "cell_type": "markdown",
      "source": [
        "### **Mount Google Drive**"
      ],
      "metadata": {
        "id": "ikybS2tmi-pK"
      }
    },
    {
      "cell_type": "code",
      "source": [
        "from google.colab import drive\n",
        "drive.mount('/content/drive')"
      ],
      "metadata": {
        "colab": {
          "base_uri": "https://localhost:8080/"
        },
        "outputId": "80ae992a-89e6-4455-a1fe-b5cece20bf09",
        "id": "tUq0-QFFi-pK"
      },
      "execution_count": 1,
      "outputs": [
        {
          "output_type": "stream",
          "name": "stdout",
          "text": [
            "Mounted at /content/drive\n"
          ]
        }
      ]
    },
    {
      "cell_type": "markdown",
      "source": [
        "### **Import Libraries**"
      ],
      "metadata": {
        "id": "qbj062e9Ou6-"
      }
    },
    {
      "cell_type": "code",
      "execution_count": 2,
      "metadata": {
        "id": "aUYz6fIbFWBJ"
      },
      "outputs": [],
      "source": [
        "import numpy as np\n",
        "import pandas as pd\n",
        "import matplotlib.pyplot as plt\n",
        "import seaborn as sns\n",
        "\n",
        "import missingno as msno\n",
        "\n",
        "from sklearn.model_selection import train_test_split, GridSearchCV\n",
        "from sklearn.preprocessing import StandardScaler, OneHotEncoder\n",
        "from sklearn.compose import make_column_transformer, make_column_selector\n",
        "from sklearn.impute import SimpleImputer\n",
        "from sklearn.pipeline import make_pipeline\n",
        "\n",
        "# Dummy Classifier\n",
        "from sklearn.dummy import DummyClassifier\n",
        "\n",
        "# Lostics Regression Classifier\n",
        "from sklearn.linear_model import LogisticRegression\n",
        "\n",
        "# KNN Classifier\n",
        "from sklearn.neighbors import KNeighborsClassifier\n",
        "\n",
        "# Import Metrics\n",
        "from sklearn.metrics import accuracy_score, classification_report"
      ]
    },
    {
      "cell_type": "markdown",
      "source": [
        "### **Load the Dataset**\n",
        "\n",
        "- Data downloaded from [link](https://data.world/informatics-edu/metabolic-syndrome-prediction/file/Metabolic%20%20Syndrome.csv)."
      ],
      "metadata": {
        "id": "JOUAIYIJO29y"
      }
    },
    {
      "cell_type": "code",
      "source": [
        "filename = \"/content/drive/MyDrive/Colab Notebooks/CodingDojo/000 Data Files/Metabolic  Syndrome.csv\"\n",
        "df = pd.read_csv(filename)"
      ],
      "metadata": {
        "id": "TrjtMPiZPPWL"
      },
      "execution_count": 5,
      "outputs": []
    },
    {
      "cell_type": "markdown",
      "source": [
        "## **Inspect the Data**"
      ],
      "metadata": {
        "id": "MytoZVznPWPd"
      }
    },
    {
      "cell_type": "markdown",
      "source": [
        "### Display Rows and Column Count"
      ],
      "metadata": {
        "id": "JVXIY3Sj_QN8"
      }
    },
    {
      "cell_type": "code",
      "source": [
        "# The .shape attribute returns a tuple of length 2, representing the dimensionality of the DataFrame.  \n",
        "# The number of rows and columns of the DataFrame.\n",
        "df.shape\n",
        "print(f'There are {df.shape[0]} rows, and {df.shape[1]} columns.')\n",
        "print(f'The rows represent {df.shape[0]} observations, and the columns represent {df.shape[1]-1} features and 1 target variable.')"
      ],
      "metadata": {
        "id": "fkts3k-KPm5a",
        "colab": {
          "base_uri": "https://localhost:8080/"
        },
        "outputId": "4bebcdeb-bec6-4d67-cffb-24bb84eec7b6"
      },
      "execution_count": 6,
      "outputs": [
        {
          "output_type": "stream",
          "name": "stdout",
          "text": [
            "There are 2401 rows, and 15 columns.\n",
            "The rows represent 2401 observations, and the columns represent 14 features and 1 target variable.\n"
          ]
        }
      ]
    },
    {
      "cell_type": "markdown",
      "source": [
        "### Display Data Types"
      ],
      "metadata": {
        "id": "Npez_DLB_cH7"
      }
    },
    {
      "cell_type": "code",
      "source": [
        "# The .dtype attribute returns a Series with the data type of each column.\n",
        "# Columns with mixed types are stored with the object dtype.\n",
        "df.dtypes"
      ],
      "metadata": {
        "id": "DaLyMnan_LyF",
        "colab": {
          "base_uri": "https://localhost:8080/"
        },
        "outputId": "1b0d90e0-1868-455b-8be4-7c75ea4366e6"
      },
      "execution_count": 7,
      "outputs": [
        {
          "output_type": "execute_result",
          "data": {
            "text/plain": [
              "seqn                   int64\n",
              "Age                    int64\n",
              "Sex                   object\n",
              "Marital               object\n",
              "Income               float64\n",
              "Race                  object\n",
              "WaistCirc            float64\n",
              "BMI                  float64\n",
              "Albuminuria            int64\n",
              "UrAlbCr              float64\n",
              "UricAcid             float64\n",
              "BloodGlucose           int64\n",
              "HDL                    int64\n",
              "Triglycerides          int64\n",
              "MetabolicSyndrome     object\n",
              "dtype: object"
            ]
          },
          "metadata": {},
          "execution_count": 7
        }
      ]
    },
    {
      "cell_type": "markdown",
      "source": [
        "### Display Column Names, Count of Non-Null Values, and Data Types"
      ],
      "metadata": {
        "id": "-ddijDWr_uq-"
      }
    },
    {
      "cell_type": "code",
      "source": [
        "df.info()"
      ],
      "metadata": {
        "id": "Fj8u4kjlGL8Z",
        "colab": {
          "base_uri": "https://localhost:8080/"
        },
        "outputId": "6a2e764d-d138-4e1e-e681-2ceabaa456ae"
      },
      "execution_count": 8,
      "outputs": [
        {
          "output_type": "stream",
          "name": "stdout",
          "text": [
            "<class 'pandas.core.frame.DataFrame'>\n",
            "RangeIndex: 2401 entries, 0 to 2400\n",
            "Data columns (total 15 columns):\n",
            " #   Column             Non-Null Count  Dtype  \n",
            "---  ------             --------------  -----  \n",
            " 0   seqn               2401 non-null   int64  \n",
            " 1   Age                2401 non-null   int64  \n",
            " 2   Sex                2401 non-null   object \n",
            " 3   Marital            2193 non-null   object \n",
            " 4   Income             2284 non-null   float64\n",
            " 5   Race               2401 non-null   object \n",
            " 6   WaistCirc          2316 non-null   float64\n",
            " 7   BMI                2375 non-null   float64\n",
            " 8   Albuminuria        2401 non-null   int64  \n",
            " 9   UrAlbCr            2401 non-null   float64\n",
            " 10  UricAcid           2401 non-null   float64\n",
            " 11  BloodGlucose       2401 non-null   int64  \n",
            " 12  HDL                2401 non-null   int64  \n",
            " 13  Triglycerides      2401 non-null   int64  \n",
            " 14  MetabolicSyndrome  2401 non-null   object \n",
            "dtypes: float64(5), int64(6), object(4)\n",
            "memory usage: 281.5+ KB\n"
          ]
        }
      ]
    },
    {
      "cell_type": "markdown",
      "source": [
        "### Display First (10) Rows"
      ],
      "metadata": {
        "id": "s3T6QYAOzGHl"
      }
    },
    {
      "cell_type": "code",
      "source": [
        "df.head(10)"
      ],
      "metadata": {
        "id": "o2OINffGGKRh",
        "colab": {
          "base_uri": "https://localhost:8080/",
          "height": 427
        },
        "outputId": "3981a7c5-d765-4df6-e346-ef8075623107"
      },
      "execution_count": 9,
      "outputs": [
        {
          "output_type": "execute_result",
          "data": {
            "text/plain": [
              "    seqn  Age     Sex   Marital  Income   Race  WaistCirc   BMI  Albuminuria  \\\n",
              "0  62161   22    Male    Single  8200.0  White       81.0  23.3            0   \n",
              "1  62164   44  Female   Married  4500.0  White       80.1  23.2            0   \n",
              "2  62169   21    Male    Single   800.0  Asian       69.6  20.1            0   \n",
              "3  62172   43  Female    Single  2000.0  Black      120.4  33.3            0   \n",
              "4  62177   51    Male   Married     NaN  Asian       81.1  20.1            0   \n",
              "5  62178   80    Male   Widowed   300.0  White      112.5  28.5            0   \n",
              "6  62184   26    Male    Single  9000.0  Black       78.6  22.1            0   \n",
              "7  62189   30  Female   Married  6200.0  Asian       80.2  22.4            0   \n",
              "8  62191   70    Male  Divorced  1000.0  Black        NaN   NaN            1   \n",
              "9  62195   35    Male       NaN  2500.0  Black       99.0  28.2            0   \n",
              "\n",
              "   UrAlbCr  UricAcid  BloodGlucose  HDL  Triglycerides MetabolicSyndrome  \n",
              "0     3.88       4.9            92   41             84         No MetSyn  \n",
              "1     8.55       4.5            82   28             56         No MetSyn  \n",
              "2     5.07       5.4           107   43             78         No MetSyn  \n",
              "3     5.22       5.0           104   73            141         No MetSyn  \n",
              "4     8.13       5.0            95   43            126         No MetSyn  \n",
              "5     9.79       4.8           105   47            100         No MetSyn  \n",
              "6     9.21       5.4            87   61             40         No MetSyn  \n",
              "7     8.78       6.7            83   48             91         No MetSyn  \n",
              "8    45.67       5.4            96   35             75         No MetSyn  \n",
              "9     2.21       6.7            94   46             86         No MetSyn  "
            ],
            "text/html": [
              "\n",
              "  <div id=\"df-4608d8d3-93df-452c-894f-3b90c33ff741\">\n",
              "    <div class=\"colab-df-container\">\n",
              "      <div>\n",
              "<style scoped>\n",
              "    .dataframe tbody tr th:only-of-type {\n",
              "        vertical-align: middle;\n",
              "    }\n",
              "\n",
              "    .dataframe tbody tr th {\n",
              "        vertical-align: top;\n",
              "    }\n",
              "\n",
              "    .dataframe thead th {\n",
              "        text-align: right;\n",
              "    }\n",
              "</style>\n",
              "<table border=\"1\" class=\"dataframe\">\n",
              "  <thead>\n",
              "    <tr style=\"text-align: right;\">\n",
              "      <th></th>\n",
              "      <th>seqn</th>\n",
              "      <th>Age</th>\n",
              "      <th>Sex</th>\n",
              "      <th>Marital</th>\n",
              "      <th>Income</th>\n",
              "      <th>Race</th>\n",
              "      <th>WaistCirc</th>\n",
              "      <th>BMI</th>\n",
              "      <th>Albuminuria</th>\n",
              "      <th>UrAlbCr</th>\n",
              "      <th>UricAcid</th>\n",
              "      <th>BloodGlucose</th>\n",
              "      <th>HDL</th>\n",
              "      <th>Triglycerides</th>\n",
              "      <th>MetabolicSyndrome</th>\n",
              "    </tr>\n",
              "  </thead>\n",
              "  <tbody>\n",
              "    <tr>\n",
              "      <th>0</th>\n",
              "      <td>62161</td>\n",
              "      <td>22</td>\n",
              "      <td>Male</td>\n",
              "      <td>Single</td>\n",
              "      <td>8200.0</td>\n",
              "      <td>White</td>\n",
              "      <td>81.0</td>\n",
              "      <td>23.3</td>\n",
              "      <td>0</td>\n",
              "      <td>3.88</td>\n",
              "      <td>4.9</td>\n",
              "      <td>92</td>\n",
              "      <td>41</td>\n",
              "      <td>84</td>\n",
              "      <td>No MetSyn</td>\n",
              "    </tr>\n",
              "    <tr>\n",
              "      <th>1</th>\n",
              "      <td>62164</td>\n",
              "      <td>44</td>\n",
              "      <td>Female</td>\n",
              "      <td>Married</td>\n",
              "      <td>4500.0</td>\n",
              "      <td>White</td>\n",
              "      <td>80.1</td>\n",
              "      <td>23.2</td>\n",
              "      <td>0</td>\n",
              "      <td>8.55</td>\n",
              "      <td>4.5</td>\n",
              "      <td>82</td>\n",
              "      <td>28</td>\n",
              "      <td>56</td>\n",
              "      <td>No MetSyn</td>\n",
              "    </tr>\n",
              "    <tr>\n",
              "      <th>2</th>\n",
              "      <td>62169</td>\n",
              "      <td>21</td>\n",
              "      <td>Male</td>\n",
              "      <td>Single</td>\n",
              "      <td>800.0</td>\n",
              "      <td>Asian</td>\n",
              "      <td>69.6</td>\n",
              "      <td>20.1</td>\n",
              "      <td>0</td>\n",
              "      <td>5.07</td>\n",
              "      <td>5.4</td>\n",
              "      <td>107</td>\n",
              "      <td>43</td>\n",
              "      <td>78</td>\n",
              "      <td>No MetSyn</td>\n",
              "    </tr>\n",
              "    <tr>\n",
              "      <th>3</th>\n",
              "      <td>62172</td>\n",
              "      <td>43</td>\n",
              "      <td>Female</td>\n",
              "      <td>Single</td>\n",
              "      <td>2000.0</td>\n",
              "      <td>Black</td>\n",
              "      <td>120.4</td>\n",
              "      <td>33.3</td>\n",
              "      <td>0</td>\n",
              "      <td>5.22</td>\n",
              "      <td>5.0</td>\n",
              "      <td>104</td>\n",
              "      <td>73</td>\n",
              "      <td>141</td>\n",
              "      <td>No MetSyn</td>\n",
              "    </tr>\n",
              "    <tr>\n",
              "      <th>4</th>\n",
              "      <td>62177</td>\n",
              "      <td>51</td>\n",
              "      <td>Male</td>\n",
              "      <td>Married</td>\n",
              "      <td>NaN</td>\n",
              "      <td>Asian</td>\n",
              "      <td>81.1</td>\n",
              "      <td>20.1</td>\n",
              "      <td>0</td>\n",
              "      <td>8.13</td>\n",
              "      <td>5.0</td>\n",
              "      <td>95</td>\n",
              "      <td>43</td>\n",
              "      <td>126</td>\n",
              "      <td>No MetSyn</td>\n",
              "    </tr>\n",
              "    <tr>\n",
              "      <th>5</th>\n",
              "      <td>62178</td>\n",
              "      <td>80</td>\n",
              "      <td>Male</td>\n",
              "      <td>Widowed</td>\n",
              "      <td>300.0</td>\n",
              "      <td>White</td>\n",
              "      <td>112.5</td>\n",
              "      <td>28.5</td>\n",
              "      <td>0</td>\n",
              "      <td>9.79</td>\n",
              "      <td>4.8</td>\n",
              "      <td>105</td>\n",
              "      <td>47</td>\n",
              "      <td>100</td>\n",
              "      <td>No MetSyn</td>\n",
              "    </tr>\n",
              "    <tr>\n",
              "      <th>6</th>\n",
              "      <td>62184</td>\n",
              "      <td>26</td>\n",
              "      <td>Male</td>\n",
              "      <td>Single</td>\n",
              "      <td>9000.0</td>\n",
              "      <td>Black</td>\n",
              "      <td>78.6</td>\n",
              "      <td>22.1</td>\n",
              "      <td>0</td>\n",
              "      <td>9.21</td>\n",
              "      <td>5.4</td>\n",
              "      <td>87</td>\n",
              "      <td>61</td>\n",
              "      <td>40</td>\n",
              "      <td>No MetSyn</td>\n",
              "    </tr>\n",
              "    <tr>\n",
              "      <th>7</th>\n",
              "      <td>62189</td>\n",
              "      <td>30</td>\n",
              "      <td>Female</td>\n",
              "      <td>Married</td>\n",
              "      <td>6200.0</td>\n",
              "      <td>Asian</td>\n",
              "      <td>80.2</td>\n",
              "      <td>22.4</td>\n",
              "      <td>0</td>\n",
              "      <td>8.78</td>\n",
              "      <td>6.7</td>\n",
              "      <td>83</td>\n",
              "      <td>48</td>\n",
              "      <td>91</td>\n",
              "      <td>No MetSyn</td>\n",
              "    </tr>\n",
              "    <tr>\n",
              "      <th>8</th>\n",
              "      <td>62191</td>\n",
              "      <td>70</td>\n",
              "      <td>Male</td>\n",
              "      <td>Divorced</td>\n",
              "      <td>1000.0</td>\n",
              "      <td>Black</td>\n",
              "      <td>NaN</td>\n",
              "      <td>NaN</td>\n",
              "      <td>1</td>\n",
              "      <td>45.67</td>\n",
              "      <td>5.4</td>\n",
              "      <td>96</td>\n",
              "      <td>35</td>\n",
              "      <td>75</td>\n",
              "      <td>No MetSyn</td>\n",
              "    </tr>\n",
              "    <tr>\n",
              "      <th>9</th>\n",
              "      <td>62195</td>\n",
              "      <td>35</td>\n",
              "      <td>Male</td>\n",
              "      <td>NaN</td>\n",
              "      <td>2500.0</td>\n",
              "      <td>Black</td>\n",
              "      <td>99.0</td>\n",
              "      <td>28.2</td>\n",
              "      <td>0</td>\n",
              "      <td>2.21</td>\n",
              "      <td>6.7</td>\n",
              "      <td>94</td>\n",
              "      <td>46</td>\n",
              "      <td>86</td>\n",
              "      <td>No MetSyn</td>\n",
              "    </tr>\n",
              "  </tbody>\n",
              "</table>\n",
              "</div>\n",
              "      <button class=\"colab-df-convert\" onclick=\"convertToInteractive('df-4608d8d3-93df-452c-894f-3b90c33ff741')\"\n",
              "              title=\"Convert this dataframe to an interactive table.\"\n",
              "              style=\"display:none;\">\n",
              "        \n",
              "  <svg xmlns=\"http://www.w3.org/2000/svg\" height=\"24px\"viewBox=\"0 0 24 24\"\n",
              "       width=\"24px\">\n",
              "    <path d=\"M0 0h24v24H0V0z\" fill=\"none\"/>\n",
              "    <path d=\"M18.56 5.44l.94 2.06.94-2.06 2.06-.94-2.06-.94-.94-2.06-.94 2.06-2.06.94zm-11 1L8.5 8.5l.94-2.06 2.06-.94-2.06-.94L8.5 2.5l-.94 2.06-2.06.94zm10 10l.94 2.06.94-2.06 2.06-.94-2.06-.94-.94-2.06-.94 2.06-2.06.94z\"/><path d=\"M17.41 7.96l-1.37-1.37c-.4-.4-.92-.59-1.43-.59-.52 0-1.04.2-1.43.59L10.3 9.45l-7.72 7.72c-.78.78-.78 2.05 0 2.83L4 21.41c.39.39.9.59 1.41.59.51 0 1.02-.2 1.41-.59l7.78-7.78 2.81-2.81c.8-.78.8-2.07 0-2.86zM5.41 20L4 18.59l7.72-7.72 1.47 1.35L5.41 20z\"/>\n",
              "  </svg>\n",
              "      </button>\n",
              "      \n",
              "  <style>\n",
              "    .colab-df-container {\n",
              "      display:flex;\n",
              "      flex-wrap:wrap;\n",
              "      gap: 12px;\n",
              "    }\n",
              "\n",
              "    .colab-df-convert {\n",
              "      background-color: #E8F0FE;\n",
              "      border: none;\n",
              "      border-radius: 50%;\n",
              "      cursor: pointer;\n",
              "      display: none;\n",
              "      fill: #1967D2;\n",
              "      height: 32px;\n",
              "      padding: 0 0 0 0;\n",
              "      width: 32px;\n",
              "    }\n",
              "\n",
              "    .colab-df-convert:hover {\n",
              "      background-color: #E2EBFA;\n",
              "      box-shadow: 0px 1px 2px rgba(60, 64, 67, 0.3), 0px 1px 3px 1px rgba(60, 64, 67, 0.15);\n",
              "      fill: #174EA6;\n",
              "    }\n",
              "\n",
              "    [theme=dark] .colab-df-convert {\n",
              "      background-color: #3B4455;\n",
              "      fill: #D2E3FC;\n",
              "    }\n",
              "\n",
              "    [theme=dark] .colab-df-convert:hover {\n",
              "      background-color: #434B5C;\n",
              "      box-shadow: 0px 1px 3px 1px rgba(0, 0, 0, 0.15);\n",
              "      filter: drop-shadow(0px 1px 2px rgba(0, 0, 0, 0.3));\n",
              "      fill: #FFFFFF;\n",
              "    }\n",
              "  </style>\n",
              "\n",
              "      <script>\n",
              "        const buttonEl =\n",
              "          document.querySelector('#df-4608d8d3-93df-452c-894f-3b90c33ff741 button.colab-df-convert');\n",
              "        buttonEl.style.display =\n",
              "          google.colab.kernel.accessAllowed ? 'block' : 'none';\n",
              "\n",
              "        async function convertToInteractive(key) {\n",
              "          const element = document.querySelector('#df-4608d8d3-93df-452c-894f-3b90c33ff741');\n",
              "          const dataTable =\n",
              "            await google.colab.kernel.invokeFunction('convertToInteractive',\n",
              "                                                     [key], {});\n",
              "          if (!dataTable) return;\n",
              "\n",
              "          const docLinkHtml = 'Like what you see? Visit the ' +\n",
              "            '<a target=\"_blank\" href=https://colab.research.google.com/notebooks/data_table.ipynb>data table notebook</a>'\n",
              "            + ' to learn more about interactive tables.';\n",
              "          element.innerHTML = '';\n",
              "          dataTable['output_type'] = 'display_data';\n",
              "          await google.colab.output.renderOutput(dataTable, element);\n",
              "          const docLink = document.createElement('div');\n",
              "          docLink.innerHTML = docLinkHtml;\n",
              "          element.appendChild(docLink);\n",
              "        }\n",
              "      </script>\n",
              "    </div>\n",
              "  </div>\n",
              "  "
            ]
          },
          "metadata": {},
          "execution_count": 9
        }
      ]
    },
    {
      "cell_type": "markdown",
      "source": [
        "- Data appears to have loaded correctly."
      ],
      "metadata": {
        "id": "PR7F91WVziI0"
      }
    },
    {
      "cell_type": "markdown",
      "source": [
        "## **Clean the Data**"
      ],
      "metadata": {
        "id": "YHb4d4c9nPyz"
      }
    },
    {
      "cell_type": "code",
      "source": [
        "# Describe number columns\n",
        "df.describe()"
      ],
      "metadata": {
        "id": "KJu0uCWGVypA",
        "colab": {
          "base_uri": "https://localhost:8080/",
          "height": 364
        },
        "outputId": "792071e2-ef02-4208-e0f6-43cfb6f64d9b"
      },
      "execution_count": 10,
      "outputs": [
        {
          "output_type": "execute_result",
          "data": {
            "text/plain": [
              "               seqn          Age       Income    WaistCirc          BMI  \\\n",
              "count   2401.000000  2401.000000  2284.000000  2316.000000  2375.000000   \n",
              "mean   67030.674302    48.691795  4005.253940    98.307254    28.702189   \n",
              "std     2823.565114    17.632852  2954.032186    16.252634     6.662242   \n",
              "min    62161.000000    20.000000   300.000000    56.200000    13.400000   \n",
              "25%    64591.000000    34.000000  1600.000000    86.675000    24.000000   \n",
              "50%    67059.000000    48.000000  2500.000000    97.000000    27.700000   \n",
              "75%    69495.000000    63.000000  6200.000000   107.625000    32.100000   \n",
              "max    71915.000000    80.000000  9000.000000   176.000000    68.700000   \n",
              "\n",
              "       Albuminuria      UrAlbCr     UricAcid  BloodGlucose          HDL  \\\n",
              "count  2401.000000  2401.000000  2401.000000   2401.000000  2401.000000   \n",
              "mean      0.154102    43.626131     5.489046    108.247813    53.369429   \n",
              "std       0.422780   258.272829     1.439358     34.820657    15.185537   \n",
              "min       0.000000     1.400000     1.800000     39.000000    14.000000   \n",
              "25%       0.000000     4.450000     4.500000     92.000000    43.000000   \n",
              "50%       0.000000     7.070000     5.400000     99.000000    51.000000   \n",
              "75%       0.000000    13.690000     6.400000    110.000000    62.000000   \n",
              "max       2.000000  5928.000000    11.300000    382.000000   156.000000   \n",
              "\n",
              "       Triglycerides  \n",
              "count    2401.000000  \n",
              "mean      128.125364  \n",
              "std        95.322477  \n",
              "min        26.000000  \n",
              "25%        75.000000  \n",
              "50%       103.000000  \n",
              "75%       150.000000  \n",
              "max      1562.000000  "
            ],
            "text/html": [
              "\n",
              "  <div id=\"df-08a3a121-5d49-487e-99dd-e10a5297c6bc\">\n",
              "    <div class=\"colab-df-container\">\n",
              "      <div>\n",
              "<style scoped>\n",
              "    .dataframe tbody tr th:only-of-type {\n",
              "        vertical-align: middle;\n",
              "    }\n",
              "\n",
              "    .dataframe tbody tr th {\n",
              "        vertical-align: top;\n",
              "    }\n",
              "\n",
              "    .dataframe thead th {\n",
              "        text-align: right;\n",
              "    }\n",
              "</style>\n",
              "<table border=\"1\" class=\"dataframe\">\n",
              "  <thead>\n",
              "    <tr style=\"text-align: right;\">\n",
              "      <th></th>\n",
              "      <th>seqn</th>\n",
              "      <th>Age</th>\n",
              "      <th>Income</th>\n",
              "      <th>WaistCirc</th>\n",
              "      <th>BMI</th>\n",
              "      <th>Albuminuria</th>\n",
              "      <th>UrAlbCr</th>\n",
              "      <th>UricAcid</th>\n",
              "      <th>BloodGlucose</th>\n",
              "      <th>HDL</th>\n",
              "      <th>Triglycerides</th>\n",
              "    </tr>\n",
              "  </thead>\n",
              "  <tbody>\n",
              "    <tr>\n",
              "      <th>count</th>\n",
              "      <td>2401.000000</td>\n",
              "      <td>2401.000000</td>\n",
              "      <td>2284.000000</td>\n",
              "      <td>2316.000000</td>\n",
              "      <td>2375.000000</td>\n",
              "      <td>2401.000000</td>\n",
              "      <td>2401.000000</td>\n",
              "      <td>2401.000000</td>\n",
              "      <td>2401.000000</td>\n",
              "      <td>2401.000000</td>\n",
              "      <td>2401.000000</td>\n",
              "    </tr>\n",
              "    <tr>\n",
              "      <th>mean</th>\n",
              "      <td>67030.674302</td>\n",
              "      <td>48.691795</td>\n",
              "      <td>4005.253940</td>\n",
              "      <td>98.307254</td>\n",
              "      <td>28.702189</td>\n",
              "      <td>0.154102</td>\n",
              "      <td>43.626131</td>\n",
              "      <td>5.489046</td>\n",
              "      <td>108.247813</td>\n",
              "      <td>53.369429</td>\n",
              "      <td>128.125364</td>\n",
              "    </tr>\n",
              "    <tr>\n",
              "      <th>std</th>\n",
              "      <td>2823.565114</td>\n",
              "      <td>17.632852</td>\n",
              "      <td>2954.032186</td>\n",
              "      <td>16.252634</td>\n",
              "      <td>6.662242</td>\n",
              "      <td>0.422780</td>\n",
              "      <td>258.272829</td>\n",
              "      <td>1.439358</td>\n",
              "      <td>34.820657</td>\n",
              "      <td>15.185537</td>\n",
              "      <td>95.322477</td>\n",
              "    </tr>\n",
              "    <tr>\n",
              "      <th>min</th>\n",
              "      <td>62161.000000</td>\n",
              "      <td>20.000000</td>\n",
              "      <td>300.000000</td>\n",
              "      <td>56.200000</td>\n",
              "      <td>13.400000</td>\n",
              "      <td>0.000000</td>\n",
              "      <td>1.400000</td>\n",
              "      <td>1.800000</td>\n",
              "      <td>39.000000</td>\n",
              "      <td>14.000000</td>\n",
              "      <td>26.000000</td>\n",
              "    </tr>\n",
              "    <tr>\n",
              "      <th>25%</th>\n",
              "      <td>64591.000000</td>\n",
              "      <td>34.000000</td>\n",
              "      <td>1600.000000</td>\n",
              "      <td>86.675000</td>\n",
              "      <td>24.000000</td>\n",
              "      <td>0.000000</td>\n",
              "      <td>4.450000</td>\n",
              "      <td>4.500000</td>\n",
              "      <td>92.000000</td>\n",
              "      <td>43.000000</td>\n",
              "      <td>75.000000</td>\n",
              "    </tr>\n",
              "    <tr>\n",
              "      <th>50%</th>\n",
              "      <td>67059.000000</td>\n",
              "      <td>48.000000</td>\n",
              "      <td>2500.000000</td>\n",
              "      <td>97.000000</td>\n",
              "      <td>27.700000</td>\n",
              "      <td>0.000000</td>\n",
              "      <td>7.070000</td>\n",
              "      <td>5.400000</td>\n",
              "      <td>99.000000</td>\n",
              "      <td>51.000000</td>\n",
              "      <td>103.000000</td>\n",
              "    </tr>\n",
              "    <tr>\n",
              "      <th>75%</th>\n",
              "      <td>69495.000000</td>\n",
              "      <td>63.000000</td>\n",
              "      <td>6200.000000</td>\n",
              "      <td>107.625000</td>\n",
              "      <td>32.100000</td>\n",
              "      <td>0.000000</td>\n",
              "      <td>13.690000</td>\n",
              "      <td>6.400000</td>\n",
              "      <td>110.000000</td>\n",
              "      <td>62.000000</td>\n",
              "      <td>150.000000</td>\n",
              "    </tr>\n",
              "    <tr>\n",
              "      <th>max</th>\n",
              "      <td>71915.000000</td>\n",
              "      <td>80.000000</td>\n",
              "      <td>9000.000000</td>\n",
              "      <td>176.000000</td>\n",
              "      <td>68.700000</td>\n",
              "      <td>2.000000</td>\n",
              "      <td>5928.000000</td>\n",
              "      <td>11.300000</td>\n",
              "      <td>382.000000</td>\n",
              "      <td>156.000000</td>\n",
              "      <td>1562.000000</td>\n",
              "    </tr>\n",
              "  </tbody>\n",
              "</table>\n",
              "</div>\n",
              "      <button class=\"colab-df-convert\" onclick=\"convertToInteractive('df-08a3a121-5d49-487e-99dd-e10a5297c6bc')\"\n",
              "              title=\"Convert this dataframe to an interactive table.\"\n",
              "              style=\"display:none;\">\n",
              "        \n",
              "  <svg xmlns=\"http://www.w3.org/2000/svg\" height=\"24px\"viewBox=\"0 0 24 24\"\n",
              "       width=\"24px\">\n",
              "    <path d=\"M0 0h24v24H0V0z\" fill=\"none\"/>\n",
              "    <path d=\"M18.56 5.44l.94 2.06.94-2.06 2.06-.94-2.06-.94-.94-2.06-.94 2.06-2.06.94zm-11 1L8.5 8.5l.94-2.06 2.06-.94-2.06-.94L8.5 2.5l-.94 2.06-2.06.94zm10 10l.94 2.06.94-2.06 2.06-.94-2.06-.94-.94-2.06-.94 2.06-2.06.94z\"/><path d=\"M17.41 7.96l-1.37-1.37c-.4-.4-.92-.59-1.43-.59-.52 0-1.04.2-1.43.59L10.3 9.45l-7.72 7.72c-.78.78-.78 2.05 0 2.83L4 21.41c.39.39.9.59 1.41.59.51 0 1.02-.2 1.41-.59l7.78-7.78 2.81-2.81c.8-.78.8-2.07 0-2.86zM5.41 20L4 18.59l7.72-7.72 1.47 1.35L5.41 20z\"/>\n",
              "  </svg>\n",
              "      </button>\n",
              "      \n",
              "  <style>\n",
              "    .colab-df-container {\n",
              "      display:flex;\n",
              "      flex-wrap:wrap;\n",
              "      gap: 12px;\n",
              "    }\n",
              "\n",
              "    .colab-df-convert {\n",
              "      background-color: #E8F0FE;\n",
              "      border: none;\n",
              "      border-radius: 50%;\n",
              "      cursor: pointer;\n",
              "      display: none;\n",
              "      fill: #1967D2;\n",
              "      height: 32px;\n",
              "      padding: 0 0 0 0;\n",
              "      width: 32px;\n",
              "    }\n",
              "\n",
              "    .colab-df-convert:hover {\n",
              "      background-color: #E2EBFA;\n",
              "      box-shadow: 0px 1px 2px rgba(60, 64, 67, 0.3), 0px 1px 3px 1px rgba(60, 64, 67, 0.15);\n",
              "      fill: #174EA6;\n",
              "    }\n",
              "\n",
              "    [theme=dark] .colab-df-convert {\n",
              "      background-color: #3B4455;\n",
              "      fill: #D2E3FC;\n",
              "    }\n",
              "\n",
              "    [theme=dark] .colab-df-convert:hover {\n",
              "      background-color: #434B5C;\n",
              "      box-shadow: 0px 1px 3px 1px rgba(0, 0, 0, 0.15);\n",
              "      filter: drop-shadow(0px 1px 2px rgba(0, 0, 0, 0.3));\n",
              "      fill: #FFFFFF;\n",
              "    }\n",
              "  </style>\n",
              "\n",
              "      <script>\n",
              "        const buttonEl =\n",
              "          document.querySelector('#df-08a3a121-5d49-487e-99dd-e10a5297c6bc button.colab-df-convert');\n",
              "        buttonEl.style.display =\n",
              "          google.colab.kernel.accessAllowed ? 'block' : 'none';\n",
              "\n",
              "        async function convertToInteractive(key) {\n",
              "          const element = document.querySelector('#df-08a3a121-5d49-487e-99dd-e10a5297c6bc');\n",
              "          const dataTable =\n",
              "            await google.colab.kernel.invokeFunction('convertToInteractive',\n",
              "                                                     [key], {});\n",
              "          if (!dataTable) return;\n",
              "\n",
              "          const docLinkHtml = 'Like what you see? Visit the ' +\n",
              "            '<a target=\"_blank\" href=https://colab.research.google.com/notebooks/data_table.ipynb>data table notebook</a>'\n",
              "            + ' to learn more about interactive tables.';\n",
              "          element.innerHTML = '';\n",
              "          dataTable['output_type'] = 'display_data';\n",
              "          await google.colab.output.renderOutput(dataTable, element);\n",
              "          const docLink = document.createElement('div');\n",
              "          docLink.innerHTML = docLinkHtml;\n",
              "          element.appendChild(docLink);\n",
              "        }\n",
              "      </script>\n",
              "    </div>\n",
              "  </div>\n",
              "  "
            ]
          },
          "metadata": {},
          "execution_count": 10
        }
      ]
    },
    {
      "cell_type": "code",
      "source": [
        "# Describe non-number columns\n",
        "df.describe(exclude=\"number\")"
      ],
      "metadata": {
        "colab": {
          "base_uri": "https://localhost:8080/",
          "height": 175
        },
        "id": "9O9E5DDGxC4j",
        "outputId": "9201d79a-f8bb-426b-9fd4-582b87fc211c"
      },
      "execution_count": 12,
      "outputs": [
        {
          "output_type": "execute_result",
          "data": {
            "text/plain": [
              "           Sex  Marital   Race MetabolicSyndrome\n",
              "count     2401     2193   2401              2401\n",
              "unique       2        5      6                 2\n",
              "top     Female  Married  White         No MetSyn\n",
              "freq      1211     1192    933              1579"
            ],
            "text/html": [
              "\n",
              "  <div id=\"df-a9559f0b-ac5f-4740-abd7-0e59b7e62934\">\n",
              "    <div class=\"colab-df-container\">\n",
              "      <div>\n",
              "<style scoped>\n",
              "    .dataframe tbody tr th:only-of-type {\n",
              "        vertical-align: middle;\n",
              "    }\n",
              "\n",
              "    .dataframe tbody tr th {\n",
              "        vertical-align: top;\n",
              "    }\n",
              "\n",
              "    .dataframe thead th {\n",
              "        text-align: right;\n",
              "    }\n",
              "</style>\n",
              "<table border=\"1\" class=\"dataframe\">\n",
              "  <thead>\n",
              "    <tr style=\"text-align: right;\">\n",
              "      <th></th>\n",
              "      <th>Sex</th>\n",
              "      <th>Marital</th>\n",
              "      <th>Race</th>\n",
              "      <th>MetabolicSyndrome</th>\n",
              "    </tr>\n",
              "  </thead>\n",
              "  <tbody>\n",
              "    <tr>\n",
              "      <th>count</th>\n",
              "      <td>2401</td>\n",
              "      <td>2193</td>\n",
              "      <td>2401</td>\n",
              "      <td>2401</td>\n",
              "    </tr>\n",
              "    <tr>\n",
              "      <th>unique</th>\n",
              "      <td>2</td>\n",
              "      <td>5</td>\n",
              "      <td>6</td>\n",
              "      <td>2</td>\n",
              "    </tr>\n",
              "    <tr>\n",
              "      <th>top</th>\n",
              "      <td>Female</td>\n",
              "      <td>Married</td>\n",
              "      <td>White</td>\n",
              "      <td>No MetSyn</td>\n",
              "    </tr>\n",
              "    <tr>\n",
              "      <th>freq</th>\n",
              "      <td>1211</td>\n",
              "      <td>1192</td>\n",
              "      <td>933</td>\n",
              "      <td>1579</td>\n",
              "    </tr>\n",
              "  </tbody>\n",
              "</table>\n",
              "</div>\n",
              "      <button class=\"colab-df-convert\" onclick=\"convertToInteractive('df-a9559f0b-ac5f-4740-abd7-0e59b7e62934')\"\n",
              "              title=\"Convert this dataframe to an interactive table.\"\n",
              "              style=\"display:none;\">\n",
              "        \n",
              "  <svg xmlns=\"http://www.w3.org/2000/svg\" height=\"24px\"viewBox=\"0 0 24 24\"\n",
              "       width=\"24px\">\n",
              "    <path d=\"M0 0h24v24H0V0z\" fill=\"none\"/>\n",
              "    <path d=\"M18.56 5.44l.94 2.06.94-2.06 2.06-.94-2.06-.94-.94-2.06-.94 2.06-2.06.94zm-11 1L8.5 8.5l.94-2.06 2.06-.94-2.06-.94L8.5 2.5l-.94 2.06-2.06.94zm10 10l.94 2.06.94-2.06 2.06-.94-2.06-.94-.94-2.06-.94 2.06-2.06.94z\"/><path d=\"M17.41 7.96l-1.37-1.37c-.4-.4-.92-.59-1.43-.59-.52 0-1.04.2-1.43.59L10.3 9.45l-7.72 7.72c-.78.78-.78 2.05 0 2.83L4 21.41c.39.39.9.59 1.41.59.51 0 1.02-.2 1.41-.59l7.78-7.78 2.81-2.81c.8-.78.8-2.07 0-2.86zM5.41 20L4 18.59l7.72-7.72 1.47 1.35L5.41 20z\"/>\n",
              "  </svg>\n",
              "      </button>\n",
              "      \n",
              "  <style>\n",
              "    .colab-df-container {\n",
              "      display:flex;\n",
              "      flex-wrap:wrap;\n",
              "      gap: 12px;\n",
              "    }\n",
              "\n",
              "    .colab-df-convert {\n",
              "      background-color: #E8F0FE;\n",
              "      border: none;\n",
              "      border-radius: 50%;\n",
              "      cursor: pointer;\n",
              "      display: none;\n",
              "      fill: #1967D2;\n",
              "      height: 32px;\n",
              "      padding: 0 0 0 0;\n",
              "      width: 32px;\n",
              "    }\n",
              "\n",
              "    .colab-df-convert:hover {\n",
              "      background-color: #E2EBFA;\n",
              "      box-shadow: 0px 1px 2px rgba(60, 64, 67, 0.3), 0px 1px 3px 1px rgba(60, 64, 67, 0.15);\n",
              "      fill: #174EA6;\n",
              "    }\n",
              "\n",
              "    [theme=dark] .colab-df-convert {\n",
              "      background-color: #3B4455;\n",
              "      fill: #D2E3FC;\n",
              "    }\n",
              "\n",
              "    [theme=dark] .colab-df-convert:hover {\n",
              "      background-color: #434B5C;\n",
              "      box-shadow: 0px 1px 3px 1px rgba(0, 0, 0, 0.15);\n",
              "      filter: drop-shadow(0px 1px 2px rgba(0, 0, 0, 0.3));\n",
              "      fill: #FFFFFF;\n",
              "    }\n",
              "  </style>\n",
              "\n",
              "      <script>\n",
              "        const buttonEl =\n",
              "          document.querySelector('#df-a9559f0b-ac5f-4740-abd7-0e59b7e62934 button.colab-df-convert');\n",
              "        buttonEl.style.display =\n",
              "          google.colab.kernel.accessAllowed ? 'block' : 'none';\n",
              "\n",
              "        async function convertToInteractive(key) {\n",
              "          const element = document.querySelector('#df-a9559f0b-ac5f-4740-abd7-0e59b7e62934');\n",
              "          const dataTable =\n",
              "            await google.colab.kernel.invokeFunction('convertToInteractive',\n",
              "                                                     [key], {});\n",
              "          if (!dataTable) return;\n",
              "\n",
              "          const docLinkHtml = 'Like what you see? Visit the ' +\n",
              "            '<a target=\"_blank\" href=https://colab.research.google.com/notebooks/data_table.ipynb>data table notebook</a>'\n",
              "            + ' to learn more about interactive tables.';\n",
              "          element.innerHTML = '';\n",
              "          dataTable['output_type'] = 'display_data';\n",
              "          await google.colab.output.renderOutput(dataTable, element);\n",
              "          const docLink = document.createElement('div');\n",
              "          docLink.innerHTML = docLinkHtml;\n",
              "          element.appendChild(docLink);\n",
              "        }\n",
              "      </script>\n",
              "    </div>\n",
              "  </div>\n",
              "  "
            ]
          },
          "metadata": {},
          "execution_count": 12
        }
      ]
    },
    {
      "cell_type": "markdown",
      "source": [
        "### **Remove Duplicates**"
      ],
      "metadata": {
        "id": "vv_rktD5nYuP"
      }
    },
    {
      "cell_type": "code",
      "source": [
        "# Count the number of duplicate rows.\n",
        "df.duplicated().sum()"
      ],
      "metadata": {
        "id": "1LE-ina0VEsw",
        "colab": {
          "base_uri": "https://localhost:8080/"
        },
        "outputId": "4414bdbe-a885-4897-ae67-06dfaa1edce5"
      },
      "execution_count": 13,
      "outputs": [
        {
          "output_type": "execute_result",
          "data": {
            "text/plain": [
              "0"
            ]
          },
          "metadata": {},
          "execution_count": 13
        }
      ]
    },
    {
      "cell_type": "code",
      "source": [
        "# Drop the duplicate wows\n",
        "df.drop_duplicates(keep='first', inplace=True)\n",
        "df.shape"
      ],
      "metadata": {
        "id": "lgJgBl62OLL-",
        "colab": {
          "base_uri": "https://localhost:8080/"
        },
        "outputId": "60f65740-8df6-455e-f0e3-694a0666b10b"
      },
      "execution_count": 14,
      "outputs": [
        {
          "output_type": "execute_result",
          "data": {
            "text/plain": [
              "(2401, 15)"
            ]
          },
          "metadata": {},
          "execution_count": 14
        }
      ]
    },
    {
      "cell_type": "code",
      "source": [
        "# Confirm duplicate rows have been dropped\n",
        "df.duplicated().sum()"
      ],
      "metadata": {
        "colab": {
          "base_uri": "https://localhost:8080/"
        },
        "id": "6VooH6jljjCW",
        "outputId": "fb4648c7-3874-4cc3-9b0f-4c912592dd17"
      },
      "execution_count": 15,
      "outputs": [
        {
          "output_type": "execute_result",
          "data": {
            "text/plain": [
              "0"
            ]
          },
          "metadata": {},
          "execution_count": 15
        }
      ]
    },
    {
      "cell_type": "markdown",
      "source": [
        "- No duplicates were found or dropped."
      ],
      "metadata": {
        "id": "3Obw09ip0C_q"
      }
    },
    {
      "cell_type": "markdown",
      "source": [
        "### **Missing Values**"
      ],
      "metadata": {
        "id": "d-728pLSPPRf"
      }
    },
    {
      "cell_type": "code",
      "source": [
        "# Missing number display\n",
        "msno.matrix(df, figsize=(16,3), labels=True, fontsize=12, sort=\"descending\", color=\t(.25,.4,.85));"
      ],
      "metadata": {
        "id": "PDDJB1iTGSi5",
        "colab": {
          "base_uri": "https://localhost:8080/",
          "height": 282
        },
        "outputId": "253a17d9-4a09-48a0-b135-e689ce24ec25"
      },
      "execution_count": 16,
      "outputs": [
        {
          "output_type": "display_data",
          "data": {
            "text/plain": [
              "<Figure size 1152x216 with 2 Axes>"
            ],
            "image/png": "[encoded data removed]"
          },
          "metadata": {
            "needs_background": "light"
          }
        }
      ]
    },
    {
      "cell_type": "code",
      "source": [
        "print(df.isna().sum())"
      ],
      "metadata": {
        "id": "KaEA3qPZVdMw",
        "colab": {
          "base_uri": "https://localhost:8080/"
        },
        "outputId": "3950b4d3-ddd7-4311-8ef8-30352da3a818"
      },
      "execution_count": 17,
      "outputs": [
        {
          "output_type": "stream",
          "name": "stdout",
          "text": [
            "seqn                   0\n",
            "Age                    0\n",
            "Sex                    0\n",
            "Marital              208\n",
            "Income               117\n",
            "Race                   0\n",
            "WaistCirc             85\n",
            "BMI                   26\n",
            "Albuminuria            0\n",
            "UrAlbCr                0\n",
            "UricAcid               0\n",
            "BloodGlucose           0\n",
            "HDL                    0\n",
            "Triglycerides          0\n",
            "MetabolicSyndrome      0\n",
            "dtype: int64\n"
          ]
        }
      ]
    },
    {
      "cell_type": "markdown",
      "source": [
        "- 'Marital', 'Income', 'WaistCirc' and 'BMI' columns have missing values."
      ],
      "metadata": {
        "id": "9WqZt5ZVPcn7"
      }
    },
    {
      "cell_type": "markdown",
      "source": [
        "#### 'Marital' column\n",
        "- 'Marital' has 208 missing values. "
      ],
      "metadata": {
        "id": "SmTEIXGjaLLq"
      }
    },
    {
      "cell_type": "code",
      "source": [
        "# Display rows with missing 'Age' values and their count\n",
        "print(df.Marital.isna().sum())\n",
        "df[df.Marital.isna()][0:50]"
      ],
      "metadata": {
        "id": "AuJlgC44w2WH",
        "colab": {
          "base_uri": "https://localhost:8080/",
          "height": 1000
        },
        "outputId": "17e39406-1f2b-45f4-cb5f-d96c385e6bdc"
      },
      "execution_count": 21,
      "outputs": [
        {
          "output_type": "stream",
          "name": "stdout",
          "text": [
            "208\n"
          ]
        },
        {
          "output_type": "execute_result",
          "data": {
            "text/plain": [
              "      seqn  Age     Sex Marital  Income         Race  WaistCirc   BMI  \\\n",
              "9    62195   35    Male     NaN  2500.0        Black       99.0  28.2   \n",
              "10   62199   57    Male     NaN  9000.0        White      107.8  28.0   \n",
              "24   62239   22  Female     NaN   300.0     Hispanic       78.9  23.3   \n",
              "42   62332   22    Male     NaN  1600.0        White      110.7  32.6   \n",
              "64   62413   65    Male     NaN  2000.0        White      127.5  40.0   \n",
              "73   62464   32    Male     NaN  3500.0        White       98.6  28.2   \n",
              "78   62475   22    Male     NaN   300.0        White       85.1  25.8   \n",
              "83   62482   32  Female     NaN  2500.0        White       94.4  26.5   \n",
              "88   62502   35    Male     NaN  1000.0        Black      112.0  36.5   \n",
              "89   62504   30  Female     NaN  1000.0     Hispanic      111.5  38.9   \n",
              "97   62528   40    Male     NaN     NaN     Hispanic       87.7  24.8   \n",
              "110  62587   73    Male     NaN  1000.0        White       98.9  24.8   \n",
              "134  62701   29  Female     NaN  4500.0     Hispanic      101.8  29.9   \n",
              "158  62789   26  Female     NaN  2000.0        Asian       96.2  31.8   \n",
              "165  62817   41    Male     NaN  1000.0        Black      112.2  31.9   \n",
              "177  62874   33  Female     NaN  2500.0  MexAmerican      101.0  31.5   \n",
              "182  62892   50    Male     NaN  1600.0        Black       92.9  28.5   \n",
              "184  62899   45  Female     NaN     NaN     Hispanic       82.6  24.5   \n",
              "210  63023   25    Male     NaN  1000.0        White       77.3  22.4   \n",
              "211  63030   21    Male     NaN  1000.0  MexAmerican       93.7  25.9   \n",
              "223  63082   59  Female     NaN   800.0        White       83.0  22.1   \n",
              "226  63091   70    Male     NaN  4500.0        White      121.8  31.3   \n",
              "234  63117   24    Male     NaN  2000.0        Asian       91.0  26.2   \n",
              "240  63133   24    Male     NaN  4500.0  MexAmerican       98.4  29.8   \n",
              "264  63214   37    Male     NaN  2000.0  MexAmerican      110.0  31.9   \n",
              "307  63357   31  Female     NaN  1600.0  MexAmerican      114.0  39.2   \n",
              "314  63385   62  Female     NaN  2000.0        Black      106.8  33.3   \n",
              "318  63400   21  Female     NaN  2500.0        Black       97.1  28.6   \n",
              "328  63472   24  Female     NaN  2000.0        White       94.6  24.6   \n",
              "336  63499   33  Female     NaN  4500.0     Hispanic      115.5  43.2   \n",
              "345  63531   32    Male     NaN  1500.0  MexAmerican       94.1  28.0   \n",
              "357  63571   36    Male     NaN  6200.0        Asian       85.0  25.4   \n",
              "360  63576   46    Male     NaN  9000.0     Hispanic       99.0  27.7   \n",
              "364  63602   34    Male     NaN  2000.0        Black       73.8  20.5   \n",
              "370  63625   23  Female     NaN   800.0  MexAmerican       82.1  22.5   \n",
              "376  63642   25    Male     NaN   800.0        Black       96.6  28.9   \n",
              "403  63741   72    Male     NaN  1600.0  MexAmerican      101.0  25.7   \n",
              "407  63753   33    Male     NaN  1000.0  MexAmerican       90.0  26.0   \n",
              "415  63781   63  Female     NaN  4500.0     Hispanic      104.2  30.4   \n",
              "426  63831   23  Female     NaN  1700.0        Black      100.4  30.4   \n",
              "434  63858   20  Female     NaN  4500.0     Hispanic      106.2  39.1   \n",
              "456  63948   50  Female     NaN  8200.0        Black      100.0  28.1   \n",
              "459  63959   41    Male     NaN  2500.0        White       96.7  26.1   \n",
              "461  63966   34  Female     NaN   300.0        Black      124.6  42.0   \n",
              "476  64025   31    Male     NaN  8200.0        White       93.7  26.5   \n",
              "480  64036   69    Male     NaN  2000.0        White      120.1  30.3   \n",
              "481  64037   28    Male     NaN  9000.0        Other       97.2  29.1   \n",
              "483  64046   39  Female     NaN   800.0        Black      112.1  31.8   \n",
              "501  64139   32  Female     NaN  1600.0     Hispanic       80.0  25.7   \n",
              "502  64147   34  Female     NaN  1000.0  MexAmerican       86.4  25.5   \n",
              "\n",
              "     Albuminuria  UrAlbCr  UricAcid  BloodGlucose  HDL  Triglycerides  \\\n",
              "9              0     2.21       6.7            94   46             86   \n",
              "10             0     4.16       6.0           100   35             98   \n",
              "24             0     5.33       4.1            90   42             68   \n",
              "42             0     8.83       8.0           112   43            178   \n",
              "64             0     8.73       9.3            70   63            169   \n",
              "73             0     5.20       6.8            95   51            122   \n",
              "78             0     2.65       6.0            84   51             61   \n",
              "83             0     7.23       4.5            85   47            122   \n",
              "88             0     3.16       7.2           101   62            111   \n",
              "89             0     5.33       5.0            92   43            134   \n",
              "97             0     3.29       5.7           101   43            207   \n",
              "110            0     4.40       5.0           126   61             71   \n",
              "134            0     4.85       3.4           105   64            115   \n",
              "158            0     7.50       4.7            99   49            117   \n",
              "165            0    13.72       5.2           223   46             48   \n",
              "177            0    13.75       5.9           102   30            384   \n",
              "182            0     6.17       4.7           103   53             81   \n",
              "184            0    24.69       3.1            88   69             50   \n",
              "210            0    14.92       5.2            85   47             35   \n",
              "211            0     2.37       7.8            88   40             89   \n",
              "223            0     4.11       5.8            91   53             82   \n",
              "226            0     5.05       6.1            97   61            147   \n",
              "234            0    12.81       8.0           101   41            323   \n",
              "240            0     9.23       5.8           100   41             86   \n",
              "264            0     4.48       5.3           103   49            103   \n",
              "307            0    18.72       5.8            96   52            173   \n",
              "314            0     5.56       3.4           102   87             77   \n",
              "318            1    44.29       6.4            90   70             62   \n",
              "328            0     4.77       3.9            90   52             81   \n",
              "336            0     7.31       2.8           270   23            179   \n",
              "345            0     8.62       8.7            91   42             53   \n",
              "357            0     4.41       4.4           102   59             66   \n",
              "360            0     2.45       5.2           104   34            347   \n",
              "364            0    12.81       4.6           275   60            236   \n",
              "370            1   134.36       3.9            95   62             44   \n",
              "376            0     9.25       6.6            97   50            154   \n",
              "403            0     3.49       5.6            99  106             89   \n",
              "407            0     6.43       6.7           107   42            133   \n",
              "415            0    10.61       3.8           105   44            177   \n",
              "426            0     6.22       5.8           102   40            256   \n",
              "434            0     6.31       3.4            71   52            130   \n",
              "456            0     5.64       5.3            98   82             83   \n",
              "459            0     6.63       2.1            89   32            336   \n",
              "461            0     9.83       5.0           100   51             88   \n",
              "476            0     3.44       7.7            80   58             74   \n",
              "480            1    62.50       7.8           110   49            142   \n",
              "481            0     6.58       5.5            94   44            125   \n",
              "483            2   689.47       6.2            88   36            197   \n",
              "501            0     4.94       3.6            91   45             67   \n",
              "502            0     3.73       2.8            81   52             75   \n",
              "\n",
              "    MetabolicSyndrome  \n",
              "9           No MetSyn  \n",
              "10             MetSyn  \n",
              "24          No MetSyn  \n",
              "42             MetSyn  \n",
              "64             MetSyn  \n",
              "73          No MetSyn  \n",
              "78          No MetSyn  \n",
              "83          No MetSyn  \n",
              "88          No MetSyn  \n",
              "89          No MetSyn  \n",
              "97          No MetSyn  \n",
              "110         No MetSyn  \n",
              "134         No MetSyn  \n",
              "158         No MetSyn  \n",
              "165         No MetSyn  \n",
              "177            MetSyn  \n",
              "182         No MetSyn  \n",
              "184         No MetSyn  \n",
              "210         No MetSyn  \n",
              "211         No MetSyn  \n",
              "223         No MetSyn  \n",
              "226         No MetSyn  \n",
              "234            MetSyn  \n",
              "240         No MetSyn  \n",
              "264         No MetSyn  \n",
              "307         No MetSyn  \n",
              "314            MetSyn  \n",
              "318         No MetSyn  \n",
              "328         No MetSyn  \n",
              "336            MetSyn  \n",
              "345         No MetSyn  \n",
              "357         No MetSyn  \n",
              "360            MetSyn  \n",
              "364            MetSyn  \n",
              "370         No MetSyn  \n",
              "376         No MetSyn  \n",
              "403         No MetSyn  \n",
              "407         No MetSyn  \n",
              "415            MetSyn  \n",
              "426            MetSyn  \n",
              "434         No MetSyn  \n",
              "456         No MetSyn  \n",
              "459            MetSyn  \n",
              "461            MetSyn  \n",
              "476         No MetSyn  \n",
              "480            MetSyn  \n",
              "481         No MetSyn  \n",
              "483            MetSyn  \n",
              "501         No MetSyn  \n",
              "502         No MetSyn  "
            ],
            "text/html": [
              "\n",
              "  <div id=\"df-70bc61bb-57f2-4c8f-9985-07c2ff0f6cde\">\n",
              "    <div class=\"colab-df-container\">\n",
              "      <div>\n",
              "<style scoped>\n",
              "    .dataframe tbody tr th:only-of-type {\n",
              "        vertical-align: middle;\n",
              "    }\n",
              "\n",
              "    .dataframe tbody tr th {\n",
              "        vertical-align: top;\n",
              "    }\n",
              "\n",
              "    .dataframe thead th {\n",
              "        text-align: right;\n",
              "    }\n",
              "</style>\n",
              "<table border=\"1\" class=\"dataframe\">\n",
              "  <thead>\n",
              "    <tr style=\"text-align: right;\">\n",
              "      <th></th>\n",
              "      <th>seqn</th>\n",
              "      <th>Age</th>\n",
              "      <th>Sex</th>\n",
              "      <th>Marital</th>\n",
              "      <th>Income</th>\n",
              "      <th>Race</th>\n",
              "      <th>WaistCirc</th>\n",
              "      <th>BMI</th>\n",
              "      <th>Albuminuria</th>\n",
              "      <th>UrAlbCr</th>\n",
              "      <th>UricAcid</th>\n",
              "      <th>BloodGlucose</th>\n",
              "      <th>HDL</th>\n",
              "      <th>Triglycerides</th>\n",
              "      <th>MetabolicSyndrome</th>\n",
              "    </tr>\n",
              "  </thead>\n",
              "  <tbody>\n",
              "    <tr>\n",
              "      <th>9</th>\n",
              "      <td>62195</td>\n",
              "      <td>35</td>\n",
              "      <td>Male</td>\n",
              "      <td>NaN</td>\n",
              "      <td>2500.0</td>\n",
              "      <td>Black</td>\n",
              "      <td>99.0</td>\n",
              "      <td>28.2</td>\n",
              "      <td>0</td>\n",
              "      <td>2.21</td>\n",
              "      <td>6.7</td>\n",
              "      <td>94</td>\n",
              "      <td>46</td>\n",
              "      <td>86</td>\n",
              "      <td>No MetSyn</td>\n",
              "    </tr>\n",
              "    <tr>\n",
              "      <th>10</th>\n",
              "      <td>62199</td>\n",
              "      <td>57</td>\n",
              "      <td>Male</td>\n",
              "      <td>NaN</td>\n",
              "      <td>9000.0</td>\n",
              "      <td>White</td>\n",
              "      <td>107.8</td>\n",
              "      <td>28.0</td>\n",
              "      <td>0</td>\n",
              "      <td>4.16</td>\n",
              "      <td>6.0</td>\n",
              "      <td>100</td>\n",
              "      <td>35</td>\n",
              "      <td>98</td>\n",
              "      <td>MetSyn</td>\n",
              "    </tr>\n",
              "    <tr>\n",
              "      <th>24</th>\n",
              "      <td>62239</td>\n",
              "      <td>22</td>\n",
              "      <td>Female</td>\n",
              "      <td>NaN</td>\n",
              "      <td>300.0</td>\n",
              "      <td>Hispanic</td>\n",
              "      <td>78.9</td>\n",
              "      <td>23.3</td>\n",
              "      <td>0</td>\n",
              "      <td>5.33</td>\n",
              "      <td>4.1</td>\n",
              "      <td>90</td>\n",
              "      <td>42</td>\n",
              "      <td>68</td>\n",
              "      <td>No MetSyn</td>\n",
              "    </tr>\n",
              "    <tr>\n",
              "      <th>42</th>\n",
              "      <td>62332</td>\n",
              "      <td>22</td>\n",
              "      <td>Male</td>\n",
              "      <td>NaN</td>\n",
              "      <td>1600.0</td>\n",
              "      <td>White</td>\n",
              "      <td>110.7</td>\n",
              "      <td>32.6</td>\n",
              "      <td>0</td>\n",
              "      <td>8.83</td>\n",
              "      <td>8.0</td>\n",
              "      <td>112</td>\n",
              "      <td>43</td>\n",
              "      <td>178</td>\n",
              "      <td>MetSyn</td>\n",
              "    </tr>\n",
              "    <tr>\n",
              "      <th>64</th>\n",
              "      <td>62413</td>\n",
              "      <td>65</td>\n",
              "      <td>Male</td>\n",
              "      <td>NaN</td>\n",
              "      <td>2000.0</td>\n",
              "      <td>White</td>\n",
              "      <td>127.5</td>\n",
              "      <td>40.0</td>\n",
              "      <td>0</td>\n",
              "      <td>8.73</td>\n",
              "      <td>9.3</td>\n",
              "      <td>70</td>\n",
              "      <td>63</td>\n",
              "      <td>169</td>\n",
              "      <td>MetSyn</td>\n",
              "    </tr>\n",
              "    <tr>\n",
              "      <th>73</th>\n",
              "      <td>62464</td>\n",
              "      <td>32</td>\n",
              "      <td>Male</td>\n",
              "      <td>NaN</td>\n",
              "      <td>3500.0</td>\n",
              "      <td>White</td>\n",
              "      <td>98.6</td>\n",
              "      <td>28.2</td>\n",
              "      <td>0</td>\n",
              "      <td>5.20</td>\n",
              "      <td>6.8</td>\n",
              "      <td>95</td>\n",
              "      <td>51</td>\n",
              "      <td>122</td>\n",
              "      <td>No MetSyn</td>\n",
              "    </tr>\n",
              "    <tr>\n",
              "      <th>78</th>\n",
              "      <td>62475</td>\n",
              "      <td>22</td>\n",
              "      <td>Male</td>\n",
              "      <td>NaN</td>\n",
              "      <td>300.0</td>\n",
              "      <td>White</td>\n",
              "      <td>85.1</td>\n",
              "      <td>25.8</td>\n",
              "      <td>0</td>\n",
              "      <td>2.65</td>\n",
              "      <td>6.0</td>\n",
              "      <td>84</td>\n",
              "      <td>51</td>\n",
              "      <td>61</td>\n",
              "      <td>No MetSyn</td>\n",
              "    </tr>\n",
              "    <tr>\n",
              "      <th>83</th>\n",
              "      <td>62482</td>\n",
              "      <td>32</td>\n",
              "      <td>Female</td>\n",
              "      <td>NaN</td>\n",
              "      <td>2500.0</td>\n",
              "      <td>White</td>\n",
              "      <td>94.4</td>\n",
              "      <td>26.5</td>\n",
              "      <td>0</td>\n",
              "      <td>7.23</td>\n",
              "      <td>4.5</td>\n",
              "      <td>85</td>\n",
              "      <td>47</td>\n",
              "      <td>122</td>\n",
              "      <td>No MetSyn</td>\n",
              "    </tr>\n",
              "    <tr>\n",
              "      <th>88</th>\n",
              "      <td>62502</td>\n",
              "      <td>35</td>\n",
              "      <td>Male</td>\n",
              "      <td>NaN</td>\n",
              "      <td>1000.0</td>\n",
              "      <td>Black</td>\n",
              "      <td>112.0</td>\n",
              "      <td>36.5</td>\n",
              "      <td>0</td>\n",
              "      <td>3.16</td>\n",
              "      <td>7.2</td>\n",
              "      <td>101</td>\n",
              "      <td>62</td>\n",
              "      <td>111</td>\n",
              "      <td>No MetSyn</td>\n",
              "    </tr>\n",
              "    <tr>\n",
              "      <th>89</th>\n",
              "      <td>62504</td>\n",
              "      <td>30</td>\n",
              "      <td>Female</td>\n",
              "      <td>NaN</td>\n",
              "      <td>1000.0</td>\n",
              "      <td>Hispanic</td>\n",
              "      <td>111.5</td>\n",
              "      <td>38.9</td>\n",
              "      <td>0</td>\n",
              "      <td>5.33</td>\n",
              "      <td>5.0</td>\n",
              "      <td>92</td>\n",
              "      <td>43</td>\n",
              "      <td>134</td>\n",
              "      <td>No MetSyn</td>\n",
              "    </tr>\n",
              "    <tr>\n",
              "      <th>97</th>\n",
              "      <td>62528</td>\n",
              "      <td>40</td>\n",
              "      <td>Male</td>\n",
              "      <td>NaN</td>\n",
              "      <td>NaN</td>\n",
              "      <td>Hispanic</td>\n",
              "      <td>87.7</td>\n",
              "      <td>24.8</td>\n",
              "      <td>0</td>\n",
              "      <td>3.29</td>\n",
              "      <td>5.7</td>\n",
              "      <td>101</td>\n",
              "      <td>43</td>\n",
              "      <td>207</td>\n",
              "      <td>No MetSyn</td>\n",
              "    </tr>\n",
              "    <tr>\n",
              "      <th>110</th>\n",
              "      <td>62587</td>\n",
              "      <td>73</td>\n",
              "      <td>Male</td>\n",
              "      <td>NaN</td>\n",
              "      <td>1000.0</td>\n",
              "      <td>White</td>\n",
              "      <td>98.9</td>\n",
              "      <td>24.8</td>\n",
              "      <td>0</td>\n",
              "      <td>4.40</td>\n",
              "      <td>5.0</td>\n",
              "      <td>126</td>\n",
              "      <td>61</td>\n",
              "      <td>71</td>\n",
              "      <td>No MetSyn</td>\n",
              "    </tr>\n",
              "    <tr>\n",
              "      <th>134</th>\n",
              "      <td>62701</td>\n",
              "      <td>29</td>\n",
              "      <td>Female</td>\n",
              "      <td>NaN</td>\n",
              "      <td>4500.0</td>\n",
              "      <td>Hispanic</td>\n",
              "      <td>101.8</td>\n",
              "      <td>29.9</td>\n",
              "      <td>0</td>\n",
              "      <td>4.85</td>\n",
              "      <td>3.4</td>\n",
              "      <td>105</td>\n",
              "      <td>64</td>\n",
              "      <td>115</td>\n",
              "      <td>No MetSyn</td>\n",
              "    </tr>\n",
              "    <tr>\n",
              "      <th>158</th>\n",
              "      <td>62789</td>\n",
              "      <td>26</td>\n",
              "      <td>Female</td>\n",
              "      <td>NaN</td>\n",
              "      <td>2000.0</td>\n",
              "      <td>Asian</td>\n",
              "      <td>96.2</td>\n",
              "      <td>31.8</td>\n",
              "      <td>0</td>\n",
              "      <td>7.50</td>\n",
              "      <td>4.7</td>\n",
              "      <td>99</td>\n",
              "      <td>49</td>\n",
              "      <td>117</td>\n",
              "      <td>No MetSyn</td>\n",
              "    </tr>\n",
              "    <tr>\n",
              "      <th>165</th>\n",
              "      <td>62817</td>\n",
              "      <td>41</td>\n",
              "      <td>Male</td>\n",
              "      <td>NaN</td>\n",
              "      <td>1000.0</td>\n",
              "      <td>Black</td>\n",
              "      <td>112.2</td>\n",
              "      <td>31.9</td>\n",
              "      <td>0</td>\n",
              "      <td>13.72</td>\n",
              "      <td>5.2</td>\n",
              "      <td>223</td>\n",
              "      <td>46</td>\n",
              "      <td>48</td>\n",
              "      <td>No MetSyn</td>\n",
              "    </tr>\n",
              "    <tr>\n",
              "      <th>177</th>\n",
              "      <td>62874</td>\n",
              "      <td>33</td>\n",
              "      <td>Female</td>\n",
              "      <td>NaN</td>\n",
              "      <td>2500.0</td>\n",
              "      <td>MexAmerican</td>\n",
              "      <td>101.0</td>\n",
              "      <td>31.5</td>\n",
              "      <td>0</td>\n",
              "      <td>13.75</td>\n",
              "      <td>5.9</td>\n",
              "      <td>102</td>\n",
              "      <td>30</td>\n",
              "      <td>384</td>\n",
              "      <td>MetSyn</td>\n",
              "    </tr>\n",
              "    <tr>\n",
              "      <th>182</th>\n",
              "      <td>62892</td>\n",
              "      <td>50</td>\n",
              "      <td>Male</td>\n",
              "      <td>NaN</td>\n",
              "      <td>1600.0</td>\n",
              "      <td>Black</td>\n",
              "      <td>92.9</td>\n",
              "      <td>28.5</td>\n",
              "      <td>0</td>\n",
              "      <td>6.17</td>\n",
              "      <td>4.7</td>\n",
              "      <td>103</td>\n",
              "      <td>53</td>\n",
              "      <td>81</td>\n",
              "      <td>No MetSyn</td>\n",
              "    </tr>\n",
              "    <tr>\n",
              "      <th>184</th>\n",
              "      <td>62899</td>\n",
              "      <td>45</td>\n",
              "      <td>Female</td>\n",
              "      <td>NaN</td>\n",
              "      <td>NaN</td>\n",
              "      <td>Hispanic</td>\n",
              "      <td>82.6</td>\n",
              "      <td>24.5</td>\n",
              "      <td>0</td>\n",
              "      <td>24.69</td>\n",
              "      <td>3.1</td>\n",
              "      <td>88</td>\n",
              "      <td>69</td>\n",
              "      <td>50</td>\n",
              "      <td>No MetSyn</td>\n",
              "    </tr>\n",
              "    <tr>\n",
              "      <th>210</th>\n",
              "      <td>63023</td>\n",
              "      <td>25</td>\n",
              "      <td>Male</td>\n",
              "      <td>NaN</td>\n",
              "      <td>1000.0</td>\n",
              "      <td>White</td>\n",
              "      <td>77.3</td>\n",
              "      <td>22.4</td>\n",
              "      <td>0</td>\n",
              "      <td>14.92</td>\n",
              "      <td>5.2</td>\n",
              "      <td>85</td>\n",
              "      <td>47</td>\n",
              "      <td>35</td>\n",
              "      <td>No MetSyn</td>\n",
              "    </tr>\n",
              "    <tr>\n",
              "      <th>211</th>\n",
              "      <td>63030</td>\n",
              "      <td>21</td>\n",
              "      <td>Male</td>\n",
              "      <td>NaN</td>\n",
              "      <td>1000.0</td>\n",
              "      <td>MexAmerican</td>\n",
              "      <td>93.7</td>\n",
              "      <td>25.9</td>\n",
              "      <td>0</td>\n",
              "      <td>2.37</td>\n",
              "      <td>7.8</td>\n",
              "      <td>88</td>\n",
              "      <td>40</td>\n",
              "      <td>89</td>\n",
              "      <td>No MetSyn</td>\n",
              "    </tr>\n",
              "    <tr>\n",
              "      <th>223</th>\n",
              "      <td>63082</td>\n",
              "      <td>59</td>\n",
              "      <td>Female</td>\n",
              "      <td>NaN</td>\n",
              "      <td>800.0</td>\n",
              "      <td>White</td>\n",
              "      <td>83.0</td>\n",
              "      <td>22.1</td>\n",
              "      <td>0</td>\n",
              "      <td>4.11</td>\n",
              "      <td>5.8</td>\n",
              "      <td>91</td>\n",
              "      <td>53</td>\n",
              "      <td>82</td>\n",
              "      <td>No MetSyn</td>\n",
              "    </tr>\n",
              "    <tr>\n",
              "      <th>226</th>\n",
              "      <td>63091</td>\n",
              "      <td>70</td>\n",
              "      <td>Male</td>\n",
              "      <td>NaN</td>\n",
              "      <td>4500.0</td>\n",
              "      <td>White</td>\n",
              "      <td>121.8</td>\n",
              "      <td>31.3</td>\n",
              "      <td>0</td>\n",
              "      <td>5.05</td>\n",
              "      <td>6.1</td>\n",
              "      <td>97</td>\n",
              "      <td>61</td>\n",
              "      <td>147</td>\n",
              "      <td>No MetSyn</td>\n",
              "    </tr>\n",
              "    <tr>\n",
              "      <th>234</th>\n",
              "      <td>63117</td>\n",
              "      <td>24</td>\n",
              "      <td>Male</td>\n",
              "      <td>NaN</td>\n",
              "      <td>2000.0</td>\n",
              "      <td>Asian</td>\n",
              "      <td>91.0</td>\n",
              "      <td>26.2</td>\n",
              "      <td>0</td>\n",
              "      <td>12.81</td>\n",
              "      <td>8.0</td>\n",
              "      <td>101</td>\n",
              "      <td>41</td>\n",
              "      <td>323</td>\n",
              "      <td>MetSyn</td>\n",
              "    </tr>\n",
              "    <tr>\n",
              "      <th>240</th>\n",
              "      <td>63133</td>\n",
              "      <td>24</td>\n",
              "      <td>Male</td>\n",
              "      <td>NaN</td>\n",
              "      <td>4500.0</td>\n",
              "      <td>MexAmerican</td>\n",
              "      <td>98.4</td>\n",
              "      <td>29.8</td>\n",
              "      <td>0</td>\n",
              "      <td>9.23</td>\n",
              "      <td>5.8</td>\n",
              "      <td>100</td>\n",
              "      <td>41</td>\n",
              "      <td>86</td>\n",
              "      <td>No MetSyn</td>\n",
              "    </tr>\n",
              "    <tr>\n",
              "      <th>264</th>\n",
              "      <td>63214</td>\n",
              "      <td>37</td>\n",
              "      <td>Male</td>\n",
              "      <td>NaN</td>\n",
              "      <td>2000.0</td>\n",
              "      <td>MexAmerican</td>\n",
              "      <td>110.0</td>\n",
              "      <td>31.9</td>\n",
              "      <td>0</td>\n",
              "      <td>4.48</td>\n",
              "      <td>5.3</td>\n",
              "      <td>103</td>\n",
              "      <td>49</td>\n",
              "      <td>103</td>\n",
              "      <td>No MetSyn</td>\n",
              "    </tr>\n",
              "    <tr>\n",
              "      <th>307</th>\n",
              "      <td>63357</td>\n",
              "      <td>31</td>\n",
              "      <td>Female</td>\n",
              "      <td>NaN</td>\n",
              "      <td>1600.0</td>\n",
              "      <td>MexAmerican</td>\n",
              "      <td>114.0</td>\n",
              "      <td>39.2</td>\n",
              "      <td>0</td>\n",
              "      <td>18.72</td>\n",
              "      <td>5.8</td>\n",
              "      <td>96</td>\n",
              "      <td>52</td>\n",
              "      <td>173</td>\n",
              "      <td>No MetSyn</td>\n",
              "    </tr>\n",
              "    <tr>\n",
              "      <th>314</th>\n",
              "      <td>63385</td>\n",
              "      <td>62</td>\n",
              "      <td>Female</td>\n",
              "      <td>NaN</td>\n",
              "      <td>2000.0</td>\n",
              "      <td>Black</td>\n",
              "      <td>106.8</td>\n",
              "      <td>33.3</td>\n",
              "      <td>0</td>\n",
              "      <td>5.56</td>\n",
              "      <td>3.4</td>\n",
              "      <td>102</td>\n",
              "      <td>87</td>\n",
              "      <td>77</td>\n",
              "      <td>MetSyn</td>\n",
              "    </tr>\n",
              "    <tr>\n",
              "      <th>318</th>\n",
              "      <td>63400</td>\n",
              "      <td>21</td>\n",
              "      <td>Female</td>\n",
              "      <td>NaN</td>\n",
              "      <td>2500.0</td>\n",
              "      <td>Black</td>\n",
              "      <td>97.1</td>\n",
              "      <td>28.6</td>\n",
              "      <td>1</td>\n",
              "      <td>44.29</td>\n",
              "      <td>6.4</td>\n",
              "      <td>90</td>\n",
              "      <td>70</td>\n",
              "      <td>62</td>\n",
              "      <td>No MetSyn</td>\n",
              "    </tr>\n",
              "    <tr>\n",
              "      <th>328</th>\n",
              "      <td>63472</td>\n",
              "      <td>24</td>\n",
              "      <td>Female</td>\n",
              "      <td>NaN</td>\n",
              "      <td>2000.0</td>\n",
              "      <td>White</td>\n",
              "      <td>94.6</td>\n",
              "      <td>24.6</td>\n",
              "      <td>0</td>\n",
              "      <td>4.77</td>\n",
              "      <td>3.9</td>\n",
              "      <td>90</td>\n",
              "      <td>52</td>\n",
              "      <td>81</td>\n",
              "      <td>No MetSyn</td>\n",
              "    </tr>\n",
              "    <tr>\n",
              "      <th>336</th>\n",
              "      <td>63499</td>\n",
              "      <td>33</td>\n",
              "      <td>Female</td>\n",
              "      <td>NaN</td>\n",
              "      <td>4500.0</td>\n",
              "      <td>Hispanic</td>\n",
              "      <td>115.5</td>\n",
              "      <td>43.2</td>\n",
              "      <td>0</td>\n",
              "      <td>7.31</td>\n",
              "      <td>2.8</td>\n",
              "      <td>270</td>\n",
              "      <td>23</td>\n",
              "      <td>179</td>\n",
              "      <td>MetSyn</td>\n",
              "    </tr>\n",
              "    <tr>\n",
              "      <th>345</th>\n",
              "      <td>63531</td>\n",
              "      <td>32</td>\n",
              "      <td>Male</td>\n",
              "      <td>NaN</td>\n",
              "      <td>1500.0</td>\n",
              "      <td>MexAmerican</td>\n",
              "      <td>94.1</td>\n",
              "      <td>28.0</td>\n",
              "      <td>0</td>\n",
              "      <td>8.62</td>\n",
              "      <td>8.7</td>\n",
              "      <td>91</td>\n",
              "      <td>42</td>\n",
              "      <td>53</td>\n",
              "      <td>No MetSyn</td>\n",
              "    </tr>\n",
              "    <tr>\n",
              "      <th>357</th>\n",
              "      <td>63571</td>\n",
              "      <td>36</td>\n",
              "      <td>Male</td>\n",
              "      <td>NaN</td>\n",
              "      <td>6200.0</td>\n",
              "      <td>Asian</td>\n",
              "      <td>85.0</td>\n",
              "      <td>25.4</td>\n",
              "      <td>0</td>\n",
              "      <td>4.41</td>\n",
              "      <td>4.4</td>\n",
              "      <td>102</td>\n",
              "      <td>59</td>\n",
              "      <td>66</td>\n",
              "      <td>No MetSyn</td>\n",
              "    </tr>\n",
              "    <tr>\n",
              "      <th>360</th>\n",
              "      <td>63576</td>\n",
              "      <td>46</td>\n",
              "      <td>Male</td>\n",
              "      <td>NaN</td>\n",
              "      <td>9000.0</td>\n",
              "      <td>Hispanic</td>\n",
              "      <td>99.0</td>\n",
              "      <td>27.7</td>\n",
              "      <td>0</td>\n",
              "      <td>2.45</td>\n",
              "      <td>5.2</td>\n",
              "      <td>104</td>\n",
              "      <td>34</td>\n",
              "      <td>347</td>\n",
              "      <td>MetSyn</td>\n",
              "    </tr>\n",
              "    <tr>\n",
              "      <th>364</th>\n",
              "      <td>63602</td>\n",
              "      <td>34</td>\n",
              "      <td>Male</td>\n",
              "      <td>NaN</td>\n",
              "      <td>2000.0</td>\n",
              "      <td>Black</td>\n",
              "      <td>73.8</td>\n",
              "      <td>20.5</td>\n",
              "      <td>0</td>\n",
              "      <td>12.81</td>\n",
              "      <td>4.6</td>\n",
              "      <td>275</td>\n",
              "      <td>60</td>\n",
              "      <td>236</td>\n",
              "      <td>MetSyn</td>\n",
              "    </tr>\n",
              "    <tr>\n",
              "      <th>370</th>\n",
              "      <td>63625</td>\n",
              "      <td>23</td>\n",
              "      <td>Female</td>\n",
              "      <td>NaN</td>\n",
              "      <td>800.0</td>\n",
              "      <td>MexAmerican</td>\n",
              "      <td>82.1</td>\n",
              "      <td>22.5</td>\n",
              "      <td>1</td>\n",
              "      <td>134.36</td>\n",
              "      <td>3.9</td>\n",
              "      <td>95</td>\n",
              "      <td>62</td>\n",
              "      <td>44</td>\n",
              "      <td>No MetSyn</td>\n",
              "    </tr>\n",
              "    <tr>\n",
              "      <th>376</th>\n",
              "      <td>63642</td>\n",
              "      <td>25</td>\n",
              "      <td>Male</td>\n",
              "      <td>NaN</td>\n",
              "      <td>800.0</td>\n",
              "      <td>Black</td>\n",
              "      <td>96.6</td>\n",
              "      <td>28.9</td>\n",
              "      <td>0</td>\n",
              "      <td>9.25</td>\n",
              "      <td>6.6</td>\n",
              "      <td>97</td>\n",
              "      <td>50</td>\n",
              "      <td>154</td>\n",
              "      <td>No MetSyn</td>\n",
              "    </tr>\n",
              "    <tr>\n",
              "      <th>403</th>\n",
              "      <td>63741</td>\n",
              "      <td>72</td>\n",
              "      <td>Male</td>\n",
              "      <td>NaN</td>\n",
              "      <td>1600.0</td>\n",
              "      <td>MexAmerican</td>\n",
              "      <td>101.0</td>\n",
              "      <td>25.7</td>\n",
              "      <td>0</td>\n",
              "      <td>3.49</td>\n",
              "      <td>5.6</td>\n",
              "      <td>99</td>\n",
              "      <td>106</td>\n",
              "      <td>89</td>\n",
              "      <td>No MetSyn</td>\n",
              "    </tr>\n",
              "    <tr>\n",
              "      <th>407</th>\n",
              "      <td>63753</td>\n",
              "      <td>33</td>\n",
              "      <td>Male</td>\n",
              "      <td>NaN</td>\n",
              "      <td>1000.0</td>\n",
              "      <td>MexAmerican</td>\n",
              "      <td>90.0</td>\n",
              "      <td>26.0</td>\n",
              "      <td>0</td>\n",
              "      <td>6.43</td>\n",
              "      <td>6.7</td>\n",
              "      <td>107</td>\n",
              "      <td>42</td>\n",
              "      <td>133</td>\n",
              "      <td>No MetSyn</td>\n",
              "    </tr>\n",
              "    <tr>\n",
              "      <th>415</th>\n",
              "      <td>63781</td>\n",
              "      <td>63</td>\n",
              "      <td>Female</td>\n",
              "      <td>NaN</td>\n",
              "      <td>4500.0</td>\n",
              "      <td>Hispanic</td>\n",
              "      <td>104.2</td>\n",
              "      <td>30.4</td>\n",
              "      <td>0</td>\n",
              "      <td>10.61</td>\n",
              "      <td>3.8</td>\n",
              "      <td>105</td>\n",
              "      <td>44</td>\n",
              "      <td>177</td>\n",
              "      <td>MetSyn</td>\n",
              "    </tr>\n",
              "    <tr>\n",
              "      <th>426</th>\n",
              "      <td>63831</td>\n",
              "      <td>23</td>\n",
              "      <td>Female</td>\n",
              "      <td>NaN</td>\n",
              "      <td>1700.0</td>\n",
              "      <td>Black</td>\n",
              "      <td>100.4</td>\n",
              "      <td>30.4</td>\n",
              "      <td>0</td>\n",
              "      <td>6.22</td>\n",
              "      <td>5.8</td>\n",
              "      <td>102</td>\n",
              "      <td>40</td>\n",
              "      <td>256</td>\n",
              "      <td>MetSyn</td>\n",
              "    </tr>\n",
              "    <tr>\n",
              "      <th>434</th>\n",
              "      <td>63858</td>\n",
              "      <td>20</td>\n",
              "      <td>Female</td>\n",
              "      <td>NaN</td>\n",
              "      <td>4500.0</td>\n",
              "      <td>Hispanic</td>\n",
              "      <td>106.2</td>\n",
              "      <td>39.1</td>\n",
              "      <td>0</td>\n",
              "      <td>6.31</td>\n",
              "      <td>3.4</td>\n",
              "      <td>71</td>\n",
              "      <td>52</td>\n",
              "      <td>130</td>\n",
              "      <td>No MetSyn</td>\n",
              "    </tr>\n",
              "    <tr>\n",
              "      <th>456</th>\n",
              "      <td>63948</td>\n",
              "      <td>50</td>\n",
              "      <td>Female</td>\n",
              "      <td>NaN</td>\n",
              "      <td>8200.0</td>\n",
              "      <td>Black</td>\n",
              "      <td>100.0</td>\n",
              "      <td>28.1</td>\n",
              "      <td>0</td>\n",
              "      <td>5.64</td>\n",
              "      <td>5.3</td>\n",
              "      <td>98</td>\n",
              "      <td>82</td>\n",
              "      <td>83</td>\n",
              "      <td>No MetSyn</td>\n",
              "    </tr>\n",
              "    <tr>\n",
              "      <th>459</th>\n",
              "      <td>63959</td>\n",
              "      <td>41</td>\n",
              "      <td>Male</td>\n",
              "      <td>NaN</td>\n",
              "      <td>2500.0</td>\n",
              "      <td>White</td>\n",
              "      <td>96.7</td>\n",
              "      <td>26.1</td>\n",
              "      <td>0</td>\n",
              "      <td>6.63</td>\n",
              "      <td>2.1</td>\n",
              "      <td>89</td>\n",
              "      <td>32</td>\n",
              "      <td>336</td>\n",
              "      <td>MetSyn</td>\n",
              "    </tr>\n",
              "    <tr>\n",
              "      <th>461</th>\n",
              "      <td>63966</td>\n",
              "      <td>34</td>\n",
              "      <td>Female</td>\n",
              "      <td>NaN</td>\n",
              "      <td>300.0</td>\n",
              "      <td>Black</td>\n",
              "      <td>124.6</td>\n",
              "      <td>42.0</td>\n",
              "      <td>0</td>\n",
              "      <td>9.83</td>\n",
              "      <td>5.0</td>\n",
              "      <td>100</td>\n",
              "      <td>51</td>\n",
              "      <td>88</td>\n",
              "      <td>MetSyn</td>\n",
              "    </tr>\n",
              "    <tr>\n",
              "      <th>476</th>\n",
              "      <td>64025</td>\n",
              "      <td>31</td>\n",
              "      <td>Male</td>\n",
              "      <td>NaN</td>\n",
              "      <td>8200.0</td>\n",
              "      <td>White</td>\n",
              "      <td>93.7</td>\n",
              "      <td>26.5</td>\n",
              "      <td>0</td>\n",
              "      <td>3.44</td>\n",
              "      <td>7.7</td>\n",
              "      <td>80</td>\n",
              "      <td>58</td>\n",
              "      <td>74</td>\n",
              "      <td>No MetSyn</td>\n",
              "    </tr>\n",
              "    <tr>\n",
              "      <th>480</th>\n",
              "      <td>64036</td>\n",
              "      <td>69</td>\n",
              "      <td>Male</td>\n",
              "      <td>NaN</td>\n",
              "      <td>2000.0</td>\n",
              "      <td>White</td>\n",
              "      <td>120.1</td>\n",
              "      <td>30.3</td>\n",
              "      <td>1</td>\n",
              "      <td>62.50</td>\n",
              "      <td>7.8</td>\n",
              "      <td>110</td>\n",
              "      <td>49</td>\n",
              "      <td>142</td>\n",
              "      <td>MetSyn</td>\n",
              "    </tr>\n",
              "    <tr>\n",
              "      <th>481</th>\n",
              "      <td>64037</td>\n",
              "      <td>28</td>\n",
              "      <td>Male</td>\n",
              "      <td>NaN</td>\n",
              "      <td>9000.0</td>\n",
              "      <td>Other</td>\n",
              "      <td>97.2</td>\n",
              "      <td>29.1</td>\n",
              "      <td>0</td>\n",
              "      <td>6.58</td>\n",
              "      <td>5.5</td>\n",
              "      <td>94</td>\n",
              "      <td>44</td>\n",
              "      <td>125</td>\n",
              "      <td>No MetSyn</td>\n",
              "    </tr>\n",
              "    <tr>\n",
              "      <th>483</th>\n",
              "      <td>64046</td>\n",
              "      <td>39</td>\n",
              "      <td>Female</td>\n",
              "      <td>NaN</td>\n",
              "      <td>800.0</td>\n",
              "      <td>Black</td>\n",
              "      <td>112.1</td>\n",
              "      <td>31.8</td>\n",
              "      <td>2</td>\n",
              "      <td>689.47</td>\n",
              "      <td>6.2</td>\n",
              "      <td>88</td>\n",
              "      <td>36</td>\n",
              "      <td>197</td>\n",
              "      <td>MetSyn</td>\n",
              "    </tr>\n",
              "    <tr>\n",
              "      <th>501</th>\n",
              "      <td>64139</td>\n",
              "      <td>32</td>\n",
              "      <td>Female</td>\n",
              "      <td>NaN</td>\n",
              "      <td>1600.0</td>\n",
              "      <td>Hispanic</td>\n",
              "      <td>80.0</td>\n",
              "      <td>25.7</td>\n",
              "      <td>0</td>\n",
              "      <td>4.94</td>\n",
              "      <td>3.6</td>\n",
              "      <td>91</td>\n",
              "      <td>45</td>\n",
              "      <td>67</td>\n",
              "      <td>No MetSyn</td>\n",
              "    </tr>\n",
              "    <tr>\n",
              "      <th>502</th>\n",
              "      <td>64147</td>\n",
              "      <td>34</td>\n",
              "      <td>Female</td>\n",
              "      <td>NaN</td>\n",
              "      <td>1000.0</td>\n",
              "      <td>MexAmerican</td>\n",
              "      <td>86.4</td>\n",
              "      <td>25.5</td>\n",
              "      <td>0</td>\n",
              "      <td>3.73</td>\n",
              "      <td>2.8</td>\n",
              "      <td>81</td>\n",
              "      <td>52</td>\n",
              "      <td>75</td>\n",
              "      <td>No MetSyn</td>\n",
              "    </tr>\n",
              "  </tbody>\n",
              "</table>\n",
              "</div>\n",
              "      <button class=\"colab-df-convert\" onclick=\"convertToInteractive('df-70bc61bb-57f2-4c8f-9985-07c2ff0f6cde')\"\n",
              "              title=\"Convert this dataframe to an interactive table.\"\n",
              "              style=\"display:none;\">\n",
              "        \n",
              "  <svg xmlns=\"http://www.w3.org/2000/svg\" height=\"24px\"viewBox=\"0 0 24 24\"\n",
              "       width=\"24px\">\n",
              "    <path d=\"M0 0h24v24H0V0z\" fill=\"none\"/>\n",
              "    <path d=\"M18.56 5.44l.94 2.06.94-2.06 2.06-.94-2.06-.94-.94-2.06-.94 2.06-2.06.94zm-11 1L8.5 8.5l.94-2.06 2.06-.94-2.06-.94L8.5 2.5l-.94 2.06-2.06.94zm10 10l.94 2.06.94-2.06 2.06-.94-2.06-.94-.94-2.06-.94 2.06-2.06.94z\"/><path d=\"M17.41 7.96l-1.37-1.37c-.4-.4-.92-.59-1.43-.59-.52 0-1.04.2-1.43.59L10.3 9.45l-7.72 7.72c-.78.78-.78 2.05 0 2.83L4 21.41c.39.39.9.59 1.41.59.51 0 1.02-.2 1.41-.59l7.78-7.78 2.81-2.81c.8-.78.8-2.07 0-2.86zM5.41 20L4 18.59l7.72-7.72 1.47 1.35L5.41 20z\"/>\n",
              "  </svg>\n",
              "      </button>\n",
              "      \n",
              "  <style>\n",
              "    .colab-df-container {\n",
              "      display:flex;\n",
              "      flex-wrap:wrap;\n",
              "      gap: 12px;\n",
              "    }\n",
              "\n",
              "    .colab-df-convert {\n",
              "      background-color: #E8F0FE;\n",
              "      border: none;\n",
              "      border-radius: 50%;\n",
              "      cursor: pointer;\n",
              "      display: none;\n",
              "      fill: #1967D2;\n",
              "      height: 32px;\n",
              "      padding: 0 0 0 0;\n",
              "      width: 32px;\n",
              "    }\n",
              "\n",
              "    .colab-df-convert:hover {\n",
              "      background-color: #E2EBFA;\n",
              "      box-shadow: 0px 1px 2px rgba(60, 64, 67, 0.3), 0px 1px 3px 1px rgba(60, 64, 67, 0.15);\n",
              "      fill: #174EA6;\n",
              "    }\n",
              "\n",
              "    [theme=dark] .colab-df-convert {\n",
              "      background-color: #3B4455;\n",
              "      fill: #D2E3FC;\n",
              "    }\n",
              "\n",
              "    [theme=dark] .colab-df-convert:hover {\n",
              "      background-color: #434B5C;\n",
              "      box-shadow: 0px 1px 3px 1px rgba(0, 0, 0, 0.15);\n",
              "      filter: drop-shadow(0px 1px 2px rgba(0, 0, 0, 0.3));\n",
              "      fill: #FFFFFF;\n",
              "    }\n",
              "  </style>\n",
              "\n",
              "      <script>\n",
              "        const buttonEl =\n",
              "          document.querySelector('#df-70bc61bb-57f2-4c8f-9985-07c2ff0f6cde button.colab-df-convert');\n",
              "        buttonEl.style.display =\n",
              "          google.colab.kernel.accessAllowed ? 'block' : 'none';\n",
              "\n",
              "        async function convertToInteractive(key) {\n",
              "          const element = document.querySelector('#df-70bc61bb-57f2-4c8f-9985-07c2ff0f6cde');\n",
              "          const dataTable =\n",
              "            await google.colab.kernel.invokeFunction('convertToInteractive',\n",
              "                                                     [key], {});\n",
              "          if (!dataTable) return;\n",
              "\n",
              "          const docLinkHtml = 'Like what you see? Visit the ' +\n",
              "            '<a target=\"_blank\" href=https://colab.research.google.com/notebooks/data_table.ipynb>data table notebook</a>'\n",
              "            + ' to learn more about interactive tables.';\n",
              "          element.innerHTML = '';\n",
              "          dataTable['output_type'] = 'display_data';\n",
              "          await google.colab.output.renderOutput(dataTable, element);\n",
              "          const docLink = document.createElement('div');\n",
              "          docLink.innerHTML = docLinkHtml;\n",
              "          element.appendChild(docLink);\n",
              "        }\n",
              "      </script>\n",
              "    </div>\n",
              "  </div>\n",
              "  "
            ]
          },
          "metadata": {},
          "execution_count": 21
        }
      ]
    },
    {
      "cell_type": "markdown",
      "source": [
        "- This is a string object datatype with only two values.\n",
        " - 1. These values can be imputed using SimpleImputer(strategy='most_frequent').\n",
        "     - strategy='most_frequent' can be used with strings or numeric data.\n",
        " - 2.     "
      ],
      "metadata": {
        "id": "cYno-0BPsdBP"
      }
    },
    {
      "cell_type": "markdown",
      "source": [
        "#### 'Income' column\n",
        "- 'Income' has 117 missing values."
      ],
      "metadata": {
        "id": "fDMFy6yQNv83"
      }
    },
    {
      "cell_type": "code",
      "source": [
        "print(df['Income'].unique())"
      ],
      "metadata": {
        "id": "loMuvs7uOFy-",
        "colab": {
          "base_uri": "https://localhost:8080/"
        },
        "outputId": "b5b5dce9-f24b-43e2-b2bc-386d914e1c31"
      },
      "execution_count": 20,
      "outputs": [
        {
          "output_type": "stream",
          "name": "stdout",
          "text": [
            "[8200. 4500.  800. 2000.   nan  300. 9000. 6200. 1000. 2500. 3500. 1500.\n",
            " 1600. 5400. 1700.]\n"
          ]
        }
      ]
    },
    {
      "cell_type": "markdown",
      "source": [
        "- This is a float64 numeric datatype with unique 14 values, and 117 Nans."
      ],
      "metadata": {
        "id": "CcaPLyka_4S3"
      }
    },
    {
      "cell_type": "markdown",
      "source": [
        "### Ensure all columns match the data types listed in the data dictionary."
      ],
      "metadata": {
        "id": "beYr7ZdUsr62"
      }
    },
    {
      "cell_type": "code",
      "source": [
        "df.dtypes"
      ],
      "metadata": {
        "id": "_S_WS97RtGV1",
        "colab": {
          "base_uri": "https://localhost:8080/"
        },
        "outputId": "d349de96-fbe3-44ea-ea17-b0aeb2bbefcc"
      },
      "execution_count": null,
      "outputs": [
        {
          "output_type": "execute_result",
          "data": {
            "text/plain": [
              "Age            float64\n",
              "Gender          object\n",
              "BP              object\n",
              "Cholesterol     object\n",
              "Na_to_K         object\n",
              "Drug            object\n",
              "dtype: object"
            ]
          },
          "metadata": {},
          "execution_count": 19
        }
      ]
    },
    {
      "cell_type": "code",
      "source": [
        "df.head()"
      ],
      "metadata": {
        "id": "a0y8MgMXtXaU",
        "colab": {
          "base_uri": "https://localhost:8080/",
          "height": 206
        },
        "outputId": "864ea92a-d7fc-40e7-84f1-e82802e38b7f"
      },
      "execution_count": null,
      "outputs": [
        {
          "output_type": "execute_result",
          "data": {
            "text/plain": [
              "    Age Gender      BP Cholesterol Na_to_K   Drug\n",
              "0  59.0      M    High        HIGH  13.935  drugQ\n",
              "1  40.0      F  Normal        HIGH  10.103  drugZ\n",
              "2   NaN      M  Normal        HIGH   9.084  drugZ\n",
              "3  62.0      M  Normal        HIGH  16.594  drugZ\n",
              "4  55.0      F    High      NORMAL  10.977  drugQ"
            ],
            "text/html": [
              "\n",
              "  <div id=\"df-9daa2ff3-2f5e-494a-a3ee-5a43a039a065\">\n",
              "    <div class=\"colab-df-container\">\n",
              "      <div>\n",
              "<style scoped>\n",
              "    .dataframe tbody tr th:only-of-type {\n",
              "        vertical-align: middle;\n",
              "    }\n",
              "\n",
              "    .dataframe tbody tr th {\n",
              "        vertical-align: top;\n",
              "    }\n",
              "\n",
              "    .dataframe thead th {\n",
              "        text-align: right;\n",
              "    }\n",
              "</style>\n",
              "<table border=\"1\" class=\"dataframe\">\n",
              "  <thead>\n",
              "    <tr style=\"text-align: right;\">\n",
              "      <th></th>\n",
              "      <th>Age</th>\n",
              "      <th>Gender</th>\n",
              "      <th>BP</th>\n",
              "      <th>Cholesterol</th>\n",
              "      <th>Na_to_K</th>\n",
              "      <th>Drug</th>\n",
              "    </tr>\n",
              "  </thead>\n",
              "  <tbody>\n",
              "    <tr>\n",
              "      <th>0</th>\n",
              "      <td>59.0</td>\n",
              "      <td>M</td>\n",
              "      <td>High</td>\n",
              "      <td>HIGH</td>\n",
              "      <td>13.935</td>\n",
              "      <td>drugQ</td>\n",
              "    </tr>\n",
              "    <tr>\n",
              "      <th>1</th>\n",
              "      <td>40.0</td>\n",
              "      <td>F</td>\n",
              "      <td>Normal</td>\n",
              "      <td>HIGH</td>\n",
              "      <td>10.103</td>\n",
              "      <td>drugZ</td>\n",
              "    </tr>\n",
              "    <tr>\n",
              "      <th>2</th>\n",
              "      <td>NaN</td>\n",
              "      <td>M</td>\n",
              "      <td>Normal</td>\n",
              "      <td>HIGH</td>\n",
              "      <td>9.084</td>\n",
              "      <td>drugZ</td>\n",
              "    </tr>\n",
              "    <tr>\n",
              "      <th>3</th>\n",
              "      <td>62.0</td>\n",
              "      <td>M</td>\n",
              "      <td>Normal</td>\n",
              "      <td>HIGH</td>\n",
              "      <td>16.594</td>\n",
              "      <td>drugZ</td>\n",
              "    </tr>\n",
              "    <tr>\n",
              "      <th>4</th>\n",
              "      <td>55.0</td>\n",
              "      <td>F</td>\n",
              "      <td>High</td>\n",
              "      <td>NORMAL</td>\n",
              "      <td>10.977</td>\n",
              "      <td>drugQ</td>\n",
              "    </tr>\n",
              "  </tbody>\n",
              "</table>\n",
              "</div>\n",
              "      <button class=\"colab-df-convert\" onclick=\"convertToInteractive('df-9daa2ff3-2f5e-494a-a3ee-5a43a039a065')\"\n",
              "              title=\"Convert this dataframe to an interactive table.\"\n",
              "              style=\"display:none;\">\n",
              "        \n",
              "  <svg xmlns=\"http://www.w3.org/2000/svg\" height=\"24px\"viewBox=\"0 0 24 24\"\n",
              "       width=\"24px\">\n",
              "    <path d=\"M0 0h24v24H0V0z\" fill=\"none\"/>\n",
              "    <path d=\"M18.56 5.44l.94 2.06.94-2.06 2.06-.94-2.06-.94-.94-2.06-.94 2.06-2.06.94zm-11 1L8.5 8.5l.94-2.06 2.06-.94-2.06-.94L8.5 2.5l-.94 2.06-2.06.94zm10 10l.94 2.06.94-2.06 2.06-.94-2.06-.94-.94-2.06-.94 2.06-2.06.94z\"/><path d=\"M17.41 7.96l-1.37-1.37c-.4-.4-.92-.59-1.43-.59-.52 0-1.04.2-1.43.59L10.3 9.45l-7.72 7.72c-.78.78-.78 2.05 0 2.83L4 21.41c.39.39.9.59 1.41.59.51 0 1.02-.2 1.41-.59l7.78-7.78 2.81-2.81c.8-.78.8-2.07 0-2.86zM5.41 20L4 18.59l7.72-7.72 1.47 1.35L5.41 20z\"/>\n",
              "  </svg>\n",
              "      </button>\n",
              "      \n",
              "  <style>\n",
              "    .colab-df-container {\n",
              "      display:flex;\n",
              "      flex-wrap:wrap;\n",
              "      gap: 12px;\n",
              "    }\n",
              "\n",
              "    .colab-df-convert {\n",
              "      background-color: #E8F0FE;\n",
              "      border: none;\n",
              "      border-radius: 50%;\n",
              "      cursor: pointer;\n",
              "      display: none;\n",
              "      fill: #1967D2;\n",
              "      height: 32px;\n",
              "      padding: 0 0 0 0;\n",
              "      width: 32px;\n",
              "    }\n",
              "\n",
              "    .colab-df-convert:hover {\n",
              "      background-color: #E2EBFA;\n",
              "      box-shadow: 0px 1px 2px rgba(60, 64, 67, 0.3), 0px 1px 3px 1px rgba(60, 64, 67, 0.15);\n",
              "      fill: #174EA6;\n",
              "    }\n",
              "\n",
              "    [theme=dark] .colab-df-convert {\n",
              "      background-color: #3B4455;\n",
              "      fill: #D2E3FC;\n",
              "    }\n",
              "\n",
              "    [theme=dark] .colab-df-convert:hover {\n",
              "      background-color: #434B5C;\n",
              "      box-shadow: 0px 1px 3px 1px rgba(0, 0, 0, 0.15);\n",
              "      filter: drop-shadow(0px 1px 2px rgba(0, 0, 0, 0.3));\n",
              "      fill: #FFFFFF;\n",
              "    }\n",
              "  </style>\n",
              "\n",
              "      <script>\n",
              "        const buttonEl =\n",
              "          document.querySelector('#df-9daa2ff3-2f5e-494a-a3ee-5a43a039a065 button.colab-df-convert');\n",
              "        buttonEl.style.display =\n",
              "          google.colab.kernel.accessAllowed ? 'block' : 'none';\n",
              "\n",
              "        async function convertToInteractive(key) {\n",
              "          const element = document.querySelector('#df-9daa2ff3-2f5e-494a-a3ee-5a43a039a065');\n",
              "          const dataTable =\n",
              "            await google.colab.kernel.invokeFunction('convertToInteractive',\n",
              "                                                     [key], {});\n",
              "          if (!dataTable) return;\n",
              "\n",
              "          const docLinkHtml = 'Like what you see? Visit the ' +\n",
              "            '<a target=\"_blank\" href=https://colab.research.google.com/notebooks/data_table.ipynb>data table notebook</a>'\n",
              "            + ' to learn more about interactive tables.';\n",
              "          element.innerHTML = '';\n",
              "          dataTable['output_type'] = 'display_data';\n",
              "          await google.colab.output.renderOutput(dataTable, element);\n",
              "          const docLink = document.createElement('div');\n",
              "          docLink.innerHTML = docLinkHtml;\n",
              "          element.appendChild(docLink);\n",
              "        }\n",
              "      </script>\n",
              "    </div>\n",
              "  </div>\n",
              "  "
            ]
          },
          "metadata": {},
          "execution_count": 20
        }
      ]
    },
    {
      "cell_type": "markdown",
      "source": [
        "- 'Na_to_K' should be a float number type."
      ],
      "metadata": {
        "id": "QgACGveuwc1R"
      }
    },
    {
      "cell_type": "markdown",
      "source": [
        "#### **'Na_to_K' column**"
      ],
      "metadata": {
        "id": "_LE1oNd3-0Vj"
      }
    },
    {
      "cell_type": "code",
      "source": [
        "# Display 'Na_to_K'  values.\n",
        "df['Na_to_K'][250:281]"
      ],
      "metadata": {
        "colab": {
          "base_uri": "https://localhost:8080/"
        },
        "id": "CF5aqD2fzW5i",
        "outputId": "7d829a1e-0f14-481a-9e44-59e8c1d67888"
      },
      "execution_count": null,
      "outputs": [
        {
          "output_type": "execute_result",
          "data": {
            "text/plain": [
              "261     10.292\n",
              "262     11.262\n",
              "263     19.796\n",
              "264     11.198\n",
              "266      8.966\n",
              "267      15.79\n",
              "268      9.567\n",
              "269     13.967\n",
              "270    10.403_\n",
              "271     10.977\n",
              "272     15.969\n",
              "273     18.457\n",
              "274      9.381\n",
              "276     12.894\n",
              "277     21.036\n",
              "278     25.741\n",
              "280      8.011\n",
              "281       7.49\n",
              "282      9.894\n",
              "283      7.845\n",
              "284      12.26\n",
              "285      11.34\n",
              "286      14.02\n",
              "287     12.307\n",
              "288     29.875\n",
              "289     14.642\n",
              "290     18.295\n",
              "292     10.065\n",
              "293     11.014\n",
              "294      9.475\n",
              "295     12.879\n",
              "Name: Na_to_K, dtype: object"
            ]
          },
          "metadata": {},
          "execution_count": 21
        }
      ]
    },
    {
      "cell_type": "markdown",
      "source": [
        "- Index 270 has a value of '10.403_'.  \n",
        "- '_' should be removed."
      ],
      "metadata": {
        "id": "ENJitsMw1KDO"
      }
    },
    {
      "cell_type": "code",
      "source": [
        "# Remove '_' from all Na_to_K' 'values.\n",
        "df.loc[:,'Na_to_K'] = df.loc[:,'Na_to_K'].str.replace('_', '')"
      ],
      "metadata": {
        "id": "rY93TQqE1Leq"
      },
      "execution_count": null,
      "outputs": []
    },
    {
      "cell_type": "code",
      "source": [
        "# Confirm '_' has been removed from index 270\n",
        "df.loc[:,'Na_to_K'][270]"
      ],
      "metadata": {
        "colab": {
          "base_uri": "https://localhost:8080/",
          "height": 35
        },
        "id": "--GUA7OK8ZIo",
        "outputId": "1d0f97cd-d09d-4704-d685-23cd30412870"
      },
      "execution_count": null,
      "outputs": [
        {
          "output_type": "execute_result",
          "data": {
            "text/plain": [
              "'10.403'"
            ],
            "application/vnd.google.colaboratory.intrinsic+json": {
              "type": "string"
            }
          },
          "metadata": {},
          "execution_count": 23
        }
      ]
    },
    {
      "cell_type": "code",
      "source": [
        "# Change the datatype for the 'Na_to_K' column to float64 datatype\n",
        "df['Na_to_K'] = df['Na_to_K'].astype('float64')"
      ],
      "metadata": {
        "id": "srBn0b953I7U"
      },
      "execution_count": null,
      "outputs": []
    },
    {
      "cell_type": "code",
      "source": [
        "# Review and confirm datatypes for all columns\n",
        "df.dtypes"
      ],
      "metadata": {
        "colab": {
          "base_uri": "https://localhost:8080/"
        },
        "id": "p6-EP7Z27Zvf",
        "outputId": "00212f1d-5b68-412e-d36e-bcff78d0b367"
      },
      "execution_count": null,
      "outputs": [
        {
          "output_type": "execute_result",
          "data": {
            "text/plain": [
              "Age            float64\n",
              "Gender          object\n",
              "BP              object\n",
              "Cholesterol     object\n",
              "Na_to_K        float64\n",
              "Drug            object\n",
              "dtype: object"
            ]
          },
          "metadata": {},
          "execution_count": 25
        }
      ]
    },
    {
      "cell_type": "markdown",
      "source": [
        "- All columns match datatypes."
      ],
      "metadata": {
        "id": "WVPSQQU49EBm"
      }
    },
    {
      "cell_type": "markdown",
      "source": [
        "### **Inspect Column Names with Object Datatypes**"
      ],
      "metadata": {
        "id": "vrX847SqU8en"
      }
    },
    {
      "cell_type": "markdown",
      "source": [
        "Check for common syntax errors which may include extra white spaces at the beginning or end of strings or column names.\n",
        "\n",
        "Check for typos or inconsistencies in strings that need to be fixed.(example: cat, Cat, cats)"
      ],
      "metadata": {
        "id": "e6WqbzSg_odt"
      }
    },
    {
      "cell_type": "code",
      "source": [
        "# Display column names for object datatypes\n",
        "dtypes = df.dtypes\n",
        "str_cols = dtypes[dtypes=='object'].index\n",
        "str_cols"
      ],
      "metadata": {
        "id": "_tLJC_-7xPnX",
        "colab": {
          "base_uri": "https://localhost:8080/"
        },
        "outputId": "00a276d4-a9c7-4e30-80c6-4d2a665fb6c3"
      },
      "execution_count": null,
      "outputs": [
        {
          "output_type": "execute_result",
          "data": {
            "text/plain": [
              "Index(['Gender', 'BP', 'Cholesterol', 'Drug'], dtype='object')"
            ]
          },
          "metadata": {},
          "execution_count": 26
        }
      ]
    },
    {
      "cell_type": "markdown",
      "source": [
        "### **Inspect Column Names with Numerical Datatypes**"
      ],
      "metadata": {
        "id": "nHncv5lKVoiJ"
      }
    },
    {
      "cell_type": "markdown",
      "source": [
        "Check for common syntax errors which may include extra white spaces at the beginning or end of strings or column names.\n",
        "\n",
        "Check for typos or inconsistencies in strings that need to be fixed.(example: cat, Cat, cats)"
      ],
      "metadata": {
        "id": "CUYXMhAE_koU"
      }
    },
    {
      "cell_type": "code",
      "source": [
        "# Create a series of the datatypes\n",
        "data_types = df.dtypes\n",
        "# Create a filter to select only the numerical datatypes\n",
        "numerical_data_types = data_types[(data_types == \"float64\") | (data_types == \"int64\")]\n",
        "# Display the series of numerical datatypes\n",
        "numerical_data_types"
      ],
      "metadata": {
        "colab": {
          "base_uri": "https://localhost:8080/"
        },
        "id": "TamGPeXLVLWH",
        "outputId": "af51f097-bed5-4678-f59e-8db651b71755"
      },
      "execution_count": null,
      "outputs": [
        {
          "output_type": "execute_result",
          "data": {
            "text/plain": [
              "Age        float64\n",
              "Na_to_K    float64\n",
              "dtype: object"
            ]
          },
          "metadata": {},
          "execution_count": 27
        }
      ]
    },
    {
      "cell_type": "code",
      "source": [
        "# Display column names for numeric columns\n",
        "dtypes = df.dtypes\n",
        "str_cols = data_types[(data_types == \"float64\") | (data_types == \"int64\")].index\n",
        "str_cols"
      ],
      "metadata": {
        "colab": {
          "base_uri": "https://localhost:8080/"
        },
        "outputId": "3bc21f43-e2b5-4aaf-81d2-e88ca5d47741",
        "id": "UEcuRwcB_cJb"
      },
      "execution_count": null,
      "outputs": [
        {
          "output_type": "execute_result",
          "data": {
            "text/plain": [
              "Index(['Age', 'Na_to_K'], dtype='object')"
            ]
          },
          "metadata": {},
          "execution_count": 28
        }
      ]
    },
    {
      "cell_type": "markdown",
      "source": [
        "### **Inspect Data in Columns with Object Datatypes**"
      ],
      "metadata": {
        "id": "hE1XF-SoFZ-N"
      }
    },
    {
      "cell_type": "markdown",
      "source": [
        "Check for common syntax errors which may include extra white spaces at the beginning or end of strings or column names.\n",
        "\n",
        "Check for typos or inconsistencies in strings that need to be fixed."
      ],
      "metadata": {
        "id": "D0IwaQTV0Y20"
      }
    },
    {
      "cell_type": "code",
      "source": [
        "df.describe(exclude=\"number\")"
      ],
      "metadata": {
        "id": "DQHpgrcKLCON",
        "colab": {
          "base_uri": "https://localhost:8080/",
          "height": 175
        },
        "outputId": "2596d2b6-d95f-4ffd-945f-431c53906c39"
      },
      "execution_count": null,
      "outputs": [
        {
          "output_type": "execute_result",
          "data": {
            "text/plain": [
              "       Gender    BP Cholesterol   Drug\n",
              "count     281   281         281    281\n",
              "unique      8     4           5      2\n",
              "top         M  High        HIGH  drugZ\n",
              "freq      140   128         145    147"
            ],
            "text/html": [
              "\n",
              "  <div id=\"df-f38480e0-d640-4bea-9226-53f6a6c56ebc\">\n",
              "    <div class=\"colab-df-container\">\n",
              "      <div>\n",
              "<style scoped>\n",
              "    .dataframe tbody tr th:only-of-type {\n",
              "        vertical-align: middle;\n",
              "    }\n",
              "\n",
              "    .dataframe tbody tr th {\n",
              "        vertical-align: top;\n",
              "    }\n",
              "\n",
              "    .dataframe thead th {\n",
              "        text-align: right;\n",
              "    }\n",
              "</style>\n",
              "<table border=\"1\" class=\"dataframe\">\n",
              "  <thead>\n",
              "    <tr style=\"text-align: right;\">\n",
              "      <th></th>\n",
              "      <th>Gender</th>\n",
              "      <th>BP</th>\n",
              "      <th>Cholesterol</th>\n",
              "      <th>Drug</th>\n",
              "    </tr>\n",
              "  </thead>\n",
              "  <tbody>\n",
              "    <tr>\n",
              "      <th>count</th>\n",
              "      <td>281</td>\n",
              "      <td>281</td>\n",
              "      <td>281</td>\n",
              "      <td>281</td>\n",
              "    </tr>\n",
              "    <tr>\n",
              "      <th>unique</th>\n",
              "      <td>8</td>\n",
              "      <td>4</td>\n",
              "      <td>5</td>\n",
              "      <td>2</td>\n",
              "    </tr>\n",
              "    <tr>\n",
              "      <th>top</th>\n",
              "      <td>M</td>\n",
              "      <td>High</td>\n",
              "      <td>HIGH</td>\n",
              "      <td>drugZ</td>\n",
              "    </tr>\n",
              "    <tr>\n",
              "      <th>freq</th>\n",
              "      <td>140</td>\n",
              "      <td>128</td>\n",
              "      <td>145</td>\n",
              "      <td>147</td>\n",
              "    </tr>\n",
              "  </tbody>\n",
              "</table>\n",
              "</div>\n",
              "      <button class=\"colab-df-convert\" onclick=\"convertToInteractive('df-f38480e0-d640-4bea-9226-53f6a6c56ebc')\"\n",
              "              title=\"Convert this dataframe to an interactive table.\"\n",
              "              style=\"display:none;\">\n",
              "        \n",
              "  <svg xmlns=\"http://www.w3.org/2000/svg\" height=\"24px\"viewBox=\"0 0 24 24\"\n",
              "       width=\"24px\">\n",
              "    <path d=\"M0 0h24v24H0V0z\" fill=\"none\"/>\n",
              "    <path d=\"M18.56 5.44l.94 2.06.94-2.06 2.06-.94-2.06-.94-.94-2.06-.94 2.06-2.06.94zm-11 1L8.5 8.5l.94-2.06 2.06-.94-2.06-.94L8.5 2.5l-.94 2.06-2.06.94zm10 10l.94 2.06.94-2.06 2.06-.94-2.06-.94-.94-2.06-.94 2.06-2.06.94z\"/><path d=\"M17.41 7.96l-1.37-1.37c-.4-.4-.92-.59-1.43-.59-.52 0-1.04.2-1.43.59L10.3 9.45l-7.72 7.72c-.78.78-.78 2.05 0 2.83L4 21.41c.39.39.9.59 1.41.59.51 0 1.02-.2 1.41-.59l7.78-7.78 2.81-2.81c.8-.78.8-2.07 0-2.86zM5.41 20L4 18.59l7.72-7.72 1.47 1.35L5.41 20z\"/>\n",
              "  </svg>\n",
              "      </button>\n",
              "      \n",
              "  <style>\n",
              "    .colab-df-container {\n",
              "      display:flex;\n",
              "      flex-wrap:wrap;\n",
              "      gap: 12px;\n",
              "    }\n",
              "\n",
              "    .colab-df-convert {\n",
              "      background-color: #E8F0FE;\n",
              "      border: none;\n",
              "      border-radius: 50%;\n",
              "      cursor: pointer;\n",
              "      display: none;\n",
              "      fill: #1967D2;\n",
              "      height: 32px;\n",
              "      padding: 0 0 0 0;\n",
              "      width: 32px;\n",
              "    }\n",
              "\n",
              "    .colab-df-convert:hover {\n",
              "      background-color: #E2EBFA;\n",
              "      box-shadow: 0px 1px 2px rgba(60, 64, 67, 0.3), 0px 1px 3px 1px rgba(60, 64, 67, 0.15);\n",
              "      fill: #174EA6;\n",
              "    }\n",
              "\n",
              "    [theme=dark] .colab-df-convert {\n",
              "      background-color: #3B4455;\n",
              "      fill: #D2E3FC;\n",
              "    }\n",
              "\n",
              "    [theme=dark] .colab-df-convert:hover {\n",
              "      background-color: #434B5C;\n",
              "      box-shadow: 0px 1px 3px 1px rgba(0, 0, 0, 0.15);\n",
              "      filter: drop-shadow(0px 1px 2px rgba(0, 0, 0, 0.3));\n",
              "      fill: #FFFFFF;\n",
              "    }\n",
              "  </style>\n",
              "\n",
              "      <script>\n",
              "        const buttonEl =\n",
              "          document.querySelector('#df-f38480e0-d640-4bea-9226-53f6a6c56ebc button.colab-df-convert');\n",
              "        buttonEl.style.display =\n",
              "          google.colab.kernel.accessAllowed ? 'block' : 'none';\n",
              "\n",
              "        async function convertToInteractive(key) {\n",
              "          const element = document.querySelector('#df-f38480e0-d640-4bea-9226-53f6a6c56ebc');\n",
              "          const dataTable =\n",
              "            await google.colab.kernel.invokeFunction('convertToInteractive',\n",
              "                                                     [key], {});\n",
              "          if (!dataTable) return;\n",
              "\n",
              "          const docLinkHtml = 'Like what you see? Visit the ' +\n",
              "            '<a target=\"_blank\" href=https://colab.research.google.com/notebooks/data_table.ipynb>data table notebook</a>'\n",
              "            + ' to learn more about interactive tables.';\n",
              "          element.innerHTML = '';\n",
              "          dataTable['output_type'] = 'display_data';\n",
              "          await google.colab.output.renderOutput(dataTable, element);\n",
              "          const docLink = document.createElement('div');\n",
              "          docLink.innerHTML = docLinkHtml;\n",
              "          element.appendChild(docLink);\n",
              "        }\n",
              "      </script>\n",
              "    </div>\n",
              "  </div>\n",
              "  "
            ]
          },
          "metadata": {},
          "execution_count": 29
        }
      ]
    },
    {
      "cell_type": "markdown",
      "source": [
        "#### **'Gender' column**"
      ],
      "metadata": {
        "id": "V9Sw2CpSTm1H"
      }
    },
    {
      "cell_type": "code",
      "source": [
        "# Display values\n",
        "print(df['Gender'].unique())"
      ],
      "metadata": {
        "id": "fZMWhETqbuUc",
        "colab": {
          "base_uri": "https://localhost:8080/"
        },
        "outputId": "95d6617c-7d13-4155-9d2d-291c992dab0c"
      },
      "execution_count": null,
      "outputs": [
        {
          "output_type": "stream",
          "name": "stdout",
          "text": [
            "['M' 'F' 'male' 'female' 'Female' 'Male' 'femal' 'Femal']\n"
          ]
        }
      ]
    },
    {
      "cell_type": "code",
      "source": [
        "# Display values and their counts\n",
        "df.groupby(['Gender'])['Gender'].count()"
      ],
      "metadata": {
        "id": "9yleaSuuTO6E",
        "colab": {
          "base_uri": "https://localhost:8080/"
        },
        "outputId": "b28b5150-e578-44e5-ebae-926815f46b45"
      },
      "execution_count": null,
      "outputs": [
        {
          "output_type": "execute_result",
          "data": {
            "text/plain": [
              "Gender\n",
              "F         131\n",
              "Femal       1\n",
              "Female      1\n",
              "M         140\n",
              "Male        1\n",
              "femal       1\n",
              "female      2\n",
              "male        4\n",
              "Name: Gender, dtype: int64"
            ]
          },
          "metadata": {},
          "execution_count": 31
        }
      ]
    },
    {
      "cell_type": "markdown",
      "source": [
        "- Replace 'M' and 'male' with 'Male'.\n",
        "- Replace 'F', 'female', 'femal', and 'Femal' with 'Female'."
      ],
      "metadata": {
        "id": "JI9qvQZohBe8"
      }
    },
    {
      "cell_type": "code",
      "source": [
        "# Define a dictionary with key/value pairs and use it to replace values\n",
        "dict = {'male': 'Male', 'M': 'Male',\n",
        "         'F': 'Female', 'female': 'Female', 'Femal': 'Female', 'femal': 'Female'}\n",
        "\n",
        "df.replace({'Gender': dict}, inplace = True)"
      ],
      "metadata": {
        "id": "sIeGei0m9Ozf"
      },
      "execution_count": null,
      "outputs": []
    },
    {
      "cell_type": "code",
      "source": [
        "# Display and confirm values have been replaced\n",
        "print(df['Gender'].unique())"
      ],
      "metadata": {
        "id": "MbiHaQHHC56l",
        "colab": {
          "base_uri": "https://localhost:8080/"
        },
        "outputId": "917a685c-b092-4e31-975c-310ef301ddae"
      },
      "execution_count": null,
      "outputs": [
        {
          "output_type": "stream",
          "name": "stdout",
          "text": [
            "['Male' 'Female']\n"
          ]
        }
      ]
    },
    {
      "cell_type": "markdown",
      "source": [
        "- Replacement values confirmed."
      ],
      "metadata": {
        "id": "5j11rzeM0vSc"
      }
    },
    {
      "cell_type": "markdown",
      "source": [
        "#### **'BP' column**"
      ],
      "metadata": {
        "id": "JENecdeLAmSb"
      }
    },
    {
      "cell_type": "code",
      "source": [
        "# Display values\n",
        "print(df['BP'].unique())"
      ],
      "metadata": {
        "colab": {
          "base_uri": "https://localhost:8080/"
        },
        "outputId": "cdaddf6d-3185-4482-b44d-5f3afcac7fe2",
        "id": "t3ssqC1FAmSc"
      },
      "execution_count": null,
      "outputs": [
        {
          "output_type": "stream",
          "name": "stdout",
          "text": [
            "['High' 'Normal' 'Unknown' 'Low']\n"
          ]
        }
      ]
    },
    {
      "cell_type": "code",
      "source": [
        "# Display values and their counts\n",
        "df.groupby(['BP'])['BP'].count()"
      ],
      "metadata": {
        "colab": {
          "base_uri": "https://localhost:8080/"
        },
        "outputId": "7388dcf1-35c6-4d6e-ab29-cf3c1cd3e283",
        "id": "1naZcTXpAmSc"
      },
      "execution_count": null,
      "outputs": [
        {
          "output_type": "execute_result",
          "data": {
            "text/plain": [
              "BP\n",
              "High       128\n",
              "Low         32\n",
              "Normal      46\n",
              "Unknown     75\n",
              "Name: BP, dtype: int64"
            ]
          },
          "metadata": {},
          "execution_count": 35
        }
      ]
    },
    {
      "cell_type": "markdown",
      "source": [
        "- No issues noted."
      ],
      "metadata": {
        "id": "hXRd-3T6AmSd"
      }
    },
    {
      "cell_type": "markdown",
      "source": [
        "#### **'Cholesterol' column**"
      ],
      "metadata": {
        "id": "Y8DqNp9tAnSS"
      }
    },
    {
      "cell_type": "code",
      "source": [
        "# Display values\n",
        "print(df['Cholesterol'].unique())"
      ],
      "metadata": {
        "colab": {
          "base_uri": "https://localhost:8080/"
        },
        "outputId": "6888da5d-11d9-40c8-fa29-3380702cf895",
        "id": "vCaSooo8AnST"
      },
      "execution_count": null,
      "outputs": [
        {
          "output_type": "stream",
          "name": "stdout",
          "text": [
            "['HIGH' 'NORMAL' 'NORM' 'norm' 'high']\n"
          ]
        }
      ]
    },
    {
      "cell_type": "code",
      "source": [
        "# Display values and their counts\n",
        "df.groupby(['Cholesterol'])['Cholesterol'].count()"
      ],
      "metadata": {
        "colab": {
          "base_uri": "https://localhost:8080/"
        },
        "outputId": "86a1999a-392f-41dd-be6a-d1c558faf6dd",
        "id": "TU1PYGwcAnST"
      },
      "execution_count": null,
      "outputs": [
        {
          "output_type": "execute_result",
          "data": {
            "text/plain": [
              "Cholesterol\n",
              "HIGH      145\n",
              "NORM        6\n",
              "NORMAL    114\n",
              "high        7\n",
              "norm        9\n",
              "Name: Cholesterol, dtype: int64"
            ]
          },
          "metadata": {},
          "execution_count": 37
        }
      ]
    },
    {
      "cell_type": "markdown",
      "source": [
        "- Replace 'HIGH' with 'high'.\n",
        "- Replace 'NORM', 'NORMAL', 'norm' with 'normal'."
      ],
      "metadata": {
        "id": "vgzlzKJxAnSU"
      }
    },
    {
      "cell_type": "code",
      "source": [
        "# Define a dictionary with key/value pairs and use it to replace values\n",
        "dict = {'HIGH': 'High', 'high': 'High',\n",
        "         'NORM': 'Normal', 'norm': 'Normal', 'NORMAL': 'Normal'}\n",
        "\n",
        "df.replace({'Cholesterol': dict}, inplace = True)"
      ],
      "metadata": {
        "id": "zrytRTj_AnSU"
      },
      "execution_count": null,
      "outputs": []
    },
    {
      "cell_type": "code",
      "source": [
        "# Display and confirm values have been replaced\n",
        "print(df['Cholesterol'].unique())"
      ],
      "metadata": {
        "colab": {
          "base_uri": "https://localhost:8080/"
        },
        "outputId": "6547d89d-9149-46d9-fe47-28c33f319762",
        "id": "AO6nMiC0AnSU"
      },
      "execution_count": null,
      "outputs": [
        {
          "output_type": "stream",
          "name": "stdout",
          "text": [
            "['High' 'Normal']\n"
          ]
        }
      ]
    },
    {
      "cell_type": "markdown",
      "source": [
        "- Replacement values confirmed."
      ],
      "metadata": {
        "id": "2luJLfMqAnSU"
      }
    },
    {
      "cell_type": "markdown",
      "source": [
        "#### **'Drug' column**"
      ],
      "metadata": {
        "id": "uYeRXQRVAqmI"
      }
    },
    {
      "cell_type": "code",
      "source": [
        "# Display values\n",
        "print(df['Drug'].unique())"
      ],
      "metadata": {
        "colab": {
          "base_uri": "https://localhost:8080/"
        },
        "outputId": "244c5233-bb36-4d06-bb5c-806235729d5c",
        "id": "npW6tDP0AqmI"
      },
      "execution_count": null,
      "outputs": [
        {
          "output_type": "stream",
          "name": "stdout",
          "text": [
            "['drugQ' 'drugZ']\n"
          ]
        }
      ]
    },
    {
      "cell_type": "code",
      "source": [
        "# Display values and their counts\n",
        "df.groupby(['Drug'])['Drug'].count()"
      ],
      "metadata": {
        "colab": {
          "base_uri": "https://localhost:8080/"
        },
        "outputId": "bcf30219-a2a6-4898-ee28-80b94cd40571",
        "id": "8p2uaP2WAqmI"
      },
      "execution_count": null,
      "outputs": [
        {
          "output_type": "execute_result",
          "data": {
            "text/plain": [
              "Drug\n",
              "drugQ    134\n",
              "drugZ    147\n",
              "Name: Drug, dtype: int64"
            ]
          },
          "metadata": {},
          "execution_count": 41
        }
      ]
    },
    {
      "cell_type": "markdown",
      "source": [
        "- No issues noted."
      ],
      "metadata": {
        "id": "lDdGMkarAqmK"
      }
    },
    {
      "cell_type": "markdown",
      "source": [
        "### **Inspect Data in Columns with Numerical Datatypes**"
      ],
      "metadata": {
        "id": "MJShs6IT7Yo3"
      }
    },
    {
      "cell_type": "markdown",
      "source": [
        "- Filter columns with numerical indexes."
      ],
      "metadata": {
        "id": "uoVST-dLtZB5"
      }
    },
    {
      "cell_type": "code",
      "source": [
        "# Summary statistics for Numeric Columns\n",
        "df.describe()"
      ],
      "metadata": {
        "id": "DLd5r9wc9uxQ",
        "colab": {
          "base_uri": "https://localhost:8080/",
          "height": 300
        },
        "outputId": "d09f8b09-56d9-4c88-c9ce-eef3c43c848e"
      },
      "execution_count": null,
      "outputs": [
        {
          "output_type": "execute_result",
          "data": {
            "text/plain": [
              "              Age     Na_to_K\n",
              "count  227.000000  281.000000\n",
              "mean    47.475771   14.862769\n",
              "std     38.359652    6.474826\n",
              "min     15.000000    6.269000\n",
              "25%     32.000000   10.446000\n",
              "50%     45.000000   12.856000\n",
              "75%     59.000000   17.206000\n",
              "max    570.000000   38.247000"
            ],
            "text/html": [
              "\n",
              "  <div id=\"df-e902002b-ca48-465b-9b9d-efd9a70be040\">\n",
              "    <div class=\"colab-df-container\">\n",
              "      <div>\n",
              "<style scoped>\n",
              "    .dataframe tbody tr th:only-of-type {\n",
              "        vertical-align: middle;\n",
              "    }\n",
              "\n",
              "    .dataframe tbody tr th {\n",
              "        vertical-align: top;\n",
              "    }\n",
              "\n",
              "    .dataframe thead th {\n",
              "        text-align: right;\n",
              "    }\n",
              "</style>\n",
              "<table border=\"1\" class=\"dataframe\">\n",
              "  <thead>\n",
              "    <tr style=\"text-align: right;\">\n",
              "      <th></th>\n",
              "      <th>Age</th>\n",
              "      <th>Na_to_K</th>\n",
              "    </tr>\n",
              "  </thead>\n",
              "  <tbody>\n",
              "    <tr>\n",
              "      <th>count</th>\n",
              "      <td>227.000000</td>\n",
              "      <td>281.000000</td>\n",
              "    </tr>\n",
              "    <tr>\n",
              "      <th>mean</th>\n",
              "      <td>47.475771</td>\n",
              "      <td>14.862769</td>\n",
              "    </tr>\n",
              "    <tr>\n",
              "      <th>std</th>\n",
              "      <td>38.359652</td>\n",
              "      <td>6.474826</td>\n",
              "    </tr>\n",
              "    <tr>\n",
              "      <th>min</th>\n",
              "      <td>15.000000</td>\n",
              "      <td>6.269000</td>\n",
              "    </tr>\n",
              "    <tr>\n",
              "      <th>25%</th>\n",
              "      <td>32.000000</td>\n",
              "      <td>10.446000</td>\n",
              "    </tr>\n",
              "    <tr>\n",
              "      <th>50%</th>\n",
              "      <td>45.000000</td>\n",
              "      <td>12.856000</td>\n",
              "    </tr>\n",
              "    <tr>\n",
              "      <th>75%</th>\n",
              "      <td>59.000000</td>\n",
              "      <td>17.206000</td>\n",
              "    </tr>\n",
              "    <tr>\n",
              "      <th>max</th>\n",
              "      <td>570.000000</td>\n",
              "      <td>38.247000</td>\n",
              "    </tr>\n",
              "  </tbody>\n",
              "</table>\n",
              "</div>\n",
              "      <button class=\"colab-df-convert\" onclick=\"convertToInteractive('df-e902002b-ca48-465b-9b9d-efd9a70be040')\"\n",
              "              title=\"Convert this dataframe to an interactive table.\"\n",
              "              style=\"display:none;\">\n",
              "        \n",
              "  <svg xmlns=\"http://www.w3.org/2000/svg\" height=\"24px\"viewBox=\"0 0 24 24\"\n",
              "       width=\"24px\">\n",
              "    <path d=\"M0 0h24v24H0V0z\" fill=\"none\"/>\n",
              "    <path d=\"M18.56 5.44l.94 2.06.94-2.06 2.06-.94-2.06-.94-.94-2.06-.94 2.06-2.06.94zm-11 1L8.5 8.5l.94-2.06 2.06-.94-2.06-.94L8.5 2.5l-.94 2.06-2.06.94zm10 10l.94 2.06.94-2.06 2.06-.94-2.06-.94-.94-2.06-.94 2.06-2.06.94z\"/><path d=\"M17.41 7.96l-1.37-1.37c-.4-.4-.92-.59-1.43-.59-.52 0-1.04.2-1.43.59L10.3 9.45l-7.72 7.72c-.78.78-.78 2.05 0 2.83L4 21.41c.39.39.9.59 1.41.59.51 0 1.02-.2 1.41-.59l7.78-7.78 2.81-2.81c.8-.78.8-2.07 0-2.86zM5.41 20L4 18.59l7.72-7.72 1.47 1.35L5.41 20z\"/>\n",
              "  </svg>\n",
              "      </button>\n",
              "      \n",
              "  <style>\n",
              "    .colab-df-container {\n",
              "      display:flex;\n",
              "      flex-wrap:wrap;\n",
              "      gap: 12px;\n",
              "    }\n",
              "\n",
              "    .colab-df-convert {\n",
              "      background-color: #E8F0FE;\n",
              "      border: none;\n",
              "      border-radius: 50%;\n",
              "      cursor: pointer;\n",
              "      display: none;\n",
              "      fill: #1967D2;\n",
              "      height: 32px;\n",
              "      padding: 0 0 0 0;\n",
              "      width: 32px;\n",
              "    }\n",
              "\n",
              "    .colab-df-convert:hover {\n",
              "      background-color: #E2EBFA;\n",
              "      box-shadow: 0px 1px 2px rgba(60, 64, 67, 0.3), 0px 1px 3px 1px rgba(60, 64, 67, 0.15);\n",
              "      fill: #174EA6;\n",
              "    }\n",
              "\n",
              "    [theme=dark] .colab-df-convert {\n",
              "      background-color: #3B4455;\n",
              "      fill: #D2E3FC;\n",
              "    }\n",
              "\n",
              "    [theme=dark] .colab-df-convert:hover {\n",
              "      background-color: #434B5C;\n",
              "      box-shadow: 0px 1px 3px 1px rgba(0, 0, 0, 0.15);\n",
              "      filter: drop-shadow(0px 1px 2px rgba(0, 0, 0, 0.3));\n",
              "      fill: #FFFFFF;\n",
              "    }\n",
              "  </style>\n",
              "\n",
              "      <script>\n",
              "        const buttonEl =\n",
              "          document.querySelector('#df-e902002b-ca48-465b-9b9d-efd9a70be040 button.colab-df-convert');\n",
              "        buttonEl.style.display =\n",
              "          google.colab.kernel.accessAllowed ? 'block' : 'none';\n",
              "\n",
              "        async function convertToInteractive(key) {\n",
              "          const element = document.querySelector('#df-e902002b-ca48-465b-9b9d-efd9a70be040');\n",
              "          const dataTable =\n",
              "            await google.colab.kernel.invokeFunction('convertToInteractive',\n",
              "                                                     [key], {});\n",
              "          if (!dataTable) return;\n",
              "\n",
              "          const docLinkHtml = 'Like what you see? Visit the ' +\n",
              "            '<a target=\"_blank\" href=https://colab.research.google.com/notebooks/data_table.ipynb>data table notebook</a>'\n",
              "            + ' to learn more about interactive tables.';\n",
              "          element.innerHTML = '';\n",
              "          dataTable['output_type'] = 'display_data';\n",
              "          await google.colab.output.renderOutput(dataTable, element);\n",
              "          const docLink = document.createElement('div');\n",
              "          docLink.innerHTML = docLinkHtml;\n",
              "          element.appendChild(docLink);\n",
              "        }\n",
              "      </script>\n",
              "    </div>\n",
              "  </div>\n",
              "  "
            ]
          },
          "metadata": {},
          "execution_count": 42
        }
      ]
    },
    {
      "cell_type": "markdown",
      "source": [
        "- 'Age' has a max value of '570'."
      ],
      "metadata": {
        "id": "DkXlRgCluuJP"
      }
    },
    {
      "cell_type": "markdown",
      "source": [
        "#### **Age**"
      ],
      "metadata": {
        "id": "MZwxAavTF19J"
      }
    },
    {
      "cell_type": "code",
      "source": [
        "df.loc[df['Age'] == 570, :]"
      ],
      "metadata": {
        "colab": {
          "base_uri": "https://localhost:8080/",
          "height": 81
        },
        "id": "0wV72oEkGCbp",
        "outputId": "e62f1d07-2891-47be-9ce7-9c8b5e0be0a6"
      },
      "execution_count": null,
      "outputs": [
        {
          "output_type": "execute_result",
          "data": {
            "text/plain": [
              "       Age  Gender      BP Cholesterol  Na_to_K   Drug\n",
              "232  570.0  Female  Normal        High   14.216  drugZ"
            ],
            "text/html": [
              "\n",
              "  <div id=\"df-64d4759d-9ee7-47ba-a75b-6fd4aa989a96\">\n",
              "    <div class=\"colab-df-container\">\n",
              "      <div>\n",
              "<style scoped>\n",
              "    .dataframe tbody tr th:only-of-type {\n",
              "        vertical-align: middle;\n",
              "    }\n",
              "\n",
              "    .dataframe tbody tr th {\n",
              "        vertical-align: top;\n",
              "    }\n",
              "\n",
              "    .dataframe thead th {\n",
              "        text-align: right;\n",
              "    }\n",
              "</style>\n",
              "<table border=\"1\" class=\"dataframe\">\n",
              "  <thead>\n",
              "    <tr style=\"text-align: right;\">\n",
              "      <th></th>\n",
              "      <th>Age</th>\n",
              "      <th>Gender</th>\n",
              "      <th>BP</th>\n",
              "      <th>Cholesterol</th>\n",
              "      <th>Na_to_K</th>\n",
              "      <th>Drug</th>\n",
              "    </tr>\n",
              "  </thead>\n",
              "  <tbody>\n",
              "    <tr>\n",
              "      <th>232</th>\n",
              "      <td>570.0</td>\n",
              "      <td>Female</td>\n",
              "      <td>Normal</td>\n",
              "      <td>High</td>\n",
              "      <td>14.216</td>\n",
              "      <td>drugZ</td>\n",
              "    </tr>\n",
              "  </tbody>\n",
              "</table>\n",
              "</div>\n",
              "      <button class=\"colab-df-convert\" onclick=\"convertToInteractive('df-64d4759d-9ee7-47ba-a75b-6fd4aa989a96')\"\n",
              "              title=\"Convert this dataframe to an interactive table.\"\n",
              "              style=\"display:none;\">\n",
              "        \n",
              "  <svg xmlns=\"http://www.w3.org/2000/svg\" height=\"24px\"viewBox=\"0 0 24 24\"\n",
              "       width=\"24px\">\n",
              "    <path d=\"M0 0h24v24H0V0z\" fill=\"none\"/>\n",
              "    <path d=\"M18.56 5.44l.94 2.06.94-2.06 2.06-.94-2.06-.94-.94-2.06-.94 2.06-2.06.94zm-11 1L8.5 8.5l.94-2.06 2.06-.94-2.06-.94L8.5 2.5l-.94 2.06-2.06.94zm10 10l.94 2.06.94-2.06 2.06-.94-2.06-.94-.94-2.06-.94 2.06-2.06.94z\"/><path d=\"M17.41 7.96l-1.37-1.37c-.4-.4-.92-.59-1.43-.59-.52 0-1.04.2-1.43.59L10.3 9.45l-7.72 7.72c-.78.78-.78 2.05 0 2.83L4 21.41c.39.39.9.59 1.41.59.51 0 1.02-.2 1.41-.59l7.78-7.78 2.81-2.81c.8-.78.8-2.07 0-2.86zM5.41 20L4 18.59l7.72-7.72 1.47 1.35L5.41 20z\"/>\n",
              "  </svg>\n",
              "      </button>\n",
              "      \n",
              "  <style>\n",
              "    .colab-df-container {\n",
              "      display:flex;\n",
              "      flex-wrap:wrap;\n",
              "      gap: 12px;\n",
              "    }\n",
              "\n",
              "    .colab-df-convert {\n",
              "      background-color: #E8F0FE;\n",
              "      border: none;\n",
              "      border-radius: 50%;\n",
              "      cursor: pointer;\n",
              "      display: none;\n",
              "      fill: #1967D2;\n",
              "      height: 32px;\n",
              "      padding: 0 0 0 0;\n",
              "      width: 32px;\n",
              "    }\n",
              "\n",
              "    .colab-df-convert:hover {\n",
              "      background-color: #E2EBFA;\n",
              "      box-shadow: 0px 1px 2px rgba(60, 64, 67, 0.3), 0px 1px 3px 1px rgba(60, 64, 67, 0.15);\n",
              "      fill: #174EA6;\n",
              "    }\n",
              "\n",
              "    [theme=dark] .colab-df-convert {\n",
              "      background-color: #3B4455;\n",
              "      fill: #D2E3FC;\n",
              "    }\n",
              "\n",
              "    [theme=dark] .colab-df-convert:hover {\n",
              "      background-color: #434B5C;\n",
              "      box-shadow: 0px 1px 3px 1px rgba(0, 0, 0, 0.15);\n",
              "      filter: drop-shadow(0px 1px 2px rgba(0, 0, 0, 0.3));\n",
              "      fill: #FFFFFF;\n",
              "    }\n",
              "  </style>\n",
              "\n",
              "      <script>\n",
              "        const buttonEl =\n",
              "          document.querySelector('#df-64d4759d-9ee7-47ba-a75b-6fd4aa989a96 button.colab-df-convert');\n",
              "        buttonEl.style.display =\n",
              "          google.colab.kernel.accessAllowed ? 'block' : 'none';\n",
              "\n",
              "        async function convertToInteractive(key) {\n",
              "          const element = document.querySelector('#df-64d4759d-9ee7-47ba-a75b-6fd4aa989a96');\n",
              "          const dataTable =\n",
              "            await google.colab.kernel.invokeFunction('convertToInteractive',\n",
              "                                                     [key], {});\n",
              "          if (!dataTable) return;\n",
              "\n",
              "          const docLinkHtml = 'Like what you see? Visit the ' +\n",
              "            '<a target=\"_blank\" href=https://colab.research.google.com/notebooks/data_table.ipynb>data table notebook</a>'\n",
              "            + ' to learn more about interactive tables.';\n",
              "          element.innerHTML = '';\n",
              "          dataTable['output_type'] = 'display_data';\n",
              "          await google.colab.output.renderOutput(dataTable, element);\n",
              "          const docLink = document.createElement('div');\n",
              "          docLink.innerHTML = docLinkHtml;\n",
              "          element.appendChild(docLink);\n",
              "        }\n",
              "      </script>\n",
              "    </div>\n",
              "  </div>\n",
              "  "
            ]
          },
          "metadata": {},
          "execution_count": 43
        }
      ]
    },
    {
      "cell_type": "markdown",
      "source": [
        "- There is only 1 instance, so this instance can be dropped."
      ],
      "metadata": {
        "id": "d2F2jErGVfZ0"
      }
    },
    {
      "cell_type": "code",
      "source": [
        "# Drop the row with the inappropriate value.\n",
        "df = df.drop(index = 232)"
      ],
      "metadata": {
        "id": "5NRoKnR7GQCb"
      },
      "execution_count": null,
      "outputs": []
    },
    {
      "cell_type": "code",
      "source": [
        "# Confirm row with this value has been dropped.\n",
        "df.loc[df['Age'] == 570, :]"
      ],
      "metadata": {
        "colab": {
          "base_uri": "https://localhost:8080/",
          "height": 49
        },
        "id": "WcAhPzhkGY8k",
        "outputId": "f74af381-558d-49f3-8ec8-5aafbb1caa68"
      },
      "execution_count": null,
      "outputs": [
        {
          "output_type": "execute_result",
          "data": {
            "text/plain": [
              "Empty DataFrame\n",
              "Columns: [Age, Gender, BP, Cholesterol, Na_to_K, Drug]\n",
              "Index: []"
            ],
            "text/html": [
              "\n",
              "  <div id=\"df-87b4e4ae-465d-4b9f-a50b-df347882bfee\">\n",
              "    <div class=\"colab-df-container\">\n",
              "      <div>\n",
              "<style scoped>\n",
              "    .dataframe tbody tr th:only-of-type {\n",
              "        vertical-align: middle;\n",
              "    }\n",
              "\n",
              "    .dataframe tbody tr th {\n",
              "        vertical-align: top;\n",
              "    }\n",
              "\n",
              "    .dataframe thead th {\n",
              "        text-align: right;\n",
              "    }\n",
              "</style>\n",
              "<table border=\"1\" class=\"dataframe\">\n",
              "  <thead>\n",
              "    <tr style=\"text-align: right;\">\n",
              "      <th></th>\n",
              "      <th>Age</th>\n",
              "      <th>Gender</th>\n",
              "      <th>BP</th>\n",
              "      <th>Cholesterol</th>\n",
              "      <th>Na_to_K</th>\n",
              "      <th>Drug</th>\n",
              "    </tr>\n",
              "  </thead>\n",
              "  <tbody>\n",
              "  </tbody>\n",
              "</table>\n",
              "</div>\n",
              "      <button class=\"colab-df-convert\" onclick=\"convertToInteractive('df-87b4e4ae-465d-4b9f-a50b-df347882bfee')\"\n",
              "              title=\"Convert this dataframe to an interactive table.\"\n",
              "              style=\"display:none;\">\n",
              "        \n",
              "  <svg xmlns=\"http://www.w3.org/2000/svg\" height=\"24px\"viewBox=\"0 0 24 24\"\n",
              "       width=\"24px\">\n",
              "    <path d=\"M0 0h24v24H0V0z\" fill=\"none\"/>\n",
              "    <path d=\"M18.56 5.44l.94 2.06.94-2.06 2.06-.94-2.06-.94-.94-2.06-.94 2.06-2.06.94zm-11 1L8.5 8.5l.94-2.06 2.06-.94-2.06-.94L8.5 2.5l-.94 2.06-2.06.94zm10 10l.94 2.06.94-2.06 2.06-.94-2.06-.94-.94-2.06-.94 2.06-2.06.94z\"/><path d=\"M17.41 7.96l-1.37-1.37c-.4-.4-.92-.59-1.43-.59-.52 0-1.04.2-1.43.59L10.3 9.45l-7.72 7.72c-.78.78-.78 2.05 0 2.83L4 21.41c.39.39.9.59 1.41.59.51 0 1.02-.2 1.41-.59l7.78-7.78 2.81-2.81c.8-.78.8-2.07 0-2.86zM5.41 20L4 18.59l7.72-7.72 1.47 1.35L5.41 20z\"/>\n",
              "  </svg>\n",
              "      </button>\n",
              "      \n",
              "  <style>\n",
              "    .colab-df-container {\n",
              "      display:flex;\n",
              "      flex-wrap:wrap;\n",
              "      gap: 12px;\n",
              "    }\n",
              "\n",
              "    .colab-df-convert {\n",
              "      background-color: #E8F0FE;\n",
              "      border: none;\n",
              "      border-radius: 50%;\n",
              "      cursor: pointer;\n",
              "      display: none;\n",
              "      fill: #1967D2;\n",
              "      height: 32px;\n",
              "      padding: 0 0 0 0;\n",
              "      width: 32px;\n",
              "    }\n",
              "\n",
              "    .colab-df-convert:hover {\n",
              "      background-color: #E2EBFA;\n",
              "      box-shadow: 0px 1px 2px rgba(60, 64, 67, 0.3), 0px 1px 3px 1px rgba(60, 64, 67, 0.15);\n",
              "      fill: #174EA6;\n",
              "    }\n",
              "\n",
              "    [theme=dark] .colab-df-convert {\n",
              "      background-color: #3B4455;\n",
              "      fill: #D2E3FC;\n",
              "    }\n",
              "\n",
              "    [theme=dark] .colab-df-convert:hover {\n",
              "      background-color: #434B5C;\n",
              "      box-shadow: 0px 1px 3px 1px rgba(0, 0, 0, 0.15);\n",
              "      filter: drop-shadow(0px 1px 2px rgba(0, 0, 0, 0.3));\n",
              "      fill: #FFFFFF;\n",
              "    }\n",
              "  </style>\n",
              "\n",
              "      <script>\n",
              "        const buttonEl =\n",
              "          document.querySelector('#df-87b4e4ae-465d-4b9f-a50b-df347882bfee button.colab-df-convert');\n",
              "        buttonEl.style.display =\n",
              "          google.colab.kernel.accessAllowed ? 'block' : 'none';\n",
              "\n",
              "        async function convertToInteractive(key) {\n",
              "          const element = document.querySelector('#df-87b4e4ae-465d-4b9f-a50b-df347882bfee');\n",
              "          const dataTable =\n",
              "            await google.colab.kernel.invokeFunction('convertToInteractive',\n",
              "                                                     [key], {});\n",
              "          if (!dataTable) return;\n",
              "\n",
              "          const docLinkHtml = 'Like what you see? Visit the ' +\n",
              "            '<a target=\"_blank\" href=https://colab.research.google.com/notebooks/data_table.ipynb>data table notebook</a>'\n",
              "            + ' to learn more about interactive tables.';\n",
              "          element.innerHTML = '';\n",
              "          dataTable['output_type'] = 'display_data';\n",
              "          await google.colab.output.renderOutput(dataTable, element);\n",
              "          const docLink = document.createElement('div');\n",
              "          docLink.innerHTML = docLinkHtml;\n",
              "          element.appendChild(docLink);\n",
              "        }\n",
              "      </script>\n",
              "    </div>\n",
              "  </div>\n",
              "  "
            ]
          },
          "metadata": {},
          "execution_count": 45
        }
      ]
    },
    {
      "cell_type": "code",
      "source": [
        "# Review and confirm summary statistics\n",
        "df.describe()"
      ],
      "metadata": {
        "colab": {
          "base_uri": "https://localhost:8080/",
          "height": 300
        },
        "id": "F5QcuPFPGpuv",
        "outputId": "1295e919-47b3-4754-8d39-79735caa8629"
      },
      "execution_count": null,
      "outputs": [
        {
          "output_type": "execute_result",
          "data": {
            "text/plain": [
              "              Age     Na_to_K\n",
              "count  226.000000  280.000000\n",
              "mean    45.163717   14.865079\n",
              "std     16.098439    6.486304\n",
              "min     15.000000    6.269000\n",
              "25%     32.000000   10.446000\n",
              "50%     44.500000   12.856000\n",
              "75%     58.750000   17.207250\n",
              "max     74.000000   38.247000"
            ],
            "text/html": [
              "\n",
              "  <div id=\"df-4bc2f1c8-34ad-4e81-a915-1c60ab818148\">\n",
              "    <div class=\"colab-df-container\">\n",
              "      <div>\n",
              "<style scoped>\n",
              "    .dataframe tbody tr th:only-of-type {\n",
              "        vertical-align: middle;\n",
              "    }\n",
              "\n",
              "    .dataframe tbody tr th {\n",
              "        vertical-align: top;\n",
              "    }\n",
              "\n",
              "    .dataframe thead th {\n",
              "        text-align: right;\n",
              "    }\n",
              "</style>\n",
              "<table border=\"1\" class=\"dataframe\">\n",
              "  <thead>\n",
              "    <tr style=\"text-align: right;\">\n",
              "      <th></th>\n",
              "      <th>Age</th>\n",
              "      <th>Na_to_K</th>\n",
              "    </tr>\n",
              "  </thead>\n",
              "  <tbody>\n",
              "    <tr>\n",
              "      <th>count</th>\n",
              "      <td>226.000000</td>\n",
              "      <td>280.000000</td>\n",
              "    </tr>\n",
              "    <tr>\n",
              "      <th>mean</th>\n",
              "      <td>45.163717</td>\n",
              "      <td>14.865079</td>\n",
              "    </tr>\n",
              "    <tr>\n",
              "      <th>std</th>\n",
              "      <td>16.098439</td>\n",
              "      <td>6.486304</td>\n",
              "    </tr>\n",
              "    <tr>\n",
              "      <th>min</th>\n",
              "      <td>15.000000</td>\n",
              "      <td>6.269000</td>\n",
              "    </tr>\n",
              "    <tr>\n",
              "      <th>25%</th>\n",
              "      <td>32.000000</td>\n",
              "      <td>10.446000</td>\n",
              "    </tr>\n",
              "    <tr>\n",
              "      <th>50%</th>\n",
              "      <td>44.500000</td>\n",
              "      <td>12.856000</td>\n",
              "    </tr>\n",
              "    <tr>\n",
              "      <th>75%</th>\n",
              "      <td>58.750000</td>\n",
              "      <td>17.207250</td>\n",
              "    </tr>\n",
              "    <tr>\n",
              "      <th>max</th>\n",
              "      <td>74.000000</td>\n",
              "      <td>38.247000</td>\n",
              "    </tr>\n",
              "  </tbody>\n",
              "</table>\n",
              "</div>\n",
              "      <button class=\"colab-df-convert\" onclick=\"convertToInteractive('df-4bc2f1c8-34ad-4e81-a915-1c60ab818148')\"\n",
              "              title=\"Convert this dataframe to an interactive table.\"\n",
              "              style=\"display:none;\">\n",
              "        \n",
              "  <svg xmlns=\"http://www.w3.org/2000/svg\" height=\"24px\"viewBox=\"0 0 24 24\"\n",
              "       width=\"24px\">\n",
              "    <path d=\"M0 0h24v24H0V0z\" fill=\"none\"/>\n",
              "    <path d=\"M18.56 5.44l.94 2.06.94-2.06 2.06-.94-2.06-.94-.94-2.06-.94 2.06-2.06.94zm-11 1L8.5 8.5l.94-2.06 2.06-.94-2.06-.94L8.5 2.5l-.94 2.06-2.06.94zm10 10l.94 2.06.94-2.06 2.06-.94-2.06-.94-.94-2.06-.94 2.06-2.06.94z\"/><path d=\"M17.41 7.96l-1.37-1.37c-.4-.4-.92-.59-1.43-.59-.52 0-1.04.2-1.43.59L10.3 9.45l-7.72 7.72c-.78.78-.78 2.05 0 2.83L4 21.41c.39.39.9.59 1.41.59.51 0 1.02-.2 1.41-.59l7.78-7.78 2.81-2.81c.8-.78.8-2.07 0-2.86zM5.41 20L4 18.59l7.72-7.72 1.47 1.35L5.41 20z\"/>\n",
              "  </svg>\n",
              "      </button>\n",
              "      \n",
              "  <style>\n",
              "    .colab-df-container {\n",
              "      display:flex;\n",
              "      flex-wrap:wrap;\n",
              "      gap: 12px;\n",
              "    }\n",
              "\n",
              "    .colab-df-convert {\n",
              "      background-color: #E8F0FE;\n",
              "      border: none;\n",
              "      border-radius: 50%;\n",
              "      cursor: pointer;\n",
              "      display: none;\n",
              "      fill: #1967D2;\n",
              "      height: 32px;\n",
              "      padding: 0 0 0 0;\n",
              "      width: 32px;\n",
              "    }\n",
              "\n",
              "    .colab-df-convert:hover {\n",
              "      background-color: #E2EBFA;\n",
              "      box-shadow: 0px 1px 2px rgba(60, 64, 67, 0.3), 0px 1px 3px 1px rgba(60, 64, 67, 0.15);\n",
              "      fill: #174EA6;\n",
              "    }\n",
              "\n",
              "    [theme=dark] .colab-df-convert {\n",
              "      background-color: #3B4455;\n",
              "      fill: #D2E3FC;\n",
              "    }\n",
              "\n",
              "    [theme=dark] .colab-df-convert:hover {\n",
              "      background-color: #434B5C;\n",
              "      box-shadow: 0px 1px 3px 1px rgba(0, 0, 0, 0.15);\n",
              "      filter: drop-shadow(0px 1px 2px rgba(0, 0, 0, 0.3));\n",
              "      fill: #FFFFFF;\n",
              "    }\n",
              "  </style>\n",
              "\n",
              "      <script>\n",
              "        const buttonEl =\n",
              "          document.querySelector('#df-4bc2f1c8-34ad-4e81-a915-1c60ab818148 button.colab-df-convert');\n",
              "        buttonEl.style.display =\n",
              "          google.colab.kernel.accessAllowed ? 'block' : 'none';\n",
              "\n",
              "        async function convertToInteractive(key) {\n",
              "          const element = document.querySelector('#df-4bc2f1c8-34ad-4e81-a915-1c60ab818148');\n",
              "          const dataTable =\n",
              "            await google.colab.kernel.invokeFunction('convertToInteractive',\n",
              "                                                     [key], {});\n",
              "          if (!dataTable) return;\n",
              "\n",
              "          const docLinkHtml = 'Like what you see? Visit the ' +\n",
              "            '<a target=\"_blank\" href=https://colab.research.google.com/notebooks/data_table.ipynb>data table notebook</a>'\n",
              "            + ' to learn more about interactive tables.';\n",
              "          element.innerHTML = '';\n",
              "          dataTable['output_type'] = 'display_data';\n",
              "          await google.colab.output.renderOutput(dataTable, element);\n",
              "          const docLink = document.createElement('div');\n",
              "          docLink.innerHTML = docLinkHtml;\n",
              "          element.appendChild(docLink);\n",
              "        }\n",
              "      </script>\n",
              "    </div>\n",
              "  </div>\n",
              "  "
            ]
          },
          "metadata": {},
          "execution_count": 46
        }
      ]
    },
    {
      "cell_type": "markdown",
      "source": [
        "- No issues noted."
      ],
      "metadata": {
        "id": "7oZ2MVk0Gt8F"
      }
    },
    {
      "cell_type": "markdown",
      "source": [
        "## **Exploratory Data Analysis**"
      ],
      "metadata": {
        "id": "NqfnRAP-jWdZ"
      }
    },
    {
      "cell_type": "markdown",
      "source": [
        "### **Numeric Columns**"
      ],
      "metadata": {
        "id": "DR5bJFxo4HDt"
      }
    },
    {
      "cell_type": "code",
      "source": [
        "df.describe()"
      ],
      "metadata": {
        "colab": {
          "base_uri": "https://localhost:8080/",
          "height": 300
        },
        "id": "kraQODkRpF-F",
        "outputId": "ab87c5e7-85ba-4cfa-d07a-d8698d480981"
      },
      "execution_count": null,
      "outputs": [
        {
          "output_type": "execute_result",
          "data": {
            "text/plain": [
              "              Age     Na_to_K\n",
              "count  226.000000  280.000000\n",
              "mean    45.163717   14.865079\n",
              "std     16.098439    6.486304\n",
              "min     15.000000    6.269000\n",
              "25%     32.000000   10.446000\n",
              "50%     44.500000   12.856000\n",
              "75%     58.750000   17.207250\n",
              "max     74.000000   38.247000"
            ],
            "text/html": [
              "\n",
              "  <div id=\"df-b6586e1b-8c5a-4c20-b70e-ac5a367985e4\">\n",
              "    <div class=\"colab-df-container\">\n",
              "      <div>\n",
              "<style scoped>\n",
              "    .dataframe tbody tr th:only-of-type {\n",
              "        vertical-align: middle;\n",
              "    }\n",
              "\n",
              "    .dataframe tbody tr th {\n",
              "        vertical-align: top;\n",
              "    }\n",
              "\n",
              "    .dataframe thead th {\n",
              "        text-align: right;\n",
              "    }\n",
              "</style>\n",
              "<table border=\"1\" class=\"dataframe\">\n",
              "  <thead>\n",
              "    <tr style=\"text-align: right;\">\n",
              "      <th></th>\n",
              "      <th>Age</th>\n",
              "      <th>Na_to_K</th>\n",
              "    </tr>\n",
              "  </thead>\n",
              "  <tbody>\n",
              "    <tr>\n",
              "      <th>count</th>\n",
              "      <td>226.000000</td>\n",
              "      <td>280.000000</td>\n",
              "    </tr>\n",
              "    <tr>\n",
              "      <th>mean</th>\n",
              "      <td>45.163717</td>\n",
              "      <td>14.865079</td>\n",
              "    </tr>\n",
              "    <tr>\n",
              "      <th>std</th>\n",
              "      <td>16.098439</td>\n",
              "      <td>6.486304</td>\n",
              "    </tr>\n",
              "    <tr>\n",
              "      <th>min</th>\n",
              "      <td>15.000000</td>\n",
              "      <td>6.269000</td>\n",
              "    </tr>\n",
              "    <tr>\n",
              "      <th>25%</th>\n",
              "      <td>32.000000</td>\n",
              "      <td>10.446000</td>\n",
              "    </tr>\n",
              "    <tr>\n",
              "      <th>50%</th>\n",
              "      <td>44.500000</td>\n",
              "      <td>12.856000</td>\n",
              "    </tr>\n",
              "    <tr>\n",
              "      <th>75%</th>\n",
              "      <td>58.750000</td>\n",
              "      <td>17.207250</td>\n",
              "    </tr>\n",
              "    <tr>\n",
              "      <th>max</th>\n",
              "      <td>74.000000</td>\n",
              "      <td>38.247000</td>\n",
              "    </tr>\n",
              "  </tbody>\n",
              "</table>\n",
              "</div>\n",
              "      <button class=\"colab-df-convert\" onclick=\"convertToInteractive('df-b6586e1b-8c5a-4c20-b70e-ac5a367985e4')\"\n",
              "              title=\"Convert this dataframe to an interactive table.\"\n",
              "              style=\"display:none;\">\n",
              "        \n",
              "  <svg xmlns=\"http://www.w3.org/2000/svg\" height=\"24px\"viewBox=\"0 0 24 24\"\n",
              "       width=\"24px\">\n",
              "    <path d=\"M0 0h24v24H0V0z\" fill=\"none\"/>\n",
              "    <path d=\"M18.56 5.44l.94 2.06.94-2.06 2.06-.94-2.06-.94-.94-2.06-.94 2.06-2.06.94zm-11 1L8.5 8.5l.94-2.06 2.06-.94-2.06-.94L8.5 2.5l-.94 2.06-2.06.94zm10 10l.94 2.06.94-2.06 2.06-.94-2.06-.94-.94-2.06-.94 2.06-2.06.94z\"/><path d=\"M17.41 7.96l-1.37-1.37c-.4-.4-.92-.59-1.43-.59-.52 0-1.04.2-1.43.59L10.3 9.45l-7.72 7.72c-.78.78-.78 2.05 0 2.83L4 21.41c.39.39.9.59 1.41.59.51 0 1.02-.2 1.41-.59l7.78-7.78 2.81-2.81c.8-.78.8-2.07 0-2.86zM5.41 20L4 18.59l7.72-7.72 1.47 1.35L5.41 20z\"/>\n",
              "  </svg>\n",
              "      </button>\n",
              "      \n",
              "  <style>\n",
              "    .colab-df-container {\n",
              "      display:flex;\n",
              "      flex-wrap:wrap;\n",
              "      gap: 12px;\n",
              "    }\n",
              "\n",
              "    .colab-df-convert {\n",
              "      background-color: #E8F0FE;\n",
              "      border: none;\n",
              "      border-radius: 50%;\n",
              "      cursor: pointer;\n",
              "      display: none;\n",
              "      fill: #1967D2;\n",
              "      height: 32px;\n",
              "      padding: 0 0 0 0;\n",
              "      width: 32px;\n",
              "    }\n",
              "\n",
              "    .colab-df-convert:hover {\n",
              "      background-color: #E2EBFA;\n",
              "      box-shadow: 0px 1px 2px rgba(60, 64, 67, 0.3), 0px 1px 3px 1px rgba(60, 64, 67, 0.15);\n",
              "      fill: #174EA6;\n",
              "    }\n",
              "\n",
              "    [theme=dark] .colab-df-convert {\n",
              "      background-color: #3B4455;\n",
              "      fill: #D2E3FC;\n",
              "    }\n",
              "\n",
              "    [theme=dark] .colab-df-convert:hover {\n",
              "      background-color: #434B5C;\n",
              "      box-shadow: 0px 1px 3px 1px rgba(0, 0, 0, 0.15);\n",
              "      filter: drop-shadow(0px 1px 2px rgba(0, 0, 0, 0.3));\n",
              "      fill: #FFFFFF;\n",
              "    }\n",
              "  </style>\n",
              "\n",
              "      <script>\n",
              "        const buttonEl =\n",
              "          document.querySelector('#df-b6586e1b-8c5a-4c20-b70e-ac5a367985e4 button.colab-df-convert');\n",
              "        buttonEl.style.display =\n",
              "          google.colab.kernel.accessAllowed ? 'block' : 'none';\n",
              "\n",
              "        async function convertToInteractive(key) {\n",
              "          const element = document.querySelector('#df-b6586e1b-8c5a-4c20-b70e-ac5a367985e4');\n",
              "          const dataTable =\n",
              "            await google.colab.kernel.invokeFunction('convertToInteractive',\n",
              "                                                     [key], {});\n",
              "          if (!dataTable) return;\n",
              "\n",
              "          const docLinkHtml = 'Like what you see? Visit the ' +\n",
              "            '<a target=\"_blank\" href=https://colab.research.google.com/notebooks/data_table.ipynb>data table notebook</a>'\n",
              "            + ' to learn more about interactive tables.';\n",
              "          element.innerHTML = '';\n",
              "          dataTable['output_type'] = 'display_data';\n",
              "          await google.colab.output.renderOutput(dataTable, element);\n",
              "          const docLink = document.createElement('div');\n",
              "          docLink.innerHTML = docLinkHtml;\n",
              "          element.appendChild(docLink);\n",
              "        }\n",
              "      </script>\n",
              "    </div>\n",
              "  </div>\n",
              "  "
            ]
          },
          "metadata": {},
          "execution_count": 47
        }
      ]
    },
    {
      "cell_type": "code",
      "source": [
        "df.hist(figsize=(8,4), bins=30)\n",
        "plt.tight_layout()\n",
        "plt.show;"
      ],
      "metadata": {
        "id": "vGurkLnSHkXt",
        "colab": {
          "base_uri": "https://localhost:8080/",
          "height": 297
        },
        "outputId": "bda9b09c-e78f-4a01-b080-ecd8bef9df10"
      },
      "execution_count": null,
      "outputs": [
        {
          "output_type": "display_data",
          "data": {
            "text/plain": [
              "<Figure size 576x288 with 2 Axes>"
            ],
            "image/png": "[encoded data removed]"
          },
          "metadata": {
            "needs_background": "light"
          }
        }
      ]
    },
    {
      "cell_type": "markdown",
      "source": [
        "- 'Age' appears to be fairly evenly distributed.\n",
        "- 'Na_to_K' appears to be skewed."
      ],
      "metadata": {
        "id": "RTgt9s8jETcP"
      }
    },
    {
      "cell_type": "markdown",
      "source": [
        "#### **Age**"
      ],
      "metadata": {
        "id": "WikkawyCk5u2"
      }
    },
    {
      "cell_type": "code",
      "source": [
        "plt.figure(figsize = (12,4))\n",
        "\n",
        "sns.histplot(data=df, x='Age', color='#069AF3', bins=100); \n",
        "\n",
        "plt.title('Age Distribution', fontsize = 22, weight='bold')\n",
        "plt.xlabel('Age', fontsize = 16, weight='bold')\n",
        "plt.ylabel('Item Count', fontsize = 16, weight='bold');\n",
        "plt.xticks(fontsize = 10, weight='bold', rotation=30)\n",
        "plt.yticks(fontsize = 10, weight='bold');\n",
        "\n",
        "plt.tight_layout()\n",
        "plt.show;"
      ],
      "metadata": {
        "id": "RNixYjLnlUuS",
        "colab": {
          "base_uri": "https://localhost:8080/",
          "height": 297
        },
        "outputId": "01af5309-3a86-471a-d0dd-c489d72a6a09"
      },
      "execution_count": null,
      "outputs": [
        {
          "output_type": "display_data",
          "data": {
            "text/plain": [
              "<Figure size 864x288 with 1 Axes>"
            ],
            "image/png": "[encoded data removed]"
          },
          "metadata": {
            "needs_background": "light"
          }
        }
      ]
    },
    {
      "cell_type": "code",
      "source": [
        "plt.figure(figsize = (12, 4))\n",
        "\n",
        "sns.boxplot(data=df, x='Age', color='#069AF3'); \n",
        "\n",
        "plt.title('Age Distribution', fontsize = 22, weight='bold')\n",
        "plt.xlabel('Age', fontsize = 16, weight='bold')\n",
        "plt.xticks(fontsize = 10, weight='bold', rotation=30)\n",
        "\n",
        "plt.tight_layout()\n",
        "plt.show;"
      ],
      "metadata": {
        "id": "t1Jk7IXKrInu",
        "colab": {
          "base_uri": "https://localhost:8080/",
          "height": 297
        },
        "outputId": "378da027-daf8-4501-89d2-50a7680875aa"
      },
      "execution_count": null,
      "outputs": [
        {
          "output_type": "display_data",
          "data": {
            "text/plain": [
              "<Figure size 864x288 with 1 Axes>"
            ],
            "image/png": "[encoded data removed]"
          },
          "metadata": {
            "needs_background": "light"
          }
        }
      ]
    },
    {
      "cell_type": "markdown",
      "source": [
        "- **Skew** - 'Age' appears to be evenly distributed and not skewed.\n",
        "- **Outliers** - 'Age' does not have any outliers.\n",
        "- No issues noted, values appear reasonable.\n"
      ],
      "metadata": {
        "id": "5a5FrFxIHY4U"
      }
    },
    {
      "cell_type": "markdown",
      "source": [
        "#### **Na_to_K**"
      ],
      "metadata": {
        "id": "_-BqBlCKjebD"
      }
    },
    {
      "cell_type": "code",
      "source": [
        "plt.figure(figsize = (12, 4))\n",
        "\n",
        "sns.histplot(data=df, x='Na_to_K', color='#069AF3', bins=100); \n",
        "\n",
        "plt.title('Na_to_K Distribution', fontsize = 22, weight='bold')\n",
        "plt.xlabel('Na_to_K', fontsize = 16, weight='bold')\n",
        "plt.ylabel('Item Count', fontsize = 16, weight='bold');\n",
        "plt.xticks(fontsize = 10, weight='bold', rotation=30)\n",
        "plt.yticks(fontsize = 10, weight='bold');\n",
        "\n",
        "plt.tight_layout()\n",
        "plt.show;"
      ],
      "metadata": {
        "id": "8SmQB21pGxwL",
        "colab": {
          "base_uri": "https://localhost:8080/",
          "height": 297
        },
        "outputId": "1b15fe4c-f266-4cce-e3ab-aa9781715c5b"
      },
      "execution_count": null,
      "outputs": [
        {
          "output_type": "display_data",
          "data": {
            "text/plain": [
              "<Figure size 864x288 with 1 Axes>"
            ],
            "image/png": "[encoded data removed]"
          },
          "metadata": {
            "needs_background": "light"
          }
        }
      ]
    },
    {
      "cell_type": "code",
      "source": [
        "plt.figure(figsize = (12, 4))\n",
        "\n",
        "sns.boxplot(data=df, x='Na_to_K', color='#069AF3'); \n",
        "\n",
        "plt.title('Na_to_K Distribution', fontsize = 22, weight='bold')\n",
        "plt.xlabel('Na_to_K', fontsize = 16, weight='bold')\n",
        "plt.xticks(fontsize = 10, weight='bold')\n",
        "\n",
        "\n",
        "plt.tight_layout()\n",
        "plt.show;"
      ],
      "metadata": {
        "colab": {
          "base_uri": "https://localhost:8080/",
          "height": 297
        },
        "id": "Zm8sAv9uD52z",
        "outputId": "1032c810-b58c-4aef-b4b7-ed13932ae587"
      },
      "execution_count": null,
      "outputs": [
        {
          "output_type": "display_data",
          "data": {
            "text/plain": [
              "<Figure size 864x288 with 1 Axes>"
            ],
            "image/png": "[encoded data removed]"
          },
          "metadata": {
            "needs_background": "light"
          }
        }
      ]
    },
    {
      "cell_type": "markdown",
      "source": [
        "- **Skew** - 'Na_to_K' is skewed.\n",
        "- **Outliers** - 'Na_to_K' does have outliers on the high side.\n",
        "- No issues noted, values appear reasonable."
      ],
      "metadata": {
        "id": "tcAuz_dpJb1H"
      }
    },
    {
      "cell_type": "markdown",
      "source": [
        "### **Categorical Columns**"
      ],
      "metadata": {
        "id": "v7f3iwOtoss5"
      }
    },
    {
      "cell_type": "code",
      "source": [
        "df.describe(exclude=('number'))"
      ],
      "metadata": {
        "colab": {
          "base_uri": "https://localhost:8080/",
          "height": 175
        },
        "id": "vYEzy06soxBb",
        "outputId": "29de2af0-d1b3-4279-d4d7-57735a151efa"
      },
      "execution_count": null,
      "outputs": [
        {
          "output_type": "execute_result",
          "data": {
            "text/plain": [
              "       Gender    BP Cholesterol   Drug\n",
              "count     280   280         280    280\n",
              "unique      2     4           2      2\n",
              "top      Male  High        High  drugZ\n",
              "freq      145   128         151    146"
            ],
            "text/html": [
              "\n",
              "  <div id=\"df-0357ad97-e272-4692-b34a-ac6b5af875ef\">\n",
              "    <div class=\"colab-df-container\">\n",
              "      <div>\n",
              "<style scoped>\n",
              "    .dataframe tbody tr th:only-of-type {\n",
              "        vertical-align: middle;\n",
              "    }\n",
              "\n",
              "    .dataframe tbody tr th {\n",
              "        vertical-align: top;\n",
              "    }\n",
              "\n",
              "    .dataframe thead th {\n",
              "        text-align: right;\n",
              "    }\n",
              "</style>\n",
              "<table border=\"1\" class=\"dataframe\">\n",
              "  <thead>\n",
              "    <tr style=\"text-align: right;\">\n",
              "      <th></th>\n",
              "      <th>Gender</th>\n",
              "      <th>BP</th>\n",
              "      <th>Cholesterol</th>\n",
              "      <th>Drug</th>\n",
              "    </tr>\n",
              "  </thead>\n",
              "  <tbody>\n",
              "    <tr>\n",
              "      <th>count</th>\n",
              "      <td>280</td>\n",
              "      <td>280</td>\n",
              "      <td>280</td>\n",
              "      <td>280</td>\n",
              "    </tr>\n",
              "    <tr>\n",
              "      <th>unique</th>\n",
              "      <td>2</td>\n",
              "      <td>4</td>\n",
              "      <td>2</td>\n",
              "      <td>2</td>\n",
              "    </tr>\n",
              "    <tr>\n",
              "      <th>top</th>\n",
              "      <td>Male</td>\n",
              "      <td>High</td>\n",
              "      <td>High</td>\n",
              "      <td>drugZ</td>\n",
              "    </tr>\n",
              "    <tr>\n",
              "      <th>freq</th>\n",
              "      <td>145</td>\n",
              "      <td>128</td>\n",
              "      <td>151</td>\n",
              "      <td>146</td>\n",
              "    </tr>\n",
              "  </tbody>\n",
              "</table>\n",
              "</div>\n",
              "      <button class=\"colab-df-convert\" onclick=\"convertToInteractive('df-0357ad97-e272-4692-b34a-ac6b5af875ef')\"\n",
              "              title=\"Convert this dataframe to an interactive table.\"\n",
              "              style=\"display:none;\">\n",
              "        \n",
              "  <svg xmlns=\"http://www.w3.org/2000/svg\" height=\"24px\"viewBox=\"0 0 24 24\"\n",
              "       width=\"24px\">\n",
              "    <path d=\"M0 0h24v24H0V0z\" fill=\"none\"/>\n",
              "    <path d=\"M18.56 5.44l.94 2.06.94-2.06 2.06-.94-2.06-.94-.94-2.06-.94 2.06-2.06.94zm-11 1L8.5 8.5l.94-2.06 2.06-.94-2.06-.94L8.5 2.5l-.94 2.06-2.06.94zm10 10l.94 2.06.94-2.06 2.06-.94-2.06-.94-.94-2.06-.94 2.06-2.06.94z\"/><path d=\"M17.41 7.96l-1.37-1.37c-.4-.4-.92-.59-1.43-.59-.52 0-1.04.2-1.43.59L10.3 9.45l-7.72 7.72c-.78.78-.78 2.05 0 2.83L4 21.41c.39.39.9.59 1.41.59.51 0 1.02-.2 1.41-.59l7.78-7.78 2.81-2.81c.8-.78.8-2.07 0-2.86zM5.41 20L4 18.59l7.72-7.72 1.47 1.35L5.41 20z\"/>\n",
              "  </svg>\n",
              "      </button>\n",
              "      \n",
              "  <style>\n",
              "    .colab-df-container {\n",
              "      display:flex;\n",
              "      flex-wrap:wrap;\n",
              "      gap: 12px;\n",
              "    }\n",
              "\n",
              "    .colab-df-convert {\n",
              "      background-color: #E8F0FE;\n",
              "      border: none;\n",
              "      border-radius: 50%;\n",
              "      cursor: pointer;\n",
              "      display: none;\n",
              "      fill: #1967D2;\n",
              "      height: 32px;\n",
              "      padding: 0 0 0 0;\n",
              "      width: 32px;\n",
              "    }\n",
              "\n",
              "    .colab-df-convert:hover {\n",
              "      background-color: #E2EBFA;\n",
              "      box-shadow: 0px 1px 2px rgba(60, 64, 67, 0.3), 0px 1px 3px 1px rgba(60, 64, 67, 0.15);\n",
              "      fill: #174EA6;\n",
              "    }\n",
              "\n",
              "    [theme=dark] .colab-df-convert {\n",
              "      background-color: #3B4455;\n",
              "      fill: #D2E3FC;\n",
              "    }\n",
              "\n",
              "    [theme=dark] .colab-df-convert:hover {\n",
              "      background-color: #434B5C;\n",
              "      box-shadow: 0px 1px 3px 1px rgba(0, 0, 0, 0.15);\n",
              "      filter: drop-shadow(0px 1px 2px rgba(0, 0, 0, 0.3));\n",
              "      fill: #FFFFFF;\n",
              "    }\n",
              "  </style>\n",
              "\n",
              "      <script>\n",
              "        const buttonEl =\n",
              "          document.querySelector('#df-0357ad97-e272-4692-b34a-ac6b5af875ef button.colab-df-convert');\n",
              "        buttonEl.style.display =\n",
              "          google.colab.kernel.accessAllowed ? 'block' : 'none';\n",
              "\n",
              "        async function convertToInteractive(key) {\n",
              "          const element = document.querySelector('#df-0357ad97-e272-4692-b34a-ac6b5af875ef');\n",
              "          const dataTable =\n",
              "            await google.colab.kernel.invokeFunction('convertToInteractive',\n",
              "                                                     [key], {});\n",
              "          if (!dataTable) return;\n",
              "\n",
              "          const docLinkHtml = 'Like what you see? Visit the ' +\n",
              "            '<a target=\"_blank\" href=https://colab.research.google.com/notebooks/data_table.ipynb>data table notebook</a>'\n",
              "            + ' to learn more about interactive tables.';\n",
              "          element.innerHTML = '';\n",
              "          dataTable['output_type'] = 'display_data';\n",
              "          await google.colab.output.renderOutput(dataTable, element);\n",
              "          const docLink = document.createElement('div');\n",
              "          docLink.innerHTML = docLinkHtml;\n",
              "          element.appendChild(docLink);\n",
              "        }\n",
              "      </script>\n",
              "    </div>\n",
              "  </div>\n",
              "  "
            ]
          },
          "metadata": {},
          "execution_count": 53
        }
      ]
    },
    {
      "cell_type": "markdown",
      "source": [
        "- No issues noted."
      ],
      "metadata": {
        "id": "AvpJythc_3T-"
      }
    },
    {
      "cell_type": "markdown",
      "source": [
        "#### **Gender**"
      ],
      "metadata": {
        "id": "xj5aKKkKlCY7"
      }
    },
    {
      "cell_type": "code",
      "source": [
        "df['Gender'].value_counts()"
      ],
      "metadata": {
        "colab": {
          "base_uri": "https://localhost:8080/"
        },
        "id": "QtHC-xR6l1Cp",
        "outputId": "997f7bf3-6c7e-4715-ec97-52965f847976"
      },
      "execution_count": null,
      "outputs": [
        {
          "output_type": "execute_result",
          "data": {
            "text/plain": [
              "Male      145\n",
              "Female    135\n",
              "Name: Gender, dtype: int64"
            ]
          },
          "metadata": {},
          "execution_count": 54
        }
      ]
    },
    {
      "cell_type": "code",
      "source": [
        "df['Gender'].value_counts(normalize=True)"
      ],
      "metadata": {
        "colab": {
          "base_uri": "https://localhost:8080/"
        },
        "id": "H6KY68TumlHs",
        "outputId": "efc14ce1-36c4-4885-e3d2-5d9b46d3ca1f"
      },
      "execution_count": null,
      "outputs": [
        {
          "output_type": "execute_result",
          "data": {
            "text/plain": [
              "Male      0.517857\n",
              "Female    0.482143\n",
              "Name: Gender, dtype: float64"
            ]
          },
          "metadata": {},
          "execution_count": 55
        }
      ]
    },
    {
      "cell_type": "code",
      "source": [
        "plt.figure(figsize = (12,4))\n",
        "\n",
        "sns.histplot(data=df, x='Gender', color='#069AF3'); \n",
        "\n",
        "plt.title('Gender Distribution', fontsize = 22, weight='bold');\n",
        "plt.xlabel('Gender', fontsize = 16, weight='bold');\n",
        "plt.ylabel('Item Count', fontsize = 16, weight='bold');\n",
        "plt.xticks(fontsize = 10, weight='bold', rotation=0);\n",
        "plt.yticks(fontsize = 10, weight='bold');\n",
        "\n",
        "plt.tight_layout()\n",
        "plt.show;"
      ],
      "metadata": {
        "id": "ffR33urklVFQ",
        "colab": {
          "base_uri": "https://localhost:8080/",
          "height": 297
        },
        "outputId": "45b89411-60cc-4893-f425-15bcc71d0010"
      },
      "execution_count": null,
      "outputs": [
        {
          "output_type": "display_data",
          "data": {
            "text/plain": [
              "<Figure size 864x288 with 1 Axes>"
            ],
            "image/png": "[encoded data removed]"
          },
          "metadata": {
            "needs_background": "light"
          }
        }
      ]
    },
    {
      "cell_type": "markdown",
      "source": [
        "- 'Gender' values appear to be fairly evenly distributed."
      ],
      "metadata": {
        "id": "zc-VJHvcLq_0"
      }
    },
    {
      "cell_type": "markdown",
      "source": [
        "#### **BP**"
      ],
      "metadata": {
        "id": "o5ijF36Y9rsy"
      }
    },
    {
      "cell_type": "code",
      "source": [
        "df['BP'].value_counts()"
      ],
      "metadata": {
        "colab": {
          "base_uri": "https://localhost:8080/"
        },
        "id": "1rTJf8Pbmpi3",
        "outputId": "f7462506-972c-4e67-8f2e-8aa61fa5d666"
      },
      "execution_count": null,
      "outputs": [
        {
          "output_type": "execute_result",
          "data": {
            "text/plain": [
              "High       128\n",
              "Unknown     75\n",
              "Normal      45\n",
              "Low         32\n",
              "Name: BP, dtype: int64"
            ]
          },
          "metadata": {},
          "execution_count": 57
        }
      ]
    },
    {
      "cell_type": "code",
      "source": [
        "df['BP'].value_counts(normalize=True)"
      ],
      "metadata": {
        "colab": {
          "base_uri": "https://localhost:8080/"
        },
        "id": "ZbhVKJVfmpri",
        "outputId": "b4e0d6b5-2a45-4ff0-e009-18a22325883a"
      },
      "execution_count": null,
      "outputs": [
        {
          "output_type": "execute_result",
          "data": {
            "text/plain": [
              "High       0.457143\n",
              "Unknown    0.267857\n",
              "Normal     0.160714\n",
              "Low        0.114286\n",
              "Name: BP, dtype: float64"
            ]
          },
          "metadata": {},
          "execution_count": 58
        }
      ]
    },
    {
      "cell_type": "code",
      "source": [
        "plt.figure(figsize = (12, 4))\n",
        "\n",
        "sns.histplot(data=df, x='BP', color='#069AF3'); \n",
        "\n",
        "plt.title('BP Distribution', fontsize = 22, weight='bold')\n",
        "plt.xlabel('BP', fontsize = 16, weight='bold')\n",
        "plt.ylabel('Item Count', fontsize = 16, weight='bold');\n",
        "plt.xticks(fontsize = 10, weight='bold', rotation=0)\n",
        "plt.yticks(fontsize = 10, weight='bold');\n",
        "\n",
        "plt.tight_layout()\n",
        "plt.show;"
      ],
      "metadata": {
        "id": "QwErnvnuBVZn",
        "colab": {
          "base_uri": "https://localhost:8080/",
          "height": 297
        },
        "outputId": "2e3b4d68-75fd-4772-d1a1-197735890592"
      },
      "execution_count": null,
      "outputs": [
        {
          "output_type": "display_data",
          "data": {
            "text/plain": [
              "<Figure size 864x288 with 1 Axes>"
            ],
            "image/png": "[encoded data removed]"
          },
          "metadata": {
            "needs_background": "light"
          }
        }
      ]
    },
    {
      "cell_type": "markdown",
      "source": [
        "- 'BP' appears to have a significantly higher count of 'High' values, than 'Normal', 'Low', or 'Unknown'"
      ],
      "metadata": {
        "id": "j2FLsc8RMFsM"
      }
    },
    {
      "cell_type": "markdown",
      "source": [
        "#### **Cholesterol**"
      ],
      "metadata": {
        "id": "Yr2WKNwGjwa_"
      }
    },
    {
      "cell_type": "code",
      "source": [
        "df['Cholesterol'].value_counts()"
      ],
      "metadata": {
        "colab": {
          "base_uri": "https://localhost:8080/"
        },
        "id": "a_kiE1Dvm0Mz",
        "outputId": "10c208c4-079b-4241-cbf5-42c51ff25814"
      },
      "execution_count": null,
      "outputs": [
        {
          "output_type": "execute_result",
          "data": {
            "text/plain": [
              "High      151\n",
              "Normal    129\n",
              "Name: Cholesterol, dtype: int64"
            ]
          },
          "metadata": {},
          "execution_count": 60
        }
      ]
    },
    {
      "cell_type": "code",
      "source": [
        "df['Cholesterol'].value_counts(normalize=True)"
      ],
      "metadata": {
        "colab": {
          "base_uri": "https://localhost:8080/"
        },
        "id": "1xkcyeKsm0WA",
        "outputId": "b2f986bd-8223-4c01-945e-d478754592c3"
      },
      "execution_count": null,
      "outputs": [
        {
          "output_type": "execute_result",
          "data": {
            "text/plain": [
              "High      0.539286\n",
              "Normal    0.460714\n",
              "Name: Cholesterol, dtype: float64"
            ]
          },
          "metadata": {},
          "execution_count": 61
        }
      ]
    },
    {
      "cell_type": "code",
      "source": [
        "from matplotlib import lines\n",
        "plt.figure(figsize = (12, 4))\n",
        "\n",
        "sns.histplot(data=df, x='Cholesterol', color='#069AF3'); \n",
        "\n",
        "plt.title('Cholesterol Distribution', fontsize = 22, weight='bold')\n",
        "plt.xlabel('Cholesterol', fontsize = 16, weight='bold')\n",
        "plt.ylabel('Count', fontsize = 16, weight='bold');\n",
        "plt.xticks(fontsize = 10, weight='bold', rotation=90)\n",
        "plt.yticks(fontsize = 10, weight='bold');\n",
        "\n",
        "plt.tight_layout()\n",
        "plt.show;"
      ],
      "metadata": {
        "id": "yRNmXFZUHw0g",
        "colab": {
          "base_uri": "https://localhost:8080/",
          "height": 297
        },
        "outputId": "63d92966-1ddc-42cc-8e10-0c563f6f71c4"
      },
      "execution_count": null,
      "outputs": [
        {
          "output_type": "display_data",
          "data": {
            "text/plain": [
              "<Figure size 864x288 with 1 Axes>"
            ],
            "image/png": "[encoded data removed]"
          },
          "metadata": {
            "needs_background": "light"
          }
        }
      ]
    },
    {
      "cell_type": "markdown",
      "source": [
        "- 'Cholesterol' values appear to be fairly evenly distributed."
      ],
      "metadata": {
        "id": "2QPunqquNOSY"
      }
    },
    {
      "cell_type": "markdown",
      "source": [
        "### **Correlation Heatmap**"
      ],
      "metadata": {
        "id": "wupOHLcD_9SO"
      }
    },
    {
      "cell_type": "code",
      "source": [
        "plt.figure(figsize = (8, 8))\n",
        "\n",
        "corr = df.corr()\n",
        "sns.heatmap(corr, cmap='viridis', annot=True);\n",
        "\n",
        "plt.title('Correlation Heatmap', fontsize = 16, weight='bold')\n",
        "plt.xticks(fontsize = 10, weight='bold', rotation=90)\n",
        "plt.yticks(fontsize = 10, weight='bold');\n",
        "\n",
        "plt.tight_layout()\n",
        "plt.show;"
      ],
      "metadata": {
        "id": "rd5sQYFwNJ_a",
        "colab": {
          "base_uri": "https://localhost:8080/",
          "height": 585
        },
        "outputId": "0d6b5ff8-9c52-4f2f-f796-0883c008e0c3"
      },
      "execution_count": null,
      "outputs": [
        {
          "output_type": "display_data",
          "data": {
            "text/plain": [
              "<Figure size 576x576 with 2 Axes>"
            ],
            "image/png": "[encoded data removed]"
          },
          "metadata": {
            "needs_background": "light"
          }
        }
      ]
    },
    {
      "cell_type": "markdown",
      "source": [
        "There correlations between 'Age' and 'NA_to_K' is not high."
      ],
      "metadata": {
        "id": "CQSGKZ-zNnXU"
      }
    },
    {
      "cell_type": "markdown",
      "source": [
        "\n",
        "\n",
        "---\n",
        "\n"
      ],
      "metadata": {
        "id": "HWo2hBA0U1ho"
      }
    },
    {
      "cell_type": "markdown",
      "source": [
        "## **Preprocessing for Machine Learning**"
      ],
      "metadata": {
        "id": "dAuHnCUr_-EG"
      }
    },
    {
      "cell_type": "markdown",
      "source": [
        "### **Identify each feature as ordinal, numerical, nominal, or pass through**"
      ],
      "metadata": {
        "id": "xI63NsyjBHtT"
      }
    },
    {
      "cell_type": "markdown",
      "source": [
        "- ordinal features = ['BP']\n",
        "- numeric features = ['Age', 'Na_to_K']\n",
        "- nominal features = ['Gender', 'Cholesterol', 'Drug']\n",
        "- date/time features = none\n",
        "- pass through = none"
      ],
      "metadata": {
        "id": "yRKc66PWBJrc"
      }
    },
    {
      "cell_type": "markdown",
      "source": [
        "### **Ordinal Encoding**"
      ],
      "metadata": {
        "id": "MHg80c2mebe8"
      }
    },
    {
      "cell_type": "markdown",
      "source": [
        "- Ordinal Encoding can be processed prior to the Train Test split without data leakage."
      ],
      "metadata": {
        "id": "WEtw3T5Jekct"
      }
    },
    {
      "cell_type": "markdown",
      "source": [
        "#### **BP**"
      ],
      "metadata": {
        "id": "ML1YPtSkfVyy"
      }
    },
    {
      "cell_type": "code",
      "source": [
        "df['BP'].value_counts()"
      ],
      "metadata": {
        "id": "rDGZtzGZgJZ_"
      },
      "execution_count": null,
      "outputs": []
    },
    {
      "cell_type": "markdown",
      "source": [
        "This is currently an object Datatype with 'Low', 'Normal', 'High' and 'Unknown' values.\n",
        "- We could have left this as an Object Datatype and imputed NaN values using SimpleImputer(strategy='most_frequent'), or\n",
        "- We could have treated this as an Ordinal Feature and replaced 'Low', 'Normal', and High' values with 0, 1, and 2, then imputed the NaN values which we previosly replaced with 'Unknown' with SimpleImputer(strategy='median') for the NaN values.\n",
        "\n",
        "However, due the high count of 'Unkown' values we will not ordinal encode this feature, but treat it as a Categorical Feature, and One Hot Encode it."
      ],
      "metadata": {
        "id": "4zNx0OIQfUnG"
      }
    },
    {
      "cell_type": "markdown",
      "source": [
        "### **Validation Split**"
      ],
      "metadata": {
        "id": "MJIJUuaMBdmv"
      }
    },
    {
      "cell_type": "code",
      "source": [
        "# Define features (X) and target (y)\n",
        "X = df.drop(columns = ['Drug'])\n",
        "y = df['Drug']"
      ],
      "metadata": {
        "id": "InFQiRIXBdEH"
      },
      "execution_count": null,
      "outputs": []
    },
    {
      "cell_type": "code",
      "source": [
        "# Split\n",
        "X_train, X_test, y_train, y_test = train_test_split(X, y, random_state=42)"
      ],
      "metadata": {
        "id": "GmnIF81FBi0v"
      },
      "execution_count": null,
      "outputs": []
    },
    {
      "cell_type": "markdown",
      "source": [
        "### **Instantiate Column Selectors**"
      ],
      "metadata": {
        "id": "7sBLzSPLBpZs"
      }
    },
    {
      "cell_type": "code",
      "source": [
        "# Selectors\n",
        "cat_selector = make_column_selector(dtype_include='object')\n",
        "num_selector = make_column_selector(dtype_include='number')"
      ],
      "metadata": {
        "id": "1dMBx7j-CVKL"
      },
      "execution_count": null,
      "outputs": []
    },
    {
      "cell_type": "code",
      "source": [
        "cat_selector(X_train)"
      ],
      "metadata": {
        "id": "9_Khz9WZEU5D"
      },
      "execution_count": null,
      "outputs": []
    },
    {
      "cell_type": "code",
      "source": [
        "num_selector(X_train)"
      ],
      "metadata": {
        "id": "BdO7NlhaErnc"
      },
      "execution_count": null,
      "outputs": []
    },
    {
      "cell_type": "markdown",
      "source": [
        "### **Instantiate Transformers**"
      ],
      "metadata": {
        "id": "3_MJ12EfBP1M"
      }
    },
    {
      "cell_type": "code",
      "source": [
        "# Imputers\n",
        "# There are no Categorical features that require imputing\n",
        "# - So we do not require: freq_imputer = SimpleImputer(strategy='most_frequent')\n",
        "median_imputer = SimpleImputer(strategy='median')\n",
        "# Scaler\n",
        "scaler = StandardScaler()\n",
        "# One Hot Encoder\n",
        "ohe = OneHotEncoder(handle_unknown='ignore', sparse=False)"
      ],
      "metadata": {
        "id": "mJPh9ESZBlqt"
      },
      "execution_count": null,
      "outputs": []
    },
    {
      "cell_type": "markdown",
      "source": [
        "### **Instantiate Pipelines**"
      ],
      "metadata": {
        "id": "I9QYhz6GBbrY"
      }
    },
    {
      "cell_type": "code",
      "source": [
        "# Numeric pipeline\n",
        "numeric_pipe = make_pipeline(median_imputer, scaler)"
      ],
      "metadata": {
        "id": "ljedGo0UB4Xi"
      },
      "execution_count": null,
      "outputs": []
    },
    {
      "cell_type": "code",
      "source": [
        "# Categorical pipeline\n",
        "categorical_pipe = make_pipeline(ohe)"
      ],
      "metadata": {
        "id": "VUB4INtqB8Qg"
      },
      "execution_count": null,
      "outputs": []
    },
    {
      "cell_type": "markdown",
      "source": [
        "### **Instantiate ColumnTransformer**"
      ],
      "metadata": {
        "id": "IyyJcylbBinz"
      }
    },
    {
      "cell_type": "code",
      "source": [
        "# Tuples for Column Transformer\n",
        "number_tuple = (numeric_pipe, num_selector)\n",
        "category_tuple = (categorical_pipe, cat_selector)\n",
        "\n",
        "# ColumnTransformer\n",
        "preprocessor = make_column_transformer(number_tuple, category_tuple, remainder='passthrough')"
      ],
      "metadata": {
        "id": "GUMU9szJCBDl"
      },
      "execution_count": null,
      "outputs": []
    }
  ]
}